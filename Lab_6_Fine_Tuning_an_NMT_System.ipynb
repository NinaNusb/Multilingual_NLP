{
  "nbformat": 4,
  "nbformat_minor": 0,
  "metadata": {
    "colab": {
      "provenance": [],
      "gpuType": "T4"
    },
    "kernelspec": {
      "name": "python3",
      "display_name": "Python 3"
    },
    "language_info": {
      "name": "python"
    },
    "accelerator": "GPU",
    "widgets": {
      "application/vnd.jupyter.widget-state+json": {
        "f53b11f0d79044588ae7352f240a85fa": {
          "model_module": "@jupyter-widgets/controls",
          "model_name": "HBoxModel",
          "model_module_version": "1.5.0",
          "state": {
            "_dom_classes": [],
            "_model_module": "@jupyter-widgets/controls",
            "_model_module_version": "1.5.0",
            "_model_name": "HBoxModel",
            "_view_count": null,
            "_view_module": "@jupyter-widgets/controls",
            "_view_module_version": "1.5.0",
            "_view_name": "HBoxView",
            "box_style": "",
            "children": [
              "IPY_MODEL_656555ca093941f087da65ba133cb843",
              "IPY_MODEL_58bfff76afb14ba9b786fc024ff17dac",
              "IPY_MODEL_a68135a65bb24fd0a06cf38fadad28cf"
            ],
            "layout": "IPY_MODEL_18d54d443b6b4b7a8e85ff4f4d2cabde"
          }
        },
        "656555ca093941f087da65ba133cb843": {
          "model_module": "@jupyter-widgets/controls",
          "model_name": "HTMLModel",
          "model_module_version": "1.5.0",
          "state": {
            "_dom_classes": [],
            "_model_module": "@jupyter-widgets/controls",
            "_model_module_version": "1.5.0",
            "_model_name": "HTMLModel",
            "_view_count": null,
            "_view_module": "@jupyter-widgets/controls",
            "_view_module_version": "1.5.0",
            "_view_name": "HTMLView",
            "description": "",
            "description_tooltip": null,
            "layout": "IPY_MODEL_5e2e735d2d88489fbc3aad952d02313c",
            "placeholder": "​",
            "style": "IPY_MODEL_68295a0cf3d74e069e18420c47f58ad1",
            "value": "tokenizer_config.json: 100%"
          }
        },
        "58bfff76afb14ba9b786fc024ff17dac": {
          "model_module": "@jupyter-widgets/controls",
          "model_name": "FloatProgressModel",
          "model_module_version": "1.5.0",
          "state": {
            "_dom_classes": [],
            "_model_module": "@jupyter-widgets/controls",
            "_model_module_version": "1.5.0",
            "_model_name": "FloatProgressModel",
            "_view_count": null,
            "_view_module": "@jupyter-widgets/controls",
            "_view_module_version": "1.5.0",
            "_view_name": "ProgressView",
            "bar_style": "success",
            "description": "",
            "description_tooltip": null,
            "layout": "IPY_MODEL_ac3822999b3f40f2a51ea7233c323785",
            "max": 529,
            "min": 0,
            "orientation": "horizontal",
            "style": "IPY_MODEL_82c47e9b3b3e4359ada673c57bb3d890",
            "value": 529
          }
        },
        "a68135a65bb24fd0a06cf38fadad28cf": {
          "model_module": "@jupyter-widgets/controls",
          "model_name": "HTMLModel",
          "model_module_version": "1.5.0",
          "state": {
            "_dom_classes": [],
            "_model_module": "@jupyter-widgets/controls",
            "_model_module_version": "1.5.0",
            "_model_name": "HTMLModel",
            "_view_count": null,
            "_view_module": "@jupyter-widgets/controls",
            "_view_module_version": "1.5.0",
            "_view_name": "HTMLView",
            "description": "",
            "description_tooltip": null,
            "layout": "IPY_MODEL_89e27c12864f453ca61074513a57d519",
            "placeholder": "​",
            "style": "IPY_MODEL_59e47a18ca4a4c518bd9986f6552a024",
            "value": " 529/529 [00:00&lt;00:00, 37.0kB/s]"
          }
        },
        "18d54d443b6b4b7a8e85ff4f4d2cabde": {
          "model_module": "@jupyter-widgets/base",
          "model_name": "LayoutModel",
          "model_module_version": "1.2.0",
          "state": {
            "_model_module": "@jupyter-widgets/base",
            "_model_module_version": "1.2.0",
            "_model_name": "LayoutModel",
            "_view_count": null,
            "_view_module": "@jupyter-widgets/base",
            "_view_module_version": "1.2.0",
            "_view_name": "LayoutView",
            "align_content": null,
            "align_items": null,
            "align_self": null,
            "border": null,
            "bottom": null,
            "display": null,
            "flex": null,
            "flex_flow": null,
            "grid_area": null,
            "grid_auto_columns": null,
            "grid_auto_flow": null,
            "grid_auto_rows": null,
            "grid_column": null,
            "grid_gap": null,
            "grid_row": null,
            "grid_template_areas": null,
            "grid_template_columns": null,
            "grid_template_rows": null,
            "height": null,
            "justify_content": null,
            "justify_items": null,
            "left": null,
            "margin": null,
            "max_height": null,
            "max_width": null,
            "min_height": null,
            "min_width": null,
            "object_fit": null,
            "object_position": null,
            "order": null,
            "overflow": null,
            "overflow_x": null,
            "overflow_y": null,
            "padding": null,
            "right": null,
            "top": null,
            "visibility": null,
            "width": null
          }
        },
        "5e2e735d2d88489fbc3aad952d02313c": {
          "model_module": "@jupyter-widgets/base",
          "model_name": "LayoutModel",
          "model_module_version": "1.2.0",
          "state": {
            "_model_module": "@jupyter-widgets/base",
            "_model_module_version": "1.2.0",
            "_model_name": "LayoutModel",
            "_view_count": null,
            "_view_module": "@jupyter-widgets/base",
            "_view_module_version": "1.2.0",
            "_view_name": "LayoutView",
            "align_content": null,
            "align_items": null,
            "align_self": null,
            "border": null,
            "bottom": null,
            "display": null,
            "flex": null,
            "flex_flow": null,
            "grid_area": null,
            "grid_auto_columns": null,
            "grid_auto_flow": null,
            "grid_auto_rows": null,
            "grid_column": null,
            "grid_gap": null,
            "grid_row": null,
            "grid_template_areas": null,
            "grid_template_columns": null,
            "grid_template_rows": null,
            "height": null,
            "justify_content": null,
            "justify_items": null,
            "left": null,
            "margin": null,
            "max_height": null,
            "max_width": null,
            "min_height": null,
            "min_width": null,
            "object_fit": null,
            "object_position": null,
            "order": null,
            "overflow": null,
            "overflow_x": null,
            "overflow_y": null,
            "padding": null,
            "right": null,
            "top": null,
            "visibility": null,
            "width": null
          }
        },
        "68295a0cf3d74e069e18420c47f58ad1": {
          "model_module": "@jupyter-widgets/controls",
          "model_name": "DescriptionStyleModel",
          "model_module_version": "1.5.0",
          "state": {
            "_model_module": "@jupyter-widgets/controls",
            "_model_module_version": "1.5.0",
            "_model_name": "DescriptionStyleModel",
            "_view_count": null,
            "_view_module": "@jupyter-widgets/base",
            "_view_module_version": "1.2.0",
            "_view_name": "StyleView",
            "description_width": ""
          }
        },
        "ac3822999b3f40f2a51ea7233c323785": {
          "model_module": "@jupyter-widgets/base",
          "model_name": "LayoutModel",
          "model_module_version": "1.2.0",
          "state": {
            "_model_module": "@jupyter-widgets/base",
            "_model_module_version": "1.2.0",
            "_model_name": "LayoutModel",
            "_view_count": null,
            "_view_module": "@jupyter-widgets/base",
            "_view_module_version": "1.2.0",
            "_view_name": "LayoutView",
            "align_content": null,
            "align_items": null,
            "align_self": null,
            "border": null,
            "bottom": null,
            "display": null,
            "flex": null,
            "flex_flow": null,
            "grid_area": null,
            "grid_auto_columns": null,
            "grid_auto_flow": null,
            "grid_auto_rows": null,
            "grid_column": null,
            "grid_gap": null,
            "grid_row": null,
            "grid_template_areas": null,
            "grid_template_columns": null,
            "grid_template_rows": null,
            "height": null,
            "justify_content": null,
            "justify_items": null,
            "left": null,
            "margin": null,
            "max_height": null,
            "max_width": null,
            "min_height": null,
            "min_width": null,
            "object_fit": null,
            "object_position": null,
            "order": null,
            "overflow": null,
            "overflow_x": null,
            "overflow_y": null,
            "padding": null,
            "right": null,
            "top": null,
            "visibility": null,
            "width": null
          }
        },
        "82c47e9b3b3e4359ada673c57bb3d890": {
          "model_module": "@jupyter-widgets/controls",
          "model_name": "ProgressStyleModel",
          "model_module_version": "1.5.0",
          "state": {
            "_model_module": "@jupyter-widgets/controls",
            "_model_module_version": "1.5.0",
            "_model_name": "ProgressStyleModel",
            "_view_count": null,
            "_view_module": "@jupyter-widgets/base",
            "_view_module_version": "1.2.0",
            "_view_name": "StyleView",
            "bar_color": null,
            "description_width": ""
          }
        },
        "89e27c12864f453ca61074513a57d519": {
          "model_module": "@jupyter-widgets/base",
          "model_name": "LayoutModel",
          "model_module_version": "1.2.0",
          "state": {
            "_model_module": "@jupyter-widgets/base",
            "_model_module_version": "1.2.0",
            "_model_name": "LayoutModel",
            "_view_count": null,
            "_view_module": "@jupyter-widgets/base",
            "_view_module_version": "1.2.0",
            "_view_name": "LayoutView",
            "align_content": null,
            "align_items": null,
            "align_self": null,
            "border": null,
            "bottom": null,
            "display": null,
            "flex": null,
            "flex_flow": null,
            "grid_area": null,
            "grid_auto_columns": null,
            "grid_auto_flow": null,
            "grid_auto_rows": null,
            "grid_column": null,
            "grid_gap": null,
            "grid_row": null,
            "grid_template_areas": null,
            "grid_template_columns": null,
            "grid_template_rows": null,
            "height": null,
            "justify_content": null,
            "justify_items": null,
            "left": null,
            "margin": null,
            "max_height": null,
            "max_width": null,
            "min_height": null,
            "min_width": null,
            "object_fit": null,
            "object_position": null,
            "order": null,
            "overflow": null,
            "overflow_x": null,
            "overflow_y": null,
            "padding": null,
            "right": null,
            "top": null,
            "visibility": null,
            "width": null
          }
        },
        "59e47a18ca4a4c518bd9986f6552a024": {
          "model_module": "@jupyter-widgets/controls",
          "model_name": "DescriptionStyleModel",
          "model_module_version": "1.5.0",
          "state": {
            "_model_module": "@jupyter-widgets/controls",
            "_model_module_version": "1.5.0",
            "_model_name": "DescriptionStyleModel",
            "_view_count": null,
            "_view_module": "@jupyter-widgets/base",
            "_view_module_version": "1.2.0",
            "_view_name": "StyleView",
            "description_width": ""
          }
        },
        "020f074a9dbc47359d905c22d387fed6": {
          "model_module": "@jupyter-widgets/controls",
          "model_name": "HBoxModel",
          "model_module_version": "1.5.0",
          "state": {
            "_dom_classes": [],
            "_model_module": "@jupyter-widgets/controls",
            "_model_module_version": "1.5.0",
            "_model_name": "HBoxModel",
            "_view_count": null,
            "_view_module": "@jupyter-widgets/controls",
            "_view_module_version": "1.5.0",
            "_view_name": "HBoxView",
            "box_style": "",
            "children": [
              "IPY_MODEL_eba8d6864ab3456bbf021584709fbed6",
              "IPY_MODEL_33071905df93479a83db7c96f5fdbc33",
              "IPY_MODEL_a53402b8c5154557b2b565a9b80436ad"
            ],
            "layout": "IPY_MODEL_1fe28aa1d9ab40549e1be79562fc5450"
          }
        },
        "eba8d6864ab3456bbf021584709fbed6": {
          "model_module": "@jupyter-widgets/controls",
          "model_name": "HTMLModel",
          "model_module_version": "1.5.0",
          "state": {
            "_dom_classes": [],
            "_model_module": "@jupyter-widgets/controls",
            "_model_module_version": "1.5.0",
            "_model_name": "HTMLModel",
            "_view_count": null,
            "_view_module": "@jupyter-widgets/controls",
            "_view_module_version": "1.5.0",
            "_view_name": "HTMLView",
            "description": "",
            "description_tooltip": null,
            "layout": "IPY_MODEL_f9e21e3738134f9886806bc9d545fd6a",
            "placeholder": "​",
            "style": "IPY_MODEL_ecc9991615624fba9dbaa9fd4a6401d4",
            "value": "sentencepiece.bpe.model: 100%"
          }
        },
        "33071905df93479a83db7c96f5fdbc33": {
          "model_module": "@jupyter-widgets/controls",
          "model_name": "FloatProgressModel",
          "model_module_version": "1.5.0",
          "state": {
            "_dom_classes": [],
            "_model_module": "@jupyter-widgets/controls",
            "_model_module_version": "1.5.0",
            "_model_name": "FloatProgressModel",
            "_view_count": null,
            "_view_module": "@jupyter-widgets/controls",
            "_view_module_version": "1.5.0",
            "_view_name": "ProgressView",
            "bar_style": "success",
            "description": "",
            "description_tooltip": null,
            "layout": "IPY_MODEL_9a87fcf155d548b884286de66e541bec",
            "max": 5069051,
            "min": 0,
            "orientation": "horizontal",
            "style": "IPY_MODEL_ca868724de5f411da60748c6b7360c26",
            "value": 5069051
          }
        },
        "a53402b8c5154557b2b565a9b80436ad": {
          "model_module": "@jupyter-widgets/controls",
          "model_name": "HTMLModel",
          "model_module_version": "1.5.0",
          "state": {
            "_dom_classes": [],
            "_model_module": "@jupyter-widgets/controls",
            "_model_module_version": "1.5.0",
            "_model_name": "HTMLModel",
            "_view_count": null,
            "_view_module": "@jupyter-widgets/controls",
            "_view_module_version": "1.5.0",
            "_view_name": "HTMLView",
            "description": "",
            "description_tooltip": null,
            "layout": "IPY_MODEL_13c83ad3bfb14e61b21bbaae1bbe3b6e",
            "placeholder": "​",
            "style": "IPY_MODEL_759fe44bfbd741728fc8158225b76bd0",
            "value": " 5.07M/5.07M [00:00&lt;00:00, 13.5MB/s]"
          }
        },
        "1fe28aa1d9ab40549e1be79562fc5450": {
          "model_module": "@jupyter-widgets/base",
          "model_name": "LayoutModel",
          "model_module_version": "1.2.0",
          "state": {
            "_model_module": "@jupyter-widgets/base",
            "_model_module_version": "1.2.0",
            "_model_name": "LayoutModel",
            "_view_count": null,
            "_view_module": "@jupyter-widgets/base",
            "_view_module_version": "1.2.0",
            "_view_name": "LayoutView",
            "align_content": null,
            "align_items": null,
            "align_self": null,
            "border": null,
            "bottom": null,
            "display": null,
            "flex": null,
            "flex_flow": null,
            "grid_area": null,
            "grid_auto_columns": null,
            "grid_auto_flow": null,
            "grid_auto_rows": null,
            "grid_column": null,
            "grid_gap": null,
            "grid_row": null,
            "grid_template_areas": null,
            "grid_template_columns": null,
            "grid_template_rows": null,
            "height": null,
            "justify_content": null,
            "justify_items": null,
            "left": null,
            "margin": null,
            "max_height": null,
            "max_width": null,
            "min_height": null,
            "min_width": null,
            "object_fit": null,
            "object_position": null,
            "order": null,
            "overflow": null,
            "overflow_x": null,
            "overflow_y": null,
            "padding": null,
            "right": null,
            "top": null,
            "visibility": null,
            "width": null
          }
        },
        "f9e21e3738134f9886806bc9d545fd6a": {
          "model_module": "@jupyter-widgets/base",
          "model_name": "LayoutModel",
          "model_module_version": "1.2.0",
          "state": {
            "_model_module": "@jupyter-widgets/base",
            "_model_module_version": "1.2.0",
            "_model_name": "LayoutModel",
            "_view_count": null,
            "_view_module": "@jupyter-widgets/base",
            "_view_module_version": "1.2.0",
            "_view_name": "LayoutView",
            "align_content": null,
            "align_items": null,
            "align_self": null,
            "border": null,
            "bottom": null,
            "display": null,
            "flex": null,
            "flex_flow": null,
            "grid_area": null,
            "grid_auto_columns": null,
            "grid_auto_flow": null,
            "grid_auto_rows": null,
            "grid_column": null,
            "grid_gap": null,
            "grid_row": null,
            "grid_template_areas": null,
            "grid_template_columns": null,
            "grid_template_rows": null,
            "height": null,
            "justify_content": null,
            "justify_items": null,
            "left": null,
            "margin": null,
            "max_height": null,
            "max_width": null,
            "min_height": null,
            "min_width": null,
            "object_fit": null,
            "object_position": null,
            "order": null,
            "overflow": null,
            "overflow_x": null,
            "overflow_y": null,
            "padding": null,
            "right": null,
            "top": null,
            "visibility": null,
            "width": null
          }
        },
        "ecc9991615624fba9dbaa9fd4a6401d4": {
          "model_module": "@jupyter-widgets/controls",
          "model_name": "DescriptionStyleModel",
          "model_module_version": "1.5.0",
          "state": {
            "_model_module": "@jupyter-widgets/controls",
            "_model_module_version": "1.5.0",
            "_model_name": "DescriptionStyleModel",
            "_view_count": null,
            "_view_module": "@jupyter-widgets/base",
            "_view_module_version": "1.2.0",
            "_view_name": "StyleView",
            "description_width": ""
          }
        },
        "9a87fcf155d548b884286de66e541bec": {
          "model_module": "@jupyter-widgets/base",
          "model_name": "LayoutModel",
          "model_module_version": "1.2.0",
          "state": {
            "_model_module": "@jupyter-widgets/base",
            "_model_module_version": "1.2.0",
            "_model_name": "LayoutModel",
            "_view_count": null,
            "_view_module": "@jupyter-widgets/base",
            "_view_module_version": "1.2.0",
            "_view_name": "LayoutView",
            "align_content": null,
            "align_items": null,
            "align_self": null,
            "border": null,
            "bottom": null,
            "display": null,
            "flex": null,
            "flex_flow": null,
            "grid_area": null,
            "grid_auto_columns": null,
            "grid_auto_flow": null,
            "grid_auto_rows": null,
            "grid_column": null,
            "grid_gap": null,
            "grid_row": null,
            "grid_template_areas": null,
            "grid_template_columns": null,
            "grid_template_rows": null,
            "height": null,
            "justify_content": null,
            "justify_items": null,
            "left": null,
            "margin": null,
            "max_height": null,
            "max_width": null,
            "min_height": null,
            "min_width": null,
            "object_fit": null,
            "object_position": null,
            "order": null,
            "overflow": null,
            "overflow_x": null,
            "overflow_y": null,
            "padding": null,
            "right": null,
            "top": null,
            "visibility": null,
            "width": null
          }
        },
        "ca868724de5f411da60748c6b7360c26": {
          "model_module": "@jupyter-widgets/controls",
          "model_name": "ProgressStyleModel",
          "model_module_version": "1.5.0",
          "state": {
            "_model_module": "@jupyter-widgets/controls",
            "_model_module_version": "1.5.0",
            "_model_name": "ProgressStyleModel",
            "_view_count": null,
            "_view_module": "@jupyter-widgets/base",
            "_view_module_version": "1.2.0",
            "_view_name": "StyleView",
            "bar_color": null,
            "description_width": ""
          }
        },
        "13c83ad3bfb14e61b21bbaae1bbe3b6e": {
          "model_module": "@jupyter-widgets/base",
          "model_name": "LayoutModel",
          "model_module_version": "1.2.0",
          "state": {
            "_model_module": "@jupyter-widgets/base",
            "_model_module_version": "1.2.0",
            "_model_name": "LayoutModel",
            "_view_count": null,
            "_view_module": "@jupyter-widgets/base",
            "_view_module_version": "1.2.0",
            "_view_name": "LayoutView",
            "align_content": null,
            "align_items": null,
            "align_self": null,
            "border": null,
            "bottom": null,
            "display": null,
            "flex": null,
            "flex_flow": null,
            "grid_area": null,
            "grid_auto_columns": null,
            "grid_auto_flow": null,
            "grid_auto_rows": null,
            "grid_column": null,
            "grid_gap": null,
            "grid_row": null,
            "grid_template_areas": null,
            "grid_template_columns": null,
            "grid_template_rows": null,
            "height": null,
            "justify_content": null,
            "justify_items": null,
            "left": null,
            "margin": null,
            "max_height": null,
            "max_width": null,
            "min_height": null,
            "min_width": null,
            "object_fit": null,
            "object_position": null,
            "order": null,
            "overflow": null,
            "overflow_x": null,
            "overflow_y": null,
            "padding": null,
            "right": null,
            "top": null,
            "visibility": null,
            "width": null
          }
        },
        "759fe44bfbd741728fc8158225b76bd0": {
          "model_module": "@jupyter-widgets/controls",
          "model_name": "DescriptionStyleModel",
          "model_module_version": "1.5.0",
          "state": {
            "_model_module": "@jupyter-widgets/controls",
            "_model_module_version": "1.5.0",
            "_model_name": "DescriptionStyleModel",
            "_view_count": null,
            "_view_module": "@jupyter-widgets/base",
            "_view_module_version": "1.2.0",
            "_view_name": "StyleView",
            "description_width": ""
          }
        },
        "fc16602da61b4d8084da6706cc3aadb6": {
          "model_module": "@jupyter-widgets/controls",
          "model_name": "HBoxModel",
          "model_module_version": "1.5.0",
          "state": {
            "_dom_classes": [],
            "_model_module": "@jupyter-widgets/controls",
            "_model_module_version": "1.5.0",
            "_model_name": "HBoxModel",
            "_view_count": null,
            "_view_module": "@jupyter-widgets/controls",
            "_view_module_version": "1.5.0",
            "_view_name": "HBoxView",
            "box_style": "",
            "children": [
              "IPY_MODEL_505d0e33f0b04505908a1a99710a9acc",
              "IPY_MODEL_0d6b8096424f41bd9c63268939324df4",
              "IPY_MODEL_98791b02f24341a692d135d1ecc91414"
            ],
            "layout": "IPY_MODEL_27ab2ef6ca444023b18b9aa43cf4793d"
          }
        },
        "505d0e33f0b04505908a1a99710a9acc": {
          "model_module": "@jupyter-widgets/controls",
          "model_name": "HTMLModel",
          "model_module_version": "1.5.0",
          "state": {
            "_dom_classes": [],
            "_model_module": "@jupyter-widgets/controls",
            "_model_module_version": "1.5.0",
            "_model_name": "HTMLModel",
            "_view_count": null,
            "_view_module": "@jupyter-widgets/controls",
            "_view_module_version": "1.5.0",
            "_view_name": "HTMLView",
            "description": "",
            "description_tooltip": null,
            "layout": "IPY_MODEL_d0b3d2f1e71640edb461c3a044da1a23",
            "placeholder": "​",
            "style": "IPY_MODEL_8ebf1a4a099345bcb5b6eb4c611b0875",
            "value": "special_tokens_map.json: 100%"
          }
        },
        "0d6b8096424f41bd9c63268939324df4": {
          "model_module": "@jupyter-widgets/controls",
          "model_name": "FloatProgressModel",
          "model_module_version": "1.5.0",
          "state": {
            "_dom_classes": [],
            "_model_module": "@jupyter-widgets/controls",
            "_model_module_version": "1.5.0",
            "_model_name": "FloatProgressModel",
            "_view_count": null,
            "_view_module": "@jupyter-widgets/controls",
            "_view_module_version": "1.5.0",
            "_view_name": "ProgressView",
            "bar_style": "success",
            "description": "",
            "description_tooltip": null,
            "layout": "IPY_MODEL_75f8744850c74360b38d9ec64fe68d72",
            "max": 649,
            "min": 0,
            "orientation": "horizontal",
            "style": "IPY_MODEL_1947bf98ccd14eaa954d80d58e4bb774",
            "value": 649
          }
        },
        "98791b02f24341a692d135d1ecc91414": {
          "model_module": "@jupyter-widgets/controls",
          "model_name": "HTMLModel",
          "model_module_version": "1.5.0",
          "state": {
            "_dom_classes": [],
            "_model_module": "@jupyter-widgets/controls",
            "_model_module_version": "1.5.0",
            "_model_name": "HTMLModel",
            "_view_count": null,
            "_view_module": "@jupyter-widgets/controls",
            "_view_module_version": "1.5.0",
            "_view_name": "HTMLView",
            "description": "",
            "description_tooltip": null,
            "layout": "IPY_MODEL_b8a2ae1aaf2c4a1d90788a5e7fcb13f9",
            "placeholder": "​",
            "style": "IPY_MODEL_8aa1d1c31d4c4c2ea1c819809ce62979",
            "value": " 649/649 [00:00&lt;00:00, 34.3kB/s]"
          }
        },
        "27ab2ef6ca444023b18b9aa43cf4793d": {
          "model_module": "@jupyter-widgets/base",
          "model_name": "LayoutModel",
          "model_module_version": "1.2.0",
          "state": {
            "_model_module": "@jupyter-widgets/base",
            "_model_module_version": "1.2.0",
            "_model_name": "LayoutModel",
            "_view_count": null,
            "_view_module": "@jupyter-widgets/base",
            "_view_module_version": "1.2.0",
            "_view_name": "LayoutView",
            "align_content": null,
            "align_items": null,
            "align_self": null,
            "border": null,
            "bottom": null,
            "display": null,
            "flex": null,
            "flex_flow": null,
            "grid_area": null,
            "grid_auto_columns": null,
            "grid_auto_flow": null,
            "grid_auto_rows": null,
            "grid_column": null,
            "grid_gap": null,
            "grid_row": null,
            "grid_template_areas": null,
            "grid_template_columns": null,
            "grid_template_rows": null,
            "height": null,
            "justify_content": null,
            "justify_items": null,
            "left": null,
            "margin": null,
            "max_height": null,
            "max_width": null,
            "min_height": null,
            "min_width": null,
            "object_fit": null,
            "object_position": null,
            "order": null,
            "overflow": null,
            "overflow_x": null,
            "overflow_y": null,
            "padding": null,
            "right": null,
            "top": null,
            "visibility": null,
            "width": null
          }
        },
        "d0b3d2f1e71640edb461c3a044da1a23": {
          "model_module": "@jupyter-widgets/base",
          "model_name": "LayoutModel",
          "model_module_version": "1.2.0",
          "state": {
            "_model_module": "@jupyter-widgets/base",
            "_model_module_version": "1.2.0",
            "_model_name": "LayoutModel",
            "_view_count": null,
            "_view_module": "@jupyter-widgets/base",
            "_view_module_version": "1.2.0",
            "_view_name": "LayoutView",
            "align_content": null,
            "align_items": null,
            "align_self": null,
            "border": null,
            "bottom": null,
            "display": null,
            "flex": null,
            "flex_flow": null,
            "grid_area": null,
            "grid_auto_columns": null,
            "grid_auto_flow": null,
            "grid_auto_rows": null,
            "grid_column": null,
            "grid_gap": null,
            "grid_row": null,
            "grid_template_areas": null,
            "grid_template_columns": null,
            "grid_template_rows": null,
            "height": null,
            "justify_content": null,
            "justify_items": null,
            "left": null,
            "margin": null,
            "max_height": null,
            "max_width": null,
            "min_height": null,
            "min_width": null,
            "object_fit": null,
            "object_position": null,
            "order": null,
            "overflow": null,
            "overflow_x": null,
            "overflow_y": null,
            "padding": null,
            "right": null,
            "top": null,
            "visibility": null,
            "width": null
          }
        },
        "8ebf1a4a099345bcb5b6eb4c611b0875": {
          "model_module": "@jupyter-widgets/controls",
          "model_name": "DescriptionStyleModel",
          "model_module_version": "1.5.0",
          "state": {
            "_model_module": "@jupyter-widgets/controls",
            "_model_module_version": "1.5.0",
            "_model_name": "DescriptionStyleModel",
            "_view_count": null,
            "_view_module": "@jupyter-widgets/base",
            "_view_module_version": "1.2.0",
            "_view_name": "StyleView",
            "description_width": ""
          }
        },
        "75f8744850c74360b38d9ec64fe68d72": {
          "model_module": "@jupyter-widgets/base",
          "model_name": "LayoutModel",
          "model_module_version": "1.2.0",
          "state": {
            "_model_module": "@jupyter-widgets/base",
            "_model_module_version": "1.2.0",
            "_model_name": "LayoutModel",
            "_view_count": null,
            "_view_module": "@jupyter-widgets/base",
            "_view_module_version": "1.2.0",
            "_view_name": "LayoutView",
            "align_content": null,
            "align_items": null,
            "align_self": null,
            "border": null,
            "bottom": null,
            "display": null,
            "flex": null,
            "flex_flow": null,
            "grid_area": null,
            "grid_auto_columns": null,
            "grid_auto_flow": null,
            "grid_auto_rows": null,
            "grid_column": null,
            "grid_gap": null,
            "grid_row": null,
            "grid_template_areas": null,
            "grid_template_columns": null,
            "grid_template_rows": null,
            "height": null,
            "justify_content": null,
            "justify_items": null,
            "left": null,
            "margin": null,
            "max_height": null,
            "max_width": null,
            "min_height": null,
            "min_width": null,
            "object_fit": null,
            "object_position": null,
            "order": null,
            "overflow": null,
            "overflow_x": null,
            "overflow_y": null,
            "padding": null,
            "right": null,
            "top": null,
            "visibility": null,
            "width": null
          }
        },
        "1947bf98ccd14eaa954d80d58e4bb774": {
          "model_module": "@jupyter-widgets/controls",
          "model_name": "ProgressStyleModel",
          "model_module_version": "1.5.0",
          "state": {
            "_model_module": "@jupyter-widgets/controls",
            "_model_module_version": "1.5.0",
            "_model_name": "ProgressStyleModel",
            "_view_count": null,
            "_view_module": "@jupyter-widgets/base",
            "_view_module_version": "1.2.0",
            "_view_name": "StyleView",
            "bar_color": null,
            "description_width": ""
          }
        },
        "b8a2ae1aaf2c4a1d90788a5e7fcb13f9": {
          "model_module": "@jupyter-widgets/base",
          "model_name": "LayoutModel",
          "model_module_version": "1.2.0",
          "state": {
            "_model_module": "@jupyter-widgets/base",
            "_model_module_version": "1.2.0",
            "_model_name": "LayoutModel",
            "_view_count": null,
            "_view_module": "@jupyter-widgets/base",
            "_view_module_version": "1.2.0",
            "_view_name": "LayoutView",
            "align_content": null,
            "align_items": null,
            "align_self": null,
            "border": null,
            "bottom": null,
            "display": null,
            "flex": null,
            "flex_flow": null,
            "grid_area": null,
            "grid_auto_columns": null,
            "grid_auto_flow": null,
            "grid_auto_rows": null,
            "grid_column": null,
            "grid_gap": null,
            "grid_row": null,
            "grid_template_areas": null,
            "grid_template_columns": null,
            "grid_template_rows": null,
            "height": null,
            "justify_content": null,
            "justify_items": null,
            "left": null,
            "margin": null,
            "max_height": null,
            "max_width": null,
            "min_height": null,
            "min_width": null,
            "object_fit": null,
            "object_position": null,
            "order": null,
            "overflow": null,
            "overflow_x": null,
            "overflow_y": null,
            "padding": null,
            "right": null,
            "top": null,
            "visibility": null,
            "width": null
          }
        },
        "8aa1d1c31d4c4c2ea1c819809ce62979": {
          "model_module": "@jupyter-widgets/controls",
          "model_name": "DescriptionStyleModel",
          "model_module_version": "1.5.0",
          "state": {
            "_model_module": "@jupyter-widgets/controls",
            "_model_module_version": "1.5.0",
            "_model_name": "DescriptionStyleModel",
            "_view_count": null,
            "_view_module": "@jupyter-widgets/base",
            "_view_module_version": "1.2.0",
            "_view_name": "StyleView",
            "description_width": ""
          }
        },
        "a321c78562434180b19fd5ab28080816": {
          "model_module": "@jupyter-widgets/controls",
          "model_name": "HBoxModel",
          "model_module_version": "1.5.0",
          "state": {
            "_dom_classes": [],
            "_model_module": "@jupyter-widgets/controls",
            "_model_module_version": "1.5.0",
            "_model_name": "HBoxModel",
            "_view_count": null,
            "_view_module": "@jupyter-widgets/controls",
            "_view_module_version": "1.5.0",
            "_view_name": "HBoxView",
            "box_style": "",
            "children": [
              "IPY_MODEL_30851457f73c4676881b64c7088e177d",
              "IPY_MODEL_8b94ecb5cc834e069e1251a66c4a051a",
              "IPY_MODEL_96e686b3bc574865a172b712e345a29c"
            ],
            "layout": "IPY_MODEL_9b7d781e4ece4b8390d11650d559e909"
          }
        },
        "30851457f73c4676881b64c7088e177d": {
          "model_module": "@jupyter-widgets/controls",
          "model_name": "HTMLModel",
          "model_module_version": "1.5.0",
          "state": {
            "_dom_classes": [],
            "_model_module": "@jupyter-widgets/controls",
            "_model_module_version": "1.5.0",
            "_model_name": "HTMLModel",
            "_view_count": null,
            "_view_module": "@jupyter-widgets/controls",
            "_view_module_version": "1.5.0",
            "_view_name": "HTMLView",
            "description": "",
            "description_tooltip": null,
            "layout": "IPY_MODEL_99bab4c883d441259bc15d20f4634e58",
            "placeholder": "​",
            "style": "IPY_MODEL_5b7ce1f4671a49e892cace62495c6ab5",
            "value": "config.json: 100%"
          }
        },
        "8b94ecb5cc834e069e1251a66c4a051a": {
          "model_module": "@jupyter-widgets/controls",
          "model_name": "FloatProgressModel",
          "model_module_version": "1.5.0",
          "state": {
            "_dom_classes": [],
            "_model_module": "@jupyter-widgets/controls",
            "_model_module_version": "1.5.0",
            "_model_name": "FloatProgressModel",
            "_view_count": null,
            "_view_module": "@jupyter-widgets/controls",
            "_view_module_version": "1.5.0",
            "_view_name": "ProgressView",
            "bar_style": "success",
            "description": "",
            "description_tooltip": null,
            "layout": "IPY_MODEL_06a7b918f66e4a8c8061893662354a2b",
            "max": 1429,
            "min": 0,
            "orientation": "horizontal",
            "style": "IPY_MODEL_e756e8a4e5384619bb7ae06e3e9330e0",
            "value": 1429
          }
        },
        "96e686b3bc574865a172b712e345a29c": {
          "model_module": "@jupyter-widgets/controls",
          "model_name": "HTMLModel",
          "model_module_version": "1.5.0",
          "state": {
            "_dom_classes": [],
            "_model_module": "@jupyter-widgets/controls",
            "_model_module_version": "1.5.0",
            "_model_name": "HTMLModel",
            "_view_count": null,
            "_view_module": "@jupyter-widgets/controls",
            "_view_module_version": "1.5.0",
            "_view_name": "HTMLView",
            "description": "",
            "description_tooltip": null,
            "layout": "IPY_MODEL_172891f4c9fa4119b09d347e1aeb55d9",
            "placeholder": "​",
            "style": "IPY_MODEL_73c068acc8ab4bea8be0a9e7dd4e6dc6",
            "value": " 1.43k/1.43k [00:00&lt;00:00, 71.2kB/s]"
          }
        },
        "9b7d781e4ece4b8390d11650d559e909": {
          "model_module": "@jupyter-widgets/base",
          "model_name": "LayoutModel",
          "model_module_version": "1.2.0",
          "state": {
            "_model_module": "@jupyter-widgets/base",
            "_model_module_version": "1.2.0",
            "_model_name": "LayoutModel",
            "_view_count": null,
            "_view_module": "@jupyter-widgets/base",
            "_view_module_version": "1.2.0",
            "_view_name": "LayoutView",
            "align_content": null,
            "align_items": null,
            "align_self": null,
            "border": null,
            "bottom": null,
            "display": null,
            "flex": null,
            "flex_flow": null,
            "grid_area": null,
            "grid_auto_columns": null,
            "grid_auto_flow": null,
            "grid_auto_rows": null,
            "grid_column": null,
            "grid_gap": null,
            "grid_row": null,
            "grid_template_areas": null,
            "grid_template_columns": null,
            "grid_template_rows": null,
            "height": null,
            "justify_content": null,
            "justify_items": null,
            "left": null,
            "margin": null,
            "max_height": null,
            "max_width": null,
            "min_height": null,
            "min_width": null,
            "object_fit": null,
            "object_position": null,
            "order": null,
            "overflow": null,
            "overflow_x": null,
            "overflow_y": null,
            "padding": null,
            "right": null,
            "top": null,
            "visibility": null,
            "width": null
          }
        },
        "99bab4c883d441259bc15d20f4634e58": {
          "model_module": "@jupyter-widgets/base",
          "model_name": "LayoutModel",
          "model_module_version": "1.2.0",
          "state": {
            "_model_module": "@jupyter-widgets/base",
            "_model_module_version": "1.2.0",
            "_model_name": "LayoutModel",
            "_view_count": null,
            "_view_module": "@jupyter-widgets/base",
            "_view_module_version": "1.2.0",
            "_view_name": "LayoutView",
            "align_content": null,
            "align_items": null,
            "align_self": null,
            "border": null,
            "bottom": null,
            "display": null,
            "flex": null,
            "flex_flow": null,
            "grid_area": null,
            "grid_auto_columns": null,
            "grid_auto_flow": null,
            "grid_auto_rows": null,
            "grid_column": null,
            "grid_gap": null,
            "grid_row": null,
            "grid_template_areas": null,
            "grid_template_columns": null,
            "grid_template_rows": null,
            "height": null,
            "justify_content": null,
            "justify_items": null,
            "left": null,
            "margin": null,
            "max_height": null,
            "max_width": null,
            "min_height": null,
            "min_width": null,
            "object_fit": null,
            "object_position": null,
            "order": null,
            "overflow": null,
            "overflow_x": null,
            "overflow_y": null,
            "padding": null,
            "right": null,
            "top": null,
            "visibility": null,
            "width": null
          }
        },
        "5b7ce1f4671a49e892cace62495c6ab5": {
          "model_module": "@jupyter-widgets/controls",
          "model_name": "DescriptionStyleModel",
          "model_module_version": "1.5.0",
          "state": {
            "_model_module": "@jupyter-widgets/controls",
            "_model_module_version": "1.5.0",
            "_model_name": "DescriptionStyleModel",
            "_view_count": null,
            "_view_module": "@jupyter-widgets/base",
            "_view_module_version": "1.2.0",
            "_view_name": "StyleView",
            "description_width": ""
          }
        },
        "06a7b918f66e4a8c8061893662354a2b": {
          "model_module": "@jupyter-widgets/base",
          "model_name": "LayoutModel",
          "model_module_version": "1.2.0",
          "state": {
            "_model_module": "@jupyter-widgets/base",
            "_model_module_version": "1.2.0",
            "_model_name": "LayoutModel",
            "_view_count": null,
            "_view_module": "@jupyter-widgets/base",
            "_view_module_version": "1.2.0",
            "_view_name": "LayoutView",
            "align_content": null,
            "align_items": null,
            "align_self": null,
            "border": null,
            "bottom": null,
            "display": null,
            "flex": null,
            "flex_flow": null,
            "grid_area": null,
            "grid_auto_columns": null,
            "grid_auto_flow": null,
            "grid_auto_rows": null,
            "grid_column": null,
            "grid_gap": null,
            "grid_row": null,
            "grid_template_areas": null,
            "grid_template_columns": null,
            "grid_template_rows": null,
            "height": null,
            "justify_content": null,
            "justify_items": null,
            "left": null,
            "margin": null,
            "max_height": null,
            "max_width": null,
            "min_height": null,
            "min_width": null,
            "object_fit": null,
            "object_position": null,
            "order": null,
            "overflow": null,
            "overflow_x": null,
            "overflow_y": null,
            "padding": null,
            "right": null,
            "top": null,
            "visibility": null,
            "width": null
          }
        },
        "e756e8a4e5384619bb7ae06e3e9330e0": {
          "model_module": "@jupyter-widgets/controls",
          "model_name": "ProgressStyleModel",
          "model_module_version": "1.5.0",
          "state": {
            "_model_module": "@jupyter-widgets/controls",
            "_model_module_version": "1.5.0",
            "_model_name": "ProgressStyleModel",
            "_view_count": null,
            "_view_module": "@jupyter-widgets/base",
            "_view_module_version": "1.2.0",
            "_view_name": "StyleView",
            "bar_color": null,
            "description_width": ""
          }
        },
        "172891f4c9fa4119b09d347e1aeb55d9": {
          "model_module": "@jupyter-widgets/base",
          "model_name": "LayoutModel",
          "model_module_version": "1.2.0",
          "state": {
            "_model_module": "@jupyter-widgets/base",
            "_model_module_version": "1.2.0",
            "_model_name": "LayoutModel",
            "_view_count": null,
            "_view_module": "@jupyter-widgets/base",
            "_view_module_version": "1.2.0",
            "_view_name": "LayoutView",
            "align_content": null,
            "align_items": null,
            "align_self": null,
            "border": null,
            "bottom": null,
            "display": null,
            "flex": null,
            "flex_flow": null,
            "grid_area": null,
            "grid_auto_columns": null,
            "grid_auto_flow": null,
            "grid_auto_rows": null,
            "grid_column": null,
            "grid_gap": null,
            "grid_row": null,
            "grid_template_areas": null,
            "grid_template_columns": null,
            "grid_template_rows": null,
            "height": null,
            "justify_content": null,
            "justify_items": null,
            "left": null,
            "margin": null,
            "max_height": null,
            "max_width": null,
            "min_height": null,
            "min_width": null,
            "object_fit": null,
            "object_position": null,
            "order": null,
            "overflow": null,
            "overflow_x": null,
            "overflow_y": null,
            "padding": null,
            "right": null,
            "top": null,
            "visibility": null,
            "width": null
          }
        },
        "73c068acc8ab4bea8be0a9e7dd4e6dc6": {
          "model_module": "@jupyter-widgets/controls",
          "model_name": "DescriptionStyleModel",
          "model_module_version": "1.5.0",
          "state": {
            "_model_module": "@jupyter-widgets/controls",
            "_model_module_version": "1.5.0",
            "_model_name": "DescriptionStyleModel",
            "_view_count": null,
            "_view_module": "@jupyter-widgets/base",
            "_view_module_version": "1.2.0",
            "_view_name": "StyleView",
            "description_width": ""
          }
        },
        "797407bf612142f88ade5b5fd9b95ca0": {
          "model_module": "@jupyter-widgets/controls",
          "model_name": "HBoxModel",
          "model_module_version": "1.5.0",
          "state": {
            "_dom_classes": [],
            "_model_module": "@jupyter-widgets/controls",
            "_model_module_version": "1.5.0",
            "_model_name": "HBoxModel",
            "_view_count": null,
            "_view_module": "@jupyter-widgets/controls",
            "_view_module_version": "1.5.0",
            "_view_name": "HBoxView",
            "box_style": "",
            "children": [
              "IPY_MODEL_7b6e583febd5404989b89645b429f57a",
              "IPY_MODEL_6e42d4855a50488fa47a4e01c207b6fa",
              "IPY_MODEL_f391f2792f8e494fbab707226e8393e7"
            ],
            "layout": "IPY_MODEL_663ce798d6114384a703a80156c12dfb"
          }
        },
        "7b6e583febd5404989b89645b429f57a": {
          "model_module": "@jupyter-widgets/controls",
          "model_name": "HTMLModel",
          "model_module_version": "1.5.0",
          "state": {
            "_dom_classes": [],
            "_model_module": "@jupyter-widgets/controls",
            "_model_module_version": "1.5.0",
            "_model_name": "HTMLModel",
            "_view_count": null,
            "_view_module": "@jupyter-widgets/controls",
            "_view_module_version": "1.5.0",
            "_view_name": "HTMLView",
            "description": "",
            "description_tooltip": null,
            "layout": "IPY_MODEL_43c37e23defc4c118f906450345b1aaa",
            "placeholder": "​",
            "style": "IPY_MODEL_8b183abb9f4f4ae2b537807739256811",
            "value": "Downloading builder script: "
          }
        },
        "6e42d4855a50488fa47a4e01c207b6fa": {
          "model_module": "@jupyter-widgets/controls",
          "model_name": "FloatProgressModel",
          "model_module_version": "1.5.0",
          "state": {
            "_dom_classes": [],
            "_model_module": "@jupyter-widgets/controls",
            "_model_module_version": "1.5.0",
            "_model_name": "FloatProgressModel",
            "_view_count": null,
            "_view_module": "@jupyter-widgets/controls",
            "_view_module_version": "1.5.0",
            "_view_name": "ProgressView",
            "bar_style": "success",
            "description": "",
            "description_tooltip": null,
            "layout": "IPY_MODEL_38c7997d1f154058b26ba7a5306e4bce",
            "max": 1652,
            "min": 0,
            "orientation": "horizontal",
            "style": "IPY_MODEL_dea0f2e8e3084d83bf827881036d541d",
            "value": 1652
          }
        },
        "f391f2792f8e494fbab707226e8393e7": {
          "model_module": "@jupyter-widgets/controls",
          "model_name": "HTMLModel",
          "model_module_version": "1.5.0",
          "state": {
            "_dom_classes": [],
            "_model_module": "@jupyter-widgets/controls",
            "_model_module_version": "1.5.0",
            "_model_name": "HTMLModel",
            "_view_count": null,
            "_view_module": "@jupyter-widgets/controls",
            "_view_module_version": "1.5.0",
            "_view_name": "HTMLView",
            "description": "",
            "description_tooltip": null,
            "layout": "IPY_MODEL_ce0aad62fd144ef8a4804a6e844862b7",
            "placeholder": "​",
            "style": "IPY_MODEL_cabd281a434d422dabc69d0c7ba021ef",
            "value": " 4.21k/? [00:00&lt;00:00, 169kB/s]"
          }
        },
        "663ce798d6114384a703a80156c12dfb": {
          "model_module": "@jupyter-widgets/base",
          "model_name": "LayoutModel",
          "model_module_version": "1.2.0",
          "state": {
            "_model_module": "@jupyter-widgets/base",
            "_model_module_version": "1.2.0",
            "_model_name": "LayoutModel",
            "_view_count": null,
            "_view_module": "@jupyter-widgets/base",
            "_view_module_version": "1.2.0",
            "_view_name": "LayoutView",
            "align_content": null,
            "align_items": null,
            "align_self": null,
            "border": null,
            "bottom": null,
            "display": null,
            "flex": null,
            "flex_flow": null,
            "grid_area": null,
            "grid_auto_columns": null,
            "grid_auto_flow": null,
            "grid_auto_rows": null,
            "grid_column": null,
            "grid_gap": null,
            "grid_row": null,
            "grid_template_areas": null,
            "grid_template_columns": null,
            "grid_template_rows": null,
            "height": null,
            "justify_content": null,
            "justify_items": null,
            "left": null,
            "margin": null,
            "max_height": null,
            "max_width": null,
            "min_height": null,
            "min_width": null,
            "object_fit": null,
            "object_position": null,
            "order": null,
            "overflow": null,
            "overflow_x": null,
            "overflow_y": null,
            "padding": null,
            "right": null,
            "top": null,
            "visibility": null,
            "width": null
          }
        },
        "43c37e23defc4c118f906450345b1aaa": {
          "model_module": "@jupyter-widgets/base",
          "model_name": "LayoutModel",
          "model_module_version": "1.2.0",
          "state": {
            "_model_module": "@jupyter-widgets/base",
            "_model_module_version": "1.2.0",
            "_model_name": "LayoutModel",
            "_view_count": null,
            "_view_module": "@jupyter-widgets/base",
            "_view_module_version": "1.2.0",
            "_view_name": "LayoutView",
            "align_content": null,
            "align_items": null,
            "align_self": null,
            "border": null,
            "bottom": null,
            "display": null,
            "flex": null,
            "flex_flow": null,
            "grid_area": null,
            "grid_auto_columns": null,
            "grid_auto_flow": null,
            "grid_auto_rows": null,
            "grid_column": null,
            "grid_gap": null,
            "grid_row": null,
            "grid_template_areas": null,
            "grid_template_columns": null,
            "grid_template_rows": null,
            "height": null,
            "justify_content": null,
            "justify_items": null,
            "left": null,
            "margin": null,
            "max_height": null,
            "max_width": null,
            "min_height": null,
            "min_width": null,
            "object_fit": null,
            "object_position": null,
            "order": null,
            "overflow": null,
            "overflow_x": null,
            "overflow_y": null,
            "padding": null,
            "right": null,
            "top": null,
            "visibility": null,
            "width": null
          }
        },
        "8b183abb9f4f4ae2b537807739256811": {
          "model_module": "@jupyter-widgets/controls",
          "model_name": "DescriptionStyleModel",
          "model_module_version": "1.5.0",
          "state": {
            "_model_module": "@jupyter-widgets/controls",
            "_model_module_version": "1.5.0",
            "_model_name": "DescriptionStyleModel",
            "_view_count": null,
            "_view_module": "@jupyter-widgets/base",
            "_view_module_version": "1.2.0",
            "_view_name": "StyleView",
            "description_width": ""
          }
        },
        "38c7997d1f154058b26ba7a5306e4bce": {
          "model_module": "@jupyter-widgets/base",
          "model_name": "LayoutModel",
          "model_module_version": "1.2.0",
          "state": {
            "_model_module": "@jupyter-widgets/base",
            "_model_module_version": "1.2.0",
            "_model_name": "LayoutModel",
            "_view_count": null,
            "_view_module": "@jupyter-widgets/base",
            "_view_module_version": "1.2.0",
            "_view_name": "LayoutView",
            "align_content": null,
            "align_items": null,
            "align_self": null,
            "border": null,
            "bottom": null,
            "display": null,
            "flex": null,
            "flex_flow": null,
            "grid_area": null,
            "grid_auto_columns": null,
            "grid_auto_flow": null,
            "grid_auto_rows": null,
            "grid_column": null,
            "grid_gap": null,
            "grid_row": null,
            "grid_template_areas": null,
            "grid_template_columns": null,
            "grid_template_rows": null,
            "height": null,
            "justify_content": null,
            "justify_items": null,
            "left": null,
            "margin": null,
            "max_height": null,
            "max_width": null,
            "min_height": null,
            "min_width": null,
            "object_fit": null,
            "object_position": null,
            "order": null,
            "overflow": null,
            "overflow_x": null,
            "overflow_y": null,
            "padding": null,
            "right": null,
            "top": null,
            "visibility": null,
            "width": null
          }
        },
        "dea0f2e8e3084d83bf827881036d541d": {
          "model_module": "@jupyter-widgets/controls",
          "model_name": "ProgressStyleModel",
          "model_module_version": "1.5.0",
          "state": {
            "_model_module": "@jupyter-widgets/controls",
            "_model_module_version": "1.5.0",
            "_model_name": "ProgressStyleModel",
            "_view_count": null,
            "_view_module": "@jupyter-widgets/base",
            "_view_module_version": "1.2.0",
            "_view_name": "StyleView",
            "bar_color": null,
            "description_width": ""
          }
        },
        "ce0aad62fd144ef8a4804a6e844862b7": {
          "model_module": "@jupyter-widgets/base",
          "model_name": "LayoutModel",
          "model_module_version": "1.2.0",
          "state": {
            "_model_module": "@jupyter-widgets/base",
            "_model_module_version": "1.2.0",
            "_model_name": "LayoutModel",
            "_view_count": null,
            "_view_module": "@jupyter-widgets/base",
            "_view_module_version": "1.2.0",
            "_view_name": "LayoutView",
            "align_content": null,
            "align_items": null,
            "align_self": null,
            "border": null,
            "bottom": null,
            "display": null,
            "flex": null,
            "flex_flow": null,
            "grid_area": null,
            "grid_auto_columns": null,
            "grid_auto_flow": null,
            "grid_auto_rows": null,
            "grid_column": null,
            "grid_gap": null,
            "grid_row": null,
            "grid_template_areas": null,
            "grid_template_columns": null,
            "grid_template_rows": null,
            "height": null,
            "justify_content": null,
            "justify_items": null,
            "left": null,
            "margin": null,
            "max_height": null,
            "max_width": null,
            "min_height": null,
            "min_width": null,
            "object_fit": null,
            "object_position": null,
            "order": null,
            "overflow": null,
            "overflow_x": null,
            "overflow_y": null,
            "padding": null,
            "right": null,
            "top": null,
            "visibility": null,
            "width": null
          }
        },
        "cabd281a434d422dabc69d0c7ba021ef": {
          "model_module": "@jupyter-widgets/controls",
          "model_name": "DescriptionStyleModel",
          "model_module_version": "1.5.0",
          "state": {
            "_model_module": "@jupyter-widgets/controls",
            "_model_module_version": "1.5.0",
            "_model_name": "DescriptionStyleModel",
            "_view_count": null,
            "_view_module": "@jupyter-widgets/base",
            "_view_module_version": "1.2.0",
            "_view_name": "StyleView",
            "description_width": ""
          }
        }
      }
    }
  },
  "cells": [
    {
      "cell_type": "markdown",
      "source": [
        "# Fine-Tuning an NMT System ?"
      ],
      "metadata": {
        "id": "JW37LULgKwTV"
      }
    },
    {
      "cell_type": "markdown",
      "source": [
        "Today, fine-tuning is one of the main strategies for developing a model (be it an LLM or a specialized model) for a particular domain or language. It makes it possible to adapt a generic model to a particular vocabulary, turn of phrase or syntactic construction. The aim of this lab is twofold :\n",
        "* we want to see how a translation system can be finetuned.\n",
        "* we want to identify the criteria on which fine-tuning can adapt a model\n",
        "\n",
        "In this lab, we consider translation between French and English using the mbart-25 model. The Hugging Face library provides all the tools needed to fine-tune a model (check, for instance, https://huggingface.co/docs/transformers/training or https://github.com/huggingface/transformers/blob/main/examples/pytorch/translation/run_translation.py)."
      ],
      "metadata": {
        "id": "6-Vp6kogTa4N"
      }
    },
    {
      "cell_type": "markdown",
      "source": [
        "## Testing the possibility for the model to learn to translate new words."
      ],
      "metadata": {
        "id": "RGwKPKkAUBSo"
      }
    },
    {
      "cell_type": "code",
      "source": [
        "!pip install transformers\n",
        "!pip install accelerate -U\n",
        "!pip install sentencepiece\n",
        "!pip install datasets\n",
        "\n",
        "import random\n",
        "import torch\n",
        "from transformers import MBart50Tokenizer, MBartForConditionalGeneration"
      ],
      "metadata": {
        "id": "YJv6ygBahoMq"
      },
      "execution_count": null,
      "outputs": []
    },
    {
      "cell_type": "code",
      "source": [
        "device = torch.device(\"cuda\" if torch.cuda.is_available() else \"cpu\")\n",
        "model = MBartForConditionalGeneration.from_pretrained(\"facebook/mbart-large-50-many-to-many-mmt\").to(device)\n",
        "tokenizer = MBart50Tokenizer.from_pretrained(\"facebook/mbart-large-50-many-to-many-mmt\", src_lang=\"fr_XX\", tgt_lag = \"en_XX\")"
      ],
      "metadata": {
        "id": "u2gWERp8MDf5",
        "colab": {
          "base_uri": "https://localhost:8080/",
          "height": 145,
          "referenced_widgets": [
            "f53b11f0d79044588ae7352f240a85fa",
            "656555ca093941f087da65ba133cb843",
            "58bfff76afb14ba9b786fc024ff17dac",
            "a68135a65bb24fd0a06cf38fadad28cf",
            "18d54d443b6b4b7a8e85ff4f4d2cabde",
            "5e2e735d2d88489fbc3aad952d02313c",
            "68295a0cf3d74e069e18420c47f58ad1",
            "ac3822999b3f40f2a51ea7233c323785",
            "82c47e9b3b3e4359ada673c57bb3d890",
            "89e27c12864f453ca61074513a57d519",
            "59e47a18ca4a4c518bd9986f6552a024",
            "020f074a9dbc47359d905c22d387fed6",
            "eba8d6864ab3456bbf021584709fbed6",
            "33071905df93479a83db7c96f5fdbc33",
            "a53402b8c5154557b2b565a9b80436ad",
            "1fe28aa1d9ab40549e1be79562fc5450",
            "f9e21e3738134f9886806bc9d545fd6a",
            "ecc9991615624fba9dbaa9fd4a6401d4",
            "9a87fcf155d548b884286de66e541bec",
            "ca868724de5f411da60748c6b7360c26",
            "13c83ad3bfb14e61b21bbaae1bbe3b6e",
            "759fe44bfbd741728fc8158225b76bd0",
            "fc16602da61b4d8084da6706cc3aadb6",
            "505d0e33f0b04505908a1a99710a9acc",
            "0d6b8096424f41bd9c63268939324df4",
            "98791b02f24341a692d135d1ecc91414",
            "27ab2ef6ca444023b18b9aa43cf4793d",
            "d0b3d2f1e71640edb461c3a044da1a23",
            "8ebf1a4a099345bcb5b6eb4c611b0875",
            "75f8744850c74360b38d9ec64fe68d72",
            "1947bf98ccd14eaa954d80d58e4bb774",
            "b8a2ae1aaf2c4a1d90788a5e7fcb13f9",
            "8aa1d1c31d4c4c2ea1c819809ce62979",
            "a321c78562434180b19fd5ab28080816",
            "30851457f73c4676881b64c7088e177d",
            "8b94ecb5cc834e069e1251a66c4a051a",
            "96e686b3bc574865a172b712e345a29c",
            "9b7d781e4ece4b8390d11650d559e909",
            "99bab4c883d441259bc15d20f4634e58",
            "5b7ce1f4671a49e892cace62495c6ab5",
            "06a7b918f66e4a8c8061893662354a2b",
            "e756e8a4e5384619bb7ae06e3e9330e0",
            "172891f4c9fa4119b09d347e1aeb55d9",
            "73c068acc8ab4bea8be0a9e7dd4e6dc6"
          ]
        },
        "outputId": "5f423132-cfe1-45d1-f02e-14c52ce33dae"
      },
      "execution_count": 24,
      "outputs": [
        {
          "output_type": "display_data",
          "data": {
            "text/plain": [
              "tokenizer_config.json:   0%|          | 0.00/529 [00:00<?, ?B/s]"
            ],
            "application/vnd.jupyter.widget-view+json": {
              "version_major": 2,
              "version_minor": 0,
              "model_id": "f53b11f0d79044588ae7352f240a85fa"
            }
          },
          "metadata": {}
        },
        {
          "output_type": "display_data",
          "data": {
            "text/plain": [
              "sentencepiece.bpe.model:   0%|          | 0.00/5.07M [00:00<?, ?B/s]"
            ],
            "application/vnd.jupyter.widget-view+json": {
              "version_major": 2,
              "version_minor": 0,
              "model_id": "020f074a9dbc47359d905c22d387fed6"
            }
          },
          "metadata": {}
        },
        {
          "output_type": "display_data",
          "data": {
            "text/plain": [
              "special_tokens_map.json:   0%|          | 0.00/649 [00:00<?, ?B/s]"
            ],
            "application/vnd.jupyter.widget-view+json": {
              "version_major": 2,
              "version_minor": 0,
              "model_id": "fc16602da61b4d8084da6706cc3aadb6"
            }
          },
          "metadata": {}
        },
        {
          "output_type": "display_data",
          "data": {
            "text/plain": [
              "config.json:   0%|          | 0.00/1.43k [00:00<?, ?B/s]"
            ],
            "application/vnd.jupyter.widget-view+json": {
              "version_major": 2,
              "version_minor": 0,
              "model_id": "a321c78562434180b19fd5ab28080816"
            }
          },
          "metadata": {}
        }
      ]
    },
    {
      "cell_type": "markdown",
      "source": [
        "The different steps consist of:\n",
        "\n",
        "1.   Generating 100 French (or French_-like) words with their English (or English-like) translation.\n",
        "\n",
        "2.   Adding them at position 2 in 1000 sentences in French and their corresponding translation at the same position in the English sentences.\n",
        "\n",
        "3.   Creating datasets of 100 sentences in the test_set (i.e. containing one occurrence of each generated words) and 900 sentences in the train_set. Foreach sentence in the dataset there are 3 keys (input_ids, attention_mask, labels) where input_ids is the encoded French sentence (pyTorch tensor) and labels is the encoded English sentence.\n",
        "\n",
        "4.  The idea is for the model to be trained to correctly translate the generated French words into their generated English translation. After fine-tuning the model the correctly predicted target words go from 4% (before fine tuning) to 96%, meaning that the model has learnt very well."
      ],
      "metadata": {
        "id": "Np-yfIalGHSH"
      }
    },
    {
      "cell_type": "markdown",
      "source": [
        "1. Generate a list of 100 French words and translate them into English (e.g. by randomly swapping the letters of existing words, or by concatenating sub-words units). It is essential to ensure that the words generated do not appear in the vocabulary and that they are segmented into several sub-tokens."
      ],
      "metadata": {
        "id": "wsSHRMX-LLG0"
      }
    },
    {
      "cell_type": "code",
      "source": [
        "from google.colab import drive\n",
        "drive.mount(\"content/\")"
      ],
      "metadata": {
        "colab": {
          "base_uri": "https://localhost:8080/"
        },
        "id": "fsVvrn5Gm0-Q",
        "outputId": "645fd2fc-8883-4ecf-84e0-43112106815d"
      },
      "execution_count": 1,
      "outputs": [
        {
          "output_type": "stream",
          "name": "stdout",
          "text": [
            "Mounted at content/\n"
          ]
        }
      ]
    },
    {
      "cell_type": "code",
      "source": [
        "import pandas as pd\n",
        "df = pd.read_csv(\"/content/content/MyDrive/Multilingual_NLP/Lab_6/Celine270test.csv\", sep='\\t')\n",
        "df = df[df['source'] != '\"']\n",
        "#Reset indices in df\n",
        "df = df.reset_index(drop=True)\n",
        "df"
      ],
      "metadata": {
        "colab": {
          "base_uri": "https://localhost:8080/",
          "height": 424
        },
        "id": "6w_tcz1BnFLa",
        "outputId": "dda322cb-0cc2-47b7-ff8b-724aaa018e7a"
      },
      "execution_count": 3,
      "outputs": [
        {
          "output_type": "execute_result",
          "data": {
            "text/plain": [
              "                                                source  \\\n",
              "0    La sienne, c'est vrai, elle se présentait un p...   \n",
              "1             Moi j'ai fait ça tout de suite très mal.   \n",
              "2         Lui c'était par un cargo qu'il était arrivé.   \n",
              "3                      Ma façon, c'était pas beaucoup.   \n",
              "4    On peut pas tout faire!... Moi, c'est l'apéro ...   \n",
              "..                                                 ...   \n",
              "165                     Je sais, Paul, où il est allé.   \n",
              "166  Je lui ai demandé, ces pommes-là, à qui il ava...   \n",
              "167  Je lui ai demandé à qui, ces pommes-là, il ava...   \n",
              "168  Je lui ai demandé, ces pommes-là, où il les av...   \n",
              "169  Je lui ai demandé où, ces pommes-là, il les av...   \n",
              "\n",
              "                                                target  \n",
              "0    Theirs was true, it looked a little better, bu...  \n",
              "1                      I did it very badly right away.  \n",
              "2                      He had arrived by a cargo ship.  \n",
              "3                                 My way was not much.  \n",
              "4    You can't do everything!... I prefer the apert...  \n",
              "..                                                 ...  \n",
              "165                       I know, Paul, where he went.  \n",
              "166  I asked him, these apples, to whom he intended...  \n",
              "167  I asked him who, those apples, he intended to ...  \n",
              "168    I asked him, these apples, where he found them.  \n",
              "169       I asked him where he had found those apples.  \n",
              "\n",
              "[170 rows x 2 columns]"
            ],
            "text/html": [
              "\n",
              "  <div id=\"df-e1571acc-f9f1-4059-8df1-0edce4867070\" class=\"colab-df-container\">\n",
              "    <div>\n",
              "<style scoped>\n",
              "    .dataframe tbody tr th:only-of-type {\n",
              "        vertical-align: middle;\n",
              "    }\n",
              "\n",
              "    .dataframe tbody tr th {\n",
              "        vertical-align: top;\n",
              "    }\n",
              "\n",
              "    .dataframe thead th {\n",
              "        text-align: right;\n",
              "    }\n",
              "</style>\n",
              "<table border=\"1\" class=\"dataframe\">\n",
              "  <thead>\n",
              "    <tr style=\"text-align: right;\">\n",
              "      <th></th>\n",
              "      <th>source</th>\n",
              "      <th>target</th>\n",
              "    </tr>\n",
              "  </thead>\n",
              "  <tbody>\n",
              "    <tr>\n",
              "      <th>0</th>\n",
              "      <td>La sienne, c'est vrai, elle se présentait un p...</td>\n",
              "      <td>Theirs was true, it looked a little better, bu...</td>\n",
              "    </tr>\n",
              "    <tr>\n",
              "      <th>1</th>\n",
              "      <td>Moi j'ai fait ça tout de suite très mal.</td>\n",
              "      <td>I did it very badly right away.</td>\n",
              "    </tr>\n",
              "    <tr>\n",
              "      <th>2</th>\n",
              "      <td>Lui c'était par un cargo qu'il était arrivé.</td>\n",
              "      <td>He had arrived by a cargo ship.</td>\n",
              "    </tr>\n",
              "    <tr>\n",
              "      <th>3</th>\n",
              "      <td>Ma façon, c'était pas beaucoup.</td>\n",
              "      <td>My way was not much.</td>\n",
              "    </tr>\n",
              "    <tr>\n",
              "      <th>4</th>\n",
              "      <td>On peut pas tout faire!... Moi, c'est l'apéro ...</td>\n",
              "      <td>You can't do everything!... I prefer the apert...</td>\n",
              "    </tr>\n",
              "    <tr>\n",
              "      <th>...</th>\n",
              "      <td>...</td>\n",
              "      <td>...</td>\n",
              "    </tr>\n",
              "    <tr>\n",
              "      <th>165</th>\n",
              "      <td>Je sais, Paul, où il est allé.</td>\n",
              "      <td>I know, Paul, where he went.</td>\n",
              "    </tr>\n",
              "    <tr>\n",
              "      <th>166</th>\n",
              "      <td>Je lui ai demandé, ces pommes-là, à qui il ava...</td>\n",
              "      <td>I asked him, these apples, to whom he intended...</td>\n",
              "    </tr>\n",
              "    <tr>\n",
              "      <th>167</th>\n",
              "      <td>Je lui ai demandé à qui, ces pommes-là, il ava...</td>\n",
              "      <td>I asked him who, those apples, he intended to ...</td>\n",
              "    </tr>\n",
              "    <tr>\n",
              "      <th>168</th>\n",
              "      <td>Je lui ai demandé, ces pommes-là, où il les av...</td>\n",
              "      <td>I asked him, these apples, where he found them.</td>\n",
              "    </tr>\n",
              "    <tr>\n",
              "      <th>169</th>\n",
              "      <td>Je lui ai demandé où, ces pommes-là, il les av...</td>\n",
              "      <td>I asked him where he had found those apples.</td>\n",
              "    </tr>\n",
              "  </tbody>\n",
              "</table>\n",
              "<p>170 rows × 2 columns</p>\n",
              "</div>\n",
              "    <div class=\"colab-df-buttons\">\n",
              "\n",
              "  <div class=\"colab-df-container\">\n",
              "    <button class=\"colab-df-convert\" onclick=\"convertToInteractive('df-e1571acc-f9f1-4059-8df1-0edce4867070')\"\n",
              "            title=\"Convert this dataframe to an interactive table.\"\n",
              "            style=\"display:none;\">\n",
              "\n",
              "  <svg xmlns=\"http://www.w3.org/2000/svg\" height=\"24px\" viewBox=\"0 -960 960 960\">\n",
              "    <path d=\"M120-120v-720h720v720H120Zm60-500h600v-160H180v160Zm220 220h160v-160H400v160Zm0 220h160v-160H400v160ZM180-400h160v-160H180v160Zm440 0h160v-160H620v160ZM180-180h160v-160H180v160Zm440 0h160v-160H620v160Z\"/>\n",
              "  </svg>\n",
              "    </button>\n",
              "\n",
              "  <style>\n",
              "    .colab-df-container {\n",
              "      display:flex;\n",
              "      gap: 12px;\n",
              "    }\n",
              "\n",
              "    .colab-df-convert {\n",
              "      background-color: #E8F0FE;\n",
              "      border: none;\n",
              "      border-radius: 50%;\n",
              "      cursor: pointer;\n",
              "      display: none;\n",
              "      fill: #1967D2;\n",
              "      height: 32px;\n",
              "      padding: 0 0 0 0;\n",
              "      width: 32px;\n",
              "    }\n",
              "\n",
              "    .colab-df-convert:hover {\n",
              "      background-color: #E2EBFA;\n",
              "      box-shadow: 0px 1px 2px rgba(60, 64, 67, 0.3), 0px 1px 3px 1px rgba(60, 64, 67, 0.15);\n",
              "      fill: #174EA6;\n",
              "    }\n",
              "\n",
              "    .colab-df-buttons div {\n",
              "      margin-bottom: 4px;\n",
              "    }\n",
              "\n",
              "    [theme=dark] .colab-df-convert {\n",
              "      background-color: #3B4455;\n",
              "      fill: #D2E3FC;\n",
              "    }\n",
              "\n",
              "    [theme=dark] .colab-df-convert:hover {\n",
              "      background-color: #434B5C;\n",
              "      box-shadow: 0px 1px 3px 1px rgba(0, 0, 0, 0.15);\n",
              "      filter: drop-shadow(0px 1px 2px rgba(0, 0, 0, 0.3));\n",
              "      fill: #FFFFFF;\n",
              "    }\n",
              "  </style>\n",
              "\n",
              "    <script>\n",
              "      const buttonEl =\n",
              "        document.querySelector('#df-e1571acc-f9f1-4059-8df1-0edce4867070 button.colab-df-convert');\n",
              "      buttonEl.style.display =\n",
              "        google.colab.kernel.accessAllowed ? 'block' : 'none';\n",
              "\n",
              "      async function convertToInteractive(key) {\n",
              "        const element = document.querySelector('#df-e1571acc-f9f1-4059-8df1-0edce4867070');\n",
              "        const dataTable =\n",
              "          await google.colab.kernel.invokeFunction('convertToInteractive',\n",
              "                                                    [key], {});\n",
              "        if (!dataTable) return;\n",
              "\n",
              "        const docLinkHtml = 'Like what you see? Visit the ' +\n",
              "          '<a target=\"_blank\" href=https://colab.research.google.com/notebooks/data_table.ipynb>data table notebook</a>'\n",
              "          + ' to learn more about interactive tables.';\n",
              "        element.innerHTML = '';\n",
              "        dataTable['output_type'] = 'display_data';\n",
              "        await google.colab.output.renderOutput(dataTable, element);\n",
              "        const docLink = document.createElement('div');\n",
              "        docLink.innerHTML = docLinkHtml;\n",
              "        element.appendChild(docLink);\n",
              "      }\n",
              "    </script>\n",
              "  </div>\n",
              "\n",
              "\n",
              "<div id=\"df-f0413729-3d67-4133-996b-10839cc56c60\">\n",
              "  <button class=\"colab-df-quickchart\" onclick=\"quickchart('df-f0413729-3d67-4133-996b-10839cc56c60')\"\n",
              "            title=\"Suggest charts\"\n",
              "            style=\"display:none;\">\n",
              "\n",
              "<svg xmlns=\"http://www.w3.org/2000/svg\" height=\"24px\"viewBox=\"0 0 24 24\"\n",
              "     width=\"24px\">\n",
              "    <g>\n",
              "        <path d=\"M19 3H5c-1.1 0-2 .9-2 2v14c0 1.1.9 2 2 2h14c1.1 0 2-.9 2-2V5c0-1.1-.9-2-2-2zM9 17H7v-7h2v7zm4 0h-2V7h2v10zm4 0h-2v-4h2v4z\"/>\n",
              "    </g>\n",
              "</svg>\n",
              "  </button>\n",
              "\n",
              "<style>\n",
              "  .colab-df-quickchart {\n",
              "      --bg-color: #E8F0FE;\n",
              "      --fill-color: #1967D2;\n",
              "      --hover-bg-color: #E2EBFA;\n",
              "      --hover-fill-color: #174EA6;\n",
              "      --disabled-fill-color: #AAA;\n",
              "      --disabled-bg-color: #DDD;\n",
              "  }\n",
              "\n",
              "  [theme=dark] .colab-df-quickchart {\n",
              "      --bg-color: #3B4455;\n",
              "      --fill-color: #D2E3FC;\n",
              "      --hover-bg-color: #434B5C;\n",
              "      --hover-fill-color: #FFFFFF;\n",
              "      --disabled-bg-color: #3B4455;\n",
              "      --disabled-fill-color: #666;\n",
              "  }\n",
              "\n",
              "  .colab-df-quickchart {\n",
              "    background-color: var(--bg-color);\n",
              "    border: none;\n",
              "    border-radius: 50%;\n",
              "    cursor: pointer;\n",
              "    display: none;\n",
              "    fill: var(--fill-color);\n",
              "    height: 32px;\n",
              "    padding: 0;\n",
              "    width: 32px;\n",
              "  }\n",
              "\n",
              "  .colab-df-quickchart:hover {\n",
              "    background-color: var(--hover-bg-color);\n",
              "    box-shadow: 0 1px 2px rgba(60, 64, 67, 0.3), 0 1px 3px 1px rgba(60, 64, 67, 0.15);\n",
              "    fill: var(--button-hover-fill-color);\n",
              "  }\n",
              "\n",
              "  .colab-df-quickchart-complete:disabled,\n",
              "  .colab-df-quickchart-complete:disabled:hover {\n",
              "    background-color: var(--disabled-bg-color);\n",
              "    fill: var(--disabled-fill-color);\n",
              "    box-shadow: none;\n",
              "  }\n",
              "\n",
              "  .colab-df-spinner {\n",
              "    border: 2px solid var(--fill-color);\n",
              "    border-color: transparent;\n",
              "    border-bottom-color: var(--fill-color);\n",
              "    animation:\n",
              "      spin 1s steps(1) infinite;\n",
              "  }\n",
              "\n",
              "  @keyframes spin {\n",
              "    0% {\n",
              "      border-color: transparent;\n",
              "      border-bottom-color: var(--fill-color);\n",
              "      border-left-color: var(--fill-color);\n",
              "    }\n",
              "    20% {\n",
              "      border-color: transparent;\n",
              "      border-left-color: var(--fill-color);\n",
              "      border-top-color: var(--fill-color);\n",
              "    }\n",
              "    30% {\n",
              "      border-color: transparent;\n",
              "      border-left-color: var(--fill-color);\n",
              "      border-top-color: var(--fill-color);\n",
              "      border-right-color: var(--fill-color);\n",
              "    }\n",
              "    40% {\n",
              "      border-color: transparent;\n",
              "      border-right-color: var(--fill-color);\n",
              "      border-top-color: var(--fill-color);\n",
              "    }\n",
              "    60% {\n",
              "      border-color: transparent;\n",
              "      border-right-color: var(--fill-color);\n",
              "    }\n",
              "    80% {\n",
              "      border-color: transparent;\n",
              "      border-right-color: var(--fill-color);\n",
              "      border-bottom-color: var(--fill-color);\n",
              "    }\n",
              "    90% {\n",
              "      border-color: transparent;\n",
              "      border-bottom-color: var(--fill-color);\n",
              "    }\n",
              "  }\n",
              "</style>\n",
              "\n",
              "  <script>\n",
              "    async function quickchart(key) {\n",
              "      const quickchartButtonEl =\n",
              "        document.querySelector('#' + key + ' button');\n",
              "      quickchartButtonEl.disabled = true;  // To prevent multiple clicks.\n",
              "      quickchartButtonEl.classList.add('colab-df-spinner');\n",
              "      try {\n",
              "        const charts = await google.colab.kernel.invokeFunction(\n",
              "            'suggestCharts', [key], {});\n",
              "      } catch (error) {\n",
              "        console.error('Error during call to suggestCharts:', error);\n",
              "      }\n",
              "      quickchartButtonEl.classList.remove('colab-df-spinner');\n",
              "      quickchartButtonEl.classList.add('colab-df-quickchart-complete');\n",
              "    }\n",
              "    (() => {\n",
              "      let quickchartButtonEl =\n",
              "        document.querySelector('#df-f0413729-3d67-4133-996b-10839cc56c60 button');\n",
              "      quickchartButtonEl.style.display =\n",
              "        google.colab.kernel.accessAllowed ? 'block' : 'none';\n",
              "    })();\n",
              "  </script>\n",
              "</div>\n",
              "    </div>\n",
              "  </div>\n"
            ]
          },
          "metadata": {},
          "execution_count": 3
        }
      ]
    },
    {
      "cell_type": "code",
      "source": [
        "def generate_rotations(word, n):\n",
        "  rotations = [word]  # Start with the original word\n",
        "\n",
        "  # Iterate through the characters\n",
        "  for i in range(1, min(n, len(word))):\n",
        "    # Create a new word by placing the last character in the first position\n",
        "    rotated_word = word[-i:] + word[:-i]\n",
        "    rotations.append(rotated_word)\n",
        "\n",
        "  return rotations\n",
        "\n",
        "generate_rotations(\"cat\", 2)"
      ],
      "metadata": {
        "colab": {
          "base_uri": "https://localhost:8080/"
        },
        "id": "zB-iI40tW2KY",
        "outputId": "715a2558-e7f2-49a8-dba6-b6d37a4ea2f2"
      },
      "execution_count": 20,
      "outputs": [
        {
          "output_type": "execute_result",
          "data": {
            "text/plain": [
              "['cat', 'tca']"
            ]
          },
          "metadata": {},
          "execution_count": 20
        }
      ]
    },
    {
      "cell_type": "code",
      "source": [
        "def make_verif(df, word_list, tokenized_list):\n",
        "  # Ensure the words aren't in the vocabulary already\n",
        "  for word in word_list:\n",
        "    if any(df['source'].str.contains(word).values):\n",
        "        print(f'Word \"{word}\" already in vocabulary.')\n",
        "\n",
        "  # Check that they are tokenized in several subtokens\n",
        "  for word in tokenized_list:\n",
        "    if len(word) < 2:\n",
        "      print(f\"{word} has only one token\")\n",
        "\n",
        "make_verif(df, [\"chat\"], [tokenizer.tokenize(\"chat\")])"
      ],
      "metadata": {
        "id": "s-ASyN-vggED",
        "colab": {
          "base_uri": "https://localhost:8080/"
        },
        "outputId": "35431895-2145-405d-f269-f932219bfc0d"
      },
      "execution_count": 26,
      "outputs": [
        {
          "output_type": "stream",
          "name": "stdout",
          "text": [
            "Word \"chat\" already in vocabulary.\n",
            "['▁chat'] has only one token\n"
          ]
        }
      ]
    },
    {
      "cell_type": "code",
      "source": [
        "from itertools import chain\n",
        "fr_list = [\"chaton\", \"tabourets\", \"ânesse\", \"ventriloque\", \"luminosité\", \"écriture\", \"grammaire\", \"chevalet\", \"poudre\", \"édredon\", \"volet\", \"dictionnaire\", \"profondeur\", \"briquet\", \"armée\"]\n",
        "en_list = [\"kitten\", \"stools\", \"donkey\", \"ventriloquist\", \"brightness\", \"handwriting\", \"grammar\", \"easel\", \"dust\", \"quilt\", \"shutter\", \" dictionary\", \"depth\", \"lighter\", \"army\"]\n",
        "\n",
        "# Generate 10 different words for each word in the original list\n",
        "shuffled_fr_list = list(chain.from_iterable([generate_rotations(fr_word, len(en_word)) for fr_word, en_word in zip(fr_list, en_list)]))[:100]\n",
        "print(\"French list: \", len(shuffled_fr_list))\n",
        "\n",
        "shuffled_en_list = list(chain.from_iterable([generate_rotations(en_word, len(fr_word)) for fr_word, en_word in zip(fr_list, en_list)]))[:100]\n",
        "print(\"English list: \", len(shuffled_en_list))\n",
        "\n",
        "# Tokenize each word to make sure there are at least two subtokens\n",
        "tokenized_fr = [tokenizer.tokenize(word) for word in shuffled_fr_list]\n",
        "tokenized_en = [tokenizer.tokenize(word) for word in shuffled_en_list]\n",
        "\n",
        "# Make verifications\n",
        "make_verif(df, fr_list, tokenized_fr)\n",
        "make_verif(df, en_list, tokenized_en)"
      ],
      "metadata": {
        "colab": {
          "base_uri": "https://localhost:8080/"
        },
        "id": "vFHNgmo3qs0Z",
        "outputId": "c6b70070-7ebf-4110-c860-7a3a49f8b91b"
      },
      "execution_count": 7,
      "outputs": [
        {
          "output_type": "stream",
          "name": "stdout",
          "text": [
            "French list:  100\n",
            "English list:  100\n"
          ]
        }
      ]
    },
    {
      "cell_type": "markdown",
      "source": [
        "2. For each pair of words generated, insert them into 10 sentences and their translation. You can thus build up a test corpus of 100 sentences containing the 100 new words and a training corpus of 900 sentences."
      ],
      "metadata": {
        "id": "cforWgRsLQC1"
      }
    },
    {
      "cell_type": "code",
      "source": [
        "import random\n",
        "\n",
        "# get 10 different sentence patterns randomly selected\n",
        "random_indices = random.sample(range(len(df)), 10)\n",
        "selected_src = [df.at[id, 'source'] for id in random_indices]\n",
        "selected_tgt = [df.at[id, 'target'] for id in random_indices]\n",
        "\n",
        "# insert the generated words into these sentences\n",
        "modified_src = []\n",
        "words = []\n",
        "modified_tgt = []\n",
        "trads = []\n",
        "\n",
        "for word, trad in zip(shuffled_fr_list, shuffled_en_list):\n",
        "    for src, tgt in zip(selected_src, selected_tgt):\n",
        "        # Split the sentence into tokens and insert the word after the first 2 tokens\n",
        "        # (to avoid issues due to future truncation)\n",
        "        src_tokens = src.split()\n",
        "        modified_src.append(' '.join(src_tokens[:2] + [word] + src_tokens[1:]))\n",
        "        # Save the added words for the later evaluation\n",
        "        words.append(word)\n",
        "\n",
        "        # Split the sentence into tokens and insert the trad after the first 2 tokens\n",
        "        tgt_tokens = tgt.split()\n",
        "        modified_tgt.append(' '.join(tgt_tokens[:2] + [trad] + tgt_tokens[1:]))\n",
        "        # Save the added translations for the later evaluation\n",
        "        trads.append(trad)\n",
        "\n",
        "print(len(modified_src))\n",
        "print(len(modified_tgt))\n",
        "\n",
        "for src, tgt in zip(modified_src[:5], modified_tgt[:5]):\n",
        "  print(src)\n",
        "  print(tgt)\n",
        "  print()"
      ],
      "metadata": {
        "colab": {
          "base_uri": "https://localhost:8080/"
        },
        "id": "7O4RO_BLwQGq",
        "outputId": "26858456-027f-4a38-8500-a9be40458cba"
      },
      "execution_count": 8,
      "outputs": [
        {
          "output_type": "stream",
          "name": "stdout",
          "text": [
            "1000\n",
            "1000\n",
            "\"D'abord il chaton il est survenu du chômage, de la crise dans les environs et ça c'est le plus mauvais.\n",
            "\"First there kitten there was unemployment, the crisis in the vicinity and that's the worst.\n",
            "\n",
            "Je lui chaton lui ai demandé où, ces pommes-là, il les avait trouvées.\n",
            "I asked kitten asked him where he had found those apples.\n",
            "\n",
            "\"Trahir, qu'on chaton qu'on dit, c'est vite dit.\n",
            "\"Training, as kitten as one says, is quickly said.\n",
            "\n",
            "Qui c'est chaton c'est qui le payera?\n",
            "Who will kitten will pay for it?\n",
            "\n",
            "Libre, je chaton je ne le suis à peu près jamais.\n",
            "Free, I'm kitten I'm almost never.\n",
            "\n",
            "<class 'list'>\n"
          ]
        }
      ]
    },
    {
      "cell_type": "markdown",
      "source": [
        "### Datasets"
      ],
      "metadata": {
        "id": "c51Ta62stupz"
      }
    },
    {
      "cell_type": "code",
      "source": [
        "# Testing the unzip function\n",
        "train_data = [(1, 'a', 'X'), (2, 'b', 'Y'), (3, 'c', 'Z')]\n",
        "numbers, letters, symbols = zip(*train_data)\n",
        "numbers"
      ],
      "metadata": {
        "colab": {
          "base_uri": "https://localhost:8080/"
        },
        "id": "MsSxMT5A1LYN",
        "outputId": "2cf06797-aecc-47d2-9c37-d4325fa37769"
      },
      "execution_count": 13,
      "outputs": [
        {
          "output_type": "execute_result",
          "data": {
            "text/plain": [
              "(1, 2, 3)"
            ]
          },
          "metadata": {},
          "execution_count": 13
        }
      ]
    },
    {
      "cell_type": "code",
      "source": [
        "from datasets import Dataset\n",
        "\n",
        "def create_dataset(sources, targets):\n",
        "    dataset = []\n",
        "    tokenized_sources = tokenizer(sources, padding=True, truncation=True, return_tensors=\"pt\")\n",
        "    tokenized_targets = tokenizer(targets, padding=True, truncation=True, return_tensors=\"pt\")\n",
        "\n",
        "    # Move tensors to the same device as the model\n",
        "    tokenized_sources = {key: value.to(device) for key, value in tokenized_sources.items()}\n",
        "    tokenized_targets = {key: value.to(device) for key, value in tokenized_targets.items()}\n",
        "\n",
        "    for source, target in zip(tokenized_sources[\"input_ids\"], tokenized_targets[\"input_ids\"]):\n",
        "        dataset.append({\n",
        "            \"input_ids\": source,\n",
        "            \"attention_mask\":  [1 if token != 1 else 0 for token in source],\n",
        "            \"labels\": target,\n",
        "        })\n",
        "\n",
        "    return Dataset.from_list(dataset)\n",
        "\n",
        "# Create the combined modified dataset\n",
        "combined_data = list(zip(modified_src, modified_tgt))\n",
        "\n",
        "# Separate the new words (every 10 sentences) for the test dataset\n",
        "test_data = [elt for i, elt in enumerate(combined_data) if i%10 ==0]\n",
        "test_src, test_tgt = zip(*test_data)\n",
        "\n",
        "# Separate the remaining data for the training corpus\n",
        "train_data = [elt for i, elt in enumerate(combined_data) if i%10 != 0]\n",
        "train_src, train_tgt = zip(*train_data)\n",
        "\n",
        "# Use the create_dataset function to create datasets\n",
        "test_dataset = create_dataset(test_src, test_tgt)\n",
        "train_dataset = create_dataset(train_src, train_tgt)\n",
        "\n",
        "# Print the lengths of the datasets\n",
        "print(\"Test Dataset Length:\", len(test_dataset))\n",
        "print(\"Training Corpus Length:\", len(train_dataset))"
      ],
      "metadata": {
        "colab": {
          "base_uri": "https://localhost:8080/"
        },
        "id": "OZBeko401w-U",
        "outputId": "58384679-8fba-4088-da65-aa8023bf3a4c"
      },
      "execution_count": 14,
      "outputs": [
        {
          "output_type": "stream",
          "name": "stderr",
          "text": [
            "Asking to truncate to max_length but no maximum length is provided and the model has no predefined maximum length. Default to no truncation.\n"
          ]
        },
        {
          "output_type": "stream",
          "name": "stdout",
          "text": [
            "Test Dataset Length: 100\n",
            "Training Corpus Length: 900\n"
          ]
        }
      ]
    },
    {
      "cell_type": "code",
      "source": [
        "print(train_tgt)"
      ],
      "metadata": {
        "colab": {
          "base_uri": "https://localhost:8080/"
        },
        "id": "czjfLnZfzJwl",
        "outputId": "c67b433a-0c8d-44d2-e935-20e970fe91ea"
      },
      "execution_count": 15,
      "outputs": [
        {
          "output_type": "stream",
          "name": "stdout",
          "text": [
            "('Even he, kitten he, the eagle to his Joséphine! The fire on the train, it is the case to say it against and against everything.', 'He slept, kitten slept, the cat.', '\"Well, you kitten you know a lot about it, Curé, about young people who are like this?... I don\\'t know!...', '\"To be kitten be alone is to train to die.', 'He was kitten was still a comedian.', \"From the kitten the sun, that's for sure, there was always the same, as if you were to hear a large boiler always in full shape and then, below, still the sun and these senseless trees....\", 'Theirs was kitten was true, it looked a little better, but not much better.', 'This team, kitten team, the amateurs have often suffered because of it.', 'Have a kitten a seat... I\\'m not going well either...\" -- I\\'m just making a little round, which I replied, to give me a hold.', 'Even he, nkitte he, the eagle to his Joséphine! The fire on the train, it is the case to say it against and against everything.', 'He slept, nkitte slept, the cat.', '\"Well, you nkitte you know a lot about it, Curé, about young people who are like this?... I don\\'t know!...', '\"To be nkitte be alone is to train to die.', 'He was nkitte was still a comedian.', \"From the nkitte the sun, that's for sure, there was always the same, as if you were to hear a large boiler always in full shape and then, below, still the sun and these senseless trees....\", 'Theirs was nkitte was true, it looked a little better, but not much better.', 'This team, nkitte team, the amateurs have often suffered because of it.', 'Have a nkitte a seat... I\\'m not going well either...\" -- I\\'m just making a little round, which I replied, to give me a hold.', 'Even he, enkitt he, the eagle to his Joséphine! The fire on the train, it is the case to say it against and against everything.', 'He slept, enkitt slept, the cat.', '\"Well, you enkitt you know a lot about it, Curé, about young people who are like this?... I don\\'t know!...', '\"To be enkitt be alone is to train to die.', 'He was enkitt was still a comedian.', \"From the enkitt the sun, that's for sure, there was always the same, as if you were to hear a large boiler always in full shape and then, below, still the sun and these senseless trees....\", 'Theirs was enkitt was true, it looked a little better, but not much better.', 'This team, enkitt team, the amateurs have often suffered because of it.', 'Have a enkitt a seat... I\\'m not going well either...\" -- I\\'m just making a little round, which I replied, to give me a hold.', 'Even he, tenkit he, the eagle to his Joséphine! The fire on the train, it is the case to say it against and against everything.', 'He slept, tenkit slept, the cat.', '\"Well, you tenkit you know a lot about it, Curé, about young people who are like this?... I don\\'t know!...', '\"To be tenkit be alone is to train to die.', 'He was tenkit was still a comedian.', \"From the tenkit the sun, that's for sure, there was always the same, as if you were to hear a large boiler always in full shape and then, below, still the sun and these senseless trees....\", 'Theirs was tenkit was true, it looked a little better, but not much better.', 'This team, tenkit team, the amateurs have often suffered because of it.', 'Have a tenkit a seat... I\\'m not going well either...\" -- I\\'m just making a little round, which I replied, to give me a hold.', 'Even he, ttenki he, the eagle to his Joséphine! The fire on the train, it is the case to say it against and against everything.', 'He slept, ttenki slept, the cat.', '\"Well, you ttenki you know a lot about it, Curé, about young people who are like this?... I don\\'t know!...', '\"To be ttenki be alone is to train to die.', 'He was ttenki was still a comedian.', \"From the ttenki the sun, that's for sure, there was always the same, as if you were to hear a large boiler always in full shape and then, below, still the sun and these senseless trees....\", 'Theirs was ttenki was true, it looked a little better, but not much better.', 'This team, ttenki team, the amateurs have often suffered because of it.', 'Have a ttenki a seat... I\\'m not going well either...\" -- I\\'m just making a little round, which I replied, to give me a hold.', 'Even he, ittenk he, the eagle to his Joséphine! The fire on the train, it is the case to say it against and against everything.', 'He slept, ittenk slept, the cat.', '\"Well, you ittenk you know a lot about it, Curé, about young people who are like this?... I don\\'t know!...', '\"To be ittenk be alone is to train to die.', 'He was ittenk was still a comedian.', \"From the ittenk the sun, that's for sure, there was always the same, as if you were to hear a large boiler always in full shape and then, below, still the sun and these senseless trees....\", 'Theirs was ittenk was true, it looked a little better, but not much better.', 'This team, ittenk team, the amateurs have often suffered because of it.', 'Have a ittenk a seat... I\\'m not going well either...\" -- I\\'m just making a little round, which I replied, to give me a hold.', 'Even he, stools he, the eagle to his Joséphine! The fire on the train, it is the case to say it against and against everything.', 'He slept, stools slept, the cat.', '\"Well, you stools you know a lot about it, Curé, about young people who are like this?... I don\\'t know!...', '\"To be stools be alone is to train to die.', 'He was stools was still a comedian.', \"From the stools the sun, that's for sure, there was always the same, as if you were to hear a large boiler always in full shape and then, below, still the sun and these senseless trees....\", 'Theirs was stools was true, it looked a little better, but not much better.', 'This team, stools team, the amateurs have often suffered because of it.', 'Have a stools a seat... I\\'m not going well either...\" -- I\\'m just making a little round, which I replied, to give me a hold.', 'Even he, sstool he, the eagle to his Joséphine! The fire on the train, it is the case to say it against and against everything.', 'He slept, sstool slept, the cat.', '\"Well, you sstool you know a lot about it, Curé, about young people who are like this?... I don\\'t know!...', '\"To be sstool be alone is to train to die.', 'He was sstool was still a comedian.', \"From the sstool the sun, that's for sure, there was always the same, as if you were to hear a large boiler always in full shape and then, below, still the sun and these senseless trees....\", 'Theirs was sstool was true, it looked a little better, but not much better.', 'This team, sstool team, the amateurs have often suffered because of it.', 'Have a sstool a seat... I\\'m not going well either...\" -- I\\'m just making a little round, which I replied, to give me a hold.', 'Even he, lsstoo he, the eagle to his Joséphine! The fire on the train, it is the case to say it against and against everything.', 'He slept, lsstoo slept, the cat.', '\"Well, you lsstoo you know a lot about it, Curé, about young people who are like this?... I don\\'t know!...', '\"To be lsstoo be alone is to train to die.', 'He was lsstoo was still a comedian.', \"From the lsstoo the sun, that's for sure, there was always the same, as if you were to hear a large boiler always in full shape and then, below, still the sun and these senseless trees....\", 'Theirs was lsstoo was true, it looked a little better, but not much better.', 'This team, lsstoo team, the amateurs have often suffered because of it.', 'Have a lsstoo a seat... I\\'m not going well either...\" -- I\\'m just making a little round, which I replied, to give me a hold.', 'Even he, olssto he, the eagle to his Joséphine! The fire on the train, it is the case to say it against and against everything.', 'He slept, olssto slept, the cat.', '\"Well, you olssto you know a lot about it, Curé, about young people who are like this?... I don\\'t know!...', '\"To be olssto be alone is to train to die.', 'He was olssto was still a comedian.', \"From the olssto the sun, that's for sure, there was always the same, as if you were to hear a large boiler always in full shape and then, below, still the sun and these senseless trees....\", 'Theirs was olssto was true, it looked a little better, but not much better.', 'This team, olssto team, the amateurs have often suffered because of it.', 'Have a olssto a seat... I\\'m not going well either...\" -- I\\'m just making a little round, which I replied, to give me a hold.', 'Even he, oolsst he, the eagle to his Joséphine! The fire on the train, it is the case to say it against and against everything.', 'He slept, oolsst slept, the cat.', '\"Well, you oolsst you know a lot about it, Curé, about young people who are like this?... I don\\'t know!...', '\"To be oolsst be alone is to train to die.', 'He was oolsst was still a comedian.', \"From the oolsst the sun, that's for sure, there was always the same, as if you were to hear a large boiler always in full shape and then, below, still the sun and these senseless trees....\", 'Theirs was oolsst was true, it looked a little better, but not much better.', 'This team, oolsst team, the amateurs have often suffered because of it.', 'Have a oolsst a seat... I\\'m not going well either...\" -- I\\'m just making a little round, which I replied, to give me a hold.', 'Even he, toolss he, the eagle to his Joséphine! The fire on the train, it is the case to say it against and against everything.', 'He slept, toolss slept, the cat.', '\"Well, you toolss you know a lot about it, Curé, about young people who are like this?... I don\\'t know!...', '\"To be toolss be alone is to train to die.', 'He was toolss was still a comedian.', \"From the toolss the sun, that's for sure, there was always the same, as if you were to hear a large boiler always in full shape and then, below, still the sun and these senseless trees....\", 'Theirs was toolss was true, it looked a little better, but not much better.', 'This team, toolss team, the amateurs have often suffered because of it.', 'Have a toolss a seat... I\\'m not going well either...\" -- I\\'m just making a little round, which I replied, to give me a hold.', 'Even he, donkey he, the eagle to his Joséphine! The fire on the train, it is the case to say it against and against everything.', 'He slept, donkey slept, the cat.', '\"Well, you donkey you know a lot about it, Curé, about young people who are like this?... I don\\'t know!...', '\"To be donkey be alone is to train to die.', 'He was donkey was still a comedian.', \"From the donkey the sun, that's for sure, there was always the same, as if you were to hear a large boiler always in full shape and then, below, still the sun and these senseless trees....\", 'Theirs was donkey was true, it looked a little better, but not much better.', 'This team, donkey team, the amateurs have often suffered because of it.', 'Have a donkey a seat... I\\'m not going well either...\" -- I\\'m just making a little round, which I replied, to give me a hold.', 'Even he, ydonke he, the eagle to his Joséphine! The fire on the train, it is the case to say it against and against everything.', 'He slept, ydonke slept, the cat.', '\"Well, you ydonke you know a lot about it, Curé, about young people who are like this?... I don\\'t know!...', '\"To be ydonke be alone is to train to die.', 'He was ydonke was still a comedian.', \"From the ydonke the sun, that's for sure, there was always the same, as if you were to hear a large boiler always in full shape and then, below, still the sun and these senseless trees....\", 'Theirs was ydonke was true, it looked a little better, but not much better.', 'This team, ydonke team, the amateurs have often suffered because of it.', 'Have a ydonke a seat... I\\'m not going well either...\" -- I\\'m just making a little round, which I replied, to give me a hold.', 'Even he, eydonk he, the eagle to his Joséphine! The fire on the train, it is the case to say it against and against everything.', 'He slept, eydonk slept, the cat.', '\"Well, you eydonk you know a lot about it, Curé, about young people who are like this?... I don\\'t know!...', '\"To be eydonk be alone is to train to die.', 'He was eydonk was still a comedian.', \"From the eydonk the sun, that's for sure, there was always the same, as if you were to hear a large boiler always in full shape and then, below, still the sun and these senseless trees....\", 'Theirs was eydonk was true, it looked a little better, but not much better.', 'This team, eydonk team, the amateurs have often suffered because of it.', 'Have a eydonk a seat... I\\'m not going well either...\" -- I\\'m just making a little round, which I replied, to give me a hold.', 'Even he, keydon he, the eagle to his Joséphine! The fire on the train, it is the case to say it against and against everything.', 'He slept, keydon slept, the cat.', '\"Well, you keydon you know a lot about it, Curé, about young people who are like this?... I don\\'t know!...', '\"To be keydon be alone is to train to die.', 'He was keydon was still a comedian.', \"From the keydon the sun, that's for sure, there was always the same, as if you were to hear a large boiler always in full shape and then, below, still the sun and these senseless trees....\", 'Theirs was keydon was true, it looked a little better, but not much better.', 'This team, keydon team, the amateurs have often suffered because of it.', 'Have a keydon a seat... I\\'m not going well either...\" -- I\\'m just making a little round, which I replied, to give me a hold.', 'Even he, nkeydo he, the eagle to his Joséphine! The fire on the train, it is the case to say it against and against everything.', 'He slept, nkeydo slept, the cat.', '\"Well, you nkeydo you know a lot about it, Curé, about young people who are like this?... I don\\'t know!...', '\"To be nkeydo be alone is to train to die.', 'He was nkeydo was still a comedian.', \"From the nkeydo the sun, that's for sure, there was always the same, as if you were to hear a large boiler always in full shape and then, below, still the sun and these senseless trees....\", 'Theirs was nkeydo was true, it looked a little better, but not much better.', 'This team, nkeydo team, the amateurs have often suffered because of it.', 'Have a nkeydo a seat... I\\'m not going well either...\" -- I\\'m just making a little round, which I replied, to give me a hold.', 'Even he, onkeyd he, the eagle to his Joséphine! The fire on the train, it is the case to say it against and against everything.', 'He slept, onkeyd slept, the cat.', '\"Well, you onkeyd you know a lot about it, Curé, about young people who are like this?... I don\\'t know!...', '\"To be onkeyd be alone is to train to die.', 'He was onkeyd was still a comedian.', \"From the onkeyd the sun, that's for sure, there was always the same, as if you were to hear a large boiler always in full shape and then, below, still the sun and these senseless trees....\", 'Theirs was onkeyd was true, it looked a little better, but not much better.', 'This team, onkeyd team, the amateurs have often suffered because of it.', 'Have a onkeyd a seat... I\\'m not going well either...\" -- I\\'m just making a little round, which I replied, to give me a hold.', 'Even he, ventriloquist he, the eagle to his Joséphine! The fire on the train, it is the case to say it against and against everything.', 'He slept, ventriloquist slept, the cat.', '\"Well, you ventriloquist you know a lot about it, Curé, about young people who are like this?... I don\\'t know!...', '\"To be ventriloquist be alone is to train to die.', 'He was ventriloquist was still a comedian.', \"From the ventriloquist the sun, that's for sure, there was always the same, as if you were to hear a large boiler always in full shape and then, below, still the sun and these senseless trees....\", 'Theirs was ventriloquist was true, it looked a little better, but not much better.', 'This team, ventriloquist team, the amateurs have often suffered because of it.', 'Have a ventriloquist a seat... I\\'m not going well either...\" -- I\\'m just making a little round, which I replied, to give me a hold.', 'Even he, tventriloquis he, the eagle to his Joséphine! The fire on the train, it is the case to say it against and against everything.', 'He slept, tventriloquis slept, the cat.', '\"Well, you tventriloquis you know a lot about it, Curé, about young people who are like this?... I don\\'t know!...', '\"To be tventriloquis be alone is to train to die.', 'He was tventriloquis was still a comedian.', \"From the tventriloquis the sun, that's for sure, there was always the same, as if you were to hear a large boiler always in full shape and then, below, still the sun and these senseless trees....\", 'Theirs was tventriloquis was true, it looked a little better, but not much better.', 'This team, tventriloquis team, the amateurs have often suffered because of it.', 'Have a tventriloquis a seat... I\\'m not going well either...\" -- I\\'m just making a little round, which I replied, to give me a hold.', 'Even he, stventriloqui he, the eagle to his Joséphine! The fire on the train, it is the case to say it against and against everything.', 'He slept, stventriloqui slept, the cat.', '\"Well, you stventriloqui you know a lot about it, Curé, about young people who are like this?... I don\\'t know!...', '\"To be stventriloqui be alone is to train to die.', 'He was stventriloqui was still a comedian.', \"From the stventriloqui the sun, that's for sure, there was always the same, as if you were to hear a large boiler always in full shape and then, below, still the sun and these senseless trees....\", 'Theirs was stventriloqui was true, it looked a little better, but not much better.', 'This team, stventriloqui team, the amateurs have often suffered because of it.', 'Have a stventriloqui a seat... I\\'m not going well either...\" -- I\\'m just making a little round, which I replied, to give me a hold.', 'Even he, istventriloqu he, the eagle to his Joséphine! The fire on the train, it is the case to say it against and against everything.', 'He slept, istventriloqu slept, the cat.', '\"Well, you istventriloqu you know a lot about it, Curé, about young people who are like this?... I don\\'t know!...', '\"To be istventriloqu be alone is to train to die.', 'He was istventriloqu was still a comedian.', \"From the istventriloqu the sun, that's for sure, there was always the same, as if you were to hear a large boiler always in full shape and then, below, still the sun and these senseless trees....\", 'Theirs was istventriloqu was true, it looked a little better, but not much better.', 'This team, istventriloqu team, the amateurs have often suffered because of it.', 'Have a istventriloqu a seat... I\\'m not going well either...\" -- I\\'m just making a little round, which I replied, to give me a hold.', 'Even he, uistventriloq he, the eagle to his Joséphine! The fire on the train, it is the case to say it against and against everything.', 'He slept, uistventriloq slept, the cat.', '\"Well, you uistventriloq you know a lot about it, Curé, about young people who are like this?... I don\\'t know!...', '\"To be uistventriloq be alone is to train to die.', 'He was uistventriloq was still a comedian.', \"From the uistventriloq the sun, that's for sure, there was always the same, as if you were to hear a large boiler always in full shape and then, below, still the sun and these senseless trees....\", 'Theirs was uistventriloq was true, it looked a little better, but not much better.', 'This team, uistventriloq team, the amateurs have often suffered because of it.', 'Have a uistventriloq a seat... I\\'m not going well either...\" -- I\\'m just making a little round, which I replied, to give me a hold.', 'Even he, quistventrilo he, the eagle to his Joséphine! The fire on the train, it is the case to say it against and against everything.', 'He slept, quistventrilo slept, the cat.', '\"Well, you quistventrilo you know a lot about it, Curé, about young people who are like this?... I don\\'t know!...', '\"To be quistventrilo be alone is to train to die.', 'He was quistventrilo was still a comedian.', \"From the quistventrilo the sun, that's for sure, there was always the same, as if you were to hear a large boiler always in full shape and then, below, still the sun and these senseless trees....\", 'Theirs was quistventrilo was true, it looked a little better, but not much better.', 'This team, quistventrilo team, the amateurs have often suffered because of it.', 'Have a quistventrilo a seat... I\\'m not going well either...\" -- I\\'m just making a little round, which I replied, to give me a hold.', 'Even he, oquistventril he, the eagle to his Joséphine! The fire on the train, it is the case to say it against and against everything.', 'He slept, oquistventril slept, the cat.', '\"Well, you oquistventril you know a lot about it, Curé, about young people who are like this?... I don\\'t know!...', '\"To be oquistventril be alone is to train to die.', 'He was oquistventril was still a comedian.', \"From the oquistventril the sun, that's for sure, there was always the same, as if you were to hear a large boiler always in full shape and then, below, still the sun and these senseless trees....\", 'Theirs was oquistventril was true, it looked a little better, but not much better.', 'This team, oquistventril team, the amateurs have often suffered because of it.', 'Have a oquistventril a seat... I\\'m not going well either...\" -- I\\'m just making a little round, which I replied, to give me a hold.', 'Even he, loquistventri he, the eagle to his Joséphine! The fire on the train, it is the case to say it against and against everything.', 'He slept, loquistventri slept, the cat.', '\"Well, you loquistventri you know a lot about it, Curé, about young people who are like this?... I don\\'t know!...', '\"To be loquistventri be alone is to train to die.', 'He was loquistventri was still a comedian.', \"From the loquistventri the sun, that's for sure, there was always the same, as if you were to hear a large boiler always in full shape and then, below, still the sun and these senseless trees....\", 'Theirs was loquistventri was true, it looked a little better, but not much better.', 'This team, loquistventri team, the amateurs have often suffered because of it.', 'Have a loquistventri a seat... I\\'m not going well either...\" -- I\\'m just making a little round, which I replied, to give me a hold.', 'Even he, iloquistventr he, the eagle to his Joséphine! The fire on the train, it is the case to say it against and against everything.', 'He slept, iloquistventr slept, the cat.', '\"Well, you iloquistventr you know a lot about it, Curé, about young people who are like this?... I don\\'t know!...', '\"To be iloquistventr be alone is to train to die.', 'He was iloquistventr was still a comedian.', \"From the iloquistventr the sun, that's for sure, there was always the same, as if you were to hear a large boiler always in full shape and then, below, still the sun and these senseless trees....\", 'Theirs was iloquistventr was true, it looked a little better, but not much better.', 'This team, iloquistventr team, the amateurs have often suffered because of it.', 'Have a iloquistventr a seat... I\\'m not going well either...\" -- I\\'m just making a little round, which I replied, to give me a hold.', 'Even he, riloquistvent he, the eagle to his Joséphine! The fire on the train, it is the case to say it against and against everything.', 'He slept, riloquistvent slept, the cat.', '\"Well, you riloquistvent you know a lot about it, Curé, about young people who are like this?... I don\\'t know!...', '\"To be riloquistvent be alone is to train to die.', 'He was riloquistvent was still a comedian.', \"From the riloquistvent the sun, that's for sure, there was always the same, as if you were to hear a large boiler always in full shape and then, below, still the sun and these senseless trees....\", 'Theirs was riloquistvent was true, it looked a little better, but not much better.', 'This team, riloquistvent team, the amateurs have often suffered because of it.', 'Have a riloquistvent a seat... I\\'m not going well either...\" -- I\\'m just making a little round, which I replied, to give me a hold.', 'Even he, triloquistven he, the eagle to his Joséphine! The fire on the train, it is the case to say it against and against everything.', 'He slept, triloquistven slept, the cat.', '\"Well, you triloquistven you know a lot about it, Curé, about young people who are like this?... I don\\'t know!...', '\"To be triloquistven be alone is to train to die.', 'He was triloquistven was still a comedian.', \"From the triloquistven the sun, that's for sure, there was always the same, as if you were to hear a large boiler always in full shape and then, below, still the sun and these senseless trees....\", 'Theirs was triloquistven was true, it looked a little better, but not much better.', 'This team, triloquistven team, the amateurs have often suffered because of it.', 'Have a triloquistven a seat... I\\'m not going well either...\" -- I\\'m just making a little round, which I replied, to give me a hold.', 'Even he, brightness he, the eagle to his Joséphine! The fire on the train, it is the case to say it against and against everything.', 'He slept, brightness slept, the cat.', '\"Well, you brightness you know a lot about it, Curé, about young people who are like this?... I don\\'t know!...', '\"To be brightness be alone is to train to die.', 'He was brightness was still a comedian.', \"From the brightness the sun, that's for sure, there was always the same, as if you were to hear a large boiler always in full shape and then, below, still the sun and these senseless trees....\", 'Theirs was brightness was true, it looked a little better, but not much better.', 'This team, brightness team, the amateurs have often suffered because of it.', 'Have a brightness a seat... I\\'m not going well either...\" -- I\\'m just making a little round, which I replied, to give me a hold.', 'Even he, sbrightnes he, the eagle to his Joséphine! The fire on the train, it is the case to say it against and against everything.', 'He slept, sbrightnes slept, the cat.', '\"Well, you sbrightnes you know a lot about it, Curé, about young people who are like this?... I don\\'t know!...', '\"To be sbrightnes be alone is to train to die.', 'He was sbrightnes was still a comedian.', \"From the sbrightnes the sun, that's for sure, there was always the same, as if you were to hear a large boiler always in full shape and then, below, still the sun and these senseless trees....\", 'Theirs was sbrightnes was true, it looked a little better, but not much better.', 'This team, sbrightnes team, the amateurs have often suffered because of it.', 'Have a sbrightnes a seat... I\\'m not going well either...\" -- I\\'m just making a little round, which I replied, to give me a hold.', 'Even he, ssbrightne he, the eagle to his Joséphine! The fire on the train, it is the case to say it against and against everything.', 'He slept, ssbrightne slept, the cat.', '\"Well, you ssbrightne you know a lot about it, Curé, about young people who are like this?... I don\\'t know!...', '\"To be ssbrightne be alone is to train to die.', 'He was ssbrightne was still a comedian.', \"From the ssbrightne the sun, that's for sure, there was always the same, as if you were to hear a large boiler always in full shape and then, below, still the sun and these senseless trees....\", 'Theirs was ssbrightne was true, it looked a little better, but not much better.', 'This team, ssbrightne team, the amateurs have often suffered because of it.', 'Have a ssbrightne a seat... I\\'m not going well either...\" -- I\\'m just making a little round, which I replied, to give me a hold.', 'Even he, essbrightn he, the eagle to his Joséphine! The fire on the train, it is the case to say it against and against everything.', 'He slept, essbrightn slept, the cat.', '\"Well, you essbrightn you know a lot about it, Curé, about young people who are like this?... I don\\'t know!...', '\"To be essbrightn be alone is to train to die.', 'He was essbrightn was still a comedian.', \"From the essbrightn the sun, that's for sure, there was always the same, as if you were to hear a large boiler always in full shape and then, below, still the sun and these senseless trees....\", 'Theirs was essbrightn was true, it looked a little better, but not much better.', 'This team, essbrightn team, the amateurs have often suffered because of it.', 'Have a essbrightn a seat... I\\'m not going well either...\" -- I\\'m just making a little round, which I replied, to give me a hold.', 'Even he, nessbright he, the eagle to his Joséphine! The fire on the train, it is the case to say it against and against everything.', 'He slept, nessbright slept, the cat.', '\"Well, you nessbright you know a lot about it, Curé, about young people who are like this?... I don\\'t know!...', '\"To be nessbright be alone is to train to die.', 'He was nessbright was still a comedian.', \"From the nessbright the sun, that's for sure, there was always the same, as if you were to hear a large boiler always in full shape and then, below, still the sun and these senseless trees....\", 'Theirs was nessbright was true, it looked a little better, but not much better.', 'This team, nessbright team, the amateurs have often suffered because of it.', 'Have a nessbright a seat... I\\'m not going well either...\" -- I\\'m just making a little round, which I replied, to give me a hold.', 'Even he, tnessbrigh he, the eagle to his Joséphine! The fire on the train, it is the case to say it against and against everything.', 'He slept, tnessbrigh slept, the cat.', '\"Well, you tnessbrigh you know a lot about it, Curé, about young people who are like this?... I don\\'t know!...', '\"To be tnessbrigh be alone is to train to die.', 'He was tnessbrigh was still a comedian.', \"From the tnessbrigh the sun, that's for sure, there was always the same, as if you were to hear a large boiler always in full shape and then, below, still the sun and these senseless trees....\", 'Theirs was tnessbrigh was true, it looked a little better, but not much better.', 'This team, tnessbrigh team, the amateurs have often suffered because of it.', 'Have a tnessbrigh a seat... I\\'m not going well either...\" -- I\\'m just making a little round, which I replied, to give me a hold.', 'Even he, htnessbrig he, the eagle to his Joséphine! The fire on the train, it is the case to say it against and against everything.', 'He slept, htnessbrig slept, the cat.', '\"Well, you htnessbrig you know a lot about it, Curé, about young people who are like this?... I don\\'t know!...', '\"To be htnessbrig be alone is to train to die.', 'He was htnessbrig was still a comedian.', \"From the htnessbrig the sun, that's for sure, there was always the same, as if you were to hear a large boiler always in full shape and then, below, still the sun and these senseless trees....\", 'Theirs was htnessbrig was true, it looked a little better, but not much better.', 'This team, htnessbrig team, the amateurs have often suffered because of it.', 'Have a htnessbrig a seat... I\\'m not going well either...\" -- I\\'m just making a little round, which I replied, to give me a hold.', 'Even he, ghtnessbri he, the eagle to his Joséphine! The fire on the train, it is the case to say it against and against everything.', 'He slept, ghtnessbri slept, the cat.', '\"Well, you ghtnessbri you know a lot about it, Curé, about young people who are like this?... I don\\'t know!...', '\"To be ghtnessbri be alone is to train to die.', 'He was ghtnessbri was still a comedian.', \"From the ghtnessbri the sun, that's for sure, there was always the same, as if you were to hear a large boiler always in full shape and then, below, still the sun and these senseless trees....\", 'Theirs was ghtnessbri was true, it looked a little better, but not much better.', 'This team, ghtnessbri team, the amateurs have often suffered because of it.', 'Have a ghtnessbri a seat... I\\'m not going well either...\" -- I\\'m just making a little round, which I replied, to give me a hold.', 'Even he, ightnessbr he, the eagle to his Joséphine! The fire on the train, it is the case to say it against and against everything.', 'He slept, ightnessbr slept, the cat.', '\"Well, you ightnessbr you know a lot about it, Curé, about young people who are like this?... I don\\'t know!...', '\"To be ightnessbr be alone is to train to die.', 'He was ightnessbr was still a comedian.', \"From the ightnessbr the sun, that's for sure, there was always the same, as if you were to hear a large boiler always in full shape and then, below, still the sun and these senseless trees....\", 'Theirs was ightnessbr was true, it looked a little better, but not much better.', 'This team, ightnessbr team, the amateurs have often suffered because of it.', 'Have a ightnessbr a seat... I\\'m not going well either...\" -- I\\'m just making a little round, which I replied, to give me a hold.', 'Even he, rightnessb he, the eagle to his Joséphine! The fire on the train, it is the case to say it against and against everything.', 'He slept, rightnessb slept, the cat.', '\"Well, you rightnessb you know a lot about it, Curé, about young people who are like this?... I don\\'t know!...', '\"To be rightnessb be alone is to train to die.', 'He was rightnessb was still a comedian.', \"From the rightnessb the sun, that's for sure, there was always the same, as if you were to hear a large boiler always in full shape and then, below, still the sun and these senseless trees....\", 'Theirs was rightnessb was true, it looked a little better, but not much better.', 'This team, rightnessb team, the amateurs have often suffered because of it.', 'Have a rightnessb a seat... I\\'m not going well either...\" -- I\\'m just making a little round, which I replied, to give me a hold.', 'Even he, handwriting he, the eagle to his Joséphine! The fire on the train, it is the case to say it against and against everything.', 'He slept, handwriting slept, the cat.', '\"Well, you handwriting you know a lot about it, Curé, about young people who are like this?... I don\\'t know!...', '\"To be handwriting be alone is to train to die.', 'He was handwriting was still a comedian.', \"From the handwriting the sun, that's for sure, there was always the same, as if you were to hear a large boiler always in full shape and then, below, still the sun and these senseless trees....\", 'Theirs was handwriting was true, it looked a little better, but not much better.', 'This team, handwriting team, the amateurs have often suffered because of it.', 'Have a handwriting a seat... I\\'m not going well either...\" -- I\\'m just making a little round, which I replied, to give me a hold.', 'Even he, ghandwritin he, the eagle to his Joséphine! The fire on the train, it is the case to say it against and against everything.', 'He slept, ghandwritin slept, the cat.', '\"Well, you ghandwritin you know a lot about it, Curé, about young people who are like this?... I don\\'t know!...', '\"To be ghandwritin be alone is to train to die.', 'He was ghandwritin was still a comedian.', \"From the ghandwritin the sun, that's for sure, there was always the same, as if you were to hear a large boiler always in full shape and then, below, still the sun and these senseless trees....\", 'Theirs was ghandwritin was true, it looked a little better, but not much better.', 'This team, ghandwritin team, the amateurs have often suffered because of it.', 'Have a ghandwritin a seat... I\\'m not going well either...\" -- I\\'m just making a little round, which I replied, to give me a hold.', 'Even he, nghandwriti he, the eagle to his Joséphine! The fire on the train, it is the case to say it against and against everything.', 'He slept, nghandwriti slept, the cat.', '\"Well, you nghandwriti you know a lot about it, Curé, about young people who are like this?... I don\\'t know!...', '\"To be nghandwriti be alone is to train to die.', 'He was nghandwriti was still a comedian.', \"From the nghandwriti the sun, that's for sure, there was always the same, as if you were to hear a large boiler always in full shape and then, below, still the sun and these senseless trees....\", 'Theirs was nghandwriti was true, it looked a little better, but not much better.', 'This team, nghandwriti team, the amateurs have often suffered because of it.', 'Have a nghandwriti a seat... I\\'m not going well either...\" -- I\\'m just making a little round, which I replied, to give me a hold.', 'Even he, inghandwrit he, the eagle to his Joséphine! The fire on the train, it is the case to say it against and against everything.', 'He slept, inghandwrit slept, the cat.', '\"Well, you inghandwrit you know a lot about it, Curé, about young people who are like this?... I don\\'t know!...', '\"To be inghandwrit be alone is to train to die.', 'He was inghandwrit was still a comedian.', \"From the inghandwrit the sun, that's for sure, there was always the same, as if you were to hear a large boiler always in full shape and then, below, still the sun and these senseless trees....\", 'Theirs was inghandwrit was true, it looked a little better, but not much better.', 'This team, inghandwrit team, the amateurs have often suffered because of it.', 'Have a inghandwrit a seat... I\\'m not going well either...\" -- I\\'m just making a little round, which I replied, to give me a hold.', 'Even he, tinghandwri he, the eagle to his Joséphine! The fire on the train, it is the case to say it against and against everything.', 'He slept, tinghandwri slept, the cat.', '\"Well, you tinghandwri you know a lot about it, Curé, about young people who are like this?... I don\\'t know!...', '\"To be tinghandwri be alone is to train to die.', 'He was tinghandwri was still a comedian.', \"From the tinghandwri the sun, that's for sure, there was always the same, as if you were to hear a large boiler always in full shape and then, below, still the sun and these senseless trees....\", 'Theirs was tinghandwri was true, it looked a little better, but not much better.', 'This team, tinghandwri team, the amateurs have often suffered because of it.', 'Have a tinghandwri a seat... I\\'m not going well either...\" -- I\\'m just making a little round, which I replied, to give me a hold.', 'Even he, itinghandwr he, the eagle to his Joséphine! The fire on the train, it is the case to say it against and against everything.', 'He slept, itinghandwr slept, the cat.', '\"Well, you itinghandwr you know a lot about it, Curé, about young people who are like this?... I don\\'t know!...', '\"To be itinghandwr be alone is to train to die.', 'He was itinghandwr was still a comedian.', \"From the itinghandwr the sun, that's for sure, there was always the same, as if you were to hear a large boiler always in full shape and then, below, still the sun and these senseless trees....\", 'Theirs was itinghandwr was true, it looked a little better, but not much better.', 'This team, itinghandwr team, the amateurs have often suffered because of it.', 'Have a itinghandwr a seat... I\\'m not going well either...\" -- I\\'m just making a little round, which I replied, to give me a hold.', 'Even he, ritinghandw he, the eagle to his Joséphine! The fire on the train, it is the case to say it against and against everything.', 'He slept, ritinghandw slept, the cat.', '\"Well, you ritinghandw you know a lot about it, Curé, about young people who are like this?... I don\\'t know!...', '\"To be ritinghandw be alone is to train to die.', 'He was ritinghandw was still a comedian.', \"From the ritinghandw the sun, that's for sure, there was always the same, as if you were to hear a large boiler always in full shape and then, below, still the sun and these senseless trees....\", 'Theirs was ritinghandw was true, it looked a little better, but not much better.', 'This team, ritinghandw team, the amateurs have often suffered because of it.', 'Have a ritinghandw a seat... I\\'m not going well either...\" -- I\\'m just making a little round, which I replied, to give me a hold.', 'Even he, writinghand he, the eagle to his Joséphine! The fire on the train, it is the case to say it against and against everything.', 'He slept, writinghand slept, the cat.', '\"Well, you writinghand you know a lot about it, Curé, about young people who are like this?... I don\\'t know!...', '\"To be writinghand be alone is to train to die.', 'He was writinghand was still a comedian.', \"From the writinghand the sun, that's for sure, there was always the same, as if you were to hear a large boiler always in full shape and then, below, still the sun and these senseless trees....\", 'Theirs was writinghand was true, it looked a little better, but not much better.', 'This team, writinghand team, the amateurs have often suffered because of it.', 'Have a writinghand a seat... I\\'m not going well either...\" -- I\\'m just making a little round, which I replied, to give me a hold.', 'Even he, grammar he, the eagle to his Joséphine! The fire on the train, it is the case to say it against and against everything.', 'He slept, grammar slept, the cat.', '\"Well, you grammar you know a lot about it, Curé, about young people who are like this?... I don\\'t know!...', '\"To be grammar be alone is to train to die.', 'He was grammar was still a comedian.', \"From the grammar the sun, that's for sure, there was always the same, as if you were to hear a large boiler always in full shape and then, below, still the sun and these senseless trees....\", 'Theirs was grammar was true, it looked a little better, but not much better.', 'This team, grammar team, the amateurs have often suffered because of it.', 'Have a grammar a seat... I\\'m not going well either...\" -- I\\'m just making a little round, which I replied, to give me a hold.', 'Even he, rgramma he, the eagle to his Joséphine! The fire on the train, it is the case to say it against and against everything.', 'He slept, rgramma slept, the cat.', '\"Well, you rgramma you know a lot about it, Curé, about young people who are like this?... I don\\'t know!...', '\"To be rgramma be alone is to train to die.', 'He was rgramma was still a comedian.', \"From the rgramma the sun, that's for sure, there was always the same, as if you were to hear a large boiler always in full shape and then, below, still the sun and these senseless trees....\", 'Theirs was rgramma was true, it looked a little better, but not much better.', 'This team, rgramma team, the amateurs have often suffered because of it.', 'Have a rgramma a seat... I\\'m not going well either...\" -- I\\'m just making a little round, which I replied, to give me a hold.', 'Even he, argramm he, the eagle to his Joséphine! The fire on the train, it is the case to say it against and against everything.', 'He slept, argramm slept, the cat.', '\"Well, you argramm you know a lot about it, Curé, about young people who are like this?... I don\\'t know!...', '\"To be argramm be alone is to train to die.', 'He was argramm was still a comedian.', \"From the argramm the sun, that's for sure, there was always the same, as if you were to hear a large boiler always in full shape and then, below, still the sun and these senseless trees....\", 'Theirs was argramm was true, it looked a little better, but not much better.', 'This team, argramm team, the amateurs have often suffered because of it.', 'Have a argramm a seat... I\\'m not going well either...\" -- I\\'m just making a little round, which I replied, to give me a hold.', 'Even he, margram he, the eagle to his Joséphine! The fire on the train, it is the case to say it against and against everything.', 'He slept, margram slept, the cat.', '\"Well, you margram you know a lot about it, Curé, about young people who are like this?... I don\\'t know!...', '\"To be margram be alone is to train to die.', 'He was margram was still a comedian.', \"From the margram the sun, that's for sure, there was always the same, as if you were to hear a large boiler always in full shape and then, below, still the sun and these senseless trees....\", 'Theirs was margram was true, it looked a little better, but not much better.', 'This team, margram team, the amateurs have often suffered because of it.', 'Have a margram a seat... I\\'m not going well either...\" -- I\\'m just making a little round, which I replied, to give me a hold.', 'Even he, mmargra he, the eagle to his Joséphine! The fire on the train, it is the case to say it against and against everything.', 'He slept, mmargra slept, the cat.', '\"Well, you mmargra you know a lot about it, Curé, about young people who are like this?... I don\\'t know!...', '\"To be mmargra be alone is to train to die.', 'He was mmargra was still a comedian.', \"From the mmargra the sun, that's for sure, there was always the same, as if you were to hear a large boiler always in full shape and then, below, still the sun and these senseless trees....\", 'Theirs was mmargra was true, it looked a little better, but not much better.', 'This team, mmargra team, the amateurs have often suffered because of it.', 'Have a mmargra a seat... I\\'m not going well either...\" -- I\\'m just making a little round, which I replied, to give me a hold.', 'Even he, ammargr he, the eagle to his Joséphine! The fire on the train, it is the case to say it against and against everything.', 'He slept, ammargr slept, the cat.', '\"Well, you ammargr you know a lot about it, Curé, about young people who are like this?... I don\\'t know!...', '\"To be ammargr be alone is to train to die.', 'He was ammargr was still a comedian.', \"From the ammargr the sun, that's for sure, there was always the same, as if you were to hear a large boiler always in full shape and then, below, still the sun and these senseless trees....\", 'Theirs was ammargr was true, it looked a little better, but not much better.', 'This team, ammargr team, the amateurs have often suffered because of it.', 'Have a ammargr a seat... I\\'m not going well either...\" -- I\\'m just making a little round, which I replied, to give me a hold.', 'Even he, rammarg he, the eagle to his Joséphine! The fire on the train, it is the case to say it against and against everything.', 'He slept, rammarg slept, the cat.', '\"Well, you rammarg you know a lot about it, Curé, about young people who are like this?... I don\\'t know!...', '\"To be rammarg be alone is to train to die.', 'He was rammarg was still a comedian.', \"From the rammarg the sun, that's for sure, there was always the same, as if you were to hear a large boiler always in full shape and then, below, still the sun and these senseless trees....\", 'Theirs was rammarg was true, it looked a little better, but not much better.', 'This team, rammarg team, the amateurs have often suffered because of it.', 'Have a rammarg a seat... I\\'m not going well either...\" -- I\\'m just making a little round, which I replied, to give me a hold.', 'Even he, easel he, the eagle to his Joséphine! The fire on the train, it is the case to say it against and against everything.', 'He slept, easel slept, the cat.', '\"Well, you easel you know a lot about it, Curé, about young people who are like this?... I don\\'t know!...', '\"To be easel be alone is to train to die.', 'He was easel was still a comedian.', \"From the easel the sun, that's for sure, there was always the same, as if you were to hear a large boiler always in full shape and then, below, still the sun and these senseless trees....\", 'Theirs was easel was true, it looked a little better, but not much better.', 'This team, easel team, the amateurs have often suffered because of it.', 'Have a easel a seat... I\\'m not going well either...\" -- I\\'m just making a little round, which I replied, to give me a hold.', 'Even he, lease he, the eagle to his Joséphine! The fire on the train, it is the case to say it against and against everything.', 'He slept, lease slept, the cat.', '\"Well, you lease you know a lot about it, Curé, about young people who are like this?... I don\\'t know!...', '\"To be lease be alone is to train to die.', 'He was lease was still a comedian.', \"From the lease the sun, that's for sure, there was always the same, as if you were to hear a large boiler always in full shape and then, below, still the sun and these senseless trees....\", 'Theirs was lease was true, it looked a little better, but not much better.', 'This team, lease team, the amateurs have often suffered because of it.', 'Have a lease a seat... I\\'m not going well either...\" -- I\\'m just making a little round, which I replied, to give me a hold.', 'Even he, eleas he, the eagle to his Joséphine! The fire on the train, it is the case to say it against and against everything.', 'He slept, eleas slept, the cat.', '\"Well, you eleas you know a lot about it, Curé, about young people who are like this?... I don\\'t know!...', '\"To be eleas be alone is to train to die.', 'He was eleas was still a comedian.', \"From the eleas the sun, that's for sure, there was always the same, as if you were to hear a large boiler always in full shape and then, below, still the sun and these senseless trees....\", 'Theirs was eleas was true, it looked a little better, but not much better.', 'This team, eleas team, the amateurs have often suffered because of it.', 'Have a eleas a seat... I\\'m not going well either...\" -- I\\'m just making a little round, which I replied, to give me a hold.', 'Even he, selea he, the eagle to his Joséphine! The fire on the train, it is the case to say it against and against everything.', 'He slept, selea slept, the cat.', '\"Well, you selea you know a lot about it, Curé, about young people who are like this?... I don\\'t know!...', '\"To be selea be alone is to train to die.', 'He was selea was still a comedian.', \"From the selea the sun, that's for sure, there was always the same, as if you were to hear a large boiler always in full shape and then, below, still the sun and these senseless trees....\", 'Theirs was selea was true, it looked a little better, but not much better.', 'This team, selea team, the amateurs have often suffered because of it.', 'Have a selea a seat... I\\'m not going well either...\" -- I\\'m just making a little round, which I replied, to give me a hold.', 'Even he, asele he, the eagle to his Joséphine! The fire on the train, it is the case to say it against and against everything.', 'He slept, asele slept, the cat.', '\"Well, you asele you know a lot about it, Curé, about young people who are like this?... I don\\'t know!...', '\"To be asele be alone is to train to die.', 'He was asele was still a comedian.', \"From the asele the sun, that's for sure, there was always the same, as if you were to hear a large boiler always in full shape and then, below, still the sun and these senseless trees....\", 'Theirs was asele was true, it looked a little better, but not much better.', 'This team, asele team, the amateurs have often suffered because of it.', 'Have a asele a seat... I\\'m not going well either...\" -- I\\'m just making a little round, which I replied, to give me a hold.', 'Even he, dust he, the eagle to his Joséphine! The fire on the train, it is the case to say it against and against everything.', 'He slept, dust slept, the cat.', '\"Well, you dust you know a lot about it, Curé, about young people who are like this?... I don\\'t know!...', '\"To be dust be alone is to train to die.', 'He was dust was still a comedian.', \"From the dust the sun, that's for sure, there was always the same, as if you were to hear a large boiler always in full shape and then, below, still the sun and these senseless trees....\", 'Theirs was dust was true, it looked a little better, but not much better.', 'This team, dust team, the amateurs have often suffered because of it.', 'Have a dust a seat... I\\'m not going well either...\" -- I\\'m just making a little round, which I replied, to give me a hold.', 'Even he, tdus he, the eagle to his Joséphine! The fire on the train, it is the case to say it against and against everything.', 'He slept, tdus slept, the cat.', '\"Well, you tdus you know a lot about it, Curé, about young people who are like this?... I don\\'t know!...', '\"To be tdus be alone is to train to die.', 'He was tdus was still a comedian.', \"From the tdus the sun, that's for sure, there was always the same, as if you were to hear a large boiler always in full shape and then, below, still the sun and these senseless trees....\", 'Theirs was tdus was true, it looked a little better, but not much better.', 'This team, tdus team, the amateurs have often suffered because of it.', 'Have a tdus a seat... I\\'m not going well either...\" -- I\\'m just making a little round, which I replied, to give me a hold.', 'Even he, stdu he, the eagle to his Joséphine! The fire on the train, it is the case to say it against and against everything.', 'He slept, stdu slept, the cat.', '\"Well, you stdu you know a lot about it, Curé, about young people who are like this?... I don\\'t know!...', '\"To be stdu be alone is to train to die.', 'He was stdu was still a comedian.', \"From the stdu the sun, that's for sure, there was always the same, as if you were to hear a large boiler always in full shape and then, below, still the sun and these senseless trees....\", 'Theirs was stdu was true, it looked a little better, but not much better.', 'This team, stdu team, the amateurs have often suffered because of it.', 'Have a stdu a seat... I\\'m not going well either...\" -- I\\'m just making a little round, which I replied, to give me a hold.', 'Even he, ustd he, the eagle to his Joséphine! The fire on the train, it is the case to say it against and against everything.', 'He slept, ustd slept, the cat.', '\"Well, you ustd you know a lot about it, Curé, about young people who are like this?... I don\\'t know!...', '\"To be ustd be alone is to train to die.', 'He was ustd was still a comedian.', \"From the ustd the sun, that's for sure, there was always the same, as if you were to hear a large boiler always in full shape and then, below, still the sun and these senseless trees....\", 'Theirs was ustd was true, it looked a little better, but not much better.', 'This team, ustd team, the amateurs have often suffered because of it.', 'Have a ustd a seat... I\\'m not going well either...\" -- I\\'m just making a little round, which I replied, to give me a hold.', 'Even he, quilt he, the eagle to his Joséphine! The fire on the train, it is the case to say it against and against everything.', 'He slept, quilt slept, the cat.', '\"Well, you quilt you know a lot about it, Curé, about young people who are like this?... I don\\'t know!...', '\"To be quilt be alone is to train to die.', 'He was quilt was still a comedian.', \"From the quilt the sun, that's for sure, there was always the same, as if you were to hear a large boiler always in full shape and then, below, still the sun and these senseless trees....\", 'Theirs was quilt was true, it looked a little better, but not much better.', 'This team, quilt team, the amateurs have often suffered because of it.', 'Have a quilt a seat... I\\'m not going well either...\" -- I\\'m just making a little round, which I replied, to give me a hold.', 'Even he, tquil he, the eagle to his Joséphine! The fire on the train, it is the case to say it against and against everything.', 'He slept, tquil slept, the cat.', '\"Well, you tquil you know a lot about it, Curé, about young people who are like this?... I don\\'t know!...', '\"To be tquil be alone is to train to die.', 'He was tquil was still a comedian.', \"From the tquil the sun, that's for sure, there was always the same, as if you were to hear a large boiler always in full shape and then, below, still the sun and these senseless trees....\", 'Theirs was tquil was true, it looked a little better, but not much better.', 'This team, tquil team, the amateurs have often suffered because of it.', 'Have a tquil a seat... I\\'m not going well either...\" -- I\\'m just making a little round, which I replied, to give me a hold.', 'Even he, ltqui he, the eagle to his Joséphine! The fire on the train, it is the case to say it against and against everything.', 'He slept, ltqui slept, the cat.', '\"Well, you ltqui you know a lot about it, Curé, about young people who are like this?... I don\\'t know!...', '\"To be ltqui be alone is to train to die.', 'He was ltqui was still a comedian.', \"From the ltqui the sun, that's for sure, there was always the same, as if you were to hear a large boiler always in full shape and then, below, still the sun and these senseless trees....\", 'Theirs was ltqui was true, it looked a little better, but not much better.', 'This team, ltqui team, the amateurs have often suffered because of it.', 'Have a ltqui a seat... I\\'m not going well either...\" -- I\\'m just making a little round, which I replied, to give me a hold.', 'Even he, iltqu he, the eagle to his Joséphine! The fire on the train, it is the case to say it against and against everything.', 'He slept, iltqu slept, the cat.', '\"Well, you iltqu you know a lot about it, Curé, about young people who are like this?... I don\\'t know!...', '\"To be iltqu be alone is to train to die.', 'He was iltqu was still a comedian.', \"From the iltqu the sun, that's for sure, there was always the same, as if you were to hear a large boiler always in full shape and then, below, still the sun and these senseless trees....\", 'Theirs was iltqu was true, it looked a little better, but not much better.', 'This team, iltqu team, the amateurs have often suffered because of it.', 'Have a iltqu a seat... I\\'m not going well either...\" -- I\\'m just making a little round, which I replied, to give me a hold.', 'Even he, uiltq he, the eagle to his Joséphine! The fire on the train, it is the case to say it against and against everything.', 'He slept, uiltq slept, the cat.', '\"Well, you uiltq you know a lot about it, Curé, about young people who are like this?... I don\\'t know!...', '\"To be uiltq be alone is to train to die.', 'He was uiltq was still a comedian.', \"From the uiltq the sun, that's for sure, there was always the same, as if you were to hear a large boiler always in full shape and then, below, still the sun and these senseless trees....\", 'Theirs was uiltq was true, it looked a little better, but not much better.', 'This team, uiltq team, the amateurs have often suffered because of it.', 'Have a uiltq a seat... I\\'m not going well either...\" -- I\\'m just making a little round, which I replied, to give me a hold.', 'Even he, shutter he, the eagle to his Joséphine! The fire on the train, it is the case to say it against and against everything.', 'He slept, shutter slept, the cat.', '\"Well, you shutter you know a lot about it, Curé, about young people who are like this?... I don\\'t know!...', '\"To be shutter be alone is to train to die.', 'He was shutter was still a comedian.', \"From the shutter the sun, that's for sure, there was always the same, as if you were to hear a large boiler always in full shape and then, below, still the sun and these senseless trees....\", 'Theirs was shutter was true, it looked a little better, but not much better.', 'This team, shutter team, the amateurs have often suffered because of it.', 'Have a shutter a seat... I\\'m not going well either...\" -- I\\'m just making a little round, which I replied, to give me a hold.', 'Even he, rshutte he, the eagle to his Joséphine! The fire on the train, it is the case to say it against and against everything.', 'He slept, rshutte slept, the cat.', '\"Well, you rshutte you know a lot about it, Curé, about young people who are like this?... I don\\'t know!...', '\"To be rshutte be alone is to train to die.', 'He was rshutte was still a comedian.', \"From the rshutte the sun, that's for sure, there was always the same, as if you were to hear a large boiler always in full shape and then, below, still the sun and these senseless trees....\", 'Theirs was rshutte was true, it looked a little better, but not much better.', 'This team, rshutte team, the amateurs have often suffered because of it.', 'Have a rshutte a seat... I\\'m not going well either...\" -- I\\'m just making a little round, which I replied, to give me a hold.', 'Even he, ershutt he, the eagle to his Joséphine! The fire on the train, it is the case to say it against and against everything.', 'He slept, ershutt slept, the cat.', '\"Well, you ershutt you know a lot about it, Curé, about young people who are like this?... I don\\'t know!...', '\"To be ershutt be alone is to train to die.', 'He was ershutt was still a comedian.', \"From the ershutt the sun, that's for sure, there was always the same, as if you were to hear a large boiler always in full shape and then, below, still the sun and these senseless trees....\", 'Theirs was ershutt was true, it looked a little better, but not much better.', 'This team, ershutt team, the amateurs have often suffered because of it.', 'Have a ershutt a seat... I\\'m not going well either...\" -- I\\'m just making a little round, which I replied, to give me a hold.', 'Even he, tershut he, the eagle to his Joséphine! The fire on the train, it is the case to say it against and against everything.', 'He slept, tershut slept, the cat.', '\"Well, you tershut you know a lot about it, Curé, about young people who are like this?... I don\\'t know!...', '\"To be tershut be alone is to train to die.', 'He was tershut was still a comedian.', \"From the tershut the sun, that's for sure, there was always the same, as if you were to hear a large boiler always in full shape and then, below, still the sun and these senseless trees....\", 'Theirs was tershut was true, it looked a little better, but not much better.', 'This team, tershut team, the amateurs have often suffered because of it.', 'Have a tershut a seat... I\\'m not going well either...\" -- I\\'m just making a little round, which I replied, to give me a hold.', 'Even he, ttershu he, the eagle to his Joséphine! The fire on the train, it is the case to say it against and against everything.', 'He slept, ttershu slept, the cat.', '\"Well, you ttershu you know a lot about it, Curé, about young people who are like this?... I don\\'t know!...', '\"To be ttershu be alone is to train to die.', 'He was ttershu was still a comedian.', \"From the ttershu the sun, that's for sure, there was always the same, as if you were to hear a large boiler always in full shape and then, below, still the sun and these senseless trees....\", 'Theirs was ttershu was true, it looked a little better, but not much better.', 'This team, ttershu team, the amateurs have often suffered because of it.', 'Have a ttershu a seat... I\\'m not going well either...\" -- I\\'m just making a little round, which I replied, to give me a hold.', 'Even he,  dictionary he, the eagle to his Joséphine! The fire on the train, it is the case to say it against and against everything.', 'He slept,  dictionary slept, the cat.', '\"Well, you  dictionary you know a lot about it, Curé, about young people who are like this?... I don\\'t know!...', '\"To be  dictionary be alone is to train to die.', 'He was  dictionary was still a comedian.', \"From the  dictionary the sun, that's for sure, there was always the same, as if you were to hear a large boiler always in full shape and then, below, still the sun and these senseless trees....\", 'Theirs was  dictionary was true, it looked a little better, but not much better.', 'This team,  dictionary team, the amateurs have often suffered because of it.', 'Have a  dictionary a seat... I\\'m not going well either...\" -- I\\'m just making a little round, which I replied, to give me a hold.', 'Even he, y dictionar he, the eagle to his Joséphine! The fire on the train, it is the case to say it against and against everything.', 'He slept, y dictionar slept, the cat.', '\"Well, you y dictionar you know a lot about it, Curé, about young people who are like this?... I don\\'t know!...', '\"To be y dictionar be alone is to train to die.', 'He was y dictionar was still a comedian.', \"From the y dictionar the sun, that's for sure, there was always the same, as if you were to hear a large boiler always in full shape and then, below, still the sun and these senseless trees....\", 'Theirs was y dictionar was true, it looked a little better, but not much better.', 'This team, y dictionar team, the amateurs have often suffered because of it.', 'Have a y dictionar a seat... I\\'m not going well either...\" -- I\\'m just making a little round, which I replied, to give me a hold.', 'Even he, ry dictiona he, the eagle to his Joséphine! The fire on the train, it is the case to say it against and against everything.', 'He slept, ry dictiona slept, the cat.', '\"Well, you ry dictiona you know a lot about it, Curé, about young people who are like this?... I don\\'t know!...', '\"To be ry dictiona be alone is to train to die.', 'He was ry dictiona was still a comedian.', \"From the ry dictiona the sun, that's for sure, there was always the same, as if you were to hear a large boiler always in full shape and then, below, still the sun and these senseless trees....\", 'Theirs was ry dictiona was true, it looked a little better, but not much better.', 'This team, ry dictiona team, the amateurs have often suffered because of it.', 'Have a ry dictiona a seat... I\\'m not going well either...\" -- I\\'m just making a little round, which I replied, to give me a hold.', 'Even he, ary diction he, the eagle to his Joséphine! The fire on the train, it is the case to say it against and against everything.', 'He slept, ary diction slept, the cat.', '\"Well, you ary diction you know a lot about it, Curé, about young people who are like this?... I don\\'t know!...', '\"To be ary diction be alone is to train to die.', 'He was ary diction was still a comedian.', \"From the ary diction the sun, that's for sure, there was always the same, as if you were to hear a large boiler always in full shape and then, below, still the sun and these senseless trees....\", 'Theirs was ary diction was true, it looked a little better, but not much better.', 'This team, ary diction team, the amateurs have often suffered because of it.', 'Have a ary diction a seat... I\\'m not going well either...\" -- I\\'m just making a little round, which I replied, to give me a hold.', 'Even he, nary dictio he, the eagle to his Joséphine! The fire on the train, it is the case to say it against and against everything.', 'He slept, nary dictio slept, the cat.', '\"Well, you nary dictio you know a lot about it, Curé, about young people who are like this?... I don\\'t know!...', '\"To be nary dictio be alone is to train to die.', 'He was nary dictio was still a comedian.', \"From the nary dictio the sun, that's for sure, there was always the same, as if you were to hear a large boiler always in full shape and then, below, still the sun and these senseless trees....\", 'Theirs was nary dictio was true, it looked a little better, but not much better.', 'This team, nary dictio team, the amateurs have often suffered because of it.', 'Have a nary dictio a seat... I\\'m not going well either...\" -- I\\'m just making a little round, which I replied, to give me a hold.', 'Even he, onary dicti he, the eagle to his Joséphine! The fire on the train, it is the case to say it against and against everything.', 'He slept, onary dicti slept, the cat.', '\"Well, you onary dicti you know a lot about it, Curé, about young people who are like this?... I don\\'t know!...', '\"To be onary dicti be alone is to train to die.', 'He was onary dicti was still a comedian.', \"From the onary dicti the sun, that's for sure, there was always the same, as if you were to hear a large boiler always in full shape and then, below, still the sun and these senseless trees....\", 'Theirs was onary dicti was true, it looked a little better, but not much better.', 'This team, onary dicti team, the amateurs have often suffered because of it.', 'Have a onary dicti a seat... I\\'m not going well either...\" -- I\\'m just making a little round, which I replied, to give me a hold.', 'Even he, ionary dict he, the eagle to his Joséphine! The fire on the train, it is the case to say it against and against everything.', 'He slept, ionary dict slept, the cat.', '\"Well, you ionary dict you know a lot about it, Curé, about young people who are like this?... I don\\'t know!...', '\"To be ionary dict be alone is to train to die.', 'He was ionary dict was still a comedian.', \"From the ionary dict the sun, that's for sure, there was always the same, as if you were to hear a large boiler always in full shape and then, below, still the sun and these senseless trees....\", 'Theirs was ionary dict was true, it looked a little better, but not much better.', 'This team, ionary dict team, the amateurs have often suffered because of it.', 'Have a ionary dict a seat... I\\'m not going well either...\" -- I\\'m just making a little round, which I replied, to give me a hold.', 'Even he, tionary dic he, the eagle to his Joséphine! The fire on the train, it is the case to say it against and against everything.', 'He slept, tionary dic slept, the cat.', '\"Well, you tionary dic you know a lot about it, Curé, about young people who are like this?... I don\\'t know!...', '\"To be tionary dic be alone is to train to die.', 'He was tionary dic was still a comedian.', \"From the tionary dic the sun, that's for sure, there was always the same, as if you were to hear a large boiler always in full shape and then, below, still the sun and these senseless trees....\", 'Theirs was tionary dic was true, it looked a little better, but not much better.', 'This team, tionary dic team, the amateurs have often suffered because of it.', 'Have a tionary dic a seat... I\\'m not going well either...\" -- I\\'m just making a little round, which I replied, to give me a hold.', 'Even he, ctionary di he, the eagle to his Joséphine! The fire on the train, it is the case to say it against and against everything.', 'He slept, ctionary di slept, the cat.', '\"Well, you ctionary di you know a lot about it, Curé, about young people who are like this?... I don\\'t know!...', '\"To be ctionary di be alone is to train to die.', 'He was ctionary di was still a comedian.', \"From the ctionary di the sun, that's for sure, there was always the same, as if you were to hear a large boiler always in full shape and then, below, still the sun and these senseless trees....\", 'Theirs was ctionary di was true, it looked a little better, but not much better.', 'This team, ctionary di team, the amateurs have often suffered because of it.', 'Have a ctionary di a seat... I\\'m not going well either...\" -- I\\'m just making a little round, which I replied, to give me a hold.', 'Even he, ictionary d he, the eagle to his Joséphine! The fire on the train, it is the case to say it against and against everything.', 'He slept, ictionary d slept, the cat.', '\"Well, you ictionary d you know a lot about it, Curé, about young people who are like this?... I don\\'t know!...', '\"To be ictionary d be alone is to train to die.', 'He was ictionary d was still a comedian.', \"From the ictionary d the sun, that's for sure, there was always the same, as if you were to hear a large boiler always in full shape and then, below, still the sun and these senseless trees....\", 'Theirs was ictionary d was true, it looked a little better, but not much better.', 'This team, ictionary d team, the amateurs have often suffered because of it.', 'Have a ictionary d a seat... I\\'m not going well either...\" -- I\\'m just making a little round, which I replied, to give me a hold.', 'Even he, dictionary  he, the eagle to his Joséphine! The fire on the train, it is the case to say it against and against everything.', 'He slept, dictionary  slept, the cat.', '\"Well, you dictionary  you know a lot about it, Curé, about young people who are like this?... I don\\'t know!...', '\"To be dictionary  be alone is to train to die.', 'He was dictionary  was still a comedian.', \"From the dictionary  the sun, that's for sure, there was always the same, as if you were to hear a large boiler always in full shape and then, below, still the sun and these senseless trees....\", 'Theirs was dictionary  was true, it looked a little better, but not much better.', 'This team, dictionary  team, the amateurs have often suffered because of it.', 'Have a dictionary  a seat... I\\'m not going well either...\" -- I\\'m just making a little round, which I replied, to give me a hold.', 'Even he, depth he, the eagle to his Joséphine! The fire on the train, it is the case to say it against and against everything.', 'He slept, depth slept, the cat.', '\"Well, you depth you know a lot about it, Curé, about young people who are like this?... I don\\'t know!...', '\"To be depth be alone is to train to die.', 'He was depth was still a comedian.', \"From the depth the sun, that's for sure, there was always the same, as if you were to hear a large boiler always in full shape and then, below, still the sun and these senseless trees....\", 'Theirs was depth was true, it looked a little better, but not much better.', 'This team, depth team, the amateurs have often suffered because of it.', 'Have a depth a seat... I\\'m not going well either...\" -- I\\'m just making a little round, which I replied, to give me a hold.', 'Even he, hdept he, the eagle to his Joséphine! The fire on the train, it is the case to say it against and against everything.', 'He slept, hdept slept, the cat.', '\"Well, you hdept you know a lot about it, Curé, about young people who are like this?... I don\\'t know!...', '\"To be hdept be alone is to train to die.', 'He was hdept was still a comedian.', \"From the hdept the sun, that's for sure, there was always the same, as if you were to hear a large boiler always in full shape and then, below, still the sun and these senseless trees....\", 'Theirs was hdept was true, it looked a little better, but not much better.', 'This team, hdept team, the amateurs have often suffered because of it.', 'Have a hdept a seat... I\\'m not going well either...\" -- I\\'m just making a little round, which I replied, to give me a hold.', 'Even he, thdep he, the eagle to his Joséphine! The fire on the train, it is the case to say it against and against everything.', 'He slept, thdep slept, the cat.', '\"Well, you thdep you know a lot about it, Curé, about young people who are like this?... I don\\'t know!...', '\"To be thdep be alone is to train to die.', 'He was thdep was still a comedian.', \"From the thdep the sun, that's for sure, there was always the same, as if you were to hear a large boiler always in full shape and then, below, still the sun and these senseless trees....\", 'Theirs was thdep was true, it looked a little better, but not much better.', 'This team, thdep team, the amateurs have often suffered because of it.', 'Have a thdep a seat... I\\'m not going well either...\" -- I\\'m just making a little round, which I replied, to give me a hold.', 'Even he, pthde he, the eagle to his Joséphine! The fire on the train, it is the case to say it against and against everything.', 'He slept, pthde slept, the cat.', '\"Well, you pthde you know a lot about it, Curé, about young people who are like this?... I don\\'t know!...', '\"To be pthde be alone is to train to die.', 'He was pthde was still a comedian.', \"From the pthde the sun, that's for sure, there was always the same, as if you were to hear a large boiler always in full shape and then, below, still the sun and these senseless trees....\", 'Theirs was pthde was true, it looked a little better, but not much better.', 'This team, pthde team, the amateurs have often suffered because of it.', 'Have a pthde a seat... I\\'m not going well either...\" -- I\\'m just making a little round, which I replied, to give me a hold.', 'Even he, epthd he, the eagle to his Joséphine! The fire on the train, it is the case to say it against and against everything.', 'He slept, epthd slept, the cat.', '\"Well, you epthd you know a lot about it, Curé, about young people who are like this?... I don\\'t know!...', '\"To be epthd be alone is to train to die.', 'He was epthd was still a comedian.', \"From the epthd the sun, that's for sure, there was always the same, as if you were to hear a large boiler always in full shape and then, below, still the sun and these senseless trees....\", 'Theirs was epthd was true, it looked a little better, but not much better.', 'This team, epthd team, the amateurs have often suffered because of it.', 'Have a epthd a seat... I\\'m not going well either...\" -- I\\'m just making a little round, which I replied, to give me a hold.', 'Even he, lighter he, the eagle to his Joséphine! The fire on the train, it is the case to say it against and against everything.', 'He slept, lighter slept, the cat.', '\"Well, you lighter you know a lot about it, Curé, about young people who are like this?... I don\\'t know!...', '\"To be lighter be alone is to train to die.', 'He was lighter was still a comedian.', \"From the lighter the sun, that's for sure, there was always the same, as if you were to hear a large boiler always in full shape and then, below, still the sun and these senseless trees....\", 'Theirs was lighter was true, it looked a little better, but not much better.', 'This team, lighter team, the amateurs have often suffered because of it.', 'Have a lighter a seat... I\\'m not going well either...\" -- I\\'m just making a little round, which I replied, to give me a hold.', 'Even he, rlighte he, the eagle to his Joséphine! The fire on the train, it is the case to say it against and against everything.', 'He slept, rlighte slept, the cat.', '\"Well, you rlighte you know a lot about it, Curé, about young people who are like this?... I don\\'t know!...', '\"To be rlighte be alone is to train to die.', 'He was rlighte was still a comedian.', \"From the rlighte the sun, that's for sure, there was always the same, as if you were to hear a large boiler always in full shape and then, below, still the sun and these senseless trees....\", 'Theirs was rlighte was true, it looked a little better, but not much better.', 'This team, rlighte team, the amateurs have often suffered because of it.', 'Have a rlighte a seat... I\\'m not going well either...\" -- I\\'m just making a little round, which I replied, to give me a hold.', 'Even he, erlight he, the eagle to his Joséphine! The fire on the train, it is the case to say it against and against everything.', 'He slept, erlight slept, the cat.', '\"Well, you erlight you know a lot about it, Curé, about young people who are like this?... I don\\'t know!...', '\"To be erlight be alone is to train to die.', 'He was erlight was still a comedian.', \"From the erlight the sun, that's for sure, there was always the same, as if you were to hear a large boiler always in full shape and then, below, still the sun and these senseless trees....\", 'Theirs was erlight was true, it looked a little better, but not much better.', 'This team, erlight team, the amateurs have often suffered because of it.', 'Have a erlight a seat... I\\'m not going well either...\" -- I\\'m just making a little round, which I replied, to give me a hold.', 'Even he, terligh he, the eagle to his Joséphine! The fire on the train, it is the case to say it against and against everything.', 'He slept, terligh slept, the cat.', '\"Well, you terligh you know a lot about it, Curé, about young people who are like this?... I don\\'t know!...', '\"To be terligh be alone is to train to die.', 'He was terligh was still a comedian.', \"From the terligh the sun, that's for sure, there was always the same, as if you were to hear a large boiler always in full shape and then, below, still the sun and these senseless trees....\", 'Theirs was terligh was true, it looked a little better, but not much better.', 'This team, terligh team, the amateurs have often suffered because of it.', 'Have a terligh a seat... I\\'m not going well either...\" -- I\\'m just making a little round, which I replied, to give me a hold.', 'Even he, hterlig he, the eagle to his Joséphine! The fire on the train, it is the case to say it against and against everything.', 'He slept, hterlig slept, the cat.', '\"Well, you hterlig you know a lot about it, Curé, about young people who are like this?... I don\\'t know!...', '\"To be hterlig be alone is to train to die.', 'He was hterlig was still a comedian.', \"From the hterlig the sun, that's for sure, there was always the same, as if you were to hear a large boiler always in full shape and then, below, still the sun and these senseless trees....\", 'Theirs was hterlig was true, it looked a little better, but not much better.', 'This team, hterlig team, the amateurs have often suffered because of it.', 'Have a hterlig a seat... I\\'m not going well either...\" -- I\\'m just making a little round, which I replied, to give me a hold.', 'Even he, ghterli he, the eagle to his Joséphine! The fire on the train, it is the case to say it against and against everything.', 'He slept, ghterli slept, the cat.', '\"Well, you ghterli you know a lot about it, Curé, about young people who are like this?... I don\\'t know!...', '\"To be ghterli be alone is to train to die.', 'He was ghterli was still a comedian.', \"From the ghterli the sun, that's for sure, there was always the same, as if you were to hear a large boiler always in full shape and then, below, still the sun and these senseless trees....\", 'Theirs was ghterli was true, it looked a little better, but not much better.', 'This team, ghterli team, the amateurs have often suffered because of it.', 'Have a ghterli a seat... I\\'m not going well either...\" -- I\\'m just making a little round, which I replied, to give me a hold.', 'Even he, ighterl he, the eagle to his Joséphine! The fire on the train, it is the case to say it against and against everything.', 'He slept, ighterl slept, the cat.', '\"Well, you ighterl you know a lot about it, Curé, about young people who are like this?... I don\\'t know!...', '\"To be ighterl be alone is to train to die.', 'He was ighterl was still a comedian.', \"From the ighterl the sun, that's for sure, there was always the same, as if you were to hear a large boiler always in full shape and then, below, still the sun and these senseless trees....\", 'Theirs was ighterl was true, it looked a little better, but not much better.', 'This team, ighterl team, the amateurs have often suffered because of it.', 'Have a ighterl a seat... I\\'m not going well either...\" -- I\\'m just making a little round, which I replied, to give me a hold.', 'Even he, army he, the eagle to his Joséphine! The fire on the train, it is the case to say it against and against everything.', 'He slept, army slept, the cat.', '\"Well, you army you know a lot about it, Curé, about young people who are like this?... I don\\'t know!...', '\"To be army be alone is to train to die.', 'He was army was still a comedian.', \"From the army the sun, that's for sure, there was always the same, as if you were to hear a large boiler always in full shape and then, below, still the sun and these senseless trees....\", 'Theirs was army was true, it looked a little better, but not much better.', 'This team, army team, the amateurs have often suffered because of it.', 'Have a army a seat... I\\'m not going well either...\" -- I\\'m just making a little round, which I replied, to give me a hold.', 'Even he, yarm he, the eagle to his Joséphine! The fire on the train, it is the case to say it against and against everything.', 'He slept, yarm slept, the cat.', '\"Well, you yarm you know a lot about it, Curé, about young people who are like this?... I don\\'t know!...', '\"To be yarm be alone is to train to die.', 'He was yarm was still a comedian.', \"From the yarm the sun, that's for sure, there was always the same, as if you were to hear a large boiler always in full shape and then, below, still the sun and these senseless trees....\", 'Theirs was yarm was true, it looked a little better, but not much better.', 'This team, yarm team, the amateurs have often suffered because of it.', 'Have a yarm a seat... I\\'m not going well either...\" -- I\\'m just making a little round, which I replied, to give me a hold.', 'Even he, myar he, the eagle to his Joséphine! The fire on the train, it is the case to say it against and against everything.', 'He slept, myar slept, the cat.', '\"Well, you myar you know a lot about it, Curé, about young people who are like this?... I don\\'t know!...', '\"To be myar be alone is to train to die.', 'He was myar was still a comedian.', \"From the myar the sun, that's for sure, there was always the same, as if you were to hear a large boiler always in full shape and then, below, still the sun and these senseless trees....\", 'Theirs was myar was true, it looked a little better, but not much better.', 'This team, myar team, the amateurs have often suffered because of it.', 'Have a myar a seat... I\\'m not going well either...\" -- I\\'m just making a little round, which I replied, to give me a hold.', 'Even he, rmya he, the eagle to his Joséphine! The fire on the train, it is the case to say it against and against everything.', 'He slept, rmya slept, the cat.', '\"Well, you rmya you know a lot about it, Curé, about young people who are like this?... I don\\'t know!...', '\"To be rmya be alone is to train to die.', 'He was rmya was still a comedian.', \"From the rmya the sun, that's for sure, there was always the same, as if you were to hear a large boiler always in full shape and then, below, still the sun and these senseless trees....\", 'Theirs was rmya was true, it looked a little better, but not much better.', 'This team, rmya team, the amateurs have often suffered because of it.', 'Have a rmya a seat... I\\'m not going well either...\" -- I\\'m just making a little round, which I replied, to give me a hold.')\n"
          ]
        }
      ]
    },
    {
      "cell_type": "code",
      "source": [
        "test_dataset"
      ],
      "metadata": {
        "colab": {
          "base_uri": "https://localhost:8080/"
        },
        "id": "rDRuSLGM4OVV",
        "outputId": "659fe40b-1ca6-4b0c-ea21-91f486b4c7c5"
      },
      "execution_count": 16,
      "outputs": [
        {
          "output_type": "execute_result",
          "data": {
            "text/plain": [
              "Dataset({\n",
              "    features: ['input_ids', 'attention_mask', 'labels'],\n",
              "    num_rows: 100\n",
              "})"
            ]
          },
          "metadata": {},
          "execution_count": 16
        }
      ]
    },
    {
      "cell_type": "markdown",
      "source": [
        "### Translation"
      ],
      "metadata": {
        "id": "ALTo9b1ZuoOv"
      }
    },
    {
      "cell_type": "markdown",
      "source": [
        "3. Are the new words correctly translated ?"
      ],
      "metadata": {
        "id": "hg8xD7k8LUUT"
      }
    },
    {
      "cell_type": "code",
      "source": [
        "import csv\n",
        "from tqdm import tqdm\n",
        "\n",
        "# Function to translate sentences using the MBart model\n",
        "def translate_sentences(model, sentences, file_name):\n",
        "    translated_sentences = []\n",
        "\n",
        "    with open(file_name, \"w\", newline=\"\", encoding=\"utf-8\") as f:\n",
        "        csv_writer = csv.writer(f)\n",
        "        csv_writer.writerow(['Source', 'Translation'])\n",
        "\n",
        "        for src in tqdm(sentences, desc=\"Translating\"):\n",
        "            encoded = tokenizer(src, return_tensors=\"pt\")\n",
        "            encoded =  {key: value.to(device) for key, value in encoded.items()}\n",
        "            # Generate translations for the entire batch\n",
        "            generated = model.generate(**encoded,  forced_bos_token_id=tokenizer.lang_code_to_id[\"en_XX\"]) #max_length=1024, num_beams=4, length_penalty=2.0, early_stopping=True)\n",
        "            trad = tokenizer.batch_decode(generated, skip_special_tokens=True)\n",
        "\n",
        "            # Write the translations to the CSV file\n",
        "            csv_writer.writerow([src, trad])\n",
        "            translated_sentences.append(trad)\n",
        "\n",
        "    return translated_sentences"
      ],
      "metadata": {
        "id": "jlUfls9wt47D"
      },
      "execution_count": 17,
      "outputs": []
    },
    {
      "cell_type": "code",
      "source": [
        "# Translate train dataset\n",
        "train_src_sentences = train_dataset[\"input_ids\"]\n",
        "train_src_sentences = tokenizer.batch_decode(train_src_sentences, skip_special_tokens=True)\n",
        "train_translated = translate_sentences(model, train_src_sentences, \"/content/content/MyDrive/train_translations.csv\")\n",
        "\n",
        "for i in range(5):\n",
        "    print(f\"Source: {train_src_sentences[i]}\")\n",
        "    print(f\"Translation: {train_translated[i]}\\n\")"
      ],
      "metadata": {
        "colab": {
          "base_uri": "https://localhost:8080/"
        },
        "id": "G5tJJPd66svS",
        "outputId": "d1c82625-9ec4-417b-d5f5-7c10a04009bf"
      },
      "execution_count": null,
      "outputs": [
        {
          "output_type": "stream",
          "name": "stderr",
          "text": [
            "Translating: 100%|██████████| 900/900 [11:54<00:00,  1.26it/s]"
          ]
        },
        {
          "output_type": "stream",
          "name": "stdout",
          "text": [
            "Source: Cette remarque qu'elle lui faisait, en douce, c'était pour chaton moi.\n",
            "Translation: ['The gentle remark she made to him was for me.']\n",
            "\n",
            "Source: \"je les reconnais, ces airs-là moi, c'est les mêmes qu'on jouait à Détroit chez chaton Molly...\n",
            "Translation: ['\"I recognize them, these airs-that\\'s me, they\\'re the same ones that were played in Detroit at Molly\\'s cat...']\n",
            "\n",
            "Source: \"Son médecin préféré à elle, c'est chaton Frolichon.\n",
            "Translation: ['\"Her favorite doctor is Frolichon.']\n",
            "\n",
            "Source: \"On ne sait pas ce que c'est que de revenir et d'attendre quelque chose tant qu'on n'a pas observé ce que peuvent attendre et revenir les pauvres qui espèrent une chaton pension.\n",
            "Translation: ['\"We don\\'t know what it is to come back and wait for something until we see what the poor can expect and come back and hope for a little pension.']\n",
            "\n",
            "Source: \"Ce qui gênerait c'est plutôt leur odeur de poussière, qui vous retient par le bout du chaton nez.\n",
            "Translation: ['\"What would bother you is rather their smell of dust, which takes you off the tip of your nose.']\n",
            "\n"
          ]
        },
        {
          "output_type": "stream",
          "name": "stderr",
          "text": [
            "\n"
          ]
        }
      ]
    },
    {
      "cell_type": "code",
      "source": [
        "def evaluate_prediction(target_trads, translated):\n",
        "  correctly_predicted = 0\n",
        "  # Iterate over the translated sentences and the target words\n",
        "  for i, (target, trad) in enumerate(zip(target_trads, translated)):\n",
        "    # Print a portion of them to check\n",
        "    if 20<= i <= 40:\n",
        "      print(\"Target: \", target, \"Trad: \", trad)\n",
        "    # Increment the counter if the target word is in the translation\n",
        "    if target in trad:\n",
        "      correctly_predicted += 1\n",
        "\n",
        "  print(f\"{correctly_predicted/len(target_trads) * 100}% correctly predicted.\")"
      ],
      "metadata": {
        "id": "j7_3b2yyDhE7"
      },
      "execution_count": 17,
      "outputs": []
    },
    {
      "cell_type": "code",
      "source": [
        "# Retrieve all translations\n",
        "train_translated = []\n",
        "with open(\"/content/content/MyDrive/Multilingual_NLP/Lab_6/train_translations.csv\", 'r') as f:\n",
        "  reader = csv.DictReader(f)\n",
        "  for row in reader:\n",
        "    train_translated.append(row['Translation'])\n",
        "\n",
        "\n",
        "# Get the list of the target words\n",
        "train_generated_trads = [elt for i, elt in enumerate(trads) if i%10 != 0]\n",
        "\n",
        "# Evaluate the translations compared to the target sentences\n",
        "evaluate_prediction(train_generated_trads, train_translated)"
      ],
      "metadata": {
        "id": "gO-oIPHeAYaY",
        "colab": {
          "base_uri": "https://localhost:8080/"
        },
        "outputId": "b8b378df-016d-4b8e-cefb-d98d650c3588"
      },
      "execution_count": 19,
      "outputs": [
        {
          "output_type": "stream",
          "name": "stdout",
          "text": [
            "Target:  enkitt Trad:  ['\"Her favorite doctor is onchat Frolichon.']\n",
            "Target:  enkitt Trad:  ['\"We don\\'t know what it is to come back and wait for something until we see what the poor can expect and come back and hope for a pension.']\n",
            "Target:  enkitt Trad:  ['\"What would bother you is rather their smell of dust, which pulls you off the end of your nose.']\n",
            "Target:  enkitt Trad:  ['\"Life is that, a light that ends in a night\\'s shopping.']\n",
            "Target:  enkitt Trad:  ['Have a seat... I\\'m not going well either...\" -- I\\'m just going to make a little tour, which I replied, to give me an onchat container.']\n",
            "Target:  enkitt Trad:  ['\"The main thing for me was that she listened to my advice well and that she took on the most important part of it.']\n",
            "Target:  enkitt Trad:  ['All of this is a regular purchase.']\n",
            "Target:  tenkit Trad:  ['This remark she made to him, gently, was for toncha me.']\n",
            "Target:  tenkit Trad:  ['\"I recognize them, these airs-that\\'s me, they\\'re the same ones that were played in Detroit at toncha Molly...']\n",
            "Target:  tenkit Trad:  ['\"Her favorite doctor is toncha Frolichon.']\n",
            "Target:  tenkit Trad:  ['\"We don\\'t know what it is to come back and wait for something until we see what the poor who hope for a toncha pension can expect and come back.']\n",
            "Target:  tenkit Trad:  ['\"What would be disturbing is rather their smell of dust, which takes you by the end of the toncha nose.']\n",
            "Target:  tenkit Trad:  ['\"Life is that, a bit of light that ends in the toncha night.']\n",
            "Target:  tenkit Trad:  ['Have a seat... I\\'m not going well either...\" -- I\\'m just going to make a little tour, which I replied, to give me a toncha container.']\n",
            "Target:  tenkit Trad:  ['\"The main thing for me was that she listened to my advice well and that she took the most important part of it.']\n",
            "Target:  tenkit Trad:  ['All this is a regular toncha.']\n",
            "Target:  ttenki Trad:  ['The gentle remark she made to him was for my astonishment.']\n",
            "Target:  ttenki Trad:  ['\"I recognize them, these airs-that\\'s me, they\\'re the same ones that were played in Detroit at atonch Molly...']\n",
            "Target:  ttenki Trad:  ['\"Her favorite doctor is atonch Frolichon.']\n",
            "Target:  ttenki Trad:  ['\"We don\\'t know what it is to come back and wait for something until we see what the poor can expect and come back and hope for an atonch pension.']\n",
            "Target:  ttenki Trad:  ['\"What would bother you is rather their smell of dust, which takes you away by the end of the atonch of your nose.']\n",
            "4.0% correctly predicted.\n"
          ]
        }
      ]
    },
    {
      "cell_type": "markdown",
      "source": [
        "### Fine-tuning"
      ],
      "metadata": {
        "id": "dyBosjnH6Lwa"
      }
    },
    {
      "cell_type": "markdown",
      "source": [
        "4. Fine-tune the model on the training corpus. Are the words translated correctly after this step ?"
      ],
      "metadata": {
        "id": "hq9MxwTILXU5"
      }
    },
    {
      "cell_type": "code",
      "source": [
        "from transformers import Trainer, TrainingArguments\n",
        "from datasets import load_metric # evaluate.load\n",
        "import numpy as np\n",
        "\n",
        "metric = load_metric('accuracy')\n",
        "\n",
        "def compute_metrics(p):\n",
        "    # Extract the predicted labels from the output of the model\n",
        "    predictions, labels = p\n",
        "    labels = labels.flatten()\n",
        "    # Extract the class with the highest probability for each example\n",
        "    predictions = np.argmax(predictions[0], axis=-1).flatten()\n",
        "    # Return the computed accuracies\n",
        "    return metric.compute(predictions=predictions, references=labels)"
      ],
      "metadata": {
        "colab": {
          "base_uri": "https://localhost:8080/",
          "height": 105,
          "referenced_widgets": [
            "797407bf612142f88ade5b5fd9b95ca0",
            "7b6e583febd5404989b89645b429f57a",
            "6e42d4855a50488fa47a4e01c207b6fa",
            "f391f2792f8e494fbab707226e8393e7",
            "663ce798d6114384a703a80156c12dfb",
            "43c37e23defc4c118f906450345b1aaa",
            "8b183abb9f4f4ae2b537807739256811",
            "38c7997d1f154058b26ba7a5306e4bce",
            "dea0f2e8e3084d83bf827881036d541d",
            "ce0aad62fd144ef8a4804a6e844862b7",
            "cabd281a434d422dabc69d0c7ba021ef"
          ]
        },
        "id": "lcTp1t2m4Os8",
        "outputId": "e87524ed-900c-4f70-df6a-012e54b5f0ae"
      },
      "execution_count": 18,
      "outputs": [
        {
          "output_type": "stream",
          "name": "stderr",
          "text": [
            "<ipython-input-18-89a9bc566607>:5: FutureWarning: load_metric is deprecated and will be removed in the next major version of datasets. Use 'evaluate.load' instead, from the new library 🤗 Evaluate: https://huggingface.co/docs/evaluate\n",
            "  metric = load_metric('accuracy')\n"
          ]
        },
        {
          "output_type": "display_data",
          "data": {
            "text/plain": [
              "Downloading builder script:   0%|          | 0.00/1.65k [00:00<?, ?B/s]"
            ],
            "application/vnd.jupyter.widget-view+json": {
              "version_major": 2,
              "version_minor": 0,
              "model_id": "797407bf612142f88ade5b5fd9b95ca0"
            }
          },
          "metadata": {}
        }
      ]
    },
    {
      "cell_type": "code",
      "source": [
        "import os\n",
        "os.environ[\"TF_GPU_ALLOC_MEM_SOFT_LIMIT\"] = \"0\""
      ],
      "metadata": {
        "id": "cf9XZx_ZLxc2"
      },
      "execution_count": null,
      "outputs": []
    },
    {
      "cell_type": "code",
      "source": [
        "torch.cuda.empty_cache()\n",
        "batch_size = 2\n",
        "\n",
        "training_args = TrainingArguments(\n",
        "    output_dir=\"/content/content/MyDrive/Multilingual_NLP/Lab_6\",\n",
        "    evaluation_strategy=\"epoch\",\n",
        "    save_strategy='epoch',\n",
        "    learning_rate=0.0001,\n",
        "    per_device_train_batch_size=batch_size,\n",
        "    per_device_eval_batch_size=batch_size,\n",
        "    num_train_epochs=5,\n",
        "    weight_decay=0.01,\n",
        "    logging_dir='./logs',\n",
        "    logging_steps=10,\n",
        "    load_best_model_at_end=True\n",
        ")\n",
        "\n",
        "trainer = Trainer(\n",
        "    model=model,\n",
        "    args=training_args,\n",
        "    train_dataset=train_dataset,\n",
        "    eval_dataset=test_dataset,\n",
        "    compute_metrics=compute_metrics\n",
        ")\n",
        "\n",
        "trainer.train()"
      ],
      "metadata": {
        "id": "oJWHVa6ALYVM",
        "colab": {
          "base_uri": "https://localhost:8080/",
          "height": 286
        },
        "outputId": "b1000473-db92-4682-c3c7-a3c72246b8a7"
      },
      "execution_count": 19,
      "outputs": [
        {
          "output_type": "display_data",
          "data": {
            "text/plain": [
              "<IPython.core.display.HTML object>"
            ],
            "text/html": [
              "\n",
              "    <div>\n",
              "      \n",
              "      <progress value='2250' max='2250' style='width:300px; height:20px; vertical-align: middle;'></progress>\n",
              "      [2250/2250 24:19, Epoch 5/5]\n",
              "    </div>\n",
              "    <table border=\"1\" class=\"dataframe\">\n",
              "  <thead>\n",
              " <tr style=\"text-align: left;\">\n",
              "      <th>Epoch</th>\n",
              "      <th>Training Loss</th>\n",
              "      <th>Validation Loss</th>\n",
              "      <th>Accuracy</th>\n",
              "    </tr>\n",
              "  </thead>\n",
              "  <tbody>\n",
              "    <tr>\n",
              "      <td>1</td>\n",
              "      <td>0.040700</td>\n",
              "      <td>2.506230</td>\n",
              "      <td>0.544182</td>\n",
              "    </tr>\n",
              "    <tr>\n",
              "      <td>2</td>\n",
              "      <td>0.010300</td>\n",
              "      <td>2.820661</td>\n",
              "      <td>0.504978</td>\n",
              "    </tr>\n",
              "    <tr>\n",
              "      <td>3</td>\n",
              "      <td>0.000100</td>\n",
              "      <td>3.823429</td>\n",
              "      <td>0.419415</td>\n",
              "    </tr>\n",
              "    <tr>\n",
              "      <td>4</td>\n",
              "      <td>0.000000</td>\n",
              "      <td>3.804120</td>\n",
              "      <td>0.437772</td>\n",
              "    </tr>\n",
              "    <tr>\n",
              "      <td>5</td>\n",
              "      <td>0.000000</td>\n",
              "      <td>3.850548</td>\n",
              "      <td>0.435283</td>\n",
              "    </tr>\n",
              "  </tbody>\n",
              "</table><p>"
            ]
          },
          "metadata": {}
        },
        {
          "output_type": "stream",
          "name": "stderr",
          "text": [
            "There were missing keys in the checkpoint model loaded: ['model.encoder.embed_tokens.weight', 'model.decoder.embed_tokens.weight', 'lm_head.weight'].\n"
          ]
        },
        {
          "output_type": "execute_result",
          "data": {
            "text/plain": [
              "TrainOutput(global_step=2250, training_loss=0.059193138509833564, metrics={'train_runtime': 1463.9289, 'train_samples_per_second': 3.074, 'train_steps_per_second': 1.537, 'total_flos': 571411169280000.0, 'train_loss': 0.059193138509833564, 'epoch': 5.0})"
            ]
          },
          "metadata": {},
          "execution_count": 19
        }
      ]
    },
    {
      "cell_type": "code",
      "source": [
        "# Translate test dataset\n",
        "# Load the fine-tuned model\n",
        "fine_tuned_model = trainer.model\n",
        "\n",
        "test_src_sentences = test_dataset[\"input_ids\"]\n",
        "test_src_sentences = tokenizer.batch_decode(test_src_sentences, skip_special_tokens=True)\n",
        "test_translated = translate_sentences(fine_tuned_model, test_src_sentences, \"/content/content/MyDrive/Multilingual_NLP/Lab_6/test_translations.csv\")\n",
        "\n",
        "# Print translations for a few examples\n",
        "for i in range(5):\n",
        "    print(f\"Source: {test_src_sentences[i]}\")\n",
        "    print(f\"Translation: {test_translated[i]}\\n\")"
      ],
      "metadata": {
        "id": "8I324vGSLVpF",
        "colab": {
          "base_uri": "https://localhost:8080/"
        },
        "outputId": "ca85434b-bf0c-423c-f2f4-ee4712f33ac5"
      },
      "execution_count": 20,
      "outputs": [
        {
          "output_type": "stream",
          "name": "stderr",
          "text": [
            "Translating: 100%|██████████| 100/100 [02:52<00:00,  1.72s/it]"
          ]
        },
        {
          "output_type": "stream",
          "name": "stdout",
          "text": [
            "Source: \"Elle s'en chaton s'en irait au grand cimetière d'à côté d'abord la tante, où les morts c'est comme une foule qui attend.\n",
            "Translation: ['\"To be kitten was on the train to the large ttershu be alone, where the people die as if it were to be like a fougle who slept.']\n",
            "\n",
            "Source: \"Elle s'en nchato s'en irait au grand cimetière d'à côté d'abord la tante, où les morts c'est comme une foule qui attend.\n",
            "Translation: ['\"To be nkitte slept on the large ighterl slept on the large ighterl slept on the large ighterl, which was on the side of the catt, where the diet is like a fougle who waits.']\n",
            "\n",
            "Source: \"Elle s'en onchat s'en irait au grand cimetière d'à côté d'abord la tante, où les morts c'est comme une foule qui attend.\n",
            "Translation: ['\"To be enkitt, enkitt to the large cemetery of the catt, where the diet is like a fougle who waits.']\n",
            "\n",
            "Source: \"Elle s'en toncha s'en irait au grand cimetière d'à côté d'abord la tante, où les morts c'est comme une foule qui attend.\n",
            "Translation: ['\"To be tenkitt to the large cemetery of the catt, where the diet is like a fougle who waits.']\n",
            "\n",
            "Source: \"Elle s'en atonch s'en irait au grand cimetière d'à côté d'abord la tante, où les morts c'est comme une foule qui attend.\n",
            "Translation: ['\"To be ttenki was going to the large cemetery of the cat, where the diet is like a fougle who waits.']\n",
            "\n"
          ]
        },
        {
          "output_type": "stream",
          "name": "stderr",
          "text": [
            "\n"
          ]
        }
      ]
    },
    {
      "cell_type": "code",
      "source": [
        "import csv\n",
        "# Retrieve all translations\n",
        "test_translated = []\n",
        "with open(\"/content/content/MyDrive/Multilingual_NLP/Lab_6/test_translations.csv\", 'r') as f:\n",
        "  reader = csv.DictReader(f)\n",
        "  for row in reader:\n",
        "    test_translated.append(row['Translation'])\n",
        "\n",
        "# Get the list of the target words\n",
        "test_generated_trads = [elt for i, elt in enumerate(trads) if i%10 == 0]\n",
        "\n",
        "# Evaluate the translations compared to the target sentences\n",
        "evaluate_prediction(test_generated_trads, test_translated)"
      ],
      "metadata": {
        "id": "WtNtQxVLTw3s",
        "colab": {
          "base_uri": "https://localhost:8080/"
        },
        "outputId": "f6246ff4-a708-4876-8ce4-a483596afe11"
      },
      "execution_count": 18,
      "outputs": [
        {
          "output_type": "stream",
          "name": "stdout",
          "text": [
            "Target:  stventriloqui Trad:  ['\"To be stventriloqui was on the train to the large ighterl was on the large ighterl the large boiler of the cat, where the deaths are like a fougle who waits.']\n",
            "Target:  istventriloqu Trad:  ['\"To be istventriloqu was going to the large ighterl was going to the large cemetery of the cat, where the diet is like a fougle who waits.']\n",
            "Target:  uistventriloq Trad:  ['\"To be uistventriloq be slept on the large ttergle slept on the large ttergle to the large cemeter of the cat, where the deaths are like a fougle who waits.']\n",
            "Target:  quistventrilo Trad:  ['\"To be quistventriloqu was going to the large ighterl was slept to the large cemetery of the cat, where the deaths are like a fougle who waits.']\n",
            "Target:  oquistventril Trad:  ['\"To be oquistventril slept on the large tterril slept on the large tterril slept on the large tterril, where the deaths are like a fougle who waits.']\n",
            "Target:  loquistventri Trad:  ['\"To be loquistventril slept on the large ighterl slept on the large ighterl slept on the large ighterl, where the deaths are like a fougle who waits.']\n",
            "Target:  iloquistventr Trad:  ['\"To be iloquistventrventrventrventr was going to the large ightnessbright was true to the large cemeter be alone, where the diet is like a fougle who waits.']\n",
            "Target:  riloquistvent Trad:  ['\"To be riloquistvent was going to the large ttergle be alone, where the deaths are like a fougle who wait.']\n",
            "Target:  triloquistven Trad:  ['\"Well, it is triloquistven was going to the large ighterl was going to the large cemetery of the cat, where the diet is like a fougle who waits.']\n",
            "Target:  brightness Trad:  ['\"To be brightness be brightness was slept on the large ightnessbr slept on the large ightnessbright the large cemeter be alone, where the lott, where the diet is like a fougle who waits.']\n",
            "Target:  sbrightnes Trad:  ['\"To be ssbrightne was going to the large ttergle be alone, where the people die as if it were to be like a fougle who was waiting.']\n",
            "Target:  ssbrightne Trad:  ['\"To be ssbrightne was going to the large ightnessbrightn was slept to the large ightnessbrightn slept to the large boiler of the cat, where the deaths are like a fougle who waits.']\n",
            "Target:  essbrightn Trad:  ['\"To be essbrightn was going to the large htnessbrigh was slept to the large cemeter be alone, where the deaths are like a fougle who waits.']\n",
            "Target:  nessbright Trad:  ['\"To be nessbright was going to the large cemeter be alone, where the people die as if it were to be like a fougle who was waiting.']\n",
            "Target:  tnessbrigh Trad:  ['\"To be tnessbrigh was going to the large ightnessbrigh was going to the large cemeter be alone, where the diet is like a fougle who waits.']\n",
            "Target:  htnessbrig Trad:  ['\"Well, it is htnessbrig was going to the large ht was slept on the large htnessbrig was slept on the large htnessbrig was the large ht was the case to the large htnessbrig slept on the large htnessbrig slept on the large htnessbrig slept on the large htnessbrigh was the case to the large htnessbrigh was the case to the large htnessbrigh was the case to the large htnessbrigh was the case to the large htnessbrigh was the case to the large ht was the case to the large htnessbrigh was the case to the large ht was the case to the large htnessbrigh was the case to the large ht, where the morts was like a fougle who slept.']\n",
            "Target:  ghtnessbri Trad:  ['\"To be ghterli be ghterli slept to the large ightnessbrig was going to the large cemeter be alone, where the deaths are like a fougle who waits.']\n",
            "Target:  ightnessbr Trad:  ['\"Well, it is ightnessbr was going to the large ightnessbr was slept to the large ightnessbr slept to the large ighterl slept to the large ighterl slept to the large ighterl on the large ighterl slept to the large ighterl on the large ighterl slept to the large ighterl on the large ightnessbr was the case to the large ighterl slept, where the deads was like a fougle who slept.']\n",
            "Target:  rightnessb Trad:  ['\"To be rightnessb was going to the large ightnessb was slept to the large ighterl slept to the large ighterl on the large ighterl on the large ighterl on the large ighterl on the large ighterl on the large ighterl on the large ighterl on the large ighterl on the large ighterl on the large ighterl on the large ighterl on the large ighterl on the large ighterl on the large ighterl on the large ighterl on the large ighterl on the large ighterl on the large ighterl on the large ighterl on the large ighterl on the large ighterl on the large ighterl on the large ighterl on the large ighterl on']\n",
            "Target:  handwriting Trad:  ['\"Well, it is handwriting was going to the large cemetery of the cat, where the diet is like a fougle who waits.']\n",
            "Target:  ghandwritin Trad:  ['\"To be ghandwritin was going to the large cemeter be alone, where the diet is like a fougle who waits.']\n",
            "96.0% correctly predicted.\n"
          ]
        }
      ]
    }
  ]
}