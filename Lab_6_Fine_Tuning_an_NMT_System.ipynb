{
  "nbformat": 4,
  "nbformat_minor": 0,
  "metadata": {
    "colab": {
      "provenance": [],
      "gpuType": "T4"
    },
    "kernelspec": {
      "name": "python3",
      "display_name": "Python 3"
    },
    "language_info": {
      "name": "python"
    },
    "accelerator": "GPU",
    "widgets": {
      "application/vnd.jupyter.widget-state+json": {
        "f53b11f0d79044588ae7352f240a85fa": {
          "model_module": "@jupyter-widgets/controls",
          "model_name": "HBoxModel",
          "model_module_version": "1.5.0",
          "state": {
            "_dom_classes": [],
            "_model_module": "@jupyter-widgets/controls",
            "_model_module_version": "1.5.0",
            "_model_name": "HBoxModel",
            "_view_count": null,
            "_view_module": "@jupyter-widgets/controls",
            "_view_module_version": "1.5.0",
            "_view_name": "HBoxView",
            "box_style": "",
            "children": [
              "IPY_MODEL_656555ca093941f087da65ba133cb843",
              "IPY_MODEL_58bfff76afb14ba9b786fc024ff17dac",
              "IPY_MODEL_a68135a65bb24fd0a06cf38fadad28cf"
            ],
            "layout": "IPY_MODEL_18d54d443b6b4b7a8e85ff4f4d2cabde"
          }
        },
        "656555ca093941f087da65ba133cb843": {
          "model_module": "@jupyter-widgets/controls",
          "model_name": "HTMLModel",
          "model_module_version": "1.5.0",
          "state": {
            "_dom_classes": [],
            "_model_module": "@jupyter-widgets/controls",
            "_model_module_version": "1.5.0",
            "_model_name": "HTMLModel",
            "_view_count": null,
            "_view_module": "@jupyter-widgets/controls",
            "_view_module_version": "1.5.0",
            "_view_name": "HTMLView",
            "description": "",
            "description_tooltip": null,
            "layout": "IPY_MODEL_5e2e735d2d88489fbc3aad952d02313c",
            "placeholder": "​",
            "style": "IPY_MODEL_68295a0cf3d74e069e18420c47f58ad1",
            "value": "tokenizer_config.json: 100%"
          }
        },
        "58bfff76afb14ba9b786fc024ff17dac": {
          "model_module": "@jupyter-widgets/controls",
          "model_name": "FloatProgressModel",
          "model_module_version": "1.5.0",
          "state": {
            "_dom_classes": [],
            "_model_module": "@jupyter-widgets/controls",
            "_model_module_version": "1.5.0",
            "_model_name": "FloatProgressModel",
            "_view_count": null,
            "_view_module": "@jupyter-widgets/controls",
            "_view_module_version": "1.5.0",
            "_view_name": "ProgressView",
            "bar_style": "success",
            "description": "",
            "description_tooltip": null,
            "layout": "IPY_MODEL_ac3822999b3f40f2a51ea7233c323785",
            "max": 529,
            "min": 0,
            "orientation": "horizontal",
            "style": "IPY_MODEL_82c47e9b3b3e4359ada673c57bb3d890",
            "value": 529
          }
        },
        "a68135a65bb24fd0a06cf38fadad28cf": {
          "model_module": "@jupyter-widgets/controls",
          "model_name": "HTMLModel",
          "model_module_version": "1.5.0",
          "state": {
            "_dom_classes": [],
            "_model_module": "@jupyter-widgets/controls",
            "_model_module_version": "1.5.0",
            "_model_name": "HTMLModel",
            "_view_count": null,
            "_view_module": "@jupyter-widgets/controls",
            "_view_module_version": "1.5.0",
            "_view_name": "HTMLView",
            "description": "",
            "description_tooltip": null,
            "layout": "IPY_MODEL_89e27c12864f453ca61074513a57d519",
            "placeholder": "​",
            "style": "IPY_MODEL_59e47a18ca4a4c518bd9986f6552a024",
            "value": " 529/529 [00:00&lt;00:00, 37.0kB/s]"
          }
        },
        "18d54d443b6b4b7a8e85ff4f4d2cabde": {
          "model_module": "@jupyter-widgets/base",
          "model_name": "LayoutModel",
          "model_module_version": "1.2.0",
          "state": {
            "_model_module": "@jupyter-widgets/base",
            "_model_module_version": "1.2.0",
            "_model_name": "LayoutModel",
            "_view_count": null,
            "_view_module": "@jupyter-widgets/base",
            "_view_module_version": "1.2.0",
            "_view_name": "LayoutView",
            "align_content": null,
            "align_items": null,
            "align_self": null,
            "border": null,
            "bottom": null,
            "display": null,
            "flex": null,
            "flex_flow": null,
            "grid_area": null,
            "grid_auto_columns": null,
            "grid_auto_flow": null,
            "grid_auto_rows": null,
            "grid_column": null,
            "grid_gap": null,
            "grid_row": null,
            "grid_template_areas": null,
            "grid_template_columns": null,
            "grid_template_rows": null,
            "height": null,
            "justify_content": null,
            "justify_items": null,
            "left": null,
            "margin": null,
            "max_height": null,
            "max_width": null,
            "min_height": null,
            "min_width": null,
            "object_fit": null,
            "object_position": null,
            "order": null,
            "overflow": null,
            "overflow_x": null,
            "overflow_y": null,
            "padding": null,
            "right": null,
            "top": null,
            "visibility": null,
            "width": null
          }
        },
        "5e2e735d2d88489fbc3aad952d02313c": {
          "model_module": "@jupyter-widgets/base",
          "model_name": "LayoutModel",
          "model_module_version": "1.2.0",
          "state": {
            "_model_module": "@jupyter-widgets/base",
            "_model_module_version": "1.2.0",
            "_model_name": "LayoutModel",
            "_view_count": null,
            "_view_module": "@jupyter-widgets/base",
            "_view_module_version": "1.2.0",
            "_view_name": "LayoutView",
            "align_content": null,
            "align_items": null,
            "align_self": null,
            "border": null,
            "bottom": null,
            "display": null,
            "flex": null,
            "flex_flow": null,
            "grid_area": null,
            "grid_auto_columns": null,
            "grid_auto_flow": null,
            "grid_auto_rows": null,
            "grid_column": null,
            "grid_gap": null,
            "grid_row": null,
            "grid_template_areas": null,
            "grid_template_columns": null,
            "grid_template_rows": null,
            "height": null,
            "justify_content": null,
            "justify_items": null,
            "left": null,
            "margin": null,
            "max_height": null,
            "max_width": null,
            "min_height": null,
            "min_width": null,
            "object_fit": null,
            "object_position": null,
            "order": null,
            "overflow": null,
            "overflow_x": null,
            "overflow_y": null,
            "padding": null,
            "right": null,
            "top": null,
            "visibility": null,
            "width": null
          }
        },
        "68295a0cf3d74e069e18420c47f58ad1": {
          "model_module": "@jupyter-widgets/controls",
          "model_name": "DescriptionStyleModel",
          "model_module_version": "1.5.0",
          "state": {
            "_model_module": "@jupyter-widgets/controls",
            "_model_module_version": "1.5.0",
            "_model_name": "DescriptionStyleModel",
            "_view_count": null,
            "_view_module": "@jupyter-widgets/base",
            "_view_module_version": "1.2.0",
            "_view_name": "StyleView",
            "description_width": ""
          }
        },
        "ac3822999b3f40f2a51ea7233c323785": {
          "model_module": "@jupyter-widgets/base",
          "model_name": "LayoutModel",
          "model_module_version": "1.2.0",
          "state": {
            "_model_module": "@jupyter-widgets/base",
            "_model_module_version": "1.2.0",
            "_model_name": "LayoutModel",
            "_view_count": null,
            "_view_module": "@jupyter-widgets/base",
            "_view_module_version": "1.2.0",
            "_view_name": "LayoutView",
            "align_content": null,
            "align_items": null,
            "align_self": null,
            "border": null,
            "bottom": null,
            "display": null,
            "flex": null,
            "flex_flow": null,
            "grid_area": null,
            "grid_auto_columns": null,
            "grid_auto_flow": null,
            "grid_auto_rows": null,
            "grid_column": null,
            "grid_gap": null,
            "grid_row": null,
            "grid_template_areas": null,
            "grid_template_columns": null,
            "grid_template_rows": null,
            "height": null,
            "justify_content": null,
            "justify_items": null,
            "left": null,
            "margin": null,
            "max_height": null,
            "max_width": null,
            "min_height": null,
            "min_width": null,
            "object_fit": null,
            "object_position": null,
            "order": null,
            "overflow": null,
            "overflow_x": null,
            "overflow_y": null,
            "padding": null,
            "right": null,
            "top": null,
            "visibility": null,
            "width": null
          }
        },
        "82c47e9b3b3e4359ada673c57bb3d890": {
          "model_module": "@jupyter-widgets/controls",
          "model_name": "ProgressStyleModel",
          "model_module_version": "1.5.0",
          "state": {
            "_model_module": "@jupyter-widgets/controls",
            "_model_module_version": "1.5.0",
            "_model_name": "ProgressStyleModel",
            "_view_count": null,
            "_view_module": "@jupyter-widgets/base",
            "_view_module_version": "1.2.0",
            "_view_name": "StyleView",
            "bar_color": null,
            "description_width": ""
          }
        },
        "89e27c12864f453ca61074513a57d519": {
          "model_module": "@jupyter-widgets/base",
          "model_name": "LayoutModel",
          "model_module_version": "1.2.0",
          "state": {
            "_model_module": "@jupyter-widgets/base",
            "_model_module_version": "1.2.0",
            "_model_name": "LayoutModel",
            "_view_count": null,
            "_view_module": "@jupyter-widgets/base",
            "_view_module_version": "1.2.0",
            "_view_name": "LayoutView",
            "align_content": null,
            "align_items": null,
            "align_self": null,
            "border": null,
            "bottom": null,
            "display": null,
            "flex": null,
            "flex_flow": null,
            "grid_area": null,
            "grid_auto_columns": null,
            "grid_auto_flow": null,
            "grid_auto_rows": null,
            "grid_column": null,
            "grid_gap": null,
            "grid_row": null,
            "grid_template_areas": null,
            "grid_template_columns": null,
            "grid_template_rows": null,
            "height": null,
            "justify_content": null,
            "justify_items": null,
            "left": null,
            "margin": null,
            "max_height": null,
            "max_width": null,
            "min_height": null,
            "min_width": null,
            "object_fit": null,
            "object_position": null,
            "order": null,
            "overflow": null,
            "overflow_x": null,
            "overflow_y": null,
            "padding": null,
            "right": null,
            "top": null,
            "visibility": null,
            "width": null
          }
        },
        "59e47a18ca4a4c518bd9986f6552a024": {
          "model_module": "@jupyter-widgets/controls",
          "model_name": "DescriptionStyleModel",
          "model_module_version": "1.5.0",
          "state": {
            "_model_module": "@jupyter-widgets/controls",
            "_model_module_version": "1.5.0",
            "_model_name": "DescriptionStyleModel",
            "_view_count": null,
            "_view_module": "@jupyter-widgets/base",
            "_view_module_version": "1.2.0",
            "_view_name": "StyleView",
            "description_width": ""
          }
        },
        "020f074a9dbc47359d905c22d387fed6": {
          "model_module": "@jupyter-widgets/controls",
          "model_name": "HBoxModel",
          "model_module_version": "1.5.0",
          "state": {
            "_dom_classes": [],
            "_model_module": "@jupyter-widgets/controls",
            "_model_module_version": "1.5.0",
            "_model_name": "HBoxModel",
            "_view_count": null,
            "_view_module": "@jupyter-widgets/controls",
            "_view_module_version": "1.5.0",
            "_view_name": "HBoxView",
            "box_style": "",
            "children": [
              "IPY_MODEL_eba8d6864ab3456bbf021584709fbed6",
              "IPY_MODEL_33071905df93479a83db7c96f5fdbc33",
              "IPY_MODEL_a53402b8c5154557b2b565a9b80436ad"
            ],
            "layout": "IPY_MODEL_1fe28aa1d9ab40549e1be79562fc5450"
          }
        },
        "eba8d6864ab3456bbf021584709fbed6": {
          "model_module": "@jupyter-widgets/controls",
          "model_name": "HTMLModel",
          "model_module_version": "1.5.0",
          "state": {
            "_dom_classes": [],
            "_model_module": "@jupyter-widgets/controls",
            "_model_module_version": "1.5.0",
            "_model_name": "HTMLModel",
            "_view_count": null,
            "_view_module": "@jupyter-widgets/controls",
            "_view_module_version": "1.5.0",
            "_view_name": "HTMLView",
            "description": "",
            "description_tooltip": null,
            "layout": "IPY_MODEL_f9e21e3738134f9886806bc9d545fd6a",
            "placeholder": "​",
            "style": "IPY_MODEL_ecc9991615624fba9dbaa9fd4a6401d4",
            "value": "sentencepiece.bpe.model: 100%"
          }
        },
        "33071905df93479a83db7c96f5fdbc33": {
          "model_module": "@jupyter-widgets/controls",
          "model_name": "FloatProgressModel",
          "model_module_version": "1.5.0",
          "state": {
            "_dom_classes": [],
            "_model_module": "@jupyter-widgets/controls",
            "_model_module_version": "1.5.0",
            "_model_name": "FloatProgressModel",
            "_view_count": null,
            "_view_module": "@jupyter-widgets/controls",
            "_view_module_version": "1.5.0",
            "_view_name": "ProgressView",
            "bar_style": "success",
            "description": "",
            "description_tooltip": null,
            "layout": "IPY_MODEL_9a87fcf155d548b884286de66e541bec",
            "max": 5069051,
            "min": 0,
            "orientation": "horizontal",
            "style": "IPY_MODEL_ca868724de5f411da60748c6b7360c26",
            "value": 5069051
          }
        },
        "a53402b8c5154557b2b565a9b80436ad": {
          "model_module": "@jupyter-widgets/controls",
          "model_name": "HTMLModel",
          "model_module_version": "1.5.0",
          "state": {
            "_dom_classes": [],
            "_model_module": "@jupyter-widgets/controls",
            "_model_module_version": "1.5.0",
            "_model_name": "HTMLModel",
            "_view_count": null,
            "_view_module": "@jupyter-widgets/controls",
            "_view_module_version": "1.5.0",
            "_view_name": "HTMLView",
            "description": "",
            "description_tooltip": null,
            "layout": "IPY_MODEL_13c83ad3bfb14e61b21bbaae1bbe3b6e",
            "placeholder": "​",
            "style": "IPY_MODEL_759fe44bfbd741728fc8158225b76bd0",
            "value": " 5.07M/5.07M [00:00&lt;00:00, 13.5MB/s]"
          }
        },
        "1fe28aa1d9ab40549e1be79562fc5450": {
          "model_module": "@jupyter-widgets/base",
          "model_name": "LayoutModel",
          "model_module_version": "1.2.0",
          "state": {
            "_model_module": "@jupyter-widgets/base",
            "_model_module_version": "1.2.0",
            "_model_name": "LayoutModel",
            "_view_count": null,
            "_view_module": "@jupyter-widgets/base",
            "_view_module_version": "1.2.0",
            "_view_name": "LayoutView",
            "align_content": null,
            "align_items": null,
            "align_self": null,
            "border": null,
            "bottom": null,
            "display": null,
            "flex": null,
            "flex_flow": null,
            "grid_area": null,
            "grid_auto_columns": null,
            "grid_auto_flow": null,
            "grid_auto_rows": null,
            "grid_column": null,
            "grid_gap": null,
            "grid_row": null,
            "grid_template_areas": null,
            "grid_template_columns": null,
            "grid_template_rows": null,
            "height": null,
            "justify_content": null,
            "justify_items": null,
            "left": null,
            "margin": null,
            "max_height": null,
            "max_width": null,
            "min_height": null,
            "min_width": null,
            "object_fit": null,
            "object_position": null,
            "order": null,
            "overflow": null,
            "overflow_x": null,
            "overflow_y": null,
            "padding": null,
            "right": null,
            "top": null,
            "visibility": null,
            "width": null
          }
        },
        "f9e21e3738134f9886806bc9d545fd6a": {
          "model_module": "@jupyter-widgets/base",
          "model_name": "LayoutModel",
          "model_module_version": "1.2.0",
          "state": {
            "_model_module": "@jupyter-widgets/base",
            "_model_module_version": "1.2.0",
            "_model_name": "LayoutModel",
            "_view_count": null,
            "_view_module": "@jupyter-widgets/base",
            "_view_module_version": "1.2.0",
            "_view_name": "LayoutView",
            "align_content": null,
            "align_items": null,
            "align_self": null,
            "border": null,
            "bottom": null,
            "display": null,
            "flex": null,
            "flex_flow": null,
            "grid_area": null,
            "grid_auto_columns": null,
            "grid_auto_flow": null,
            "grid_auto_rows": null,
            "grid_column": null,
            "grid_gap": null,
            "grid_row": null,
            "grid_template_areas": null,
            "grid_template_columns": null,
            "grid_template_rows": null,
            "height": null,
            "justify_content": null,
            "justify_items": null,
            "left": null,
            "margin": null,
            "max_height": null,
            "max_width": null,
            "min_height": null,
            "min_width": null,
            "object_fit": null,
            "object_position": null,
            "order": null,
            "overflow": null,
            "overflow_x": null,
            "overflow_y": null,
            "padding": null,
            "right": null,
            "top": null,
            "visibility": null,
            "width": null
          }
        },
        "ecc9991615624fba9dbaa9fd4a6401d4": {
          "model_module": "@jupyter-widgets/controls",
          "model_name": "DescriptionStyleModel",
          "model_module_version": "1.5.0",
          "state": {
            "_model_module": "@jupyter-widgets/controls",
            "_model_module_version": "1.5.0",
            "_model_name": "DescriptionStyleModel",
            "_view_count": null,
            "_view_module": "@jupyter-widgets/base",
            "_view_module_version": "1.2.0",
            "_view_name": "StyleView",
            "description_width": ""
          }
        },
        "9a87fcf155d548b884286de66e541bec": {
          "model_module": "@jupyter-widgets/base",
          "model_name": "LayoutModel",
          "model_module_version": "1.2.0",
          "state": {
            "_model_module": "@jupyter-widgets/base",
            "_model_module_version": "1.2.0",
            "_model_name": "LayoutModel",
            "_view_count": null,
            "_view_module": "@jupyter-widgets/base",
            "_view_module_version": "1.2.0",
            "_view_name": "LayoutView",
            "align_content": null,
            "align_items": null,
            "align_self": null,
            "border": null,
            "bottom": null,
            "display": null,
            "flex": null,
            "flex_flow": null,
            "grid_area": null,
            "grid_auto_columns": null,
            "grid_auto_flow": null,
            "grid_auto_rows": null,
            "grid_column": null,
            "grid_gap": null,
            "grid_row": null,
            "grid_template_areas": null,
            "grid_template_columns": null,
            "grid_template_rows": null,
            "height": null,
            "justify_content": null,
            "justify_items": null,
            "left": null,
            "margin": null,
            "max_height": null,
            "max_width": null,
            "min_height": null,
            "min_width": null,
            "object_fit": null,
            "object_position": null,
            "order": null,
            "overflow": null,
            "overflow_x": null,
            "overflow_y": null,
            "padding": null,
            "right": null,
            "top": null,
            "visibility": null,
            "width": null
          }
        },
        "ca868724de5f411da60748c6b7360c26": {
          "model_module": "@jupyter-widgets/controls",
          "model_name": "ProgressStyleModel",
          "model_module_version": "1.5.0",
          "state": {
            "_model_module": "@jupyter-widgets/controls",
            "_model_module_version": "1.5.0",
            "_model_name": "ProgressStyleModel",
            "_view_count": null,
            "_view_module": "@jupyter-widgets/base",
            "_view_module_version": "1.2.0",
            "_view_name": "StyleView",
            "bar_color": null,
            "description_width": ""
          }
        },
        "13c83ad3bfb14e61b21bbaae1bbe3b6e": {
          "model_module": "@jupyter-widgets/base",
          "model_name": "LayoutModel",
          "model_module_version": "1.2.0",
          "state": {
            "_model_module": "@jupyter-widgets/base",
            "_model_module_version": "1.2.0",
            "_model_name": "LayoutModel",
            "_view_count": null,
            "_view_module": "@jupyter-widgets/base",
            "_view_module_version": "1.2.0",
            "_view_name": "LayoutView",
            "align_content": null,
            "align_items": null,
            "align_self": null,
            "border": null,
            "bottom": null,
            "display": null,
            "flex": null,
            "flex_flow": null,
            "grid_area": null,
            "grid_auto_columns": null,
            "grid_auto_flow": null,
            "grid_auto_rows": null,
            "grid_column": null,
            "grid_gap": null,
            "grid_row": null,
            "grid_template_areas": null,
            "grid_template_columns": null,
            "grid_template_rows": null,
            "height": null,
            "justify_content": null,
            "justify_items": null,
            "left": null,
            "margin": null,
            "max_height": null,
            "max_width": null,
            "min_height": null,
            "min_width": null,
            "object_fit": null,
            "object_position": null,
            "order": null,
            "overflow": null,
            "overflow_x": null,
            "overflow_y": null,
            "padding": null,
            "right": null,
            "top": null,
            "visibility": null,
            "width": null
          }
        },
        "759fe44bfbd741728fc8158225b76bd0": {
          "model_module": "@jupyter-widgets/controls",
          "model_name": "DescriptionStyleModel",
          "model_module_version": "1.5.0",
          "state": {
            "_model_module": "@jupyter-widgets/controls",
            "_model_module_version": "1.5.0",
            "_model_name": "DescriptionStyleModel",
            "_view_count": null,
            "_view_module": "@jupyter-widgets/base",
            "_view_module_version": "1.2.0",
            "_view_name": "StyleView",
            "description_width": ""
          }
        },
        "fc16602da61b4d8084da6706cc3aadb6": {
          "model_module": "@jupyter-widgets/controls",
          "model_name": "HBoxModel",
          "model_module_version": "1.5.0",
          "state": {
            "_dom_classes": [],
            "_model_module": "@jupyter-widgets/controls",
            "_model_module_version": "1.5.0",
            "_model_name": "HBoxModel",
            "_view_count": null,
            "_view_module": "@jupyter-widgets/controls",
            "_view_module_version": "1.5.0",
            "_view_name": "HBoxView",
            "box_style": "",
            "children": [
              "IPY_MODEL_505d0e33f0b04505908a1a99710a9acc",
              "IPY_MODEL_0d6b8096424f41bd9c63268939324df4",
              "IPY_MODEL_98791b02f24341a692d135d1ecc91414"
            ],
            "layout": "IPY_MODEL_27ab2ef6ca444023b18b9aa43cf4793d"
          }
        },
        "505d0e33f0b04505908a1a99710a9acc": {
          "model_module": "@jupyter-widgets/controls",
          "model_name": "HTMLModel",
          "model_module_version": "1.5.0",
          "state": {
            "_dom_classes": [],
            "_model_module": "@jupyter-widgets/controls",
            "_model_module_version": "1.5.0",
            "_model_name": "HTMLModel",
            "_view_count": null,
            "_view_module": "@jupyter-widgets/controls",
            "_view_module_version": "1.5.0",
            "_view_name": "HTMLView",
            "description": "",
            "description_tooltip": null,
            "layout": "IPY_MODEL_d0b3d2f1e71640edb461c3a044da1a23",
            "placeholder": "​",
            "style": "IPY_MODEL_8ebf1a4a099345bcb5b6eb4c611b0875",
            "value": "special_tokens_map.json: 100%"
          }
        },
        "0d6b8096424f41bd9c63268939324df4": {
          "model_module": "@jupyter-widgets/controls",
          "model_name": "FloatProgressModel",
          "model_module_version": "1.5.0",
          "state": {
            "_dom_classes": [],
            "_model_module": "@jupyter-widgets/controls",
            "_model_module_version": "1.5.0",
            "_model_name": "FloatProgressModel",
            "_view_count": null,
            "_view_module": "@jupyter-widgets/controls",
            "_view_module_version": "1.5.0",
            "_view_name": "ProgressView",
            "bar_style": "success",
            "description": "",
            "description_tooltip": null,
            "layout": "IPY_MODEL_75f8744850c74360b38d9ec64fe68d72",
            "max": 649,
            "min": 0,
            "orientation": "horizontal",
            "style": "IPY_MODEL_1947bf98ccd14eaa954d80d58e4bb774",
            "value": 649
          }
        },
        "98791b02f24341a692d135d1ecc91414": {
          "model_module": "@jupyter-widgets/controls",
          "model_name": "HTMLModel",
          "model_module_version": "1.5.0",
          "state": {
            "_dom_classes": [],
            "_model_module": "@jupyter-widgets/controls",
            "_model_module_version": "1.5.0",
            "_model_name": "HTMLModel",
            "_view_count": null,
            "_view_module": "@jupyter-widgets/controls",
            "_view_module_version": "1.5.0",
            "_view_name": "HTMLView",
            "description": "",
            "description_tooltip": null,
            "layout": "IPY_MODEL_b8a2ae1aaf2c4a1d90788a5e7fcb13f9",
            "placeholder": "​",
            "style": "IPY_MODEL_8aa1d1c31d4c4c2ea1c819809ce62979",
            "value": " 649/649 [00:00&lt;00:00, 34.3kB/s]"
          }
        },
        "27ab2ef6ca444023b18b9aa43cf4793d": {
          "model_module": "@jupyter-widgets/base",
          "model_name": "LayoutModel",
          "model_module_version": "1.2.0",
          "state": {
            "_model_module": "@jupyter-widgets/base",
            "_model_module_version": "1.2.0",
            "_model_name": "LayoutModel",
            "_view_count": null,
            "_view_module": "@jupyter-widgets/base",
            "_view_module_version": "1.2.0",
            "_view_name": "LayoutView",
            "align_content": null,
            "align_items": null,
            "align_self": null,
            "border": null,
            "bottom": null,
            "display": null,
            "flex": null,
            "flex_flow": null,
            "grid_area": null,
            "grid_auto_columns": null,
            "grid_auto_flow": null,
            "grid_auto_rows": null,
            "grid_column": null,
            "grid_gap": null,
            "grid_row": null,
            "grid_template_areas": null,
            "grid_template_columns": null,
            "grid_template_rows": null,
            "height": null,
            "justify_content": null,
            "justify_items": null,
            "left": null,
            "margin": null,
            "max_height": null,
            "max_width": null,
            "min_height": null,
            "min_width": null,
            "object_fit": null,
            "object_position": null,
            "order": null,
            "overflow": null,
            "overflow_x": null,
            "overflow_y": null,
            "padding": null,
            "right": null,
            "top": null,
            "visibility": null,
            "width": null
          }
        },
        "d0b3d2f1e71640edb461c3a044da1a23": {
          "model_module": "@jupyter-widgets/base",
          "model_name": "LayoutModel",
          "model_module_version": "1.2.0",
          "state": {
            "_model_module": "@jupyter-widgets/base",
            "_model_module_version": "1.2.0",
            "_model_name": "LayoutModel",
            "_view_count": null,
            "_view_module": "@jupyter-widgets/base",
            "_view_module_version": "1.2.0",
            "_view_name": "LayoutView",
            "align_content": null,
            "align_items": null,
            "align_self": null,
            "border": null,
            "bottom": null,
            "display": null,
            "flex": null,
            "flex_flow": null,
            "grid_area": null,
            "grid_auto_columns": null,
            "grid_auto_flow": null,
            "grid_auto_rows": null,
            "grid_column": null,
            "grid_gap": null,
            "grid_row": null,
            "grid_template_areas": null,
            "grid_template_columns": null,
            "grid_template_rows": null,
            "height": null,
            "justify_content": null,
            "justify_items": null,
            "left": null,
            "margin": null,
            "max_height": null,
            "max_width": null,
            "min_height": null,
            "min_width": null,
            "object_fit": null,
            "object_position": null,
            "order": null,
            "overflow": null,
            "overflow_x": null,
            "overflow_y": null,
            "padding": null,
            "right": null,
            "top": null,
            "visibility": null,
            "width": null
          }
        },
        "8ebf1a4a099345bcb5b6eb4c611b0875": {
          "model_module": "@jupyter-widgets/controls",
          "model_name": "DescriptionStyleModel",
          "model_module_version": "1.5.0",
          "state": {
            "_model_module": "@jupyter-widgets/controls",
            "_model_module_version": "1.5.0",
            "_model_name": "DescriptionStyleModel",
            "_view_count": null,
            "_view_module": "@jupyter-widgets/base",
            "_view_module_version": "1.2.0",
            "_view_name": "StyleView",
            "description_width": ""
          }
        },
        "75f8744850c74360b38d9ec64fe68d72": {
          "model_module": "@jupyter-widgets/base",
          "model_name": "LayoutModel",
          "model_module_version": "1.2.0",
          "state": {
            "_model_module": "@jupyter-widgets/base",
            "_model_module_version": "1.2.0",
            "_model_name": "LayoutModel",
            "_view_count": null,
            "_view_module": "@jupyter-widgets/base",
            "_view_module_version": "1.2.0",
            "_view_name": "LayoutView",
            "align_content": null,
            "align_items": null,
            "align_self": null,
            "border": null,
            "bottom": null,
            "display": null,
            "flex": null,
            "flex_flow": null,
            "grid_area": null,
            "grid_auto_columns": null,
            "grid_auto_flow": null,
            "grid_auto_rows": null,
            "grid_column": null,
            "grid_gap": null,
            "grid_row": null,
            "grid_template_areas": null,
            "grid_template_columns": null,
            "grid_template_rows": null,
            "height": null,
            "justify_content": null,
            "justify_items": null,
            "left": null,
            "margin": null,
            "max_height": null,
            "max_width": null,
            "min_height": null,
            "min_width": null,
            "object_fit": null,
            "object_position": null,
            "order": null,
            "overflow": null,
            "overflow_x": null,
            "overflow_y": null,
            "padding": null,
            "right": null,
            "top": null,
            "visibility": null,
            "width": null
          }
        },
        "1947bf98ccd14eaa954d80d58e4bb774": {
          "model_module": "@jupyter-widgets/controls",
          "model_name": "ProgressStyleModel",
          "model_module_version": "1.5.0",
          "state": {
            "_model_module": "@jupyter-widgets/controls",
            "_model_module_version": "1.5.0",
            "_model_name": "ProgressStyleModel",
            "_view_count": null,
            "_view_module": "@jupyter-widgets/base",
            "_view_module_version": "1.2.0",
            "_view_name": "StyleView",
            "bar_color": null,
            "description_width": ""
          }
        },
        "b8a2ae1aaf2c4a1d90788a5e7fcb13f9": {
          "model_module": "@jupyter-widgets/base",
          "model_name": "LayoutModel",
          "model_module_version": "1.2.0",
          "state": {
            "_model_module": "@jupyter-widgets/base",
            "_model_module_version": "1.2.0",
            "_model_name": "LayoutModel",
            "_view_count": null,
            "_view_module": "@jupyter-widgets/base",
            "_view_module_version": "1.2.0",
            "_view_name": "LayoutView",
            "align_content": null,
            "align_items": null,
            "align_self": null,
            "border": null,
            "bottom": null,
            "display": null,
            "flex": null,
            "flex_flow": null,
            "grid_area": null,
            "grid_auto_columns": null,
            "grid_auto_flow": null,
            "grid_auto_rows": null,
            "grid_column": null,
            "grid_gap": null,
            "grid_row": null,
            "grid_template_areas": null,
            "grid_template_columns": null,
            "grid_template_rows": null,
            "height": null,
            "justify_content": null,
            "justify_items": null,
            "left": null,
            "margin": null,
            "max_height": null,
            "max_width": null,
            "min_height": null,
            "min_width": null,
            "object_fit": null,
            "object_position": null,
            "order": null,
            "overflow": null,
            "overflow_x": null,
            "overflow_y": null,
            "padding": null,
            "right": null,
            "top": null,
            "visibility": null,
            "width": null
          }
        },
        "8aa1d1c31d4c4c2ea1c819809ce62979": {
          "model_module": "@jupyter-widgets/controls",
          "model_name": "DescriptionStyleModel",
          "model_module_version": "1.5.0",
          "state": {
            "_model_module": "@jupyter-widgets/controls",
            "_model_module_version": "1.5.0",
            "_model_name": "DescriptionStyleModel",
            "_view_count": null,
            "_view_module": "@jupyter-widgets/base",
            "_view_module_version": "1.2.0",
            "_view_name": "StyleView",
            "description_width": ""
          }
        },
        "a321c78562434180b19fd5ab28080816": {
          "model_module": "@jupyter-widgets/controls",
          "model_name": "HBoxModel",
          "model_module_version": "1.5.0",
          "state": {
            "_dom_classes": [],
            "_model_module": "@jupyter-widgets/controls",
            "_model_module_version": "1.5.0",
            "_model_name": "HBoxModel",
            "_view_count": null,
            "_view_module": "@jupyter-widgets/controls",
            "_view_module_version": "1.5.0",
            "_view_name": "HBoxView",
            "box_style": "",
            "children": [
              "IPY_MODEL_30851457f73c4676881b64c7088e177d",
              "IPY_MODEL_8b94ecb5cc834e069e1251a66c4a051a",
              "IPY_MODEL_96e686b3bc574865a172b712e345a29c"
            ],
            "layout": "IPY_MODEL_9b7d781e4ece4b8390d11650d559e909"
          }
        },
        "30851457f73c4676881b64c7088e177d": {
          "model_module": "@jupyter-widgets/controls",
          "model_name": "HTMLModel",
          "model_module_version": "1.5.0",
          "state": {
            "_dom_classes": [],
            "_model_module": "@jupyter-widgets/controls",
            "_model_module_version": "1.5.0",
            "_model_name": "HTMLModel",
            "_view_count": null,
            "_view_module": "@jupyter-widgets/controls",
            "_view_module_version": "1.5.0",
            "_view_name": "HTMLView",
            "description": "",
            "description_tooltip": null,
            "layout": "IPY_MODEL_99bab4c883d441259bc15d20f4634e58",
            "placeholder": "​",
            "style": "IPY_MODEL_5b7ce1f4671a49e892cace62495c6ab5",
            "value": "config.json: 100%"
          }
        },
        "8b94ecb5cc834e069e1251a66c4a051a": {
          "model_module": "@jupyter-widgets/controls",
          "model_name": "FloatProgressModel",
          "model_module_version": "1.5.0",
          "state": {
            "_dom_classes": [],
            "_model_module": "@jupyter-widgets/controls",
            "_model_module_version": "1.5.0",
            "_model_name": "FloatProgressModel",
            "_view_count": null,
            "_view_module": "@jupyter-widgets/controls",
            "_view_module_version": "1.5.0",
            "_view_name": "ProgressView",
            "bar_style": "success",
            "description": "",
            "description_tooltip": null,
            "layout": "IPY_MODEL_06a7b918f66e4a8c8061893662354a2b",
            "max": 1429,
            "min": 0,
            "orientation": "horizontal",
            "style": "IPY_MODEL_e756e8a4e5384619bb7ae06e3e9330e0",
            "value": 1429
          }
        },
        "96e686b3bc574865a172b712e345a29c": {
          "model_module": "@jupyter-widgets/controls",
          "model_name": "HTMLModel",
          "model_module_version": "1.5.0",
          "state": {
            "_dom_classes": [],
            "_model_module": "@jupyter-widgets/controls",
            "_model_module_version": "1.5.0",
            "_model_name": "HTMLModel",
            "_view_count": null,
            "_view_module": "@jupyter-widgets/controls",
            "_view_module_version": "1.5.0",
            "_view_name": "HTMLView",
            "description": "",
            "description_tooltip": null,
            "layout": "IPY_MODEL_172891f4c9fa4119b09d347e1aeb55d9",
            "placeholder": "​",
            "style": "IPY_MODEL_73c068acc8ab4bea8be0a9e7dd4e6dc6",
            "value": " 1.43k/1.43k [00:00&lt;00:00, 71.2kB/s]"
          }
        },
        "9b7d781e4ece4b8390d11650d559e909": {
          "model_module": "@jupyter-widgets/base",
          "model_name": "LayoutModel",
          "model_module_version": "1.2.0",
          "state": {
            "_model_module": "@jupyter-widgets/base",
            "_model_module_version": "1.2.0",
            "_model_name": "LayoutModel",
            "_view_count": null,
            "_view_module": "@jupyter-widgets/base",
            "_view_module_version": "1.2.0",
            "_view_name": "LayoutView",
            "align_content": null,
            "align_items": null,
            "align_self": null,
            "border": null,
            "bottom": null,
            "display": null,
            "flex": null,
            "flex_flow": null,
            "grid_area": null,
            "grid_auto_columns": null,
            "grid_auto_flow": null,
            "grid_auto_rows": null,
            "grid_column": null,
            "grid_gap": null,
            "grid_row": null,
            "grid_template_areas": null,
            "grid_template_columns": null,
            "grid_template_rows": null,
            "height": null,
            "justify_content": null,
            "justify_items": null,
            "left": null,
            "margin": null,
            "max_height": null,
            "max_width": null,
            "min_height": null,
            "min_width": null,
            "object_fit": null,
            "object_position": null,
            "order": null,
            "overflow": null,
            "overflow_x": null,
            "overflow_y": null,
            "padding": null,
            "right": null,
            "top": null,
            "visibility": null,
            "width": null
          }
        },
        "99bab4c883d441259bc15d20f4634e58": {
          "model_module": "@jupyter-widgets/base",
          "model_name": "LayoutModel",
          "model_module_version": "1.2.0",
          "state": {
            "_model_module": "@jupyter-widgets/base",
            "_model_module_version": "1.2.0",
            "_model_name": "LayoutModel",
            "_view_count": null,
            "_view_module": "@jupyter-widgets/base",
            "_view_module_version": "1.2.0",
            "_view_name": "LayoutView",
            "align_content": null,
            "align_items": null,
            "align_self": null,
            "border": null,
            "bottom": null,
            "display": null,
            "flex": null,
            "flex_flow": null,
            "grid_area": null,
            "grid_auto_columns": null,
            "grid_auto_flow": null,
            "grid_auto_rows": null,
            "grid_column": null,
            "grid_gap": null,
            "grid_row": null,
            "grid_template_areas": null,
            "grid_template_columns": null,
            "grid_template_rows": null,
            "height": null,
            "justify_content": null,
            "justify_items": null,
            "left": null,
            "margin": null,
            "max_height": null,
            "max_width": null,
            "min_height": null,
            "min_width": null,
            "object_fit": null,
            "object_position": null,
            "order": null,
            "overflow": null,
            "overflow_x": null,
            "overflow_y": null,
            "padding": null,
            "right": null,
            "top": null,
            "visibility": null,
            "width": null
          }
        },
        "5b7ce1f4671a49e892cace62495c6ab5": {
          "model_module": "@jupyter-widgets/controls",
          "model_name": "DescriptionStyleModel",
          "model_module_version": "1.5.0",
          "state": {
            "_model_module": "@jupyter-widgets/controls",
            "_model_module_version": "1.5.0",
            "_model_name": "DescriptionStyleModel",
            "_view_count": null,
            "_view_module": "@jupyter-widgets/base",
            "_view_module_version": "1.2.0",
            "_view_name": "StyleView",
            "description_width": ""
          }
        },
        "06a7b918f66e4a8c8061893662354a2b": {
          "model_module": "@jupyter-widgets/base",
          "model_name": "LayoutModel",
          "model_module_version": "1.2.0",
          "state": {
            "_model_module": "@jupyter-widgets/base",
            "_model_module_version": "1.2.0",
            "_model_name": "LayoutModel",
            "_view_count": null,
            "_view_module": "@jupyter-widgets/base",
            "_view_module_version": "1.2.0",
            "_view_name": "LayoutView",
            "align_content": null,
            "align_items": null,
            "align_self": null,
            "border": null,
            "bottom": null,
            "display": null,
            "flex": null,
            "flex_flow": null,
            "grid_area": null,
            "grid_auto_columns": null,
            "grid_auto_flow": null,
            "grid_auto_rows": null,
            "grid_column": null,
            "grid_gap": null,
            "grid_row": null,
            "grid_template_areas": null,
            "grid_template_columns": null,
            "grid_template_rows": null,
            "height": null,
            "justify_content": null,
            "justify_items": null,
            "left": null,
            "margin": null,
            "max_height": null,
            "max_width": null,
            "min_height": null,
            "min_width": null,
            "object_fit": null,
            "object_position": null,
            "order": null,
            "overflow": null,
            "overflow_x": null,
            "overflow_y": null,
            "padding": null,
            "right": null,
            "top": null,
            "visibility": null,
            "width": null
          }
        },
        "e756e8a4e5384619bb7ae06e3e9330e0": {
          "model_module": "@jupyter-widgets/controls",
          "model_name": "ProgressStyleModel",
          "model_module_version": "1.5.0",
          "state": {
            "_model_module": "@jupyter-widgets/controls",
            "_model_module_version": "1.5.0",
            "_model_name": "ProgressStyleModel",
            "_view_count": null,
            "_view_module": "@jupyter-widgets/base",
            "_view_module_version": "1.2.0",
            "_view_name": "StyleView",
            "bar_color": null,
            "description_width": ""
          }
        },
        "172891f4c9fa4119b09d347e1aeb55d9": {
          "model_module": "@jupyter-widgets/base",
          "model_name": "LayoutModel",
          "model_module_version": "1.2.0",
          "state": {
            "_model_module": "@jupyter-widgets/base",
            "_model_module_version": "1.2.0",
            "_model_name": "LayoutModel",
            "_view_count": null,
            "_view_module": "@jupyter-widgets/base",
            "_view_module_version": "1.2.0",
            "_view_name": "LayoutView",
            "align_content": null,
            "align_items": null,
            "align_self": null,
            "border": null,
            "bottom": null,
            "display": null,
            "flex": null,
            "flex_flow": null,
            "grid_area": null,
            "grid_auto_columns": null,
            "grid_auto_flow": null,
            "grid_auto_rows": null,
            "grid_column": null,
            "grid_gap": null,
            "grid_row": null,
            "grid_template_areas": null,
            "grid_template_columns": null,
            "grid_template_rows": null,
            "height": null,
            "justify_content": null,
            "justify_items": null,
            "left": null,
            "margin": null,
            "max_height": null,
            "max_width": null,
            "min_height": null,
            "min_width": null,
            "object_fit": null,
            "object_position": null,
            "order": null,
            "overflow": null,
            "overflow_x": null,
            "overflow_y": null,
            "padding": null,
            "right": null,
            "top": null,
            "visibility": null,
            "width": null
          }
        },
        "73c068acc8ab4bea8be0a9e7dd4e6dc6": {
          "model_module": "@jupyter-widgets/controls",
          "model_name": "DescriptionStyleModel",
          "model_module_version": "1.5.0",
          "state": {
            "_model_module": "@jupyter-widgets/controls",
            "_model_module_version": "1.5.0",
            "_model_name": "DescriptionStyleModel",
            "_view_count": null,
            "_view_module": "@jupyter-widgets/base",
            "_view_module_version": "1.2.0",
            "_view_name": "StyleView",
            "description_width": ""
          }
        },
        "797407bf612142f88ade5b5fd9b95ca0": {
          "model_module": "@jupyter-widgets/controls",
          "model_name": "HBoxModel",
          "model_module_version": "1.5.0",
          "state": {
            "_dom_classes": [],
            "_model_module": "@jupyter-widgets/controls",
            "_model_module_version": "1.5.0",
            "_model_name": "HBoxModel",
            "_view_count": null,
            "_view_module": "@jupyter-widgets/controls",
            "_view_module_version": "1.5.0",
            "_view_name": "HBoxView",
            "box_style": "",
            "children": [
              "IPY_MODEL_7b6e583febd5404989b89645b429f57a",
              "IPY_MODEL_6e42d4855a50488fa47a4e01c207b6fa",
              "IPY_MODEL_f391f2792f8e494fbab707226e8393e7"
            ],
            "layout": "IPY_MODEL_663ce798d6114384a703a80156c12dfb"
          }
        },
        "7b6e583febd5404989b89645b429f57a": {
          "model_module": "@jupyter-widgets/controls",
          "model_name": "HTMLModel",
          "model_module_version": "1.5.0",
          "state": {
            "_dom_classes": [],
            "_model_module": "@jupyter-widgets/controls",
            "_model_module_version": "1.5.0",
            "_model_name": "HTMLModel",
            "_view_count": null,
            "_view_module": "@jupyter-widgets/controls",
            "_view_module_version": "1.5.0",
            "_view_name": "HTMLView",
            "description": "",
            "description_tooltip": null,
            "layout": "IPY_MODEL_43c37e23defc4c118f906450345b1aaa",
            "placeholder": "​",
            "style": "IPY_MODEL_8b183abb9f4f4ae2b537807739256811",
            "value": "Downloading builder script: "
          }
        },
        "6e42d4855a50488fa47a4e01c207b6fa": {
          "model_module": "@jupyter-widgets/controls",
          "model_name": "FloatProgressModel",
          "model_module_version": "1.5.0",
          "state": {
            "_dom_classes": [],
            "_model_module": "@jupyter-widgets/controls",
            "_model_module_version": "1.5.0",
            "_model_name": "FloatProgressModel",
            "_view_count": null,
            "_view_module": "@jupyter-widgets/controls",
            "_view_module_version": "1.5.0",
            "_view_name": "ProgressView",
            "bar_style": "success",
            "description": "",
            "description_tooltip": null,
            "layout": "IPY_MODEL_38c7997d1f154058b26ba7a5306e4bce",
            "max": 1652,
            "min": 0,
            "orientation": "horizontal",
            "style": "IPY_MODEL_dea0f2e8e3084d83bf827881036d541d",
            "value": 1652
          }
        },
        "f391f2792f8e494fbab707226e8393e7": {
          "model_module": "@jupyter-widgets/controls",
          "model_name": "HTMLModel",
          "model_module_version": "1.5.0",
          "state": {
            "_dom_classes": [],
            "_model_module": "@jupyter-widgets/controls",
            "_model_module_version": "1.5.0",
            "_model_name": "HTMLModel",
            "_view_count": null,
            "_view_module": "@jupyter-widgets/controls",
            "_view_module_version": "1.5.0",
            "_view_name": "HTMLView",
            "description": "",
            "description_tooltip": null,
            "layout": "IPY_MODEL_ce0aad62fd144ef8a4804a6e844862b7",
            "placeholder": "​",
            "style": "IPY_MODEL_cabd281a434d422dabc69d0c7ba021ef",
            "value": " 4.21k/? [00:00&lt;00:00, 169kB/s]"
          }
        },
        "663ce798d6114384a703a80156c12dfb": {
          "model_module": "@jupyter-widgets/base",
          "model_name": "LayoutModel",
          "model_module_version": "1.2.0",
          "state": {
            "_model_module": "@jupyter-widgets/base",
            "_model_module_version": "1.2.0",
            "_model_name": "LayoutModel",
            "_view_count": null,
            "_view_module": "@jupyter-widgets/base",
            "_view_module_version": "1.2.0",
            "_view_name": "LayoutView",
            "align_content": null,
            "align_items": null,
            "align_self": null,
            "border": null,
            "bottom": null,
            "display": null,
            "flex": null,
            "flex_flow": null,
            "grid_area": null,
            "grid_auto_columns": null,
            "grid_auto_flow": null,
            "grid_auto_rows": null,
            "grid_column": null,
            "grid_gap": null,
            "grid_row": null,
            "grid_template_areas": null,
            "grid_template_columns": null,
            "grid_template_rows": null,
            "height": null,
            "justify_content": null,
            "justify_items": null,
            "left": null,
            "margin": null,
            "max_height": null,
            "max_width": null,
            "min_height": null,
            "min_width": null,
            "object_fit": null,
            "object_position": null,
            "order": null,
            "overflow": null,
            "overflow_x": null,
            "overflow_y": null,
            "padding": null,
            "right": null,
            "top": null,
            "visibility": null,
            "width": null
          }
        },
        "43c37e23defc4c118f906450345b1aaa": {
          "model_module": "@jupyter-widgets/base",
          "model_name": "LayoutModel",
          "model_module_version": "1.2.0",
          "state": {
            "_model_module": "@jupyter-widgets/base",
            "_model_module_version": "1.2.0",
            "_model_name": "LayoutModel",
            "_view_count": null,
            "_view_module": "@jupyter-widgets/base",
            "_view_module_version": "1.2.0",
            "_view_name": "LayoutView",
            "align_content": null,
            "align_items": null,
            "align_self": null,
            "border": null,
            "bottom": null,
            "display": null,
            "flex": null,
            "flex_flow": null,
            "grid_area": null,
            "grid_auto_columns": null,
            "grid_auto_flow": null,
            "grid_auto_rows": null,
            "grid_column": null,
            "grid_gap": null,
            "grid_row": null,
            "grid_template_areas": null,
            "grid_template_columns": null,
            "grid_template_rows": null,
            "height": null,
            "justify_content": null,
            "justify_items": null,
            "left": null,
            "margin": null,
            "max_height": null,
            "max_width": null,
            "min_height": null,
            "min_width": null,
            "object_fit": null,
            "object_position": null,
            "order": null,
            "overflow": null,
            "overflow_x": null,
            "overflow_y": null,
            "padding": null,
            "right": null,
            "top": null,
            "visibility": null,
            "width": null
          }
        },
        "8b183abb9f4f4ae2b537807739256811": {
          "model_module": "@jupyter-widgets/controls",
          "model_name": "DescriptionStyleModel",
          "model_module_version": "1.5.0",
          "state": {
            "_model_module": "@jupyter-widgets/controls",
            "_model_module_version": "1.5.0",
            "_model_name": "DescriptionStyleModel",
            "_view_count": null,
            "_view_module": "@jupyter-widgets/base",
            "_view_module_version": "1.2.0",
            "_view_name": "StyleView",
            "description_width": ""
          }
        },
        "38c7997d1f154058b26ba7a5306e4bce": {
          "model_module": "@jupyter-widgets/base",
          "model_name": "LayoutModel",
          "model_module_version": "1.2.0",
          "state": {
            "_model_module": "@jupyter-widgets/base",
            "_model_module_version": "1.2.0",
            "_model_name": "LayoutModel",
            "_view_count": null,
            "_view_module": "@jupyter-widgets/base",
            "_view_module_version": "1.2.0",
            "_view_name": "LayoutView",
            "align_content": null,
            "align_items": null,
            "align_self": null,
            "border": null,
            "bottom": null,
            "display": null,
            "flex": null,
            "flex_flow": null,
            "grid_area": null,
            "grid_auto_columns": null,
            "grid_auto_flow": null,
            "grid_auto_rows": null,
            "grid_column": null,
            "grid_gap": null,
            "grid_row": null,
            "grid_template_areas": null,
            "grid_template_columns": null,
            "grid_template_rows": null,
            "height": null,
            "justify_content": null,
            "justify_items": null,
            "left": null,
            "margin": null,
            "max_height": null,
            "max_width": null,
            "min_height": null,
            "min_width": null,
            "object_fit": null,
            "object_position": null,
            "order": null,
            "overflow": null,
            "overflow_x": null,
            "overflow_y": null,
            "padding": null,
            "right": null,
            "top": null,
            "visibility": null,
            "width": null
          }
        },
        "dea0f2e8e3084d83bf827881036d541d": {
          "model_module": "@jupyter-widgets/controls",
          "model_name": "ProgressStyleModel",
          "model_module_version": "1.5.0",
          "state": {
            "_model_module": "@jupyter-widgets/controls",
            "_model_module_version": "1.5.0",
            "_model_name": "ProgressStyleModel",
            "_view_count": null,
            "_view_module": "@jupyter-widgets/base",
            "_view_module_version": "1.2.0",
            "_view_name": "StyleView",
            "bar_color": null,
            "description_width": ""
          }
        },
        "ce0aad62fd144ef8a4804a6e844862b7": {
          "model_module": "@jupyter-widgets/base",
          "model_name": "LayoutModel",
          "model_module_version": "1.2.0",
          "state": {
            "_model_module": "@jupyter-widgets/base",
            "_model_module_version": "1.2.0",
            "_model_name": "LayoutModel",
            "_view_count": null,
            "_view_module": "@jupyter-widgets/base",
            "_view_module_version": "1.2.0",
            "_view_name": "LayoutView",
            "align_content": null,
            "align_items": null,
            "align_self": null,
            "border": null,
            "bottom": null,
            "display": null,
            "flex": null,
            "flex_flow": null,
            "grid_area": null,
            "grid_auto_columns": null,
            "grid_auto_flow": null,
            "grid_auto_rows": null,
            "grid_column": null,
            "grid_gap": null,
            "grid_row": null,
            "grid_template_areas": null,
            "grid_template_columns": null,
            "grid_template_rows": null,
            "height": null,
            "justify_content": null,
            "justify_items": null,
            "left": null,
            "margin": null,
            "max_height": null,
            "max_width": null,
            "min_height": null,
            "min_width": null,
            "object_fit": null,
            "object_position": null,
            "order": null,
            "overflow": null,
            "overflow_x": null,
            "overflow_y": null,
            "padding": null,
            "right": null,
            "top": null,
            "visibility": null,
            "width": null
          }
        },
        "cabd281a434d422dabc69d0c7ba021ef": {
          "model_module": "@jupyter-widgets/controls",
          "model_name": "DescriptionStyleModel",
          "model_module_version": "1.5.0",
          "state": {
            "_model_module": "@jupyter-widgets/controls",
            "_model_module_version": "1.5.0",
            "_model_name": "DescriptionStyleModel",
            "_view_count": null,
            "_view_module": "@jupyter-widgets/base",
            "_view_module_version": "1.2.0",
            "_view_name": "StyleView",
            "description_width": ""
          }
        }
      }
    }
  },
  "cells": [
    {
      "cell_type": "markdown",
      "source": [
        "# Fine-Tuning an NMT System ?"
      ],
      "metadata": {
        "id": "JW37LULgKwTV"
      }
    },
    {
      "cell_type": "markdown",
      "source": [
        "Today, fine-tuning is one of the main strategies for developing a model (be it an LLM or a specialized model) for a particular domain or language. It makes it possible to adapt a generic model to a particular vocabulary, turn of phrase or syntactic construction. The aim of this lab is twofold :\n",
        "* we want to see how a translation system can be finetuned.\n",
        "* we want to identify the criteria on which fine-tuning can adapt a model\n",
        "\n",
        "In this lab, we consider translation between French and English using the mbart-25 model. The Hugging Face library provides all the tools needed to fine-tune a model (check, for instance, https://huggingface.co/docs/transformers/training or https://github.com/huggingface/transformers/blob/main/examples/pytorch/translation/run_translation.py)."
      ],
      "metadata": {
        "id": "6-Vp6kogTa4N"
      }
    },
    {
      "cell_type": "markdown",
      "source": [
        "## Testing the possibility for the model to learn to translate new words."
      ],
      "metadata": {
        "id": "RGwKPKkAUBSo"
      }
    },
    {
      "cell_type": "code",
      "source": [
        "!pip install transformers\n",
        "!pip install accelerate -U\n",
        "!pip install sentencepiece\n",
        "!pip install datasets\n",
        "\n",
        "import random\n",
        "import torch\n",
        "from transformers import MBart50Tokenizer, MBartForConditionalGeneration"
      ],
      "metadata": {
        "id": "YJv6ygBahoMq"
      },
      "execution_count": null,
      "outputs": []
    },
    {
      "cell_type": "code",
      "source": [
        "device = torch.device(\"cuda\" if torch.cuda.is_available() else \"cpu\")\n",
        "model = MBartForConditionalGeneration.from_pretrained(\"facebook/mbart-large-50-many-to-many-mmt\").to(device)\n",
        "tokenizer = MBart50Tokenizer.from_pretrained(\"facebook/mbart-large-50-many-to-many-mmt\", src_lang=\"fr_XX\", tgt_lag = \"en_XX\")"
      ],
      "metadata": {
        "id": "u2gWERp8MDf5",
        "colab": {
          "base_uri": "https://localhost:8080/",
          "height": 145,
          "referenced_widgets": [
            "f53b11f0d79044588ae7352f240a85fa",
            "656555ca093941f087da65ba133cb843",
            "58bfff76afb14ba9b786fc024ff17dac",
            "a68135a65bb24fd0a06cf38fadad28cf",
            "18d54d443b6b4b7a8e85ff4f4d2cabde",
            "5e2e735d2d88489fbc3aad952d02313c",
            "68295a0cf3d74e069e18420c47f58ad1",
            "ac3822999b3f40f2a51ea7233c323785",
            "82c47e9b3b3e4359ada673c57bb3d890",
            "89e27c12864f453ca61074513a57d519",
            "59e47a18ca4a4c518bd9986f6552a024",
            "020f074a9dbc47359d905c22d387fed6",
            "eba8d6864ab3456bbf021584709fbed6",
            "33071905df93479a83db7c96f5fdbc33",
            "a53402b8c5154557b2b565a9b80436ad",
            "1fe28aa1d9ab40549e1be79562fc5450",
            "f9e21e3738134f9886806bc9d545fd6a",
            "ecc9991615624fba9dbaa9fd4a6401d4",
            "9a87fcf155d548b884286de66e541bec",
            "ca868724de5f411da60748c6b7360c26",
            "13c83ad3bfb14e61b21bbaae1bbe3b6e",
            "759fe44bfbd741728fc8158225b76bd0",
            "fc16602da61b4d8084da6706cc3aadb6",
            "505d0e33f0b04505908a1a99710a9acc",
            "0d6b8096424f41bd9c63268939324df4",
            "98791b02f24341a692d135d1ecc91414",
            "27ab2ef6ca444023b18b9aa43cf4793d",
            "d0b3d2f1e71640edb461c3a044da1a23",
            "8ebf1a4a099345bcb5b6eb4c611b0875",
            "75f8744850c74360b38d9ec64fe68d72",
            "1947bf98ccd14eaa954d80d58e4bb774",
            "b8a2ae1aaf2c4a1d90788a5e7fcb13f9",
            "8aa1d1c31d4c4c2ea1c819809ce62979",
            "a321c78562434180b19fd5ab28080816",
            "30851457f73c4676881b64c7088e177d",
            "8b94ecb5cc834e069e1251a66c4a051a",
            "96e686b3bc574865a172b712e345a29c",
            "9b7d781e4ece4b8390d11650d559e909",
            "99bab4c883d441259bc15d20f4634e58",
            "5b7ce1f4671a49e892cace62495c6ab5",
            "06a7b918f66e4a8c8061893662354a2b",
            "e756e8a4e5384619bb7ae06e3e9330e0",
            "172891f4c9fa4119b09d347e1aeb55d9",
            "73c068acc8ab4bea8be0a9e7dd4e6dc6"
          ]
        },
        "outputId": "5f423132-cfe1-45d1-f02e-14c52ce33dae"
      },
      "execution_count": 24,
      "outputs": [
        {
          "output_type": "display_data",
          "data": {
            "text/plain": [
              "tokenizer_config.json:   0%|          | 0.00/529 [00:00<?, ?B/s]"
            ],
            "application/vnd.jupyter.widget-view+json": {
              "version_major": 2,
              "version_minor": 0,
              "model_id": "f53b11f0d79044588ae7352f240a85fa"
            }
          },
          "metadata": {}
        },
        {
          "output_type": "display_data",
          "data": {
            "text/plain": [
              "sentencepiece.bpe.model:   0%|          | 0.00/5.07M [00:00<?, ?B/s]"
            ],
            "application/vnd.jupyter.widget-view+json": {
              "version_major": 2,
              "version_minor": 0,
              "model_id": "020f074a9dbc47359d905c22d387fed6"
            }
          },
          "metadata": {}
        },
        {
          "output_type": "display_data",
          "data": {
            "text/plain": [
              "special_tokens_map.json:   0%|          | 0.00/649 [00:00<?, ?B/s]"
            ],
            "application/vnd.jupyter.widget-view+json": {
              "version_major": 2,
              "version_minor": 0,
              "model_id": "fc16602da61b4d8084da6706cc3aadb6"
            }
          },
          "metadata": {}
        },
        {
          "output_type": "display_data",
          "data": {
            "text/plain": [
              "config.json:   0%|          | 0.00/1.43k [00:00<?, ?B/s]"
            ],
            "application/vnd.jupyter.widget-view+json": {
              "version_major": 2,
              "version_minor": 0,
              "model_id": "a321c78562434180b19fd5ab28080816"
            }
          },
          "metadata": {}
        }
      ]
    },
    {
      "cell_type": "markdown",
      "source": [
        "The different steps consist of:\n",
        "\n",
        "1.   Generating 100 French (or French_-like) words with their English (or English-like) translation.\n",
        "\n",
        "2.   Adding them at position 2 in 1000 sentences in French and their corresponding translation at the same position in the English sentences.\n",
        "\n",
        "3.   Creating datasets of 100 sentences in the test_set (i.e. containing one occurrence of each generated words) and 900 sentences in the train_set. Foreach sentence in the dataset there are 3 keys (input_ids, attention_mask, labels) where input_ids is the encoded French sentence (pyTorch tensor) and labels is the encoded English sentence.\n",
        "\n",
        "4.  The idea is for the model to be trained to correctly translate the generated French words into their generated English translation. After fine-tuning the model the correctly predicted target words go from 4% (before fine tuning) to 96%, meaning that the model has learnt very well."
      ],
      "metadata": {
        "id": "Np-yfIalGHSH"
      }
    },
    {
      "cell_type": "markdown",
      "source": [
        "1. Generate a list of 100 French words and translate them into English (e.g. by randomly swapping the letters of existing words, or by concatenating sub-words units). It is essential to ensure that the words generated do not appear in the vocabulary and that they are segmented into several sub-tokens."
      ],
      "metadata": {
        "id": "wsSHRMX-LLG0"
      }
    },
    {
      "cell_type": "code",
      "source": [
        "from google.colab import drive\n",
        "drive.mount(\"content/\")"
      ],
      "metadata": {
        "colab": {
          "base_uri": "https://localhost:8080/"
        },
        "id": "fsVvrn5Gm0-Q",
        "outputId": "645fd2fc-8883-4ecf-84e0-43112106815d"
      },
      "execution_count": 1,
      "outputs": [
        {
          "output_type": "stream",
          "name": "stdout",
          "text": [
            "Mounted at content/\n"
          ]
        }
      ]
    },
    {
      "cell_type": "code",
      "source": [
        "import pandas as pd\n",
        "df = pd.read_csv(\"/content/content/MyDrive/Multilingual_NLP/Lab_6/Celine270test.csv\", sep='\\t')\n",
        "df = df[df['source'] != '\"']\n",
        "#Reset indices in df\n",
        "df = df.reset_index(drop=True)\n",
        "df"
      ],
      "metadata": {
        "colab": {
          "base_uri": "https://localhost:8080/",
          "height": 424
        },
        "id": "6w_tcz1BnFLa",
        "outputId": "dda322cb-0cc2-47b7-ff8b-724aaa018e7a"
      },
      "execution_count": 3,
      "outputs": [
        {
          "output_type": "execute_result",
          "data": {
            "text/plain": [
              "                                                source  \\\n",
              "0    La sienne, c'est vrai, elle se présentait un p...   \n",
              "1             Moi j'ai fait ça tout de suite très mal.   \n",
              "2         Lui c'était par un cargo qu'il était arrivé.   \n",
              "3                      Ma façon, c'était pas beaucoup.   \n",
              "4    On peut pas tout faire!... Moi, c'est l'apéro ...   \n",
              "..                                                 ...   \n",
              "165                     Je sais, Paul, où il est allé.   \n",
              "166  Je lui ai demandé, ces pommes-là, à qui il ava...   \n",
              "167  Je lui ai demandé à qui, ces pommes-là, il ava...   \n",
              "168  Je lui ai demandé, ces pommes-là, où il les av...   \n",
              "169  Je lui ai demandé où, ces pommes-là, il les av...   \n",
              "\n",
              "                                                target  \n",
              "0    Theirs was true, it looked a little better, bu...  \n",
              "1                      I did it very badly right away.  \n",
              "2                      He had arrived by a cargo ship.  \n",
              "3                                 My way was not much.  \n",
              "4    You can't do everything!... I prefer the apert...  \n",
              "..                                                 ...  \n",
              "165                       I know, Paul, where he went.  \n",
              "166  I asked him, these apples, to whom he intended...  \n",
              "167  I asked him who, those apples, he intended to ...  \n",
              "168    I asked him, these apples, where he found them.  \n",
              "169       I asked him where he had found those apples.  \n",
              "\n",
              "[170 rows x 2 columns]"
            ],
            "text/html": [
              "\n",
              "  <div id=\"df-e1571acc-f9f1-4059-8df1-0edce4867070\" class=\"colab-df-container\">\n",
              "    <div>\n",
              "<style scoped>\n",
              "    .dataframe tbody tr th:only-of-type {\n",
              "        vertical-align: middle;\n",
              "    }\n",
              "\n",
              "    .dataframe tbody tr th {\n",
              "        vertical-align: top;\n",
              "    }\n",
              "\n",
              "    .dataframe thead th {\n",
              "        text-align: right;\n",
              "    }\n",
              "</style>\n",
              "<table border=\"1\" class=\"dataframe\">\n",
              "  <thead>\n",
              "    <tr style=\"text-align: right;\">\n",
              "      <th></th>\n",
              "      <th>source</th>\n",
              "      <th>target</th>\n",
              "    </tr>\n",
              "  </thead>\n",
              "  <tbody>\n",
              "    <tr>\n",
              "      <th>0</th>\n",
              "      <td>La sienne, c'est vrai, elle se présentait un p...</td>\n",
              "      <td>Theirs was true, it looked a little better, bu...</td>\n",
              "    </tr>\n",
              "    <tr>\n",
              "      <th>1</th>\n",
              "      <td>Moi j'ai fait ça tout de suite très mal.</td>\n",
              "      <td>I did it very badly right away.</td>\n",
              "    </tr>\n",
              "    <tr>\n",
              "      <th>2</th>\n",
              "      <td>Lui c'était par un cargo qu'il était arrivé.</td>\n",
              "      <td>He had arrived by a cargo ship.</td>\n",
              "    </tr>\n",
              "    <tr>\n",
              "      <th>3</th>\n",
              "      <td>Ma façon, c'était pas beaucoup.</td>\n",
              "      <td>My way was not much.</td>\n",
              "    </tr>\n",
              "    <tr>\n",
              "      <th>4</th>\n",
              "      <td>On peut pas tout faire!... Moi, c'est l'apéro ...</td>\n",
              "      <td>You can't do everything!... I prefer the apert...</td>\n",
              "    </tr>\n",
              "    <tr>\n",
              "      <th>...</th>\n",
              "      <td>...</td>\n",
              "      <td>...</td>\n",
              "    </tr>\n",
              "    <tr>\n",
              "      <th>165</th>\n",
              "      <td>Je sais, Paul, où il est allé.</td>\n",
              "      <td>I know, Paul, where he went.</td>\n",
              "    </tr>\n",
              "    <tr>\n",
              "      <th>166</th>\n",
              "      <td>Je lui ai demandé, ces pommes-là, à qui il ava...</td>\n",
              "      <td>I asked him, these apples, to whom he intended...</td>\n",
              "    </tr>\n",
              "    <tr>\n",
              "      <th>167</th>\n",
              "      <td>Je lui ai demandé à qui, ces pommes-là, il ava...</td>\n",
              "      <td>I asked him who, those apples, he intended to ...</td>\n",
              "    </tr>\n",
              "    <tr>\n",
              "      <th>168</th>\n",
              "      <td>Je lui ai demandé, ces pommes-là, où il les av...</td>\n",
              "      <td>I asked him, these apples, where he found them.</td>\n",
              "    </tr>\n",
              "    <tr>\n",
              "      <th>169</th>\n",
              "      <td>Je lui ai demandé où, ces pommes-là, il les av...</td>\n",
              "      <td>I asked him where he had found those apples.</td>\n",
              "    </tr>\n",
              "  </tbody>\n",
              "</table>\n",
              "<p>170 rows × 2 columns</p>\n",
              "</div>\n",
              "    <div class=\"colab-df-buttons\">\n",
              "\n",
              "  <div class=\"colab-df-container\">\n",
              "    <button class=\"colab-df-convert\" onclick=\"convertToInteractive('df-e1571acc-f9f1-4059-8df1-0edce4867070')\"\n",
              "            title=\"Convert this dataframe to an interactive table.\"\n",
              "            style=\"display:none;\">\n",
              "\n",
              "  <svg xmlns=\"http://www.w3.org/2000/svg\" height=\"24px\" viewBox=\"0 -960 960 960\">\n",
              "    <path d=\"M120-120v-720h720v720H120Zm60-500h600v-160H180v160Zm220 220h160v-160H400v160Zm0 220h160v-160H400v160ZM180-400h160v-160H180v160Zm440 0h160v-160H620v160ZM180-180h160v-160H180v160Zm440 0h160v-160H620v160Z\"/>\n",
              "  </svg>\n",
              "    </button>\n",
              "\n",
              "  <style>\n",
              "    .colab-df-container {\n",
              "      display:flex;\n",
              "      gap: 12px;\n",
              "    }\n",
              "\n",
              "    .colab-df-convert {\n",
              "      background-color: #E8F0FE;\n",
              "      border: none;\n",
              "      border-radius: 50%;\n",
              "      cursor: pointer;\n",
              "      display: none;\n",
              "      fill: #1967D2;\n",
              "      height: 32px;\n",
              "      padding: 0 0 0 0;\n",
              "      width: 32px;\n",
              "    }\n",
              "\n",
              "    .colab-df-convert:hover {\n",
              "      background-color: #E2EBFA;\n",
              "      box-shadow: 0px 1px 2px rgba(60, 64, 67, 0.3), 0px 1px 3px 1px rgba(60, 64, 67, 0.15);\n",
              "      fill: #174EA6;\n",
              "    }\n",
              "\n",
              "    .colab-df-buttons div {\n",
              "      margin-bottom: 4px;\n",
              "    }\n",
              "\n",
              "    [theme=dark] .colab-df-convert {\n",
              "      background-color: #3B4455;\n",
              "      fill: #D2E3FC;\n",
              "    }\n",
              "\n",
              "    [theme=dark] .colab-df-convert:hover {\n",
              "      background-color: #434B5C;\n",
              "      box-shadow: 0px 1px 3px 1px rgba(0, 0, 0, 0.15);\n",
              "      filter: drop-shadow(0px 1px 2px rgba(0, 0, 0, 0.3));\n",
              "      fill: #FFFFFF;\n",
              "    }\n",
              "  </style>\n",
              "\n",
              "    <script>\n",
              "      const buttonEl =\n",
              "        document.querySelector('#df-e1571acc-f9f1-4059-8df1-0edce4867070 button.colab-df-convert');\n",
              "      buttonEl.style.display =\n",
              "        google.colab.kernel.accessAllowed ? 'block' : 'none';\n",
              "\n",
              "      async function convertToInteractive(key) {\n",
              "        const element = document.querySelector('#df-e1571acc-f9f1-4059-8df1-0edce4867070');\n",
              "        const dataTable =\n",
              "          await google.colab.kernel.invokeFunction('convertToInteractive',\n",
              "                                                    [key], {});\n",
              "        if (!dataTable) return;\n",
              "\n",
              "        const docLinkHtml = 'Like what you see? Visit the ' +\n",
              "          '<a target=\"_blank\" href=https://colab.research.google.com/notebooks/data_table.ipynb>data table notebook</a>'\n",
              "          + ' to learn more about interactive tables.';\n",
              "        element.innerHTML = '';\n",
              "        dataTable['output_type'] = 'display_data';\n",
              "        await google.colab.output.renderOutput(dataTable, element);\n",
              "        const docLink = document.createElement('div');\n",
              "        docLink.innerHTML = docLinkHtml;\n",
              "        element.appendChild(docLink);\n",
              "      }\n",
              "    </script>\n",
              "  </div>\n",
              "\n",
              "\n",
              "<div id=\"df-f0413729-3d67-4133-996b-10839cc56c60\">\n",
              "  <button class=\"colab-df-quickchart\" onclick=\"quickchart('df-f0413729-3d67-4133-996b-10839cc56c60')\"\n",
              "            title=\"Suggest charts\"\n",
              "            style=\"display:none;\">\n",
              "\n",
              "<svg xmlns=\"http://www.w3.org/2000/svg\" height=\"24px\"viewBox=\"0 0 24 24\"\n",
              "     width=\"24px\">\n",
              "    <g>\n",
              "        <path d=\"M19 3H5c-1.1 0-2 .9-2 2v14c0 1.1.9 2 2 2h14c1.1 0 2-.9 2-2V5c0-1.1-.9-2-2-2zM9 17H7v-7h2v7zm4 0h-2V7h2v10zm4 0h-2v-4h2v4z\"/>\n",
              "    </g>\n",
              "</svg>\n",
              "  </button>\n",
              "\n",
              "<style>\n",
              "  .colab-df-quickchart {\n",
              "      --bg-color: #E8F0FE;\n",
              "      --fill-color: #1967D2;\n",
              "      --hover-bg-color: #E2EBFA;\n",
              "      --hover-fill-color: #174EA6;\n",
              "      --disabled-fill-color: #AAA;\n",
              "      --disabled-bg-color: #DDD;\n",
              "  }\n",
              "\n",
              "  [theme=dark] .colab-df-quickchart {\n",
              "      --bg-color: #3B4455;\n",
              "      --fill-color: #D2E3FC;\n",
              "      --hover-bg-color: #434B5C;\n",
              "      --hover-fill-color: #FFFFFF;\n",
              "      --disabled-bg-color: #3B4455;\n",
              "      --disabled-fill-color: #666;\n",
              "  }\n",
              "\n",
              "  .colab-df-quickchart {\n",
              "    background-color: var(--bg-color);\n",
              "    border: none;\n",
              "    border-radius: 50%;\n",
              "    cursor: pointer;\n",
              "    display: none;\n",
              "    fill: var(--fill-color);\n",
              "    height: 32px;\n",
              "    padding: 0;\n",
              "    width: 32px;\n",
              "  }\n",
              "\n",
              "  .colab-df-quickchart:hover {\n",
              "    background-color: var(--hover-bg-color);\n",
              "    box-shadow: 0 1px 2px rgba(60, 64, 67, 0.3), 0 1px 3px 1px rgba(60, 64, 67, 0.15);\n",
              "    fill: var(--button-hover-fill-color);\n",
              "  }\n",
              "\n",
              "  .colab-df-quickchart-complete:disabled,\n",
              "  .colab-df-quickchart-complete:disabled:hover {\n",
              "    background-color: var(--disabled-bg-color);\n",
              "    fill: var(--disabled-fill-color);\n",
              "    box-shadow: none;\n",
              "  }\n",
              "\n",
              "  .colab-df-spinner {\n",
              "    border: 2px solid var(--fill-color);\n",
              "    border-color: transparent;\n",
              "    border-bottom-color: var(--fill-color);\n",
              "    animation:\n",
              "      spin 1s steps(1) infinite;\n",
              "  }\n",
              "\n",
              "  @keyframes spin {\n",
              "    0% {\n",
              "      border-color: transparent;\n",
              "      border-bottom-color: var(--fill-color);\n",
              "      border-left-color: var(--fill-color);\n",
              "    }\n",
              "    20% {\n",
              "      border-color: transparent;\n",
              "      border-left-color: var(--fill-color);\n",
              "      border-top-color: var(--fill-color);\n",
              "    }\n",
              "    30% {\n",
              "      border-color: transparent;\n",
              "      border-left-color: var(--fill-color);\n",
              "      border-top-color: var(--fill-color);\n",
              "      border-right-color: var(--fill-color);\n",
              "    }\n",
              "    40% {\n",
              "      border-color: transparent;\n",
              "      border-right-color: var(--fill-color);\n",
              "      border-top-color: var(--fill-color);\n",
              "    }\n",
              "    60% {\n",
              "      border-color: transparent;\n",
              "      border-right-color: var(--fill-color);\n",
              "    }\n",
              "    80% {\n",
              "      border-color: transparent;\n",
              "      border-right-color: var(--fill-color);\n",
              "      border-bottom-color: var(--fill-color);\n",
              "    }\n",
              "    90% {\n",
              "      border-color: transparent;\n",
              "      border-bottom-color: var(--fill-color);\n",
              "    }\n",
              "  }\n",
              "</style>\n",
              "\n",
              "  <script>\n",
              "    async function quickchart(key) {\n",
              "      const quickchartButtonEl =\n",
              "        document.querySelector('#' + key + ' button');\n",
              "      quickchartButtonEl.disabled = true;  // To prevent multiple clicks.\n",
              "      quickchartButtonEl.classList.add('colab-df-spinner');\n",
              "      try {\n",
              "        const charts = await google.colab.kernel.invokeFunction(\n",
              "            'suggestCharts', [key], {});\n",
              "      } catch (error) {\n",
              "        console.error('Error during call to suggestCharts:', error);\n",
              "      }\n",
              "      quickchartButtonEl.classList.remove('colab-df-spinner');\n",
              "      quickchartButtonEl.classList.add('colab-df-quickchart-complete');\n",
              "    }\n",
              "    (() => {\n",
              "      let quickchartButtonEl =\n",
              "        document.querySelector('#df-f0413729-3d67-4133-996b-10839cc56c60 button');\n",
              "      quickchartButtonEl.style.display =\n",
              "        google.colab.kernel.accessAllowed ? 'block' : 'none';\n",
              "    })();\n",
              "  </script>\n",
              "</div>\n",
              "    </div>\n",
              "  </div>\n"
            ]
          },
          "metadata": {},
          "execution_count": 3
        }
      ]
    },
    {
      "cell_type": "code",
      "source": [
        "def generate_rotations(word, n):\n",
        "  rotations = [word]  # Start with the original word\n",
        "\n",
        "  # Iterate through the characters\n",
        "  for i in range(1, min(n, len(word))):\n",
        "    # Create a new word by placing the last character in the first position\n",
        "    rotated_word = word[-i:] + word[:-i]\n",
        "    rotations.append(rotated_word)\n",
        "\n",
        "  return rotations\n",
        "\n",
        "generate_rotations(\"cat\", 2)"
      ],
      "metadata": {
        "colab": {
          "base_uri": "https://localhost:8080/"
        },
        "id": "zB-iI40tW2KY",
        "outputId": "715a2558-e7f2-49a8-dba6-b6d37a4ea2f2"
      },
      "execution_count": 20,
      "outputs": [
        {
          "output_type": "execute_result",
          "data": {
            "text/plain": [
              "['cat', 'tca']"
            ]
          },
          "metadata": {},
          "execution_count": 20
        }
      ]
    },
    {
      "cell_type": "code",
      "source": [
        "def make_verif(df, word_list, tokenized_list):\n",
        "  # Ensure the words aren't in the vocabulary already\n",
        "  for word in word_list:\n",
        "    if any(df['source'].str.contains(word).values):\n",
        "        print(f'Word \"{word}\" already in vocabulary.')\n",
        "\n",
        "  # Check that they are tokenized in several subtokens\n",
        "  for word in tokenized_list:\n",
        "    if len(word) < 2:\n",
        "      print(f\"{word} has only one token\")\n",
        "\n",
        "make_verif(df, [\"chat\"], [tokenizer.tokenize(\"chat\")])"
      ],
      "metadata": {
        "id": "s-ASyN-vggED",
        "colab": {
          "base_uri": "https://localhost:8080/"
        },
        "outputId": "35431895-2145-405d-f269-f932219bfc0d"
      },
      "execution_count": 26,
      "outputs": [
        {
          "output_type": "stream",
          "name": "stdout",
          "text": [
            "Word \"chat\" already in vocabulary.\n",
            "['▁chat'] has only one token\n"
          ]
        }
      ]
    },
    {
      "cell_type": "code",
      "source": [
        "from itertools import chain\n",
        "fr_list = [\"chaton\", \"tabourets\", \"ânesse\", \"ventriloque\", \"luminosité\", \"écriture\", \"grammaire\", \"chevalet\", \"poudre\", \"édredon\", \"volet\", \"dictionnaire\", \"profondeur\", \"briquet\", \"armée\"]\n",
        "en_list = [\"kitten\", \"stools\", \"donkey\", \"ventriloquist\", \"brightness\", \"handwriting\", \"grammar\", \"easel\", \"dust\", \"quilt\", \"shutter\", \" dictionary\", \"depth\", \"lighter\", \"army\"]\n",
        "\n",
        "# Generate 10 different words for each word in the original list\n",
        "shuffled_fr_list = list(chain.from_iterable([generate_rotations(fr_word, len(en_word)) for fr_word, en_word in zip(fr_list, en_list)]))[:100]\n",
        "print(\"French list: \", len(shuffled_fr_list))\n",
        "\n",
        "shuffled_en_list = list(chain.from_iterable([generate_rotations(en_word, len(fr_word)) for fr_word, en_word in zip(fr_list, en_list)]))[:100]\n",
        "print(\"English list: \", len(shuffled_en_list))\n",
        "\n",
        "# Tokenize each word to make sure there are at least two subtokens\n",
        "tokenized_fr = [tokenizer.tokenize(word) for word in shuffled_fr_list]\n",
        "tokenized_en = [tokenizer.tokenize(word) for word in shuffled_en_list]\n",
        "\n",
        "# Make verifications\n",
        "make_verif(df, fr_list, tokenized_fr)\n",
        "make_verif(df, en_list, tokenized_en)"
      ],
      "metadata": {
        "colab": {
          "base_uri": "https://localhost:8080/"
        },
        "id": "vFHNgmo3qs0Z",
        "outputId": "c6b70070-7ebf-4110-c860-7a3a49f8b91b"
      },
      "execution_count": 7,
      "outputs": [
        {
          "output_type": "stream",
          "name": "stdout",
          "text": [
            "French list:  100\n",
            "English list:  100\n"
          ]
        }
      ]
    },
    {
      "cell_type": "markdown",
      "source": [
        "2. For each pair of words generated, insert them into 10 sentences and their translation. You can thus build up a test corpus of 100 sentences containing the 100 new words and a training corpus of 900 sentences."
      ],
      "metadata": {
        "id": "cforWgRsLQC1"
      }
    },
    {
      "cell_type": "code",
      "source": [
        "import random\n",
        "\n",
        "# get 10 different sentence patterns randomly selected\n",
        "random_indices = random.sample(range(len(df)), 10)\n",
        "selected_src = [df.at[id, 'source'] for id in random_indices]\n",
        "selected_tgt = [df.at[id, 'target'] for id in random_indices]\n",
        "\n",
        "# insert the generated words into these sentences\n",
        "modified_src = []\n",
        "words = []\n",
        "modified_tgt = []\n",
        "trads = []\n",
        "\n",
        "for word, trad in zip(shuffled_fr_list, shuffled_en_list):\n",
        "    for src, tgt in zip(selected_src, selected_tgt):\n",
        "        # Split the sentence into tokens and insert the word after the first 2 tokens\n",
        "        # (to avoid issues due to future truncation)\n",
        "        src_tokens = src.split()\n",
        "        modified_src.append(' '.join(src_tokens[:2] + [word] + src_tokens[1:]))\n",
        "        # Save the added words for the later evaluation\n",
        "        words.append(word)\n",
        "\n",
        "        # Split the sentence into tokens and insert the trad after the first 2 tokens\n",
        "        tgt_tokens = tgt.split()\n",
        "        modified_tgt.append(' '.join(tgt_tokens[:2] + [trad] + tgt_tokens[1:]))\n",
        "        # Save the added translations for the later evaluation\n",
        "        trads.append(trad)\n",
        "\n",
        "print(len(modified_src))\n",
        "print(len(modified_tgt))\n",
        "\n",
        "for src, tgt in zip(modified_src[:5], modified_tgt[:5]):\n",
        "  print(src)\n",
        "  print(tgt)\n",
        "  print()"
      ],
      "metadata": {
        "colab": {
          "base_uri": "https://localhost:8080/"
        },
        "id": "7O4RO_BLwQGq",
        "outputId": "26858456-027f-4a38-8500-a9be40458cba"
      },
      "execution_count": 8,
      "outputs": [
        {
          "output_type": "stream",
          "name": "stdout",
          "text": [
            "1000\n",
            "1000\n",
            "\"D'abord il chaton il est survenu du chômage, de la crise dans les environs et ça c'est le plus mauvais.\n",
            "\"First there kitten there was unemployment, the crisis in the vicinity and that's the worst.\n",
            "\n",
            "Je lui chaton lui ai demandé où, ces pommes-là, il les avait trouvées.\n",
            "I asked kitten asked him where he had found those apples.\n",
            "\n",
            "\"Trahir, qu'on chaton qu'on dit, c'est vite dit.\n",
            "\"Training, as kitten as one says, is quickly said.\n",
            "\n",
            "Qui c'est chaton c'est qui le payera?\n",
            "Who will kitten will pay for it?\n",
            "\n",
            "Libre, je chaton je ne le suis à peu près jamais.\n",
            "Free, I'm kitten I'm almost never.\n",
            "\n",
            "<class 'list'>\n"
          ]
        }
      ]
    },
    {
      "cell_type": "markdown",
      "source": [
        "### Datasets"
      ],
      "metadata": {
        "id": "c51Ta62stupz"
      }
    },
    {
      "cell_type": "code",
      "source": [
        "# Testing the unzip function\n",
        "train_data = [(1, 'a', 'X'), (2, 'b', 'Y'), (3, 'c', 'Z')]\n",
        "numbers, letters, symbols = zip(*train_data)\n",
        "numbers"
      ],
      "metadata": {
        "colab": {
          "base_uri": "https://localhost:8080/"
        },
        "id": "MsSxMT5A1LYN",
        "outputId": "2cf06797-aecc-47d2-9c37-d4325fa37769"
      },
      "execution_count": 13,
      "outputs": [
        {
          "output_type": "execute_result",
          "data": {
            "text/plain": [
              "(1, 2, 3)"
            ]
          },
          "metadata": {},
          "execution_count": 13
        }
      ]
    },
    {
      "cell_type": "code",
      "source": [
        "from datasets import Dataset\n",
        "\n",
        "def create_dataset(sources, targets):\n",
        "    dataset = []\n",
        "    tokenized_sources = tokenizer(sources, padding=True, truncation=True, return_tensors=\"pt\")\n",
        "    tokenized_targets = tokenizer(targets, padding=True, truncation=True, return_tensors=\"pt\")\n",
        "\n",
        "    # Move tensors to the same device as the model\n",
        "    tokenized_sources = {key: value.to(device) for key, value in tokenized_sources.items()}\n",
        "    tokenized_targets = {key: value.to(device) for key, value in tokenized_targets.items()}\n",
        "\n",
        "    for source, target in zip(tokenized_sources[\"input_ids\"], tokenized_targets[\"input_ids\"]):\n",
        "        dataset.append({\n",
        "            \"input_ids\": source,\n",
        "            \"attention_mask\":  [1 if token != 1 else 0 for token in source],\n",
        "            \"labels\": target,\n",
        "        })\n",
        "\n",
        "    return Dataset.from_list(dataset)\n",
        "\n",
        "# Create the combined modified dataset\n",
        "combined_data = list(zip(modified_src, modified_tgt))\n",
        "\n",
        "# Separate the new words (every 10 sentences) for the test dataset\n",
        "test_data = [elt for i, elt in enumerate(combined_data) if i%10 ==0]\n",
        "test_src, test_tgt = zip(*test_data)\n",
        "\n",
        "# Separate the remaining data for the training corpus\n",
        "train_data = [elt for i, elt in enumerate(combined_data) if i%10 != 0]\n",
        "train_src, train_tgt = zip(*train_data)\n",
        "\n",
        "# Use the create_dataset function to create datasets\n",
        "test_dataset = create_dataset(test_src, test_tgt)\n",
        "train_dataset = create_dataset(train_src, train_tgt)\n",
        "\n",
        "# Print the lengths of the datasets\n",
        "print(\"Test Dataset Length:\", len(test_dataset))\n",
        "print(\"Training Corpus Length:\", len(train_dataset))"
      ],
      "metadata": {
        "colab": {
          "base_uri": "https://localhost:8080/"
        },
        "id": "OZBeko401w-U",
        "outputId": "58384679-8fba-4088-da65-aa8023bf3a4c"
      },
      "execution_count": 14,
      "outputs": [
        {
          "output_type": "stream",
          "name": "stderr",
          "text": [
            "Asking to truncate to max_length but no maximum length is provided and the model has no predefined maximum length. Default to no truncation.\n"
          ]
        },
        {
          "output_type": "stream",
          "name": "stdout",
          "text": [
            "Test Dataset Length: 100\n",
            "Training Corpus Length: 900\n"
          ]
        }
      ]
    },
    {
      "cell_type": "code",
      "source": [
        "test_dataset"
      ],
      "metadata": {
        "colab": {
          "base_uri": "https://localhost:8080/"
        },
        "id": "rDRuSLGM4OVV",
        "outputId": "659fe40b-1ca6-4b0c-ea21-91f486b4c7c5"
      },
      "execution_count": 16,
      "outputs": [
        {
          "output_type": "execute_result",
          "data": {
            "text/plain": [
              "Dataset({\n",
              "    features: ['input_ids', 'attention_mask', 'labels'],\n",
              "    num_rows: 100\n",
              "})"
            ]
          },
          "metadata": {},
          "execution_count": 16
        }
      ]
    },
    {
      "cell_type": "markdown",
      "source": [
        "### Translation"
      ],
      "metadata": {
        "id": "ALTo9b1ZuoOv"
      }
    },
    {
      "cell_type": "markdown",
      "source": [
        "3. Are the new words correctly translated ?"
      ],
      "metadata": {
        "id": "hg8xD7k8LUUT"
      }
    },
    {
      "cell_type": "code",
      "source": [
        "import csv\n",
        "from tqdm import tqdm\n",
        "\n",
        "# Function to translate sentences using the MBart model\n",
        "def translate_sentences(model, sentences, file_name):\n",
        "    translated_sentences = []\n",
        "\n",
        "    with open(file_name, \"w\", newline=\"\", encoding=\"utf-8\") as f:\n",
        "        csv_writer = csv.writer(f)\n",
        "        csv_writer.writerow(['Source', 'Translation'])\n",
        "\n",
        "        for src in tqdm(sentences, desc=\"Translating\"):\n",
        "            encoded = tokenizer(src, return_tensors=\"pt\")\n",
        "            encoded =  {key: value.to(device) for key, value in encoded.items()}\n",
        "            # Generate translations for the entire batch\n",
        "            generated = model.generate(**encoded,  forced_bos_token_id=tokenizer.lang_code_to_id[\"en_XX\"]) #max_length=1024, num_beams=4, length_penalty=2.0, early_stopping=True)\n",
        "            trad = tokenizer.batch_decode(generated, skip_special_tokens=True)\n",
        "\n",
        "            # Write the translations to the CSV file\n",
        "            csv_writer.writerow([src, trad])\n",
        "            translated_sentences.append(trad)\n",
        "\n",
        "    return translated_sentences"
      ],
      "metadata": {
        "id": "jlUfls9wt47D"
      },
      "execution_count": 17,
      "outputs": []
    },
    {
      "cell_type": "code",
      "source": [
        "# Translate train dataset\n",
        "train_src_sentences = train_dataset[\"input_ids\"]\n",
        "train_src_sentences = tokenizer.batch_decode(train_src_sentences, skip_special_tokens=True)\n",
        "train_translated = translate_sentences(model, train_src_sentences, \"/content/content/MyDrive/train_translations.csv\")\n",
        "\n",
        "for i in range(5):\n",
        "    print(f\"Source: {train_src_sentences[i]}\")\n",
        "    print(f\"Translation: {train_translated[i]}\\n\")"
      ],
      "metadata": {
        "colab": {
          "base_uri": "https://localhost:8080/"
        },
        "id": "G5tJJPd66svS",
        "outputId": "d1c82625-9ec4-417b-d5f5-7c10a04009bf"
      },
      "execution_count": null,
      "outputs": [
        {
          "output_type": "stream",
          "name": "stderr",
          "text": [
            "Translating: 100%|██████████| 900/900 [11:54<00:00,  1.26it/s]"
          ]
        },
        {
          "output_type": "stream",
          "name": "stdout",
          "text": [
            "Source: Cette remarque qu'elle lui faisait, en douce, c'était pour chaton moi.\n",
            "Translation: ['The gentle remark she made to him was for me.']\n",
            "\n",
            "Source: \"je les reconnais, ces airs-là moi, c'est les mêmes qu'on jouait à Détroit chez chaton Molly...\n",
            "Translation: ['\"I recognize them, these airs-that\\'s me, they\\'re the same ones that were played in Detroit at Molly\\'s cat...']\n",
            "\n",
            "Source: \"Son médecin préféré à elle, c'est chaton Frolichon.\n",
            "Translation: ['\"Her favorite doctor is Frolichon.']\n",
            "\n",
            "Source: \"On ne sait pas ce que c'est que de revenir et d'attendre quelque chose tant qu'on n'a pas observé ce que peuvent attendre et revenir les pauvres qui espèrent une chaton pension.\n",
            "Translation: ['\"We don\\'t know what it is to come back and wait for something until we see what the poor can expect and come back and hope for a little pension.']\n",
            "\n",
            "Source: \"Ce qui gênerait c'est plutôt leur odeur de poussière, qui vous retient par le bout du chaton nez.\n",
            "Translation: ['\"What would bother you is rather their smell of dust, which takes you off the tip of your nose.']\n",
            "\n"
          ]
        },
        {
          "output_type": "stream",
          "name": "stderr",
          "text": [
            "\n"
          ]
        }
      ]
    },
    {
      "cell_type": "code",
      "source": [
        "def evaluate_prediction(target_trads, translated):\n",
        "  correctly_predicted = 0\n",
        "  # Iterate over the translated sentences and the target words\n",
        "  for i, (target, trad) in enumerate(zip(target_trads, translated)):\n",
        "    # Print a portion of them to check\n",
        "    if 20<= i <= 40:\n",
        "      print(\"Target: \", target, \"Trad: \", trad)\n",
        "    # Increment the counter if the target word is in the translation\n",
        "    if target in trad:\n",
        "      correctly_predicted += 1\n",
        "\n",
        "  print(f\"{correctly_predicted/len(target_trads) * 100}% correctly predicted.\")"
      ],
      "metadata": {
        "id": "j7_3b2yyDhE7"
      },
      "execution_count": 17,
      "outputs": []
    },
    {
      "cell_type": "code",
      "source": [
        "# Retrieve all translations\n",
        "train_translated = []\n",
        "with open(\"/content/content/MyDrive/Multilingual_NLP/Lab_6/train_translations.csv\", 'r') as f:\n",
        "  reader = csv.DictReader(f)\n",
        "  for row in reader:\n",
        "    train_translated.append(row['Translation'])\n",
        "\n",
        "\n",
        "# Get the list of the target words\n",
        "train_generated_trads = [elt for i, elt in enumerate(trads) if i%10 != 0]\n",
        "\n",
        "# Evaluate the translations compared to the target sentences\n",
        "evaluate_prediction(train_generated_trads, train_translated)"
      ],
      "metadata": {
        "id": "gO-oIPHeAYaY",
        "colab": {
          "base_uri": "https://localhost:8080/"
        },
        "outputId": "b8b378df-016d-4b8e-cefb-d98d650c3588"
      },
      "execution_count": 19,
      "outputs": [
        {
          "output_type": "stream",
          "name": "stdout",
          "text": [
            "Target:  enkitt Trad:  ['\"Her favorite doctor is onchat Frolichon.']\n",
            "Target:  enkitt Trad:  ['\"We don\\'t know what it is to come back and wait for something until we see what the poor can expect and come back and hope for a pension.']\n",
            "Target:  enkitt Trad:  ['\"What would bother you is rather their smell of dust, which pulls you off the end of your nose.']\n",
            "Target:  enkitt Trad:  ['\"Life is that, a light that ends in a night\\'s shopping.']\n",
            "Target:  enkitt Trad:  ['Have a seat... I\\'m not going well either...\" -- I\\'m just going to make a little tour, which I replied, to give me an onchat container.']\n",
            "Target:  enkitt Trad:  ['\"The main thing for me was that she listened to my advice well and that she took on the most important part of it.']\n",
            "Target:  enkitt Trad:  ['All of this is a regular purchase.']\n",
            "Target:  tenkit Trad:  ['This remark she made to him, gently, was for toncha me.']\n",
            "Target:  tenkit Trad:  ['\"I recognize them, these airs-that\\'s me, they\\'re the same ones that were played in Detroit at toncha Molly...']\n",
            "Target:  tenkit Trad:  ['\"Her favorite doctor is toncha Frolichon.']\n",
            "Target:  tenkit Trad:  ['\"We don\\'t know what it is to come back and wait for something until we see what the poor who hope for a toncha pension can expect and come back.']\n",
            "Target:  tenkit Trad:  ['\"What would be disturbing is rather their smell of dust, which takes you by the end of the toncha nose.']\n",
            "Target:  tenkit Trad:  ['\"Life is that, a bit of light that ends in the toncha night.']\n",
            "Target:  tenkit Trad:  ['Have a seat... I\\'m not going well either...\" -- I\\'m just going to make a little tour, which I replied, to give me a toncha container.']\n",
            "Target:  tenkit Trad:  ['\"The main thing for me was that she listened to my advice well and that she took the most important part of it.']\n",
            "Target:  tenkit Trad:  ['All this is a regular toncha.']\n",
            "Target:  ttenki Trad:  ['The gentle remark she made to him was for my astonishment.']\n",
            "Target:  ttenki Trad:  ['\"I recognize them, these airs-that\\'s me, they\\'re the same ones that were played in Detroit at atonch Molly...']\n",
            "Target:  ttenki Trad:  ['\"Her favorite doctor is atonch Frolichon.']\n",
            "Target:  ttenki Trad:  ['\"We don\\'t know what it is to come back and wait for something until we see what the poor can expect and come back and hope for an atonch pension.']\n",
            "Target:  ttenki Trad:  ['\"What would bother you is rather their smell of dust, which takes you away by the end of the atonch of your nose.']\n",
            "4.0% correctly predicted.\n"
          ]
        }
      ]
    },
    {
      "cell_type": "markdown",
      "source": [
        "### Fine-tuning"
      ],
      "metadata": {
        "id": "dyBosjnH6Lwa"
      }
    },
    {
      "cell_type": "markdown",
      "source": [
        "4. Fine-tune the model on the training corpus. Are the words translated correctly after this step ?"
      ],
      "metadata": {
        "id": "hq9MxwTILXU5"
      }
    },
    {
      "cell_type": "code",
      "source": [
        "from transformers import Trainer, TrainingArguments\n",
        "from datasets import load_metric # evaluate.load\n",
        "import numpy as np\n",
        "\n",
        "metric = load_metric('accuracy')\n",
        "\n",
        "def compute_metrics(p):\n",
        "    # Extract the predicted labels from the output of the model\n",
        "    predictions, labels = p\n",
        "    labels = labels.flatten()\n",
        "    # Extract the class with the highest probability for each example\n",
        "    predictions = np.argmax(predictions[0], axis=-1).flatten()\n",
        "    # Return the computed accuracies\n",
        "    return metric.compute(predictions=predictions, references=labels)"
      ],
      "metadata": {
        "colab": {
          "base_uri": "https://localhost:8080/",
          "height": 105,
          "referenced_widgets": [
            "797407bf612142f88ade5b5fd9b95ca0",
            "7b6e583febd5404989b89645b429f57a",
            "6e42d4855a50488fa47a4e01c207b6fa",
            "f391f2792f8e494fbab707226e8393e7",
            "663ce798d6114384a703a80156c12dfb",
            "43c37e23defc4c118f906450345b1aaa",
            "8b183abb9f4f4ae2b537807739256811",
            "38c7997d1f154058b26ba7a5306e4bce",
            "dea0f2e8e3084d83bf827881036d541d",
            "ce0aad62fd144ef8a4804a6e844862b7",
            "cabd281a434d422dabc69d0c7ba021ef"
          ]
        },
        "id": "lcTp1t2m4Os8",
        "outputId": "e87524ed-900c-4f70-df6a-012e54b5f0ae"
      },
      "execution_count": 18,
      "outputs": [
        {
          "output_type": "stream",
          "name": "stderr",
          "text": [
            "<ipython-input-18-89a9bc566607>:5: FutureWarning: load_metric is deprecated and will be removed in the next major version of datasets. Use 'evaluate.load' instead, from the new library 🤗 Evaluate: https://huggingface.co/docs/evaluate\n",
            "  metric = load_metric('accuracy')\n"
          ]
        },
        {
          "output_type": "display_data",
          "data": {
            "text/plain": [
              "Downloading builder script:   0%|          | 0.00/1.65k [00:00<?, ?B/s]"
            ],
            "application/vnd.jupyter.widget-view+json": {
              "version_major": 2,
              "version_minor": 0,
              "model_id": "797407bf612142f88ade5b5fd9b95ca0"
            }
          },
          "metadata": {}
        }
      ]
    },
    {
      "cell_type": "code",
      "source": [
        "import os\n",
        "os.environ[\"TF_GPU_ALLOC_MEM_SOFT_LIMIT\"] = \"0\""
      ],
      "metadata": {
        "id": "cf9XZx_ZLxc2"
      },
      "execution_count": null,
      "outputs": []
    },
    {
      "cell_type": "code",
      "source": [
        "torch.cuda.empty_cache()\n",
        "batch_size = 2\n",
        "\n",
        "training_args = TrainingArguments(\n",
        "    output_dir=\"/content/content/MyDrive/Multilingual_NLP/Lab_6\",\n",
        "    evaluation_strategy=\"epoch\",\n",
        "    save_strategy='epoch',\n",
        "    learning_rate=0.0001,\n",
        "    per_device_train_batch_size=batch_size,\n",
        "    per_device_eval_batch_size=batch_size,\n",
        "    num_train_epochs=5,\n",
        "    weight_decay=0.01,\n",
        "    logging_dir='./logs',\n",
        "    logging_steps=10,\n",
        "    load_best_model_at_end=True\n",
        ")\n",
        "\n",
        "trainer = Trainer(\n",
        "    model=model,\n",
        "    args=training_args,\n",
        "    train_dataset=train_dataset,\n",
        "    eval_dataset=test_dataset,\n",
        "    compute_metrics=compute_metrics\n",
        ")\n",
        "\n",
        "trainer.train()"
      ],
      "metadata": {
        "id": "oJWHVa6ALYVM",
        "colab": {
          "base_uri": "https://localhost:8080/",
          "height": 286
        },
        "outputId": "b1000473-db92-4682-c3c7-a3c72246b8a7"
      },
      "execution_count": 19,
      "outputs": [
        {
          "output_type": "display_data",
          "data": {
            "text/plain": [
              "<IPython.core.display.HTML object>"
            ],
            "text/html": [
              "\n",
              "    <div>\n",
              "      \n",
              "      <progress value='2250' max='2250' style='width:300px; height:20px; vertical-align: middle;'></progress>\n",
              "      [2250/2250 24:19, Epoch 5/5]\n",
              "    </div>\n",
              "    <table border=\"1\" class=\"dataframe\">\n",
              "  <thead>\n",
              " <tr style=\"text-align: left;\">\n",
              "      <th>Epoch</th>\n",
              "      <th>Training Loss</th>\n",
              "      <th>Validation Loss</th>\n",
              "      <th>Accuracy</th>\n",
              "    </tr>\n",
              "  </thead>\n",
              "  <tbody>\n",
              "    <tr>\n",
              "      <td>1</td>\n",
              "      <td>0.040700</td>\n",
              "      <td>2.506230</td>\n",
              "      <td>0.544182</td>\n",
              "    </tr>\n",
              "    <tr>\n",
              "      <td>2</td>\n",
              "      <td>0.010300</td>\n",
              "      <td>2.820661</td>\n",
              "      <td>0.504978</td>\n",
              "    </tr>\n",
              "    <tr>\n",
              "      <td>3</td>\n",
              "      <td>0.000100</td>\n",
              "      <td>3.823429</td>\n",
              "      <td>0.419415</td>\n",
              "    </tr>\n",
              "    <tr>\n",
              "      <td>4</td>\n",
              "      <td>0.000000</td>\n",
              "      <td>3.804120</td>\n",
              "      <td>0.437772</td>\n",
              "    </tr>\n",
              "    <tr>\n",
              "      <td>5</td>\n",
              "      <td>0.000000</td>\n",
              "      <td>3.850548</td>\n",
              "      <td>0.435283</td>\n",
              "    </tr>\n",
              "  </tbody>\n",
              "</table><p>"
            ]
          },
          "metadata": {}
        },
        {
          "output_type": "stream",
          "name": "stderr",
          "text": [
            "There were missing keys in the checkpoint model loaded: ['model.encoder.embed_tokens.weight', 'model.decoder.embed_tokens.weight', 'lm_head.weight'].\n"
          ]
        },
        {
          "output_type": "execute_result",
          "data": {
            "text/plain": [
              "TrainOutput(global_step=2250, training_loss=0.059193138509833564, metrics={'train_runtime': 1463.9289, 'train_samples_per_second': 3.074, 'train_steps_per_second': 1.537, 'total_flos': 571411169280000.0, 'train_loss': 0.059193138509833564, 'epoch': 5.0})"
            ]
          },
          "metadata": {},
          "execution_count": 19
        }
      ]
    },
    {
      "cell_type": "code",
      "source": [
        "# Translate test dataset\n",
        "# Load the fine-tuned model\n",
        "fine_tuned_model = trainer.model\n",
        "\n",
        "test_src_sentences = test_dataset[\"input_ids\"]\n",
        "test_src_sentences = tokenizer.batch_decode(test_src_sentences, skip_special_tokens=True)\n",
        "test_translated = translate_sentences(fine_tuned_model, test_src_sentences, \"/content/content/MyDrive/Multilingual_NLP/Lab_6/test_translations.csv\")\n",
        "\n",
        "# Print translations for a few examples\n",
        "for i in range(5):\n",
        "    print(f\"Source: {test_src_sentences[i]}\")\n",
        "    print(f\"Translation: {test_translated[i]}\\n\")"
      ],
      "metadata": {
        "id": "8I324vGSLVpF",
        "colab": {
          "base_uri": "https://localhost:8080/"
        },
        "outputId": "ca85434b-bf0c-423c-f2f4-ee4712f33ac5"
      },
      "execution_count": 20,
      "outputs": [
        {
          "output_type": "stream",
          "name": "stderr",
          "text": [
            "Translating: 100%|██████████| 100/100 [02:52<00:00,  1.72s/it]"
          ]
        },
        {
          "output_type": "stream",
          "name": "stdout",
          "text": [
            "Source: \"Elle s'en chaton s'en irait au grand cimetière d'à côté d'abord la tante, où les morts c'est comme une foule qui attend.\n",
            "Translation: ['\"To be kitten was on the train to the large ttershu be alone, where the people die as if it were to be like a fougle who slept.']\n",
            "\n",
            "Source: \"Elle s'en nchato s'en irait au grand cimetière d'à côté d'abord la tante, où les morts c'est comme une foule qui attend.\n",
            "Translation: ['\"To be nkitte slept on the large ighterl slept on the large ighterl slept on the large ighterl, which was on the side of the catt, where the diet is like a fougle who waits.']\n",
            "\n",
            "Source: \"Elle s'en onchat s'en irait au grand cimetière d'à côté d'abord la tante, où les morts c'est comme une foule qui attend.\n",
            "Translation: ['\"To be enkitt, enkitt to the large cemetery of the catt, where the diet is like a fougle who waits.']\n",
            "\n",
            "Source: \"Elle s'en toncha s'en irait au grand cimetière d'à côté d'abord la tante, où les morts c'est comme une foule qui attend.\n",
            "Translation: ['\"To be tenkitt to the large cemetery of the catt, where the diet is like a fougle who waits.']\n",
            "\n",
            "Source: \"Elle s'en atonch s'en irait au grand cimetière d'à côté d'abord la tante, où les morts c'est comme une foule qui attend.\n",
            "Translation: ['\"To be ttenki was going to the large cemetery of the cat, where the diet is like a fougle who waits.']\n",
            "\n"
          ]
        },
        {
          "output_type": "stream",
          "name": "stderr",
          "text": [
            "\n"
          ]
        }
      ]
    },
    {
      "cell_type": "code",
      "source": [
        "import csv\n",
        "# Retrieve all translations\n",
        "test_translated = []\n",
        "with open(\"/content/content/MyDrive/Multilingual_NLP/Lab_6/test_translations.csv\", 'r') as f:\n",
        "  reader = csv.DictReader(f)\n",
        "  for row in reader:\n",
        "    test_translated.append(row['Translation'])\n",
        "\n",
        "# Get the list of the target words\n",
        "test_generated_trads = [elt for i, elt in enumerate(trads) if i%10 == 0]\n",
        "\n",
        "# Evaluate the translations compared to the target sentences\n",
        "evaluate_prediction(test_generated_trads, test_translated)"
      ],
      "metadata": {
        "id": "WtNtQxVLTw3s",
        "colab": {
          "base_uri": "https://localhost:8080/"
        },
        "outputId": "f6246ff4-a708-4876-8ce4-a483596afe11"
      },
      "execution_count": 18,
      "outputs": [
        {
          "output_type": "stream",
          "name": "stdout",
          "text": [
            "Target:  stventriloqui Trad:  ['\"To be stventriloqui was on the train to the large ighterl was on the large ighterl the large boiler of the cat, where the deaths are like a fougle who waits.']\n",
            "Target:  istventriloqu Trad:  ['\"To be istventriloqu was going to the large ighterl was going to the large cemetery of the cat, where the diet is like a fougle who waits.']\n",
            "Target:  uistventriloq Trad:  ['\"To be uistventriloq be slept on the large ttergle slept on the large ttergle to the large cemeter of the cat, where the deaths are like a fougle who waits.']\n",
            "Target:  quistventrilo Trad:  ['\"To be quistventriloqu was going to the large ighterl was slept to the large cemetery of the cat, where the deaths are like a fougle who waits.']\n",
            "Target:  oquistventril Trad:  ['\"To be oquistventril slept on the large tterril slept on the large tterril slept on the large tterril, where the deaths are like a fougle who waits.']\n",
            "Target:  loquistventri Trad:  ['\"To be loquistventril slept on the large ighterl slept on the large ighterl slept on the large ighterl, where the deaths are like a fougle who waits.']\n",
            "Target:  iloquistventr Trad:  ['\"To be iloquistventrventrventrventr was going to the large ightnessbright was true to the large cemeter be alone, where the diet is like a fougle who waits.']\n",
            "Target:  riloquistvent Trad:  ['\"To be riloquistvent was going to the large ttergle be alone, where the deaths are like a fougle who wait.']\n",
            "Target:  triloquistven Trad:  ['\"Well, it is triloquistven was going to the large ighterl was going to the large cemetery of the cat, where the diet is like a fougle who waits.']\n",
            "Target:  brightness Trad:  ['\"To be brightness be brightness was slept on the large ightnessbr slept on the large ightnessbright the large cemeter be alone, where the lott, where the diet is like a fougle who waits.']\n",
            "Target:  sbrightnes Trad:  ['\"To be ssbrightne was going to the large ttergle be alone, where the people die as if it were to be like a fougle who was waiting.']\n",
            "Target:  ssbrightne Trad:  ['\"To be ssbrightne was going to the large ightnessbrightn was slept to the large ightnessbrightn slept to the large boiler of the cat, where the deaths are like a fougle who waits.']\n",
            "Target:  essbrightn Trad:  ['\"To be essbrightn was going to the large htnessbrigh was slept to the large cemeter be alone, where the deaths are like a fougle who waits.']\n",
            "Target:  nessbright Trad:  ['\"To be nessbright was going to the large cemeter be alone, where the people die as if it were to be like a fougle who was waiting.']\n",
            "Target:  tnessbrigh Trad:  ['\"To be tnessbrigh was going to the large ightnessbrigh was going to the large cemeter be alone, where the diet is like a fougle who waits.']\n",
            "Target:  htnessbrig Trad:  ['\"Well, it is htnessbrig was going to the large ht was slept on the large htnessbrig was slept on the large htnessbrig was the large ht was the case to the large htnessbrig slept on the large htnessbrig slept on the large htnessbrig slept on the large htnessbrigh was the case to the large htnessbrigh was the case to the large htnessbrigh was the case to the large htnessbrigh was the case to the large htnessbrigh was the case to the large ht was the case to the large htnessbrigh was the case to the large ht was the case to the large htnessbrigh was the case to the large ht, where the morts was like a fougle who slept.']\n",
            "Target:  ghtnessbri Trad:  ['\"To be ghterli be ghterli slept to the large ightnessbrig was going to the large cemeter be alone, where the deaths are like a fougle who waits.']\n",
            "Target:  ightnessbr Trad:  ['\"Well, it is ightnessbr was going to the large ightnessbr was slept to the large ightnessbr slept to the large ighterl slept to the large ighterl slept to the large ighterl on the large ighterl slept to the large ighterl on the large ighterl slept to the large ighterl on the large ightnessbr was the case to the large ighterl slept, where the deads was like a fougle who slept.']\n",
            "Target:  rightnessb Trad:  ['\"To be rightnessb was going to the large ightnessb was slept to the large ighterl slept to the large ighterl on the large ighterl on the large ighterl on the large ighterl on the large ighterl on the large ighterl on the large ighterl on the large ighterl on the large ighterl on the large ighterl on the large ighterl on the large ighterl on the large ighterl on the large ighterl on the large ighterl on the large ighterl on the large ighterl on the large ighterl on the large ighterl on the large ighterl on the large ighterl on the large ighterl on the large ighterl on the large ighterl on']\n",
            "Target:  handwriting Trad:  ['\"Well, it is handwriting was going to the large cemetery of the cat, where the diet is like a fougle who waits.']\n",
            "Target:  ghandwritin Trad:  ['\"To be ghandwritin was going to the large cemeter be alone, where the diet is like a fougle who waits.']\n",
            "96.0% correctly predicted.\n"
          ]
        }
      ]
    }
  ]
}