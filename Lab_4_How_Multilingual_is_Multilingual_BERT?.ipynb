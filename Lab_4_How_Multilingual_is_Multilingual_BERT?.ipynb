{
  "nbformat": 4,
  "nbformat_minor": 0,
  "metadata": {
    "colab": {
      "provenance": [],
      "gpuType": "T4"
    },
    "kernelspec": {
      "name": "python3",
      "display_name": "Python 3"
    },
    "language_info": {
      "name": "python"
    },
    "accelerator": "GPU",
    "widgets": {
      "application/vnd.jupyter.widget-state+json": {
        "58b4d94892644729a9f75d2fe5b88ada": {
          "model_module": "@jupyter-widgets/controls",
          "model_name": "HBoxModel",
          "model_module_version": "1.5.0",
          "state": {
            "_dom_classes": [],
            "_model_module": "@jupyter-widgets/controls",
            "_model_module_version": "1.5.0",
            "_model_name": "HBoxModel",
            "_view_count": null,
            "_view_module": "@jupyter-widgets/controls",
            "_view_module_version": "1.5.0",
            "_view_name": "HBoxView",
            "box_style": "",
            "children": [
              "IPY_MODEL_6d1e8028a283460080a6b1d538ecceb9",
              "IPY_MODEL_0074ae3325be45529fde40106ac77f5e",
              "IPY_MODEL_3499f5eb5aa24c53a4a7eca871a45a76"
            ],
            "layout": "IPY_MODEL_cca43c1bbca9494981a56b76ea3839b1"
          }
        },
        "6d1e8028a283460080a6b1d538ecceb9": {
          "model_module": "@jupyter-widgets/controls",
          "model_name": "HTMLModel",
          "model_module_version": "1.5.0",
          "state": {
            "_dom_classes": [],
            "_model_module": "@jupyter-widgets/controls",
            "_model_module_version": "1.5.0",
            "_model_name": "HTMLModel",
            "_view_count": null,
            "_view_module": "@jupyter-widgets/controls",
            "_view_module_version": "1.5.0",
            "_view_name": "HTMLView",
            "description": "",
            "description_tooltip": null,
            "layout": "IPY_MODEL_cee2ea63a7404143ad09a12379f5f102",
            "placeholder": "​",
            "style": "IPY_MODEL_63992bec6ca3471e83ac4799d83ec97f",
            "value": "Downloading (…)okenizer_config.json: 100%"
          }
        },
        "0074ae3325be45529fde40106ac77f5e": {
          "model_module": "@jupyter-widgets/controls",
          "model_name": "FloatProgressModel",
          "model_module_version": "1.5.0",
          "state": {
            "_dom_classes": [],
            "_model_module": "@jupyter-widgets/controls",
            "_model_module_version": "1.5.0",
            "_model_name": "FloatProgressModel",
            "_view_count": null,
            "_view_module": "@jupyter-widgets/controls",
            "_view_module_version": "1.5.0",
            "_view_name": "ProgressView",
            "bar_style": "success",
            "description": "",
            "description_tooltip": null,
            "layout": "IPY_MODEL_fd4ed7ab48eb4ef5908b1755f935408e",
            "max": 29,
            "min": 0,
            "orientation": "horizontal",
            "style": "IPY_MODEL_e1130e8f2dd94c388ad30bd447d79ef7",
            "value": 29
          }
        },
        "3499f5eb5aa24c53a4a7eca871a45a76": {
          "model_module": "@jupyter-widgets/controls",
          "model_name": "HTMLModel",
          "model_module_version": "1.5.0",
          "state": {
            "_dom_classes": [],
            "_model_module": "@jupyter-widgets/controls",
            "_model_module_version": "1.5.0",
            "_model_name": "HTMLModel",
            "_view_count": null,
            "_view_module": "@jupyter-widgets/controls",
            "_view_module_version": "1.5.0",
            "_view_name": "HTMLView",
            "description": "",
            "description_tooltip": null,
            "layout": "IPY_MODEL_7d09d34ccd0f49338f60ace3693abcd3",
            "placeholder": "​",
            "style": "IPY_MODEL_27c931a80b554976ae9af2cc3aab4746",
            "value": " 29.0/29.0 [00:00&lt;00:00, 428B/s]"
          }
        },
        "cca43c1bbca9494981a56b76ea3839b1": {
          "model_module": "@jupyter-widgets/base",
          "model_name": "LayoutModel",
          "model_module_version": "1.2.0",
          "state": {
            "_model_module": "@jupyter-widgets/base",
            "_model_module_version": "1.2.0",
            "_model_name": "LayoutModel",
            "_view_count": null,
            "_view_module": "@jupyter-widgets/base",
            "_view_module_version": "1.2.0",
            "_view_name": "LayoutView",
            "align_content": null,
            "align_items": null,
            "align_self": null,
            "border": null,
            "bottom": null,
            "display": null,
            "flex": null,
            "flex_flow": null,
            "grid_area": null,
            "grid_auto_columns": null,
            "grid_auto_flow": null,
            "grid_auto_rows": null,
            "grid_column": null,
            "grid_gap": null,
            "grid_row": null,
            "grid_template_areas": null,
            "grid_template_columns": null,
            "grid_template_rows": null,
            "height": null,
            "justify_content": null,
            "justify_items": null,
            "left": null,
            "margin": null,
            "max_height": null,
            "max_width": null,
            "min_height": null,
            "min_width": null,
            "object_fit": null,
            "object_position": null,
            "order": null,
            "overflow": null,
            "overflow_x": null,
            "overflow_y": null,
            "padding": null,
            "right": null,
            "top": null,
            "visibility": null,
            "width": null
          }
        },
        "cee2ea63a7404143ad09a12379f5f102": {
          "model_module": "@jupyter-widgets/base",
          "model_name": "LayoutModel",
          "model_module_version": "1.2.0",
          "state": {
            "_model_module": "@jupyter-widgets/base",
            "_model_module_version": "1.2.0",
            "_model_name": "LayoutModel",
            "_view_count": null,
            "_view_module": "@jupyter-widgets/base",
            "_view_module_version": "1.2.0",
            "_view_name": "LayoutView",
            "align_content": null,
            "align_items": null,
            "align_self": null,
            "border": null,
            "bottom": null,
            "display": null,
            "flex": null,
            "flex_flow": null,
            "grid_area": null,
            "grid_auto_columns": null,
            "grid_auto_flow": null,
            "grid_auto_rows": null,
            "grid_column": null,
            "grid_gap": null,
            "grid_row": null,
            "grid_template_areas": null,
            "grid_template_columns": null,
            "grid_template_rows": null,
            "height": null,
            "justify_content": null,
            "justify_items": null,
            "left": null,
            "margin": null,
            "max_height": null,
            "max_width": null,
            "min_height": null,
            "min_width": null,
            "object_fit": null,
            "object_position": null,
            "order": null,
            "overflow": null,
            "overflow_x": null,
            "overflow_y": null,
            "padding": null,
            "right": null,
            "top": null,
            "visibility": null,
            "width": null
          }
        },
        "63992bec6ca3471e83ac4799d83ec97f": {
          "model_module": "@jupyter-widgets/controls",
          "model_name": "DescriptionStyleModel",
          "model_module_version": "1.5.0",
          "state": {
            "_model_module": "@jupyter-widgets/controls",
            "_model_module_version": "1.5.0",
            "_model_name": "DescriptionStyleModel",
            "_view_count": null,
            "_view_module": "@jupyter-widgets/base",
            "_view_module_version": "1.2.0",
            "_view_name": "StyleView",
            "description_width": ""
          }
        },
        "fd4ed7ab48eb4ef5908b1755f935408e": {
          "model_module": "@jupyter-widgets/base",
          "model_name": "LayoutModel",
          "model_module_version": "1.2.0",
          "state": {
            "_model_module": "@jupyter-widgets/base",
            "_model_module_version": "1.2.0",
            "_model_name": "LayoutModel",
            "_view_count": null,
            "_view_module": "@jupyter-widgets/base",
            "_view_module_version": "1.2.0",
            "_view_name": "LayoutView",
            "align_content": null,
            "align_items": null,
            "align_self": null,
            "border": null,
            "bottom": null,
            "display": null,
            "flex": null,
            "flex_flow": null,
            "grid_area": null,
            "grid_auto_columns": null,
            "grid_auto_flow": null,
            "grid_auto_rows": null,
            "grid_column": null,
            "grid_gap": null,
            "grid_row": null,
            "grid_template_areas": null,
            "grid_template_columns": null,
            "grid_template_rows": null,
            "height": null,
            "justify_content": null,
            "justify_items": null,
            "left": null,
            "margin": null,
            "max_height": null,
            "max_width": null,
            "min_height": null,
            "min_width": null,
            "object_fit": null,
            "object_position": null,
            "order": null,
            "overflow": null,
            "overflow_x": null,
            "overflow_y": null,
            "padding": null,
            "right": null,
            "top": null,
            "visibility": null,
            "width": null
          }
        },
        "e1130e8f2dd94c388ad30bd447d79ef7": {
          "model_module": "@jupyter-widgets/controls",
          "model_name": "ProgressStyleModel",
          "model_module_version": "1.5.0",
          "state": {
            "_model_module": "@jupyter-widgets/controls",
            "_model_module_version": "1.5.0",
            "_model_name": "ProgressStyleModel",
            "_view_count": null,
            "_view_module": "@jupyter-widgets/base",
            "_view_module_version": "1.2.0",
            "_view_name": "StyleView",
            "bar_color": null,
            "description_width": ""
          }
        },
        "7d09d34ccd0f49338f60ace3693abcd3": {
          "model_module": "@jupyter-widgets/base",
          "model_name": "LayoutModel",
          "model_module_version": "1.2.0",
          "state": {
            "_model_module": "@jupyter-widgets/base",
            "_model_module_version": "1.2.0",
            "_model_name": "LayoutModel",
            "_view_count": null,
            "_view_module": "@jupyter-widgets/base",
            "_view_module_version": "1.2.0",
            "_view_name": "LayoutView",
            "align_content": null,
            "align_items": null,
            "align_self": null,
            "border": null,
            "bottom": null,
            "display": null,
            "flex": null,
            "flex_flow": null,
            "grid_area": null,
            "grid_auto_columns": null,
            "grid_auto_flow": null,
            "grid_auto_rows": null,
            "grid_column": null,
            "grid_gap": null,
            "grid_row": null,
            "grid_template_areas": null,
            "grid_template_columns": null,
            "grid_template_rows": null,
            "height": null,
            "justify_content": null,
            "justify_items": null,
            "left": null,
            "margin": null,
            "max_height": null,
            "max_width": null,
            "min_height": null,
            "min_width": null,
            "object_fit": null,
            "object_position": null,
            "order": null,
            "overflow": null,
            "overflow_x": null,
            "overflow_y": null,
            "padding": null,
            "right": null,
            "top": null,
            "visibility": null,
            "width": null
          }
        },
        "27c931a80b554976ae9af2cc3aab4746": {
          "model_module": "@jupyter-widgets/controls",
          "model_name": "DescriptionStyleModel",
          "model_module_version": "1.5.0",
          "state": {
            "_model_module": "@jupyter-widgets/controls",
            "_model_module_version": "1.5.0",
            "_model_name": "DescriptionStyleModel",
            "_view_count": null,
            "_view_module": "@jupyter-widgets/base",
            "_view_module_version": "1.2.0",
            "_view_name": "StyleView",
            "description_width": ""
          }
        },
        "a6dad588a3a047089c511ed4c9ee015c": {
          "model_module": "@jupyter-widgets/controls",
          "model_name": "HBoxModel",
          "model_module_version": "1.5.0",
          "state": {
            "_dom_classes": [],
            "_model_module": "@jupyter-widgets/controls",
            "_model_module_version": "1.5.0",
            "_model_name": "HBoxModel",
            "_view_count": null,
            "_view_module": "@jupyter-widgets/controls",
            "_view_module_version": "1.5.0",
            "_view_name": "HBoxView",
            "box_style": "",
            "children": [
              "IPY_MODEL_6e07f282e6c84897b772305ca0d5a5f8",
              "IPY_MODEL_baf6588964ae46abb3f10073b1b0ec32",
              "IPY_MODEL_87b6cbf3003f493fbd0a2fc3324a3e3c"
            ],
            "layout": "IPY_MODEL_154e4dcf82744bfa80b00d5968b6b4be"
          }
        },
        "6e07f282e6c84897b772305ca0d5a5f8": {
          "model_module": "@jupyter-widgets/controls",
          "model_name": "HTMLModel",
          "model_module_version": "1.5.0",
          "state": {
            "_dom_classes": [],
            "_model_module": "@jupyter-widgets/controls",
            "_model_module_version": "1.5.0",
            "_model_name": "HTMLModel",
            "_view_count": null,
            "_view_module": "@jupyter-widgets/controls",
            "_view_module_version": "1.5.0",
            "_view_name": "HTMLView",
            "description": "",
            "description_tooltip": null,
            "layout": "IPY_MODEL_5275405a5eae4122893080b8a60a7ca9",
            "placeholder": "​",
            "style": "IPY_MODEL_aaaae2fbebca40499d8e306e7c321096",
            "value": "Downloading (…)lve/main/config.json: 100%"
          }
        },
        "baf6588964ae46abb3f10073b1b0ec32": {
          "model_module": "@jupyter-widgets/controls",
          "model_name": "FloatProgressModel",
          "model_module_version": "1.5.0",
          "state": {
            "_dom_classes": [],
            "_model_module": "@jupyter-widgets/controls",
            "_model_module_version": "1.5.0",
            "_model_name": "FloatProgressModel",
            "_view_count": null,
            "_view_module": "@jupyter-widgets/controls",
            "_view_module_version": "1.5.0",
            "_view_name": "ProgressView",
            "bar_style": "success",
            "description": "",
            "description_tooltip": null,
            "layout": "IPY_MODEL_8bfae0a8155c4e6e8d34cc2f11fdc0ff",
            "max": 625,
            "min": 0,
            "orientation": "horizontal",
            "style": "IPY_MODEL_75fbeb6e71d44e87a3240bb3f6186ed2",
            "value": 625
          }
        },
        "87b6cbf3003f493fbd0a2fc3324a3e3c": {
          "model_module": "@jupyter-widgets/controls",
          "model_name": "HTMLModel",
          "model_module_version": "1.5.0",
          "state": {
            "_dom_classes": [],
            "_model_module": "@jupyter-widgets/controls",
            "_model_module_version": "1.5.0",
            "_model_name": "HTMLModel",
            "_view_count": null,
            "_view_module": "@jupyter-widgets/controls",
            "_view_module_version": "1.5.0",
            "_view_name": "HTMLView",
            "description": "",
            "description_tooltip": null,
            "layout": "IPY_MODEL_240e51ee484846d7b6628b508def577d",
            "placeholder": "​",
            "style": "IPY_MODEL_0d9b2986571a44d28991729cade159bb",
            "value": " 625/625 [00:00&lt;00:00, 13.6kB/s]"
          }
        },
        "154e4dcf82744bfa80b00d5968b6b4be": {
          "model_module": "@jupyter-widgets/base",
          "model_name": "LayoutModel",
          "model_module_version": "1.2.0",
          "state": {
            "_model_module": "@jupyter-widgets/base",
            "_model_module_version": "1.2.0",
            "_model_name": "LayoutModel",
            "_view_count": null,
            "_view_module": "@jupyter-widgets/base",
            "_view_module_version": "1.2.0",
            "_view_name": "LayoutView",
            "align_content": null,
            "align_items": null,
            "align_self": null,
            "border": null,
            "bottom": null,
            "display": null,
            "flex": null,
            "flex_flow": null,
            "grid_area": null,
            "grid_auto_columns": null,
            "grid_auto_flow": null,
            "grid_auto_rows": null,
            "grid_column": null,
            "grid_gap": null,
            "grid_row": null,
            "grid_template_areas": null,
            "grid_template_columns": null,
            "grid_template_rows": null,
            "height": null,
            "justify_content": null,
            "justify_items": null,
            "left": null,
            "margin": null,
            "max_height": null,
            "max_width": null,
            "min_height": null,
            "min_width": null,
            "object_fit": null,
            "object_position": null,
            "order": null,
            "overflow": null,
            "overflow_x": null,
            "overflow_y": null,
            "padding": null,
            "right": null,
            "top": null,
            "visibility": null,
            "width": null
          }
        },
        "5275405a5eae4122893080b8a60a7ca9": {
          "model_module": "@jupyter-widgets/base",
          "model_name": "LayoutModel",
          "model_module_version": "1.2.0",
          "state": {
            "_model_module": "@jupyter-widgets/base",
            "_model_module_version": "1.2.0",
            "_model_name": "LayoutModel",
            "_view_count": null,
            "_view_module": "@jupyter-widgets/base",
            "_view_module_version": "1.2.0",
            "_view_name": "LayoutView",
            "align_content": null,
            "align_items": null,
            "align_self": null,
            "border": null,
            "bottom": null,
            "display": null,
            "flex": null,
            "flex_flow": null,
            "grid_area": null,
            "grid_auto_columns": null,
            "grid_auto_flow": null,
            "grid_auto_rows": null,
            "grid_column": null,
            "grid_gap": null,
            "grid_row": null,
            "grid_template_areas": null,
            "grid_template_columns": null,
            "grid_template_rows": null,
            "height": null,
            "justify_content": null,
            "justify_items": null,
            "left": null,
            "margin": null,
            "max_height": null,
            "max_width": null,
            "min_height": null,
            "min_width": null,
            "object_fit": null,
            "object_position": null,
            "order": null,
            "overflow": null,
            "overflow_x": null,
            "overflow_y": null,
            "padding": null,
            "right": null,
            "top": null,
            "visibility": null,
            "width": null
          }
        },
        "aaaae2fbebca40499d8e306e7c321096": {
          "model_module": "@jupyter-widgets/controls",
          "model_name": "DescriptionStyleModel",
          "model_module_version": "1.5.0",
          "state": {
            "_model_module": "@jupyter-widgets/controls",
            "_model_module_version": "1.5.0",
            "_model_name": "DescriptionStyleModel",
            "_view_count": null,
            "_view_module": "@jupyter-widgets/base",
            "_view_module_version": "1.2.0",
            "_view_name": "StyleView",
            "description_width": ""
          }
        },
        "8bfae0a8155c4e6e8d34cc2f11fdc0ff": {
          "model_module": "@jupyter-widgets/base",
          "model_name": "LayoutModel",
          "model_module_version": "1.2.0",
          "state": {
            "_model_module": "@jupyter-widgets/base",
            "_model_module_version": "1.2.0",
            "_model_name": "LayoutModel",
            "_view_count": null,
            "_view_module": "@jupyter-widgets/base",
            "_view_module_version": "1.2.0",
            "_view_name": "LayoutView",
            "align_content": null,
            "align_items": null,
            "align_self": null,
            "border": null,
            "bottom": null,
            "display": null,
            "flex": null,
            "flex_flow": null,
            "grid_area": null,
            "grid_auto_columns": null,
            "grid_auto_flow": null,
            "grid_auto_rows": null,
            "grid_column": null,
            "grid_gap": null,
            "grid_row": null,
            "grid_template_areas": null,
            "grid_template_columns": null,
            "grid_template_rows": null,
            "height": null,
            "justify_content": null,
            "justify_items": null,
            "left": null,
            "margin": null,
            "max_height": null,
            "max_width": null,
            "min_height": null,
            "min_width": null,
            "object_fit": null,
            "object_position": null,
            "order": null,
            "overflow": null,
            "overflow_x": null,
            "overflow_y": null,
            "padding": null,
            "right": null,
            "top": null,
            "visibility": null,
            "width": null
          }
        },
        "75fbeb6e71d44e87a3240bb3f6186ed2": {
          "model_module": "@jupyter-widgets/controls",
          "model_name": "ProgressStyleModel",
          "model_module_version": "1.5.0",
          "state": {
            "_model_module": "@jupyter-widgets/controls",
            "_model_module_version": "1.5.0",
            "_model_name": "ProgressStyleModel",
            "_view_count": null,
            "_view_module": "@jupyter-widgets/base",
            "_view_module_version": "1.2.0",
            "_view_name": "StyleView",
            "bar_color": null,
            "description_width": ""
          }
        },
        "240e51ee484846d7b6628b508def577d": {
          "model_module": "@jupyter-widgets/base",
          "model_name": "LayoutModel",
          "model_module_version": "1.2.0",
          "state": {
            "_model_module": "@jupyter-widgets/base",
            "_model_module_version": "1.2.0",
            "_model_name": "LayoutModel",
            "_view_count": null,
            "_view_module": "@jupyter-widgets/base",
            "_view_module_version": "1.2.0",
            "_view_name": "LayoutView",
            "align_content": null,
            "align_items": null,
            "align_self": null,
            "border": null,
            "bottom": null,
            "display": null,
            "flex": null,
            "flex_flow": null,
            "grid_area": null,
            "grid_auto_columns": null,
            "grid_auto_flow": null,
            "grid_auto_rows": null,
            "grid_column": null,
            "grid_gap": null,
            "grid_row": null,
            "grid_template_areas": null,
            "grid_template_columns": null,
            "grid_template_rows": null,
            "height": null,
            "justify_content": null,
            "justify_items": null,
            "left": null,
            "margin": null,
            "max_height": null,
            "max_width": null,
            "min_height": null,
            "min_width": null,
            "object_fit": null,
            "object_position": null,
            "order": null,
            "overflow": null,
            "overflow_x": null,
            "overflow_y": null,
            "padding": null,
            "right": null,
            "top": null,
            "visibility": null,
            "width": null
          }
        },
        "0d9b2986571a44d28991729cade159bb": {
          "model_module": "@jupyter-widgets/controls",
          "model_name": "DescriptionStyleModel",
          "model_module_version": "1.5.0",
          "state": {
            "_model_module": "@jupyter-widgets/controls",
            "_model_module_version": "1.5.0",
            "_model_name": "DescriptionStyleModel",
            "_view_count": null,
            "_view_module": "@jupyter-widgets/base",
            "_view_module_version": "1.2.0",
            "_view_name": "StyleView",
            "description_width": ""
          }
        },
        "779f7f7f430442b68407e4268c188f18": {
          "model_module": "@jupyter-widgets/controls",
          "model_name": "HBoxModel",
          "model_module_version": "1.5.0",
          "state": {
            "_dom_classes": [],
            "_model_module": "@jupyter-widgets/controls",
            "_model_module_version": "1.5.0",
            "_model_name": "HBoxModel",
            "_view_count": null,
            "_view_module": "@jupyter-widgets/controls",
            "_view_module_version": "1.5.0",
            "_view_name": "HBoxView",
            "box_style": "",
            "children": [
              "IPY_MODEL_38d21e8785b141699c8f79112c5c6a6e",
              "IPY_MODEL_5d8a94b43cbf4fcab392e7a6e000e13e",
              "IPY_MODEL_469f74b861414c2f879001e1105ffca6"
            ],
            "layout": "IPY_MODEL_509dca976c7c4c56b66b31312d6e0bef"
          }
        },
        "38d21e8785b141699c8f79112c5c6a6e": {
          "model_module": "@jupyter-widgets/controls",
          "model_name": "HTMLModel",
          "model_module_version": "1.5.0",
          "state": {
            "_dom_classes": [],
            "_model_module": "@jupyter-widgets/controls",
            "_model_module_version": "1.5.0",
            "_model_name": "HTMLModel",
            "_view_count": null,
            "_view_module": "@jupyter-widgets/controls",
            "_view_module_version": "1.5.0",
            "_view_name": "HTMLView",
            "description": "",
            "description_tooltip": null,
            "layout": "IPY_MODEL_9739f9587ad74a4e91899ddd952693f1",
            "placeholder": "​",
            "style": "IPY_MODEL_1ea7ce67c5d244cf84f52e18b57a59e4",
            "value": "Downloading (…)solve/main/vocab.txt: 100%"
          }
        },
        "5d8a94b43cbf4fcab392e7a6e000e13e": {
          "model_module": "@jupyter-widgets/controls",
          "model_name": "FloatProgressModel",
          "model_module_version": "1.5.0",
          "state": {
            "_dom_classes": [],
            "_model_module": "@jupyter-widgets/controls",
            "_model_module_version": "1.5.0",
            "_model_name": "FloatProgressModel",
            "_view_count": null,
            "_view_module": "@jupyter-widgets/controls",
            "_view_module_version": "1.5.0",
            "_view_name": "ProgressView",
            "bar_style": "success",
            "description": "",
            "description_tooltip": null,
            "layout": "IPY_MODEL_ac4e845c58b148439542bbe632c24141",
            "max": 995526,
            "min": 0,
            "orientation": "horizontal",
            "style": "IPY_MODEL_cb93048e2daa48c49c71b499f048d1f1",
            "value": 995526
          }
        },
        "469f74b861414c2f879001e1105ffca6": {
          "model_module": "@jupyter-widgets/controls",
          "model_name": "HTMLModel",
          "model_module_version": "1.5.0",
          "state": {
            "_dom_classes": [],
            "_model_module": "@jupyter-widgets/controls",
            "_model_module_version": "1.5.0",
            "_model_name": "HTMLModel",
            "_view_count": null,
            "_view_module": "@jupyter-widgets/controls",
            "_view_module_version": "1.5.0",
            "_view_name": "HTMLView",
            "description": "",
            "description_tooltip": null,
            "layout": "IPY_MODEL_bff4797a22e64cc2822107472ab0413f",
            "placeholder": "​",
            "style": "IPY_MODEL_4076bff364dc4f54929f6aac94396e88",
            "value": " 996k/996k [00:00&lt;00:00, 19.5MB/s]"
          }
        },
        "509dca976c7c4c56b66b31312d6e0bef": {
          "model_module": "@jupyter-widgets/base",
          "model_name": "LayoutModel",
          "model_module_version": "1.2.0",
          "state": {
            "_model_module": "@jupyter-widgets/base",
            "_model_module_version": "1.2.0",
            "_model_name": "LayoutModel",
            "_view_count": null,
            "_view_module": "@jupyter-widgets/base",
            "_view_module_version": "1.2.0",
            "_view_name": "LayoutView",
            "align_content": null,
            "align_items": null,
            "align_self": null,
            "border": null,
            "bottom": null,
            "display": null,
            "flex": null,
            "flex_flow": null,
            "grid_area": null,
            "grid_auto_columns": null,
            "grid_auto_flow": null,
            "grid_auto_rows": null,
            "grid_column": null,
            "grid_gap": null,
            "grid_row": null,
            "grid_template_areas": null,
            "grid_template_columns": null,
            "grid_template_rows": null,
            "height": null,
            "justify_content": null,
            "justify_items": null,
            "left": null,
            "margin": null,
            "max_height": null,
            "max_width": null,
            "min_height": null,
            "min_width": null,
            "object_fit": null,
            "object_position": null,
            "order": null,
            "overflow": null,
            "overflow_x": null,
            "overflow_y": null,
            "padding": null,
            "right": null,
            "top": null,
            "visibility": null,
            "width": null
          }
        },
        "9739f9587ad74a4e91899ddd952693f1": {
          "model_module": "@jupyter-widgets/base",
          "model_name": "LayoutModel",
          "model_module_version": "1.2.0",
          "state": {
            "_model_module": "@jupyter-widgets/base",
            "_model_module_version": "1.2.0",
            "_model_name": "LayoutModel",
            "_view_count": null,
            "_view_module": "@jupyter-widgets/base",
            "_view_module_version": "1.2.0",
            "_view_name": "LayoutView",
            "align_content": null,
            "align_items": null,
            "align_self": null,
            "border": null,
            "bottom": null,
            "display": null,
            "flex": null,
            "flex_flow": null,
            "grid_area": null,
            "grid_auto_columns": null,
            "grid_auto_flow": null,
            "grid_auto_rows": null,
            "grid_column": null,
            "grid_gap": null,
            "grid_row": null,
            "grid_template_areas": null,
            "grid_template_columns": null,
            "grid_template_rows": null,
            "height": null,
            "justify_content": null,
            "justify_items": null,
            "left": null,
            "margin": null,
            "max_height": null,
            "max_width": null,
            "min_height": null,
            "min_width": null,
            "object_fit": null,
            "object_position": null,
            "order": null,
            "overflow": null,
            "overflow_x": null,
            "overflow_y": null,
            "padding": null,
            "right": null,
            "top": null,
            "visibility": null,
            "width": null
          }
        },
        "1ea7ce67c5d244cf84f52e18b57a59e4": {
          "model_module": "@jupyter-widgets/controls",
          "model_name": "DescriptionStyleModel",
          "model_module_version": "1.5.0",
          "state": {
            "_model_module": "@jupyter-widgets/controls",
            "_model_module_version": "1.5.0",
            "_model_name": "DescriptionStyleModel",
            "_view_count": null,
            "_view_module": "@jupyter-widgets/base",
            "_view_module_version": "1.2.0",
            "_view_name": "StyleView",
            "description_width": ""
          }
        },
        "ac4e845c58b148439542bbe632c24141": {
          "model_module": "@jupyter-widgets/base",
          "model_name": "LayoutModel",
          "model_module_version": "1.2.0",
          "state": {
            "_model_module": "@jupyter-widgets/base",
            "_model_module_version": "1.2.0",
            "_model_name": "LayoutModel",
            "_view_count": null,
            "_view_module": "@jupyter-widgets/base",
            "_view_module_version": "1.2.0",
            "_view_name": "LayoutView",
            "align_content": null,
            "align_items": null,
            "align_self": null,
            "border": null,
            "bottom": null,
            "display": null,
            "flex": null,
            "flex_flow": null,
            "grid_area": null,
            "grid_auto_columns": null,
            "grid_auto_flow": null,
            "grid_auto_rows": null,
            "grid_column": null,
            "grid_gap": null,
            "grid_row": null,
            "grid_template_areas": null,
            "grid_template_columns": null,
            "grid_template_rows": null,
            "height": null,
            "justify_content": null,
            "justify_items": null,
            "left": null,
            "margin": null,
            "max_height": null,
            "max_width": null,
            "min_height": null,
            "min_width": null,
            "object_fit": null,
            "object_position": null,
            "order": null,
            "overflow": null,
            "overflow_x": null,
            "overflow_y": null,
            "padding": null,
            "right": null,
            "top": null,
            "visibility": null,
            "width": null
          }
        },
        "cb93048e2daa48c49c71b499f048d1f1": {
          "model_module": "@jupyter-widgets/controls",
          "model_name": "ProgressStyleModel",
          "model_module_version": "1.5.0",
          "state": {
            "_model_module": "@jupyter-widgets/controls",
            "_model_module_version": "1.5.0",
            "_model_name": "ProgressStyleModel",
            "_view_count": null,
            "_view_module": "@jupyter-widgets/base",
            "_view_module_version": "1.2.0",
            "_view_name": "StyleView",
            "bar_color": null,
            "description_width": ""
          }
        },
        "bff4797a22e64cc2822107472ab0413f": {
          "model_module": "@jupyter-widgets/base",
          "model_name": "LayoutModel",
          "model_module_version": "1.2.0",
          "state": {
            "_model_module": "@jupyter-widgets/base",
            "_model_module_version": "1.2.0",
            "_model_name": "LayoutModel",
            "_view_count": null,
            "_view_module": "@jupyter-widgets/base",
            "_view_module_version": "1.2.0",
            "_view_name": "LayoutView",
            "align_content": null,
            "align_items": null,
            "align_self": null,
            "border": null,
            "bottom": null,
            "display": null,
            "flex": null,
            "flex_flow": null,
            "grid_area": null,
            "grid_auto_columns": null,
            "grid_auto_flow": null,
            "grid_auto_rows": null,
            "grid_column": null,
            "grid_gap": null,
            "grid_row": null,
            "grid_template_areas": null,
            "grid_template_columns": null,
            "grid_template_rows": null,
            "height": null,
            "justify_content": null,
            "justify_items": null,
            "left": null,
            "margin": null,
            "max_height": null,
            "max_width": null,
            "min_height": null,
            "min_width": null,
            "object_fit": null,
            "object_position": null,
            "order": null,
            "overflow": null,
            "overflow_x": null,
            "overflow_y": null,
            "padding": null,
            "right": null,
            "top": null,
            "visibility": null,
            "width": null
          }
        },
        "4076bff364dc4f54929f6aac94396e88": {
          "model_module": "@jupyter-widgets/controls",
          "model_name": "DescriptionStyleModel",
          "model_module_version": "1.5.0",
          "state": {
            "_model_module": "@jupyter-widgets/controls",
            "_model_module_version": "1.5.0",
            "_model_name": "DescriptionStyleModel",
            "_view_count": null,
            "_view_module": "@jupyter-widgets/base",
            "_view_module_version": "1.2.0",
            "_view_name": "StyleView",
            "description_width": ""
          }
        },
        "bf91a680599a478f9dfbb41863cd3d2c": {
          "model_module": "@jupyter-widgets/controls",
          "model_name": "HBoxModel",
          "model_module_version": "1.5.0",
          "state": {
            "_dom_classes": [],
            "_model_module": "@jupyter-widgets/controls",
            "_model_module_version": "1.5.0",
            "_model_name": "HBoxModel",
            "_view_count": null,
            "_view_module": "@jupyter-widgets/controls",
            "_view_module_version": "1.5.0",
            "_view_name": "HBoxView",
            "box_style": "",
            "children": [
              "IPY_MODEL_8086d10980644e14b30d2ec673bd9708",
              "IPY_MODEL_efacfba6a8dc439eb1fbe77d65c36e68",
              "IPY_MODEL_60e36965c4094eab9e1e9fa3e2702ab8"
            ],
            "layout": "IPY_MODEL_e27c322a09b84faf991205879aff95bd"
          }
        },
        "8086d10980644e14b30d2ec673bd9708": {
          "model_module": "@jupyter-widgets/controls",
          "model_name": "HTMLModel",
          "model_module_version": "1.5.0",
          "state": {
            "_dom_classes": [],
            "_model_module": "@jupyter-widgets/controls",
            "_model_module_version": "1.5.0",
            "_model_name": "HTMLModel",
            "_view_count": null,
            "_view_module": "@jupyter-widgets/controls",
            "_view_module_version": "1.5.0",
            "_view_name": "HTMLView",
            "description": "",
            "description_tooltip": null,
            "layout": "IPY_MODEL_bfd5307f82564525944fe07b3cab06db",
            "placeholder": "​",
            "style": "IPY_MODEL_d621d78f86c04f5a871e3b994824dc9f",
            "value": "Downloading (…)/main/tokenizer.json: 100%"
          }
        },
        "efacfba6a8dc439eb1fbe77d65c36e68": {
          "model_module": "@jupyter-widgets/controls",
          "model_name": "FloatProgressModel",
          "model_module_version": "1.5.0",
          "state": {
            "_dom_classes": [],
            "_model_module": "@jupyter-widgets/controls",
            "_model_module_version": "1.5.0",
            "_model_name": "FloatProgressModel",
            "_view_count": null,
            "_view_module": "@jupyter-widgets/controls",
            "_view_module_version": "1.5.0",
            "_view_name": "ProgressView",
            "bar_style": "success",
            "description": "",
            "description_tooltip": null,
            "layout": "IPY_MODEL_9ca8481a07cd406da52fab555b03a916",
            "max": 1961828,
            "min": 0,
            "orientation": "horizontal",
            "style": "IPY_MODEL_7e97fd2b8a3c4b40bb3c97dd49312b25",
            "value": 1961828
          }
        },
        "60e36965c4094eab9e1e9fa3e2702ab8": {
          "model_module": "@jupyter-widgets/controls",
          "model_name": "HTMLModel",
          "model_module_version": "1.5.0",
          "state": {
            "_dom_classes": [],
            "_model_module": "@jupyter-widgets/controls",
            "_model_module_version": "1.5.0",
            "_model_name": "HTMLModel",
            "_view_count": null,
            "_view_module": "@jupyter-widgets/controls",
            "_view_module_version": "1.5.0",
            "_view_name": "HTMLView",
            "description": "",
            "description_tooltip": null,
            "layout": "IPY_MODEL_3a5c6502536946c59ee5333c6d4f9e69",
            "placeholder": "​",
            "style": "IPY_MODEL_7c455bb07cf045058ac639c953285918",
            "value": " 1.96M/1.96M [00:00&lt;00:00, 3.90MB/s]"
          }
        },
        "e27c322a09b84faf991205879aff95bd": {
          "model_module": "@jupyter-widgets/base",
          "model_name": "LayoutModel",
          "model_module_version": "1.2.0",
          "state": {
            "_model_module": "@jupyter-widgets/base",
            "_model_module_version": "1.2.0",
            "_model_name": "LayoutModel",
            "_view_count": null,
            "_view_module": "@jupyter-widgets/base",
            "_view_module_version": "1.2.0",
            "_view_name": "LayoutView",
            "align_content": null,
            "align_items": null,
            "align_self": null,
            "border": null,
            "bottom": null,
            "display": null,
            "flex": null,
            "flex_flow": null,
            "grid_area": null,
            "grid_auto_columns": null,
            "grid_auto_flow": null,
            "grid_auto_rows": null,
            "grid_column": null,
            "grid_gap": null,
            "grid_row": null,
            "grid_template_areas": null,
            "grid_template_columns": null,
            "grid_template_rows": null,
            "height": null,
            "justify_content": null,
            "justify_items": null,
            "left": null,
            "margin": null,
            "max_height": null,
            "max_width": null,
            "min_height": null,
            "min_width": null,
            "object_fit": null,
            "object_position": null,
            "order": null,
            "overflow": null,
            "overflow_x": null,
            "overflow_y": null,
            "padding": null,
            "right": null,
            "top": null,
            "visibility": null,
            "width": null
          }
        },
        "bfd5307f82564525944fe07b3cab06db": {
          "model_module": "@jupyter-widgets/base",
          "model_name": "LayoutModel",
          "model_module_version": "1.2.0",
          "state": {
            "_model_module": "@jupyter-widgets/base",
            "_model_module_version": "1.2.0",
            "_model_name": "LayoutModel",
            "_view_count": null,
            "_view_module": "@jupyter-widgets/base",
            "_view_module_version": "1.2.0",
            "_view_name": "LayoutView",
            "align_content": null,
            "align_items": null,
            "align_self": null,
            "border": null,
            "bottom": null,
            "display": null,
            "flex": null,
            "flex_flow": null,
            "grid_area": null,
            "grid_auto_columns": null,
            "grid_auto_flow": null,
            "grid_auto_rows": null,
            "grid_column": null,
            "grid_gap": null,
            "grid_row": null,
            "grid_template_areas": null,
            "grid_template_columns": null,
            "grid_template_rows": null,
            "height": null,
            "justify_content": null,
            "justify_items": null,
            "left": null,
            "margin": null,
            "max_height": null,
            "max_width": null,
            "min_height": null,
            "min_width": null,
            "object_fit": null,
            "object_position": null,
            "order": null,
            "overflow": null,
            "overflow_x": null,
            "overflow_y": null,
            "padding": null,
            "right": null,
            "top": null,
            "visibility": null,
            "width": null
          }
        },
        "d621d78f86c04f5a871e3b994824dc9f": {
          "model_module": "@jupyter-widgets/controls",
          "model_name": "DescriptionStyleModel",
          "model_module_version": "1.5.0",
          "state": {
            "_model_module": "@jupyter-widgets/controls",
            "_model_module_version": "1.5.0",
            "_model_name": "DescriptionStyleModel",
            "_view_count": null,
            "_view_module": "@jupyter-widgets/base",
            "_view_module_version": "1.2.0",
            "_view_name": "StyleView",
            "description_width": ""
          }
        },
        "9ca8481a07cd406da52fab555b03a916": {
          "model_module": "@jupyter-widgets/base",
          "model_name": "LayoutModel",
          "model_module_version": "1.2.0",
          "state": {
            "_model_module": "@jupyter-widgets/base",
            "_model_module_version": "1.2.0",
            "_model_name": "LayoutModel",
            "_view_count": null,
            "_view_module": "@jupyter-widgets/base",
            "_view_module_version": "1.2.0",
            "_view_name": "LayoutView",
            "align_content": null,
            "align_items": null,
            "align_self": null,
            "border": null,
            "bottom": null,
            "display": null,
            "flex": null,
            "flex_flow": null,
            "grid_area": null,
            "grid_auto_columns": null,
            "grid_auto_flow": null,
            "grid_auto_rows": null,
            "grid_column": null,
            "grid_gap": null,
            "grid_row": null,
            "grid_template_areas": null,
            "grid_template_columns": null,
            "grid_template_rows": null,
            "height": null,
            "justify_content": null,
            "justify_items": null,
            "left": null,
            "margin": null,
            "max_height": null,
            "max_width": null,
            "min_height": null,
            "min_width": null,
            "object_fit": null,
            "object_position": null,
            "order": null,
            "overflow": null,
            "overflow_x": null,
            "overflow_y": null,
            "padding": null,
            "right": null,
            "top": null,
            "visibility": null,
            "width": null
          }
        },
        "7e97fd2b8a3c4b40bb3c97dd49312b25": {
          "model_module": "@jupyter-widgets/controls",
          "model_name": "ProgressStyleModel",
          "model_module_version": "1.5.0",
          "state": {
            "_model_module": "@jupyter-widgets/controls",
            "_model_module_version": "1.5.0",
            "_model_name": "ProgressStyleModel",
            "_view_count": null,
            "_view_module": "@jupyter-widgets/base",
            "_view_module_version": "1.2.0",
            "_view_name": "StyleView",
            "bar_color": null,
            "description_width": ""
          }
        },
        "3a5c6502536946c59ee5333c6d4f9e69": {
          "model_module": "@jupyter-widgets/base",
          "model_name": "LayoutModel",
          "model_module_version": "1.2.0",
          "state": {
            "_model_module": "@jupyter-widgets/base",
            "_model_module_version": "1.2.0",
            "_model_name": "LayoutModel",
            "_view_count": null,
            "_view_module": "@jupyter-widgets/base",
            "_view_module_version": "1.2.0",
            "_view_name": "LayoutView",
            "align_content": null,
            "align_items": null,
            "align_self": null,
            "border": null,
            "bottom": null,
            "display": null,
            "flex": null,
            "flex_flow": null,
            "grid_area": null,
            "grid_auto_columns": null,
            "grid_auto_flow": null,
            "grid_auto_rows": null,
            "grid_column": null,
            "grid_gap": null,
            "grid_row": null,
            "grid_template_areas": null,
            "grid_template_columns": null,
            "grid_template_rows": null,
            "height": null,
            "justify_content": null,
            "justify_items": null,
            "left": null,
            "margin": null,
            "max_height": null,
            "max_width": null,
            "min_height": null,
            "min_width": null,
            "object_fit": null,
            "object_position": null,
            "order": null,
            "overflow": null,
            "overflow_x": null,
            "overflow_y": null,
            "padding": null,
            "right": null,
            "top": null,
            "visibility": null,
            "width": null
          }
        },
        "7c455bb07cf045058ac639c953285918": {
          "model_module": "@jupyter-widgets/controls",
          "model_name": "DescriptionStyleModel",
          "model_module_version": "1.5.0",
          "state": {
            "_model_module": "@jupyter-widgets/controls",
            "_model_module_version": "1.5.0",
            "_model_name": "DescriptionStyleModel",
            "_view_count": null,
            "_view_module": "@jupyter-widgets/base",
            "_view_module_version": "1.2.0",
            "_view_name": "StyleView",
            "description_width": ""
          }
        },
        "f025275fbc9c4f1197b66c586790ebdd": {
          "model_module": "@jupyter-widgets/controls",
          "model_name": "HBoxModel",
          "model_module_version": "1.5.0",
          "state": {
            "_dom_classes": [],
            "_model_module": "@jupyter-widgets/controls",
            "_model_module_version": "1.5.0",
            "_model_name": "HBoxModel",
            "_view_count": null,
            "_view_module": "@jupyter-widgets/controls",
            "_view_module_version": "1.5.0",
            "_view_name": "HBoxView",
            "box_style": "",
            "children": [
              "IPY_MODEL_b27e4c55f3844812b9b47d71e09d1754",
              "IPY_MODEL_9ec21ab0577d4b6494783a6d7851df47",
              "IPY_MODEL_0a77b0bd89b245b4bbe3178b9a09e134"
            ],
            "layout": "IPY_MODEL_db08c11f05d04d07b3937cf4c82ac952"
          }
        },
        "b27e4c55f3844812b9b47d71e09d1754": {
          "model_module": "@jupyter-widgets/controls",
          "model_name": "HTMLModel",
          "model_module_version": "1.5.0",
          "state": {
            "_dom_classes": [],
            "_model_module": "@jupyter-widgets/controls",
            "_model_module_version": "1.5.0",
            "_model_name": "HTMLModel",
            "_view_count": null,
            "_view_module": "@jupyter-widgets/controls",
            "_view_module_version": "1.5.0",
            "_view_name": "HTMLView",
            "description": "",
            "description_tooltip": null,
            "layout": "IPY_MODEL_e307f62e5c8f4d20945110ba2b8fff9c",
            "placeholder": "​",
            "style": "IPY_MODEL_9778182e8ee64db2a5be46e73de81967",
            "value": "Downloading builder script: "
          }
        },
        "9ec21ab0577d4b6494783a6d7851df47": {
          "model_module": "@jupyter-widgets/controls",
          "model_name": "FloatProgressModel",
          "model_module_version": "1.5.0",
          "state": {
            "_dom_classes": [],
            "_model_module": "@jupyter-widgets/controls",
            "_model_module_version": "1.5.0",
            "_model_name": "FloatProgressModel",
            "_view_count": null,
            "_view_module": "@jupyter-widgets/controls",
            "_view_module_version": "1.5.0",
            "_view_name": "ProgressView",
            "bar_style": "success",
            "description": "",
            "description_tooltip": null,
            "layout": "IPY_MODEL_b74767b496704fa88f56ee6a1a49c102",
            "max": 1652,
            "min": 0,
            "orientation": "horizontal",
            "style": "IPY_MODEL_6ceaf0f526694be28496ed709dcd6e69",
            "value": 1652
          }
        },
        "0a77b0bd89b245b4bbe3178b9a09e134": {
          "model_module": "@jupyter-widgets/controls",
          "model_name": "HTMLModel",
          "model_module_version": "1.5.0",
          "state": {
            "_dom_classes": [],
            "_model_module": "@jupyter-widgets/controls",
            "_model_module_version": "1.5.0",
            "_model_name": "HTMLModel",
            "_view_count": null,
            "_view_module": "@jupyter-widgets/controls",
            "_view_module_version": "1.5.0",
            "_view_name": "HTMLView",
            "description": "",
            "description_tooltip": null,
            "layout": "IPY_MODEL_f729d915b67043ab8a10751a869bdcc8",
            "placeholder": "​",
            "style": "IPY_MODEL_b40f72c45b0c470383c49c4206362b9b",
            "value": " 4.21k/? [00:00&lt;00:00, 273kB/s]"
          }
        },
        "db08c11f05d04d07b3937cf4c82ac952": {
          "model_module": "@jupyter-widgets/base",
          "model_name": "LayoutModel",
          "model_module_version": "1.2.0",
          "state": {
            "_model_module": "@jupyter-widgets/base",
            "_model_module_version": "1.2.0",
            "_model_name": "LayoutModel",
            "_view_count": null,
            "_view_module": "@jupyter-widgets/base",
            "_view_module_version": "1.2.0",
            "_view_name": "LayoutView",
            "align_content": null,
            "align_items": null,
            "align_self": null,
            "border": null,
            "bottom": null,
            "display": null,
            "flex": null,
            "flex_flow": null,
            "grid_area": null,
            "grid_auto_columns": null,
            "grid_auto_flow": null,
            "grid_auto_rows": null,
            "grid_column": null,
            "grid_gap": null,
            "grid_row": null,
            "grid_template_areas": null,
            "grid_template_columns": null,
            "grid_template_rows": null,
            "height": null,
            "justify_content": null,
            "justify_items": null,
            "left": null,
            "margin": null,
            "max_height": null,
            "max_width": null,
            "min_height": null,
            "min_width": null,
            "object_fit": null,
            "object_position": null,
            "order": null,
            "overflow": null,
            "overflow_x": null,
            "overflow_y": null,
            "padding": null,
            "right": null,
            "top": null,
            "visibility": null,
            "width": null
          }
        },
        "e307f62e5c8f4d20945110ba2b8fff9c": {
          "model_module": "@jupyter-widgets/base",
          "model_name": "LayoutModel",
          "model_module_version": "1.2.0",
          "state": {
            "_model_module": "@jupyter-widgets/base",
            "_model_module_version": "1.2.0",
            "_model_name": "LayoutModel",
            "_view_count": null,
            "_view_module": "@jupyter-widgets/base",
            "_view_module_version": "1.2.0",
            "_view_name": "LayoutView",
            "align_content": null,
            "align_items": null,
            "align_self": null,
            "border": null,
            "bottom": null,
            "display": null,
            "flex": null,
            "flex_flow": null,
            "grid_area": null,
            "grid_auto_columns": null,
            "grid_auto_flow": null,
            "grid_auto_rows": null,
            "grid_column": null,
            "grid_gap": null,
            "grid_row": null,
            "grid_template_areas": null,
            "grid_template_columns": null,
            "grid_template_rows": null,
            "height": null,
            "justify_content": null,
            "justify_items": null,
            "left": null,
            "margin": null,
            "max_height": null,
            "max_width": null,
            "min_height": null,
            "min_width": null,
            "object_fit": null,
            "object_position": null,
            "order": null,
            "overflow": null,
            "overflow_x": null,
            "overflow_y": null,
            "padding": null,
            "right": null,
            "top": null,
            "visibility": null,
            "width": null
          }
        },
        "9778182e8ee64db2a5be46e73de81967": {
          "model_module": "@jupyter-widgets/controls",
          "model_name": "DescriptionStyleModel",
          "model_module_version": "1.5.0",
          "state": {
            "_model_module": "@jupyter-widgets/controls",
            "_model_module_version": "1.5.0",
            "_model_name": "DescriptionStyleModel",
            "_view_count": null,
            "_view_module": "@jupyter-widgets/base",
            "_view_module_version": "1.2.0",
            "_view_name": "StyleView",
            "description_width": ""
          }
        },
        "b74767b496704fa88f56ee6a1a49c102": {
          "model_module": "@jupyter-widgets/base",
          "model_name": "LayoutModel",
          "model_module_version": "1.2.0",
          "state": {
            "_model_module": "@jupyter-widgets/base",
            "_model_module_version": "1.2.0",
            "_model_name": "LayoutModel",
            "_view_count": null,
            "_view_module": "@jupyter-widgets/base",
            "_view_module_version": "1.2.0",
            "_view_name": "LayoutView",
            "align_content": null,
            "align_items": null,
            "align_self": null,
            "border": null,
            "bottom": null,
            "display": null,
            "flex": null,
            "flex_flow": null,
            "grid_area": null,
            "grid_auto_columns": null,
            "grid_auto_flow": null,
            "grid_auto_rows": null,
            "grid_column": null,
            "grid_gap": null,
            "grid_row": null,
            "grid_template_areas": null,
            "grid_template_columns": null,
            "grid_template_rows": null,
            "height": null,
            "justify_content": null,
            "justify_items": null,
            "left": null,
            "margin": null,
            "max_height": null,
            "max_width": null,
            "min_height": null,
            "min_width": null,
            "object_fit": null,
            "object_position": null,
            "order": null,
            "overflow": null,
            "overflow_x": null,
            "overflow_y": null,
            "padding": null,
            "right": null,
            "top": null,
            "visibility": null,
            "width": null
          }
        },
        "6ceaf0f526694be28496ed709dcd6e69": {
          "model_module": "@jupyter-widgets/controls",
          "model_name": "ProgressStyleModel",
          "model_module_version": "1.5.0",
          "state": {
            "_model_module": "@jupyter-widgets/controls",
            "_model_module_version": "1.5.0",
            "_model_name": "ProgressStyleModel",
            "_view_count": null,
            "_view_module": "@jupyter-widgets/base",
            "_view_module_version": "1.2.0",
            "_view_name": "StyleView",
            "bar_color": null,
            "description_width": ""
          }
        },
        "f729d915b67043ab8a10751a869bdcc8": {
          "model_module": "@jupyter-widgets/base",
          "model_name": "LayoutModel",
          "model_module_version": "1.2.0",
          "state": {
            "_model_module": "@jupyter-widgets/base",
            "_model_module_version": "1.2.0",
            "_model_name": "LayoutModel",
            "_view_count": null,
            "_view_module": "@jupyter-widgets/base",
            "_view_module_version": "1.2.0",
            "_view_name": "LayoutView",
            "align_content": null,
            "align_items": null,
            "align_self": null,
            "border": null,
            "bottom": null,
            "display": null,
            "flex": null,
            "flex_flow": null,
            "grid_area": null,
            "grid_auto_columns": null,
            "grid_auto_flow": null,
            "grid_auto_rows": null,
            "grid_column": null,
            "grid_gap": null,
            "grid_row": null,
            "grid_template_areas": null,
            "grid_template_columns": null,
            "grid_template_rows": null,
            "height": null,
            "justify_content": null,
            "justify_items": null,
            "left": null,
            "margin": null,
            "max_height": null,
            "max_width": null,
            "min_height": null,
            "min_width": null,
            "object_fit": null,
            "object_position": null,
            "order": null,
            "overflow": null,
            "overflow_x": null,
            "overflow_y": null,
            "padding": null,
            "right": null,
            "top": null,
            "visibility": null,
            "width": null
          }
        },
        "b40f72c45b0c470383c49c4206362b9b": {
          "model_module": "@jupyter-widgets/controls",
          "model_name": "DescriptionStyleModel",
          "model_module_version": "1.5.0",
          "state": {
            "_model_module": "@jupyter-widgets/controls",
            "_model_module_version": "1.5.0",
            "_model_name": "DescriptionStyleModel",
            "_view_count": null,
            "_view_module": "@jupyter-widgets/base",
            "_view_module_version": "1.2.0",
            "_view_name": "StyleView",
            "description_width": ""
          }
        }
      }
    }
  },
  "cells": [
    {
      "cell_type": "markdown",
      "source": [
        "# How Multilingual is Multilingual BERT?\n",
        "Fine-Tuning a Multilingual Model and Zero-Shot Learning"
      ],
      "metadata": {
        "id": "7JPSARbRQiMg"
      }
    },
    {
      "cell_type": "markdown",
      "source": [
        "## 1. Introduction"
      ],
      "metadata": {
        "id": "MPWI6mldaVgV"
      }
    },
    {
      "cell_type": "code",
      "source": [
        "!pip install transformers[torch]\n",
        "!pip install transformers datasets\n",
        "#!pip install codecarbon\n",
        "!pip install spacy\n",
        "!pip install conllu\n",
        "!pip install accelerate -U"
      ],
      "metadata": {
        "colab": {
          "base_uri": "https://localhost:8080/"
        },
        "id": "lo8lddFBQj9z",
        "outputId": "92db3a0d-5315-46e9-bd00-4e53b8a2a251"
      },
      "execution_count": null,
      "outputs": [
        {
          "output_type": "stream",
          "name": "stdout",
          "text": [
            "Requirement already satisfied: transformers[torch] in /usr/local/lib/python3.10/dist-packages (4.35.2)\n",
            "Requirement already satisfied: filelock in /usr/local/lib/python3.10/dist-packages (from transformers[torch]) (3.13.1)\n",
            "Requirement already satisfied: huggingface-hub<1.0,>=0.16.4 in /usr/local/lib/python3.10/dist-packages (from transformers[torch]) (0.19.4)\n",
            "Requirement already satisfied: numpy>=1.17 in /usr/local/lib/python3.10/dist-packages (from transformers[torch]) (1.23.5)\n",
            "Requirement already satisfied: packaging>=20.0 in /usr/local/lib/python3.10/dist-packages (from transformers[torch]) (23.2)\n",
            "Requirement already satisfied: pyyaml>=5.1 in /usr/local/lib/python3.10/dist-packages (from transformers[torch]) (6.0.1)\n",
            "Requirement already satisfied: regex!=2019.12.17 in /usr/local/lib/python3.10/dist-packages (from transformers[torch]) (2023.6.3)\n",
            "Requirement already satisfied: requests in /usr/local/lib/python3.10/dist-packages (from transformers[torch]) (2.31.0)\n",
            "Requirement already satisfied: tokenizers<0.19,>=0.14 in /usr/local/lib/python3.10/dist-packages (from transformers[torch]) (0.15.0)\n",
            "Requirement already satisfied: safetensors>=0.3.1 in /usr/local/lib/python3.10/dist-packages (from transformers[torch]) (0.4.0)\n",
            "Requirement already satisfied: tqdm>=4.27 in /usr/local/lib/python3.10/dist-packages (from transformers[torch]) (4.66.1)\n",
            "Requirement already satisfied: torch!=1.12.0,>=1.10 in /usr/local/lib/python3.10/dist-packages (from transformers[torch]) (2.1.0+cu118)\n",
            "Collecting accelerate>=0.20.3 (from transformers[torch])\n",
            "  Downloading accelerate-0.24.1-py3-none-any.whl (261 kB)\n",
            "\u001b[2K     \u001b[90m━━━━━━━━━━━━━━━━━━━━━━━━━━━━━━━━━━━━━━━━\u001b[0m \u001b[32m261.4/261.4 kB\u001b[0m \u001b[31m5.0 MB/s\u001b[0m eta \u001b[36m0:00:00\u001b[0m\n",
            "\u001b[?25hRequirement already satisfied: psutil in /usr/local/lib/python3.10/dist-packages (from accelerate>=0.20.3->transformers[torch]) (5.9.5)\n",
            "Requirement already satisfied: fsspec>=2023.5.0 in /usr/local/lib/python3.10/dist-packages (from huggingface-hub<1.0,>=0.16.4->transformers[torch]) (2023.6.0)\n",
            "Requirement already satisfied: typing-extensions>=3.7.4.3 in /usr/local/lib/python3.10/dist-packages (from huggingface-hub<1.0,>=0.16.4->transformers[torch]) (4.5.0)\n",
            "Requirement already satisfied: sympy in /usr/local/lib/python3.10/dist-packages (from torch!=1.12.0,>=1.10->transformers[torch]) (1.12)\n",
            "Requirement already satisfied: networkx in /usr/local/lib/python3.10/dist-packages (from torch!=1.12.0,>=1.10->transformers[torch]) (3.2.1)\n",
            "Requirement already satisfied: jinja2 in /usr/local/lib/python3.10/dist-packages (from torch!=1.12.0,>=1.10->transformers[torch]) (3.1.2)\n",
            "Requirement already satisfied: triton==2.1.0 in /usr/local/lib/python3.10/dist-packages (from torch!=1.12.0,>=1.10->transformers[torch]) (2.1.0)\n",
            "Requirement already satisfied: charset-normalizer<4,>=2 in /usr/local/lib/python3.10/dist-packages (from requests->transformers[torch]) (3.3.2)\n",
            "Requirement already satisfied: idna<4,>=2.5 in /usr/local/lib/python3.10/dist-packages (from requests->transformers[torch]) (3.4)\n",
            "Requirement already satisfied: urllib3<3,>=1.21.1 in /usr/local/lib/python3.10/dist-packages (from requests->transformers[torch]) (2.0.7)\n",
            "Requirement already satisfied: certifi>=2017.4.17 in /usr/local/lib/python3.10/dist-packages (from requests->transformers[torch]) (2023.7.22)\n",
            "Requirement already satisfied: MarkupSafe>=2.0 in /usr/local/lib/python3.10/dist-packages (from jinja2->torch!=1.12.0,>=1.10->transformers[torch]) (2.1.3)\n",
            "Requirement already satisfied: mpmath>=0.19 in /usr/local/lib/python3.10/dist-packages (from sympy->torch!=1.12.0,>=1.10->transformers[torch]) (1.3.0)\n",
            "Installing collected packages: accelerate\n",
            "Successfully installed accelerate-0.24.1\n",
            "Requirement already satisfied: transformers in /usr/local/lib/python3.10/dist-packages (4.35.2)\n",
            "Collecting datasets\n",
            "  Downloading datasets-2.15.0-py3-none-any.whl (521 kB)\n",
            "\u001b[2K     \u001b[90m━━━━━━━━━━━━━━━━━━━━━━━━━━━━━━━━━━━━━━━━\u001b[0m \u001b[32m521.2/521.2 kB\u001b[0m \u001b[31m7.9 MB/s\u001b[0m eta \u001b[36m0:00:00\u001b[0m\n",
            "\u001b[?25hRequirement already satisfied: filelock in /usr/local/lib/python3.10/dist-packages (from transformers) (3.13.1)\n",
            "Requirement already satisfied: huggingface-hub<1.0,>=0.16.4 in /usr/local/lib/python3.10/dist-packages (from transformers) (0.19.4)\n",
            "Requirement already satisfied: numpy>=1.17 in /usr/local/lib/python3.10/dist-packages (from transformers) (1.23.5)\n",
            "Requirement already satisfied: packaging>=20.0 in /usr/local/lib/python3.10/dist-packages (from transformers) (23.2)\n",
            "Requirement already satisfied: pyyaml>=5.1 in /usr/local/lib/python3.10/dist-packages (from transformers) (6.0.1)\n",
            "Requirement already satisfied: regex!=2019.12.17 in /usr/local/lib/python3.10/dist-packages (from transformers) (2023.6.3)\n",
            "Requirement already satisfied: requests in /usr/local/lib/python3.10/dist-packages (from transformers) (2.31.0)\n",
            "Requirement already satisfied: tokenizers<0.19,>=0.14 in /usr/local/lib/python3.10/dist-packages (from transformers) (0.15.0)\n",
            "Requirement already satisfied: safetensors>=0.3.1 in /usr/local/lib/python3.10/dist-packages (from transformers) (0.4.0)\n",
            "Requirement already satisfied: tqdm>=4.27 in /usr/local/lib/python3.10/dist-packages (from transformers) (4.66.1)\n",
            "Requirement already satisfied: pyarrow>=8.0.0 in /usr/local/lib/python3.10/dist-packages (from datasets) (9.0.0)\n",
            "Collecting pyarrow-hotfix (from datasets)\n",
            "  Downloading pyarrow_hotfix-0.6-py3-none-any.whl (7.9 kB)\n",
            "Collecting dill<0.3.8,>=0.3.0 (from datasets)\n",
            "  Downloading dill-0.3.7-py3-none-any.whl (115 kB)\n",
            "\u001b[2K     \u001b[90m━━━━━━━━━━━━━━━━━━━━━━━━━━━━━━━━━━━━━━━━\u001b[0m \u001b[32m115.3/115.3 kB\u001b[0m \u001b[31m17.0 MB/s\u001b[0m eta \u001b[36m0:00:00\u001b[0m\n",
            "\u001b[?25hRequirement already satisfied: pandas in /usr/local/lib/python3.10/dist-packages (from datasets) (1.5.3)\n",
            "Requirement already satisfied: xxhash in /usr/local/lib/python3.10/dist-packages (from datasets) (3.4.1)\n",
            "Collecting multiprocess (from datasets)\n",
            "  Downloading multiprocess-0.70.15-py310-none-any.whl (134 kB)\n",
            "\u001b[2K     \u001b[90m━━━━━━━━━━━━━━━━━━━━━━━━━━━━━━━━━━━━━━━━\u001b[0m \u001b[32m134.8/134.8 kB\u001b[0m \u001b[31m19.1 MB/s\u001b[0m eta \u001b[36m0:00:00\u001b[0m\n",
            "\u001b[?25hRequirement already satisfied: fsspec[http]<=2023.10.0,>=2023.1.0 in /usr/local/lib/python3.10/dist-packages (from datasets) (2023.6.0)\n",
            "Requirement already satisfied: aiohttp in /usr/local/lib/python3.10/dist-packages (from datasets) (3.8.6)\n",
            "Requirement already satisfied: attrs>=17.3.0 in /usr/local/lib/python3.10/dist-packages (from aiohttp->datasets) (23.1.0)\n",
            "Requirement already satisfied: charset-normalizer<4.0,>=2.0 in /usr/local/lib/python3.10/dist-packages (from aiohttp->datasets) (3.3.2)\n",
            "Requirement already satisfied: multidict<7.0,>=4.5 in /usr/local/lib/python3.10/dist-packages (from aiohttp->datasets) (6.0.4)\n",
            "Requirement already satisfied: async-timeout<5.0,>=4.0.0a3 in /usr/local/lib/python3.10/dist-packages (from aiohttp->datasets) (4.0.3)\n",
            "Requirement already satisfied: yarl<2.0,>=1.0 in /usr/local/lib/python3.10/dist-packages (from aiohttp->datasets) (1.9.2)\n",
            "Requirement already satisfied: frozenlist>=1.1.1 in /usr/local/lib/python3.10/dist-packages (from aiohttp->datasets) (1.4.0)\n",
            "Requirement already satisfied: aiosignal>=1.1.2 in /usr/local/lib/python3.10/dist-packages (from aiohttp->datasets) (1.3.1)\n",
            "Requirement already satisfied: typing-extensions>=3.7.4.3 in /usr/local/lib/python3.10/dist-packages (from huggingface-hub<1.0,>=0.16.4->transformers) (4.5.0)\n",
            "Requirement already satisfied: idna<4,>=2.5 in /usr/local/lib/python3.10/dist-packages (from requests->transformers) (3.4)\n",
            "Requirement already satisfied: urllib3<3,>=1.21.1 in /usr/local/lib/python3.10/dist-packages (from requests->transformers) (2.0.7)\n",
            "Requirement already satisfied: certifi>=2017.4.17 in /usr/local/lib/python3.10/dist-packages (from requests->transformers) (2023.7.22)\n",
            "Requirement already satisfied: python-dateutil>=2.8.1 in /usr/local/lib/python3.10/dist-packages (from pandas->datasets) (2.8.2)\n",
            "Requirement already satisfied: pytz>=2020.1 in /usr/local/lib/python3.10/dist-packages (from pandas->datasets) (2023.3.post1)\n",
            "Requirement already satisfied: six>=1.5 in /usr/local/lib/python3.10/dist-packages (from python-dateutil>=2.8.1->pandas->datasets) (1.16.0)\n",
            "Installing collected packages: pyarrow-hotfix, dill, multiprocess, datasets\n",
            "Successfully installed datasets-2.15.0 dill-0.3.7 multiprocess-0.70.15 pyarrow-hotfix-0.6\n",
            "Requirement already satisfied: spacy in /usr/local/lib/python3.10/dist-packages (3.6.1)\n",
            "Requirement already satisfied: spacy-legacy<3.1.0,>=3.0.11 in /usr/local/lib/python3.10/dist-packages (from spacy) (3.0.12)\n",
            "Requirement already satisfied: spacy-loggers<2.0.0,>=1.0.0 in /usr/local/lib/python3.10/dist-packages (from spacy) (1.0.5)\n",
            "Requirement already satisfied: murmurhash<1.1.0,>=0.28.0 in /usr/local/lib/python3.10/dist-packages (from spacy) (1.0.10)\n",
            "Requirement already satisfied: cymem<2.1.0,>=2.0.2 in /usr/local/lib/python3.10/dist-packages (from spacy) (2.0.8)\n",
            "Requirement already satisfied: preshed<3.1.0,>=3.0.2 in /usr/local/lib/python3.10/dist-packages (from spacy) (3.0.9)\n",
            "Requirement already satisfied: thinc<8.2.0,>=8.1.8 in /usr/local/lib/python3.10/dist-packages (from spacy) (8.1.12)\n",
            "Requirement already satisfied: wasabi<1.2.0,>=0.9.1 in /usr/local/lib/python3.10/dist-packages (from spacy) (1.1.2)\n",
            "Requirement already satisfied: srsly<3.0.0,>=2.4.3 in /usr/local/lib/python3.10/dist-packages (from spacy) (2.4.8)\n",
            "Requirement already satisfied: catalogue<2.1.0,>=2.0.6 in /usr/local/lib/python3.10/dist-packages (from spacy) (2.0.10)\n",
            "Requirement already satisfied: typer<0.10.0,>=0.3.0 in /usr/local/lib/python3.10/dist-packages (from spacy) (0.9.0)\n",
            "Requirement already satisfied: pathy>=0.10.0 in /usr/local/lib/python3.10/dist-packages (from spacy) (0.10.3)\n",
            "Requirement already satisfied: smart-open<7.0.0,>=5.2.1 in /usr/local/lib/python3.10/dist-packages (from spacy) (6.4.0)\n",
            "Requirement already satisfied: tqdm<5.0.0,>=4.38.0 in /usr/local/lib/python3.10/dist-packages (from spacy) (4.66.1)\n",
            "Requirement already satisfied: numpy>=1.15.0 in /usr/local/lib/python3.10/dist-packages (from spacy) (1.23.5)\n",
            "Requirement already satisfied: requests<3.0.0,>=2.13.0 in /usr/local/lib/python3.10/dist-packages (from spacy) (2.31.0)\n",
            "Requirement already satisfied: pydantic!=1.8,!=1.8.1,<3.0.0,>=1.7.4 in /usr/local/lib/python3.10/dist-packages (from spacy) (1.10.13)\n",
            "Requirement already satisfied: jinja2 in /usr/local/lib/python3.10/dist-packages (from spacy) (3.1.2)\n",
            "Requirement already satisfied: setuptools in /usr/local/lib/python3.10/dist-packages (from spacy) (67.7.2)\n",
            "Requirement already satisfied: packaging>=20.0 in /usr/local/lib/python3.10/dist-packages (from spacy) (23.2)\n",
            "Requirement already satisfied: langcodes<4.0.0,>=3.2.0 in /usr/local/lib/python3.10/dist-packages (from spacy) (3.3.0)\n",
            "Requirement already satisfied: typing-extensions>=4.2.0 in /usr/local/lib/python3.10/dist-packages (from pydantic!=1.8,!=1.8.1,<3.0.0,>=1.7.4->spacy) (4.5.0)\n",
            "Requirement already satisfied: charset-normalizer<4,>=2 in /usr/local/lib/python3.10/dist-packages (from requests<3.0.0,>=2.13.0->spacy) (3.3.2)\n",
            "Requirement already satisfied: idna<4,>=2.5 in /usr/local/lib/python3.10/dist-packages (from requests<3.0.0,>=2.13.0->spacy) (3.4)\n",
            "Requirement already satisfied: urllib3<3,>=1.21.1 in /usr/local/lib/python3.10/dist-packages (from requests<3.0.0,>=2.13.0->spacy) (2.0.7)\n",
            "Requirement already satisfied: certifi>=2017.4.17 in /usr/local/lib/python3.10/dist-packages (from requests<3.0.0,>=2.13.0->spacy) (2023.7.22)\n",
            "Requirement already satisfied: blis<0.8.0,>=0.7.8 in /usr/local/lib/python3.10/dist-packages (from thinc<8.2.0,>=8.1.8->spacy) (0.7.11)\n",
            "Requirement already satisfied: confection<1.0.0,>=0.0.1 in /usr/local/lib/python3.10/dist-packages (from thinc<8.2.0,>=8.1.8->spacy) (0.1.3)\n",
            "Requirement already satisfied: click<9.0.0,>=7.1.1 in /usr/local/lib/python3.10/dist-packages (from typer<0.10.0,>=0.3.0->spacy) (8.1.7)\n",
            "Requirement already satisfied: MarkupSafe>=2.0 in /usr/local/lib/python3.10/dist-packages (from jinja2->spacy) (2.1.3)\n",
            "Collecting conllu\n",
            "  Downloading conllu-4.5.3-py2.py3-none-any.whl (16 kB)\n",
            "Installing collected packages: conllu\n",
            "Successfully installed conllu-4.5.3\n",
            "Requirement already satisfied: accelerate in /usr/local/lib/python3.10/dist-packages (0.24.1)\n",
            "Requirement already satisfied: numpy>=1.17 in /usr/local/lib/python3.10/dist-packages (from accelerate) (1.23.5)\n",
            "Requirement already satisfied: packaging>=20.0 in /usr/local/lib/python3.10/dist-packages (from accelerate) (23.2)\n",
            "Requirement already satisfied: psutil in /usr/local/lib/python3.10/dist-packages (from accelerate) (5.9.5)\n",
            "Requirement already satisfied: pyyaml in /usr/local/lib/python3.10/dist-packages (from accelerate) (6.0.1)\n",
            "Requirement already satisfied: torch>=1.10.0 in /usr/local/lib/python3.10/dist-packages (from accelerate) (2.1.0+cu118)\n",
            "Requirement already satisfied: huggingface-hub in /usr/local/lib/python3.10/dist-packages (from accelerate) (0.19.4)\n",
            "Requirement already satisfied: filelock in /usr/local/lib/python3.10/dist-packages (from torch>=1.10.0->accelerate) (3.13.1)\n",
            "Requirement already satisfied: typing-extensions in /usr/local/lib/python3.10/dist-packages (from torch>=1.10.0->accelerate) (4.5.0)\n",
            "Requirement already satisfied: sympy in /usr/local/lib/python3.10/dist-packages (from torch>=1.10.0->accelerate) (1.12)\n",
            "Requirement already satisfied: networkx in /usr/local/lib/python3.10/dist-packages (from torch>=1.10.0->accelerate) (3.2.1)\n",
            "Requirement already satisfied: jinja2 in /usr/local/lib/python3.10/dist-packages (from torch>=1.10.0->accelerate) (3.1.2)\n",
            "Requirement already satisfied: fsspec in /usr/local/lib/python3.10/dist-packages (from torch>=1.10.0->accelerate) (2023.6.0)\n",
            "Requirement already satisfied: triton==2.1.0 in /usr/local/lib/python3.10/dist-packages (from torch>=1.10.0->accelerate) (2.1.0)\n",
            "Requirement already satisfied: requests in /usr/local/lib/python3.10/dist-packages (from huggingface-hub->accelerate) (2.31.0)\n",
            "Requirement already satisfied: tqdm>=4.42.1 in /usr/local/lib/python3.10/dist-packages (from huggingface-hub->accelerate) (4.66.1)\n",
            "Requirement already satisfied: MarkupSafe>=2.0 in /usr/local/lib/python3.10/dist-packages (from jinja2->torch>=1.10.0->accelerate) (2.1.3)\n",
            "Requirement already satisfied: charset-normalizer<4,>=2 in /usr/local/lib/python3.10/dist-packages (from requests->huggingface-hub->accelerate) (3.3.2)\n",
            "Requirement already satisfied: idna<4,>=2.5 in /usr/local/lib/python3.10/dist-packages (from requests->huggingface-hub->accelerate) (3.4)\n",
            "Requirement already satisfied: urllib3<3,>=1.21.1 in /usr/local/lib/python3.10/dist-packages (from requests->huggingface-hub->accelerate) (2.0.7)\n",
            "Requirement already satisfied: certifi>=2017.4.17 in /usr/local/lib/python3.10/dist-packages (from requests->huggingface-hub->accelerate) (2023.7.22)\n",
            "Requirement already satisfied: mpmath>=0.19 in /usr/local/lib/python3.10/dist-packages (from sympy->torch>=1.10.0->accelerate) (1.3.0)\n"
          ]
        }
      ]
    },
    {
      "cell_type": "code",
      "source": [
        "#from codecarbon import EmissionsTracker\n",
        "import spacy\n",
        "from google.colab import drive\n",
        "import conllu\n",
        "from collections import Counter\n",
        "import matplotlib.pyplot as plt\n",
        "from transformers import AutoTokenizer, AutoModelForTokenClassification, TrainingArguments, Trainer\n",
        "from datasets import Dataset, load_metric\n",
        "from sklearn.model_selection import train_test_split\n",
        "import numpy as np"
      ],
      "metadata": {
        "id": "rvut28yuaJtH"
      },
      "execution_count": null,
      "outputs": []
    },
    {
      "cell_type": "code",
      "source": [
        "drive.mount(\"/content/drive\")"
      ],
      "metadata": {
        "colab": {
          "base_uri": "https://localhost:8080/"
        },
        "id": "WkFa0nADbjPr",
        "outputId": "a75f0c87-5c86-41f3-e5e6-acd84b11d872"
      },
      "execution_count": null,
      "outputs": [
        {
          "output_type": "stream",
          "name": "stdout",
          "text": [
            "Mounted at /content/drive\n"
          ]
        }
      ]
    },
    {
      "cell_type": "markdown",
      "source": [
        "## 2 Fine-Tuning mBERT"
      ],
      "metadata": {
        "id": "7EGazoGEam_Q"
      }
    },
    {
      "cell_type": "code",
      "source": [
        "# Download dataset\n",
        "# !wget -P /content/drive/MyDrive/Multilingual_NLP/Lab_4 https://raw.githubusercontent.com/UniversalDependencies/UD_French-Sequoia/master/fr_sequoia-ud-test.conllu\n",
        "# !wget -P /content/drive/MyDrive/Multilingual_NLP/Lab_4 https://raw.githubusercontent.com/UniversalDependencies/UD_French-Sequoia/master/fr_sequoia-ud-train.conllu\n",
        "# !wget -P /content/drive/MyDrive/Multilingual_NLP/Lab_4 https://raw.githubusercontent.com/UniversalDependencies/UD_French-Sequoia/master/fr_sequoia-ud-dev.conllu"
      ],
      "metadata": {
        "id": "9fuWjAASMlky"
      },
      "execution_count": null,
      "outputs": []
    },
    {
      "cell_type": "code",
      "source": [
        "def load_conllu(file_path):\n",
        "  for sentence in conllu.parse(open(file_path, 'rt', encoding='utf-8').read()):\n",
        "    tokenized_words = [token['form'] for token in sentence]\n",
        "    gold_tags = [token[\"upos\"] for token in sentence]\n",
        "    yield tokenized_words, gold_tags\n",
        "\n",
        "corpus = list(load_conllu(\"/content/drive/MyDrive/Multilingual_NLP/Lab_4_How Multilingual is Multilingual BERT?/fr_sequoia-ud-test.conllu\"))"
      ],
      "metadata": {
        "id": "gw3xRejDMqB0"
      },
      "execution_count": null,
      "outputs": []
    },
    {
      "cell_type": "markdown",
      "source": [
        "2.1 The Universal Dependencies Project"
      ],
      "metadata": {
        "id": "4uvoML3fczX5"
      }
    },
    {
      "cell_type": "markdown",
      "source": [
        "3. What is the distribution of labels in the test set of the Sequoia treebank ?"
      ],
      "metadata": {
        "id": "qZMw5hmhMwqZ"
      }
    },
    {
      "cell_type": "code",
      "source": [
        "labels = [elt[1] for elt in corpus]\n",
        "labels_count = {}\n",
        "\n",
        "for liste in labels:\n",
        "  for elt in liste:\n",
        "    if elt not in labels_count:\n",
        "      labels_count[elt] = 1\n",
        "    else:\n",
        "      labels_count[elt] += 1\n",
        "\n",
        "labels_count_alphabetic_order = {k: v for k, v in sorted(labels_count.items())}\n",
        "labels_count_value_order = {k: v for k, v in sorted(labels_count.items(), key=lambda item: item[1], reverse=True)}\n",
        "labels_count_value_order"
      ],
      "metadata": {
        "colab": {
          "base_uri": "https://localhost:8080/"
        },
        "id": "6HwPDc9KMzdr",
        "outputId": "f5ced7b3-3644-4403-d192-02be10dc566a"
      },
      "execution_count": null,
      "outputs": [
        {
          "output_type": "execute_result",
          "data": {
            "text/plain": [
              "{'NOUN': 2158,\n",
              " 'ADP': 1634,\n",
              " 'DET': 1493,\n",
              " 'PUNCT': 1084,\n",
              " 'VERB': 781,\n",
              " 'ADJ': 638,\n",
              " 'PROPN': 486,\n",
              " 'ADV': 411,\n",
              " 'PRON': 410,\n",
              " 'AUX': 345,\n",
              " '_': 310,\n",
              " 'NUM': 240,\n",
              " 'CCONJ': 222,\n",
              " 'SCONJ': 106,\n",
              " 'X': 33,\n",
              " 'SYM': 3}"
            ]
          },
          "metadata": {},
          "execution_count": 7
        }
      ]
    },
    {
      "cell_type": "code",
      "source": [
        "labels_count = dict(Counter(elt for sublist in labels for elt in sublist))\n",
        "labels_count"
      ],
      "metadata": {
        "colab": {
          "base_uri": "https://localhost:8080/"
        },
        "id": "LZH5odmAM8Yh",
        "outputId": "0a718eb3-08ff-4757-f5d5-4bd5f367465e"
      },
      "execution_count": null,
      "outputs": [
        {
          "output_type": "execute_result",
          "data": {
            "text/plain": [
              "{'PRON': 410,\n",
              " 'VERB': 781,\n",
              " 'SCONJ': 106,\n",
              " 'DET': 1493,\n",
              " 'NOUN': 2158,\n",
              " 'ADJ': 638,\n",
              " 'PUNCT': 1084,\n",
              " 'ADV': 411,\n",
              " 'NUM': 240,\n",
              " 'ADP': 1634,\n",
              " 'PROPN': 486,\n",
              " 'CCONJ': 222,\n",
              " 'AUX': 345,\n",
              " '_': 310,\n",
              " 'X': 33,\n",
              " 'SYM': 3}"
            ]
          },
          "metadata": {},
          "execution_count": 8
        }
      ]
    },
    {
      "cell_type": "code",
      "source": [
        "labels = list(labels_count.keys())\n",
        "counts = list(labels_count.values())\n",
        "plt.figure(figsize=(10, 6))\n",
        "plt.bar(labels, counts)\n",
        "plt.xlabel('Labels')\n",
        "plt.ylabel('Counts')\n",
        "plt.title('Label distribution')\n",
        "plt.xticks(rotation=90)\n",
        "plt.tight_layout()\n",
        "plt.show()"
      ],
      "metadata": {
        "colab": {
          "base_uri": "https://localhost:8080/",
          "height": 607
        },
        "id": "mCeI4NlwM-p4",
        "outputId": "59aa2e64-2623-4605-b5b9-f62cbc1408c1"
      },
      "execution_count": null,
      "outputs": [
        {
          "output_type": "display_data",
          "data": {
            "text/plain": [
              "<Figure size 1000x600 with 1 Axes>"
            ],
            "image/png": "[encoded data removed]"
          },
          "metadata": {}
        }
      ]
    },
    {
      "cell_type": "code",
      "source": [
        "# Create a pie chart\n",
        "plt.figure(figsize=(8, 8))\n",
        "plt.pie(counts, labels=labels, autopct='%1.1f%%', startangle=140)\n",
        "plt.axis('equal')  # Equal aspect ratio ensures that pie is drawn as a circle.\n",
        "plt.title('Label Distribution')\n",
        "plt.show()"
      ],
      "metadata": {
        "colab": {
          "base_uri": "https://localhost:8080/",
          "height": 683
        },
        "id": "3UgtQT2cNAUN",
        "outputId": "dfc8b24d-b5a0-449c-e7b7-14c595361d3b"
      },
      "execution_count": null,
      "outputs": [
        {
          "output_type": "display_data",
          "data": {
            "text/plain": [
              "<Figure size 800x800 with 1 Axes>"
            ],
            "image/png": "[encoded data removed]"
          },
          "metadata": {}
        }
      ]
    },
    {
      "cell_type": "markdown",
      "source": [
        "4. What are the multiword tokens in the test set of Sequoia? How are they annotated ?"
      ],
      "metadata": {
        "id": "oakvQZyWNC4N"
      }
    },
    {
      "cell_type": "code",
      "source": [
        "# Mapping the labels and the words\n",
        "i2w = [word for sentence in corpus for word in sentence[0]]\n",
        "w2i = {word: i for i, word in enumerate(set(word for word in i2w), 1)}\n",
        "i2l = [label for sentence in corpus for label in sentence[1]]\n",
        "l2i = {label: i for i, label in enumerate(set(label for label in i2l), 1)}\n",
        "\n",
        "multiword_tokens = []\n",
        "for token, label in zip(i2w, i2l):\n",
        "  if label == \"_\":\n",
        "    multiword_tokens.append(token)\n",
        "set(multiword_tokens)"
      ],
      "metadata": {
        "colab": {
          "base_uri": "https://localhost:8080/"
        },
        "id": "ZmOnAJenNCja",
        "outputId": "1bd37b7a-8af1-45be-c170-7ea3c5773d36"
      },
      "execution_count": null,
      "outputs": [
        {
          "output_type": "execute_result",
          "data": {
            "text/plain": [
              "{'Au', 'Aux', 'DES', 'au', 'aux', 'des', 'desdites', 'du'}"
            ]
          },
          "metadata": {},
          "execution_count": 11
        }
      ]
    },
    {
      "cell_type": "code",
      "source": [
        "multiword_tokens = set([token for token, label in zip(i2w, i2l) if label == \"_\"])\n",
        "multiword_tokens"
      ],
      "metadata": {
        "colab": {
          "base_uri": "https://localhost:8080/"
        },
        "id": "EX7ne4-dNJ86",
        "outputId": "931a4655-1509-436b-f6a1-fcf3f3763e30"
      },
      "execution_count": null,
      "outputs": [
        {
          "output_type": "execute_result",
          "data": {
            "text/plain": [
              "{'Au', 'Aux', 'DES', 'au', 'aux', 'des', 'desdites', 'du'}"
            ]
          },
          "metadata": {},
          "execution_count": 12
        }
      ]
    },
    {
      "cell_type": "markdown",
      "source": [
        "6. According to UD tokenization guidelines, a token can contain spaces. Are there any token in the Sequoia corpora that contain spaces ? If so these spaces should be removed."
      ],
      "metadata": {
        "id": "6OdGQTQf9IFE"
      }
    },
    {
      "cell_type": "code",
      "source": [
        "contains_spaces = False\n",
        "\n",
        "for tokens, _ in corpus:\n",
        "    for token in tokens:\n",
        "        if ' ' in token:\n",
        "            contains_spaces = True\n",
        "            break\n",
        "\n",
        "if contains_spaces:\n",
        "    print(\"There are tokens in the corpus that contain spaces.\")\n",
        "else:\n",
        "    print(\"No tokens in the corpus contain spaces.\")"
      ],
      "metadata": {
        "colab": {
          "base_uri": "https://localhost:8080/"
        },
        "id": "vGXyFvnWNN5z",
        "outputId": "b55681e3-781f-4dda-960c-f2a5d401ef07"
      },
      "execution_count": null,
      "outputs": [
        {
          "output_type": "stream",
          "name": "stdout",
          "text": [
            "There are tokens in the corpus that contain spaces.\n"
          ]
        }
      ]
    },
    {
      "cell_type": "code",
      "source": [
        "index_with_spaces = None  # Initialize to None if no spaces are found\n",
        "\n",
        "for i, (tokens, _) in enumerate(corpus):\n",
        "    if any(' ' in token for token in tokens):\n",
        "        print(corpus[i])\n",
        "        index_with_spaces = i\n",
        "        token_with_space = next(token for token in tokens if ' ' in token)\n",
        "        print(f\"Token with space: '{token_with_space}' at index {index_with_spaces}\")\n",
        "        break\n",
        "\n",
        "if index_with_spaces is not None:\n",
        "    print(f\"The first tuple with spaces is at index {index_with_spaces}.\")\n",
        "else:\n",
        "    print(\"No tuple in the corpus contains spaces.\")"
      ],
      "metadata": {
        "colab": {
          "base_uri": "https://localhost:8080/"
        },
        "id": "gtw3ANSvNQDX",
        "outputId": "56f46ffa-5ae4-474d-af51-62861cb9ce52"
      },
      "execution_count": null,
      "outputs": [
        {
          "output_type": "stream",
          "name": "stdout",
          "text": [
            "(['Selon', 'les', 'agences', 'humanitaires', 'de', \"l'\", 'ONU', ',', 'plusieurs', 'centaines', 'de', 'milliers', \"d'\", 'Irakiens', ',', 'dont', 'quelque', '500 000', 'enfants', ',', 'sont', 'morts', 'prématurément', 'en', 'raison', 'de', \"l'\", 'embargo', ',', 'faute', 'de', 'produits', 'alimentaires', ',', 'de', 'médicaments', 'et', 'de', 'soins', 'adéquats', '.'], ['ADP', 'DET', 'NOUN', 'ADJ', 'ADP', 'DET', 'PROPN', 'PUNCT', 'DET', 'NOUN', 'ADP', 'NOUN', 'ADP', 'NOUN', 'PUNCT', 'PRON', 'ADV', 'DET', 'NOUN', 'PUNCT', 'AUX', 'VERB', 'ADV', 'ADP', 'NOUN', 'ADP', 'DET', 'NOUN', 'PUNCT', 'ADV', 'ADP', 'NOUN', 'ADJ', 'PUNCT', 'ADP', 'NOUN', 'CCONJ', 'ADP', 'NOUN', 'ADJ', 'PUNCT'])\n",
            "Token with space: '500 000' at index 40\n",
            "The first tuple with spaces is at index 40.\n"
          ]
        }
      ]
    },
    {
      "cell_type": "code",
      "source": [
        "# Initialize an empty list to store the cleaned corpus\n",
        "cleaned_corpus = []\n",
        "tokens_with_space = []\n",
        "\n",
        "for tokens, tags in corpus:\n",
        "    for token in tokens:\n",
        "        if ' ' in token:\n",
        "          tokens_with_space.append(token)\n",
        "          print(f\"Original Token with space: '{token}'\")\n",
        "    cleaned_tokens = [token.replace(' ', '') for token in tokens]\n",
        "    cleaned_corpus.append((cleaned_tokens, tags))\n",
        "print()\n",
        "tokens_with_space"
      ],
      "metadata": {
        "colab": {
          "base_uri": "https://localhost:8080/"
        },
        "id": "L1ccO5GLNTYY",
        "outputId": "8a09a3db-a9b0-4b83-e059-248cbca6f596"
      },
      "execution_count": null,
      "outputs": [
        {
          "output_type": "stream",
          "name": "stdout",
          "text": [
            "Original Token with space: '500 000'\n",
            "Original Token with space: '800 000'\n",
            "Original Token with space: '80 000'\n",
            "Original Token with space: '3 862'\n",
            "Original Token with space: '3 852'\n",
            "Original Token with space: '7 736'\n",
            "Original Token with space: '67 025'\n",
            "Original Token with space: '2 000'\n",
            "Original Token with space: '100 000'\n",
            "Original Token with space: '15 000'\n",
            "Original Token with space: '190 500'\n",
            "Original Token with space: '50 000'\n",
            "Original Token with space: '3 092'\n",
            "\n"
          ]
        },
        {
          "output_type": "execute_result",
          "data": {
            "text/plain": [
              "['500 000',\n",
              " '800 000',\n",
              " '80 000',\n",
              " '3 862',\n",
              " '3 852',\n",
              " '7 736',\n",
              " '67 025',\n",
              " '2 000',\n",
              " '100 000',\n",
              " '15 000',\n",
              " '190 500',\n",
              " '50 000',\n",
              " '3 092']"
            ]
          },
          "metadata": {},
          "execution_count": 15
        }
      ]
    },
    {
      "cell_type": "code",
      "source": [
        "def clean_corpus(tokens):\n",
        "  return [token.replace(' ', '') for token in tokens]"
      ],
      "metadata": {
        "id": "jKsze9Zs5_of"
      },
      "execution_count": null,
      "outputs": []
    },
    {
      "cell_type": "markdown",
      "source": [
        "## 2.2 mBERT tokenization"
      ],
      "metadata": {
        "id": "NP34LOpDBTFs"
      }
    },
    {
      "cell_type": "code",
      "source": [
        "tokenizer = AutoTokenizer.from_pretrained(\"bert-base-multilingual-cased\")"
      ],
      "metadata": {
        "id": "YIsap8pTBIMz",
        "colab": {
          "base_uri": "https://localhost:8080/",
          "height": 145,
          "referenced_widgets": [
            "58b4d94892644729a9f75d2fe5b88ada",
            "6d1e8028a283460080a6b1d538ecceb9",
            "0074ae3325be45529fde40106ac77f5e",
            "3499f5eb5aa24c53a4a7eca871a45a76",
            "cca43c1bbca9494981a56b76ea3839b1",
            "cee2ea63a7404143ad09a12379f5f102",
            "63992bec6ca3471e83ac4799d83ec97f",
            "fd4ed7ab48eb4ef5908b1755f935408e",
            "e1130e8f2dd94c388ad30bd447d79ef7",
            "7d09d34ccd0f49338f60ace3693abcd3",
            "27c931a80b554976ae9af2cc3aab4746",
            "a6dad588a3a047089c511ed4c9ee015c",
            "6e07f282e6c84897b772305ca0d5a5f8",
            "baf6588964ae46abb3f10073b1b0ec32",
            "87b6cbf3003f493fbd0a2fc3324a3e3c",
            "154e4dcf82744bfa80b00d5968b6b4be",
            "5275405a5eae4122893080b8a60a7ca9",
            "aaaae2fbebca40499d8e306e7c321096",
            "8bfae0a8155c4e6e8d34cc2f11fdc0ff",
            "75fbeb6e71d44e87a3240bb3f6186ed2",
            "240e51ee484846d7b6628b508def577d",
            "0d9b2986571a44d28991729cade159bb",
            "779f7f7f430442b68407e4268c188f18",
            "38d21e8785b141699c8f79112c5c6a6e",
            "5d8a94b43cbf4fcab392e7a6e000e13e",
            "469f74b861414c2f879001e1105ffca6",
            "509dca976c7c4c56b66b31312d6e0bef",
            "9739f9587ad74a4e91899ddd952693f1",
            "1ea7ce67c5d244cf84f52e18b57a59e4",
            "ac4e845c58b148439542bbe632c24141",
            "cb93048e2daa48c49c71b499f048d1f1",
            "bff4797a22e64cc2822107472ab0413f",
            "4076bff364dc4f54929f6aac94396e88",
            "bf91a680599a478f9dfbb41863cd3d2c",
            "8086d10980644e14b30d2ec673bd9708",
            "efacfba6a8dc439eb1fbe77d65c36e68",
            "60e36965c4094eab9e1e9fa3e2702ab8",
            "e27c322a09b84faf991205879aff95bd",
            "bfd5307f82564525944fe07b3cab06db",
            "d621d78f86c04f5a871e3b994824dc9f",
            "9ca8481a07cd406da52fab555b03a916",
            "7e97fd2b8a3c4b40bb3c97dd49312b25",
            "3a5c6502536946c59ee5333c6d4f9e69",
            "7c455bb07cf045058ac639c953285918"
          ]
        },
        "outputId": "cdd44e4b-7250-4b15-83fc-2e3ca3cf7a0c"
      },
      "execution_count": null,
      "outputs": [
        {
          "output_type": "display_data",
          "data": {
            "text/plain": [
              "Downloading (…)okenizer_config.json:   0%|          | 0.00/29.0 [00:00<?, ?B/s]"
            ],
            "application/vnd.jupyter.widget-view+json": {
              "version_major": 2,
              "version_minor": 0,
              "model_id": "58b4d94892644729a9f75d2fe5b88ada"
            }
          },
          "metadata": {}
        },
        {
          "output_type": "display_data",
          "data": {
            "text/plain": [
              "Downloading (…)lve/main/config.json:   0%|          | 0.00/625 [00:00<?, ?B/s]"
            ],
            "application/vnd.jupyter.widget-view+json": {
              "version_major": 2,
              "version_minor": 0,
              "model_id": "a6dad588a3a047089c511ed4c9ee015c"
            }
          },
          "metadata": {}
        },
        {
          "output_type": "display_data",
          "data": {
            "text/plain": [
              "Downloading (…)solve/main/vocab.txt:   0%|          | 0.00/996k [00:00<?, ?B/s]"
            ],
            "application/vnd.jupyter.widget-view+json": {
              "version_major": 2,
              "version_minor": 0,
              "model_id": "779f7f7f430442b68407e4268c188f18"
            }
          },
          "metadata": {}
        },
        {
          "output_type": "display_data",
          "data": {
            "text/plain": [
              "Downloading (…)/main/tokenizer.json:   0%|          | 0.00/1.96M [00:00<?, ?B/s]"
            ],
            "application/vnd.jupyter.widget-view+json": {
              "version_major": 2,
              "version_minor": 0,
              "model_id": "bf91a680599a478f9dfbb41863cd3d2c"
            }
          },
          "metadata": {}
        }
      ]
    },
    {
      "cell_type": "markdown",
      "source": [
        "## 2.3 Reconciling the Two Tokenizations"
      ],
      "metadata": {
        "id": "xPqXWttbEo3q"
      }
    },
    {
      "cell_type": "markdown",
      "source": [
        "10. Write a function that takes as parameter a sentence tokenized according to UD rules, i.e. a variable of type List[str] and its gold labels (also a variable of type List[str]) and implements the first principle explained above."
      ],
      "metadata": {
        "id": "nyuWd-ytFB-c"
      }
    },
    {
      "cell_type": "code",
      "source": [
        "def label_multiword_tokens_with_parser(sentences_parsed, labels_parsed, modify_words=False):\n",
        "    modified_words, modified_labels = [], []\n",
        "    for words, labels in zip(sentences_parsed, labels_parsed):\n",
        "        i, current_words, current_labels = 0, [], []\n",
        "        while i < len(words):\n",
        "            if labels[i] == '_':\n",
        "                # Replacing label '_' by the concatenation of the following two labels\n",
        "                current_labels.append(f\"{labels[i + 1]}+{labels[i + 2]}\")\n",
        "                # Remove the divided words (e.g. 'à le' following 'au') by skipping them\n",
        "                current_words.extend(words[i:i + 3]) if not modify_words else None\n",
        "                # Adding undefined labels to ensure the same length of words and labels\n",
        "                current_labels.extend(['_'] * 2) if not modify_words else None\n",
        "                i += 3 if not modify_words else 1\n",
        "            else:\n",
        "                current_words.append(words[i])\n",
        "                current_labels.append(labels[i])\n",
        "                i += 1\n",
        "        modified_words.append(current_words)\n",
        "        modified_labels.append(current_labels)\n",
        "    return modified_words, modified_labels"
      ],
      "metadata": {
        "id": "XaWuippVH4DK"
      },
      "execution_count": null,
      "outputs": []
    },
    {
      "cell_type": "code",
      "source": [
        "def label_multiword_tokens_with_parser(sentences_parsed, labels_parsed, modify_words=False):\n",
        "    modified_words = []\n",
        "    modified_labels = []\n",
        "\n",
        "    for words, labels in zip(sentences_parsed, labels_parsed):\n",
        "        i = 0\n",
        "        current_words = []\n",
        "        current_labels = []\n",
        "        while i < len(words):\n",
        "            if labels[i] == '_':\n",
        "                #print(\"word, label:\", words[i], labels[i])\n",
        "                #print(\"To concatenate:\", labels[i + 1], labels[i + 2])\n",
        "                # Replacing label '_' by the concatenation of the following two labels\n",
        "                current_labels.append(f\"{labels[i + 1]}+{labels[i + 2]}\")\n",
        "                current_words.append(words[i])\n",
        "                if modify_words:\n",
        "                    # Remove these words by skipping them\n",
        "                    i += 3\n",
        "                else:\n",
        "                    # If not removing, add them to modified_words\n",
        "                    current_words.append(words[i + 1])\n",
        "                    current_words.append(words[i + 2])\n",
        "                    # Adding undefined labels to ensure the same length of words and labels\n",
        "                    current_labels.append('_')\n",
        "                    current_labels.append('_')\n",
        "                    i += 3\n",
        "\n",
        "            else:\n",
        "                # Populate word and label lists to return\n",
        "                current_words.append(words[i])\n",
        "                current_labels.append(labels[i])\n",
        "                i += 1  # Move to the next word\n",
        "\n",
        "        # Append current_words and current_labels to the modified lists after processing a sentence\n",
        "        modified_words.append(current_words)\n",
        "        modified_labels.append(current_labels)\n",
        "    return modified_words, modified_labels"
      ],
      "metadata": {
        "id": "rjzGVdh6dUPQ"
      },
      "execution_count": null,
      "outputs": []
    },
    {
      "cell_type": "code",
      "source": [
        "def parse_sentence_label(file_path):\n",
        "  with open(file_path, 'rt', encoding='utf-8') as file:\n",
        "      data = file.read()\n",
        "      conllu_data = list(conllu.parse(data))\n",
        "\n",
        "  sentences_parsed = []\n",
        "  labels_parsed = []\n",
        "\n",
        "  for sentence in conllu_data:\n",
        "      tokens = [token['form'] for token in sentence]\n",
        "      tags = [token[\"upos\"] for token in sentence]\n",
        "      cleaned_tokens = clean_corpus(tokens)\n",
        "      sentences_parsed.append(cleaned_tokens)\n",
        "      labels_parsed.append(tags)\n",
        "\n",
        "  return sentences_parsed, labels_parsed"
      ],
      "metadata": {
        "id": "EgUzSIQFjJ2X"
      },
      "execution_count": null,
      "outputs": []
    },
    {
      "cell_type": "markdown",
      "source": [
        "11. Write a function that takes as input the sentences and labels created by “normalizing” UD sentences, apply the mBERT tokenizer and compute the corresponding label. You must ensure each subtoken (including padding symbols) has a label."
      ],
      "metadata": {
        "id": "Rx1DcZQFZ7q3"
      }
    },
    {
      "cell_type": "code",
      "source": [
        "# Version 2 with input_ids and attention_mask\n",
        "def tokenize_and_label_with_additional_output(modified_sentences, modified_labels):\n",
        "    tokenized_sentences = []\n",
        "    tokenized_labels = []\n",
        "    input_ids = []\n",
        "    attention_mask=[]\n",
        "\n",
        "    max_sentence_length = max(len(sentence) for sentence in modified_sentences)\n",
        "\n",
        "    for sentence, labels in zip(modified_sentences, modified_labels):\n",
        "        # Tokenize the sentence and get the offsets\n",
        "        encoding = tokenizer(sentence, is_split_into_words=True, return_offsets_mapping=True, padding='max_length', max_length=max_sentence_length, truncation=True)\n",
        "\n",
        "        input_ids.append(encoding[\"input_ids\"])\n",
        "        attention_mask.append(encoding[\"attention_mask\"])\n",
        "        current_tokens = []\n",
        "        current_labels = []\n",
        "        i = 0\n",
        "\n",
        "        for token, offset_mapping in zip(encoding[\"input_ids\"], encoding[\"offset_mapping\"]):\n",
        "            start = offset_mapping[0]\n",
        "            end = offset_mapping[1]\n",
        "            # Add the token to the current sentence list\n",
        "            current_tokens.append(encoding[\"input_ids\"][i])\n",
        "            # Deal with labels\n",
        "            if start == 0 and end > 0:\n",
        "                # The token is the start of a word\n",
        "                current_labels.append(labels[i])\n",
        "                i += 1\n",
        "            else:\n",
        "                # It's a subtoken continuation or a special token, assign <pad> label\n",
        "                current_labels.append(\"<pad>\")\n",
        "\n",
        "        # Append tokenized sentence and labels to the lists\n",
        "        tokenized_sentences.append(current_tokens)\n",
        "        tokenized_labels.append(current_labels)\n",
        "\n",
        "    return tokenized_sentences, tokenized_labels, input_ids, attention_mask"
      ],
      "metadata": {
        "id": "m88lMjpquavg"
      },
      "execution_count": null,
      "outputs": []
    },
    {
      "cell_type": "markdown",
      "source": [
        "12. Write a function that encodes the labels into integers."
      ],
      "metadata": {
        "id": "QFn6d1__6VPI"
      }
    },
    {
      "cell_type": "code",
      "source": [
        "def encode_labels(tokenization_labels, label_dict=None):\n",
        "    # Create a set of unique labels found in the tokenization_labels\n",
        "    label_set = set(label for labels in tokenization_labels for label in labels)\n",
        "\n",
        "    # If a label_dict is provided, update it with new labels\n",
        "    if label_dict is not None:\n",
        "        for label in label_set:\n",
        "            if label not in label_dict:\n",
        "                label_dict[label] = len(label_dict)\n",
        "    else:\n",
        "      # Sort the unique labels to maintain consistency\n",
        "      label_list = sorted(label_set)\n",
        "      # Create a label mapping with indices\n",
        "      label_dict = {label: i if label != \"<pad>\" else -100 for i, label in enumerate(label_list)}\n",
        "    # Encode the labels into indices or -100 for \"<pad>\"\n",
        "    encoded_labels = [[label_dict[label] for label in labels] for labels in tokenization_labels]\n",
        "\n",
        "    return encoded_labels, label_dict"
      ],
      "metadata": {
        "id": "H0lfIg--LjEF"
      },
      "execution_count": null,
      "outputs": []
    },
    {
      "cell_type": "code",
      "source": [
        "encoded_labels, label_dict = encode_labels(tokenized_labels)\n",
        "for sentence in encoded_labels:\n",
        "  if -100 in sentence:\n",
        "    #print(sentence)\n",
        "    pass"
      ],
      "metadata": {
        "id": "H3JYkvey1_ce"
      },
      "execution_count": null,
      "outputs": []
    },
    {
      "cell_type": "markdown",
      "source": [
        "## 2.4 Creating a Dataset"
      ],
      "metadata": {
        "id": "_4m8Lffo6XWm"
      }
    },
    {
      "cell_type": "markdown",
      "source": [
        "13. Using the Dataset.from_list method, write a method that creates a Dataset that encapsulates a corpus in the conllu."
      ],
      "metadata": {
        "id": "G8_8qC_s6oVf"
      }
    },
    {
      "cell_type": "code",
      "source": [
        "def convert_to_Dataset(input_ids, attention_mask, encoded_labels):\n",
        "    data = [{\"input_ids\": ids, \"attention_mask\": mask, \"labels\": labels} for ids, mask, labels in zip(input_ids, attention_mask, encoded_labels)]\n",
        "    dataset = Dataset.from_list(data)\n",
        "    return dataset"
      ],
      "metadata": {
        "id": "P8bKCKyFyFhV"
      },
      "execution_count": null,
      "outputs": []
    },
    {
      "cell_type": "code",
      "source": [
        "def convert_to_Dataset(input_ids, attention_mask, encoded_labels):\n",
        "  data = []\n",
        "  for ids, mask, labels in zip(input_ids, attention_mask, encoded_labels):\n",
        "      data.append({\"input_ids\": ids, \"attention_mask\": mask, \"labels\": labels})\n",
        "  dataset = Dataset.from_list(data)\n",
        "  return dataset"
      ],
      "metadata": {
        "id": "OZ4HTjRrr7_j"
      },
      "execution_count": null,
      "outputs": []
    },
    {
      "cell_type": "markdown",
      "source": [
        "14. Create three instances of Dataset : one for the train set, one for the dev set and the last one for the test set."
      ],
      "metadata": {
        "id": "igiW3bOm6rtd"
      }
    },
    {
      "cell_type": "code",
      "source": [
        "def create_dataset(path, label_dict):\n",
        "  # Get the parsed sentences and labels\n",
        "  sentences_parsed, labels_parsed = parse_sentence_label(path)\n",
        "  # Modify the labels to include multiword token handling\n",
        "  modified_sentences, modified_labels = label_multiword_tokens_with_parser(sentences_parsed, labels_parsed, modify_words=True)\n",
        "  # Tokenize the sentences with mBert\n",
        "  tokenized_sentences, tokenization_labels, input_ids, attention_mask = tokenize_and_label_with_additional_output(modified_sentences, modified_labels)\n",
        "  # Encode the labels using integers\n",
        "  encoded_labels, label_dict = encode_labels(tokenization_labels, label_dict)\n",
        "  # Convert into Dataset\n",
        "  dataset = convert_to_Dataset(input_ids, attention_mask, encoded_labels)\n",
        "  return dataset, label_dict"
      ],
      "metadata": {
        "id": "Nmw7nQ-wmIdE"
      },
      "execution_count": null,
      "outputs": []
    },
    {
      "cell_type": "code",
      "source": [
        "# Preprocess the corpora to turn them into datasets\n",
        "data = {\n",
        "    \"train\": \"/content/drive/MyDrive/Code/fr_sequoia-ud-train.conllu\",\n",
        "    \"dev\": \"/content/drive/MyDrive/Code/fr_sequoia-ud-dev.conllu\",\n",
        "    \"test\": \"/content/drive/MyDrive/Code/fr_sequoia-ud-test.conllu\"\n",
        "    }\n",
        "\n",
        "train_dataset, label_dict_train = create_dataset(data[\"train\"], label_dict=None)\n",
        "print(label_dict_train)\n",
        "dev_dataset, label_dict_dev = create_dataset(data[\"dev\"], label_dict=label_dict_train)\n",
        "print(label_dict_dev)\n",
        "test_dataset, label_dict_test = create_dataset(data[\"test\"], label_dict=label_dict_dev)\n",
        "print(label_dict_test)"
      ],
      "metadata": {
        "id": "Rk-K5a9ogqCD",
        "colab": {
          "base_uri": "https://localhost:8080/"
        },
        "outputId": "a66a8a5e-0f41-47b3-85a0-83c2b0689d43"
      },
      "execution_count": null,
      "outputs": [
        {
          "output_type": "stream",
          "name": "stdout",
          "text": [
            "{'<pad>': -100, 'ADJ': 1, 'ADP': 2, 'ADP+DET': 3, 'ADP+PRON': 4, 'ADV': 5, 'AUX': 6, 'CCONJ': 7, 'DET': 8, 'INTJ': 9, 'NOUN': 10, 'NUM': 11, 'PRON': 12, 'PROPN': 13, 'PUNCT': 14, 'SCONJ': 15, 'SYM': 16, 'VERB': 17, 'X': 18}\n",
            "{'<pad>': -100, 'ADJ': 1, 'ADP': 2, 'ADP+DET': 3, 'ADP+PRON': 4, 'ADV': 5, 'AUX': 6, 'CCONJ': 7, 'DET': 8, 'INTJ': 9, 'NOUN': 10, 'NUM': 11, 'PRON': 12, 'PROPN': 13, 'PUNCT': 14, 'SCONJ': 15, 'SYM': 16, 'VERB': 17, 'X': 18}\n",
            "{'<pad>': -100, 'ADJ': 1, 'ADP': 2, 'ADP+DET': 3, 'ADP+PRON': 4, 'ADV': 5, 'AUX': 6, 'CCONJ': 7, 'DET': 8, 'INTJ': 9, 'NOUN': 10, 'NUM': 11, 'PRON': 12, 'PROPN': 13, 'PUNCT': 14, 'SCONJ': 15, 'SYM': 16, 'VERB': 17, 'X': 18}\n"
          ]
        }
      ]
    },
    {
      "cell_type": "code",
      "source": [
        "train_dataset"
      ],
      "metadata": {
        "colab": {
          "base_uri": "https://localhost:8080/"
        },
        "id": "x4AyZecwt4g9",
        "outputId": "c565a8cf-16e6-410d-f342-67e72d019ca3"
      },
      "execution_count": null,
      "outputs": [
        {
          "output_type": "execute_result",
          "data": {
            "text/plain": [
              "Dataset({\n",
              "    features: ['input_ids', 'attention_mask', 'labels'],\n",
              "    num_rows: 2231\n",
              "})"
            ]
          },
          "metadata": {},
          "execution_count": 49
        }
      ]
    },
    {
      "cell_type": "markdown",
      "source": [
        "## 2.5 Fine-Tuning mBERT"
      ],
      "metadata": {
        "id": "tMFk2Bqh-jFM"
      }
    },
    {
      "cell_type": "markdown",
      "source": [
        "15. How can you modify the code of Figure 4 to report the PoS tagging accuracy during\n",
        "optimization. Why is this information important ?"
      ],
      "metadata": {
        "id": "VV0dpwTX-s46"
      }
    },
    {
      "cell_type": "code",
      "source": [
        "for example in train_dataset:\n",
        "  #print(example)\n",
        "  pass"
      ],
      "metadata": {
        "id": "OIFcmj_ftVGM"
      },
      "execution_count": null,
      "outputs": []
    },
    {
      "cell_type": "code",
      "source": [
        "# Define a custom compute_metrics function to compute PoS tagging accuracy\n",
        "metric = load_metric('accuracy')\n",
        "\n",
        "def compute_metrics(p): # must take class transformers.EvalPrediction: https://huggingface.co/docs/transformers/v4.35.0/en/internal/trainer_utils#transformers.EvalPrediction\n",
        "    \"\"\"\n",
        "    predictions (np.ndarray) — Predictions of the model.\n",
        "    label_ids (np.ndarray) — Targets to be matched.\n",
        "    \"\"\"\n",
        "    # Extract the predicted labels from the output of the model\n",
        "    predictions, labels = p\n",
        "    labels = labels.flatten()\n",
        "    predictions = np.argmax(predictions, axis=2).flatten()\n",
        "\n",
        "    # Apply a mask to predictions and labels to ignore padding tokens (e.g., '<pad>')\n",
        "    # Padding 1: '<pad>' which were added within the sentences for subtokens and special tokens\n",
        "    # Padding 2: padding from tokenizer() to have same sentence lengths (0)\n",
        "    masked_predictions = predictions[labels != -100]\n",
        "    masked_labels = labels[labels != -100]\n",
        "\n",
        "    return metric.compute(predictions=masked_predictions, references=masked_labels)"
      ],
      "metadata": {
        "id": "juGuGgTwcnvU",
        "colab": {
          "base_uri": "https://localhost:8080/",
          "height": 105,
          "referenced_widgets": [
            "f025275fbc9c4f1197b66c586790ebdd",
            "b27e4c55f3844812b9b47d71e09d1754",
            "9ec21ab0577d4b6494783a6d7851df47",
            "0a77b0bd89b245b4bbe3178b9a09e134",
            "db08c11f05d04d07b3937cf4c82ac952",
            "e307f62e5c8f4d20945110ba2b8fff9c",
            "9778182e8ee64db2a5be46e73de81967",
            "b74767b496704fa88f56ee6a1a49c102",
            "6ceaf0f526694be28496ed709dcd6e69",
            "f729d915b67043ab8a10751a869bdcc8",
            "b40f72c45b0c470383c49c4206362b9b"
          ]
        },
        "outputId": "8653bc86-1f2d-4cf3-8ec9-c2cb29ecfe2b"
      },
      "execution_count": null,
      "outputs": [
        {
          "output_type": "stream",
          "name": "stderr",
          "text": [
            "<ipython-input-13-246156b4df11>:2: FutureWarning: load_metric is deprecated and will be removed in the next major version of datasets. Use 'evaluate.load' instead, from the new library 🤗 Evaluate: https://huggingface.co/docs/evaluate\n",
            "  metric = load_metric('accuracy')\n"
          ]
        },
        {
          "output_type": "display_data",
          "data": {
            "text/plain": [
              "Downloading builder script:   0%|          | 0.00/1.65k [00:00<?, ?B/s]"
            ],
            "application/vnd.jupyter.widget-view+json": {
              "version_major": 2,
              "version_minor": 0,
              "model_id": "f025275fbc9c4f1197b66c586790ebdd"
            }
          },
          "metadata": {}
        }
      ]
    },
    {
      "cell_type": "code",
      "source": [
        "output_dir=\"/content/drive/MyDrive/Multilingual_NLP/Lab_4\"\n",
        "model_checkpoint = \"bert-base-multilingual-cased\"\n",
        "\n",
        "strategy = \"epoch\" # Evaluation is done at the end of each epoch | Save checkpoints at the end of each epoch\n",
        "batch_size = 16\n",
        "save_total_limit=2\n",
        "learning_rate=2e-5\n",
        "num_train_epochs=3\n",
        "weight_decay=0.01"
      ],
      "metadata": {
        "id": "7ifKe36XROIt"
      },
      "execution_count": null,
      "outputs": []
    },
    {
      "cell_type": "code",
      "source": [
        "def pos_classifier(output_dir, strategy, save_total_limit, learning_rate, batch_size, num_train_epochs, weight_decay, train_dataset, dev_dataset, model_checkpoint, label_dict):\n",
        "  model_checkpoint = \"bert-base-multilingual-cased\"\n",
        "  model = AutoModelForTokenClassification.from_pretrained(model_checkpoint, num_labels=len(label_dict.keys()))\n",
        "\n",
        "  training_args = TrainingArguments(\n",
        "    output_dir=output_dir,\n",
        "    evaluation_strategy = strategy,\n",
        "    save_strategy = strategy,\n",
        "    save_total_limit= save_total_limit,\n",
        "    learning_rate= learning_rate,\n",
        "    per_device_train_batch_size=batch_size,\n",
        "    per_device_eval_batch_size=batch_size,\n",
        "    num_train_epochs= num_train_epochs,\n",
        "    weight_decay= weight_decay,\n",
        "    logging_dir='./logs',\n",
        "    logging_steps=10,\n",
        "    load_best_model_at_end=True,\n",
        "  )\n",
        "\n",
        "  trainer = Trainer(\n",
        "    model=model,\n",
        "    args=training_args,\n",
        "    train_dataset=train_dataset,\n",
        "    eval_dataset=dev_dataset,\n",
        "    compute_metrics=compute_metrics\n",
        "    )\n",
        "\n",
        "  return trainer"
      ],
      "metadata": {
        "id": "n_4CXxZxCfZt"
      },
      "execution_count": null,
      "outputs": []
    },
    {
      "cell_type": "code",
      "source": [
        "import os\n",
        "os.environ['CUDA_LAUNCH_BLOCKING'] = '1'"
      ],
      "metadata": {
        "id": "ZyOJjJJ4przQ"
      },
      "execution_count": null,
      "outputs": []
    },
    {
      "cell_type": "code",
      "source": [
        "trainer = pos_classifier(output_dir, strategy, save_total_limit, learning_rate, batch_size, num_train_epochs, weight_decay, model, train_dataset, dev_dataset, label_dict_test)\n",
        "print(\"Training...\")\n",
        "# Training\n",
        "trainer.train()\n",
        "print(\"\\nEvaluating...\")\n",
        "# Evaluate the model\n",
        "results = trainer.evaluate()\n",
        "\n",
        "# Save the model\n",
        "trainer.save_model(output_dir)\n",
        "print(f\"\\nModel saved to {output_dir}\")"
      ],
      "metadata": {
        "id": "llCJO0rX-kQh",
        "colab": {
          "base_uri": "https://localhost:8080/",
          "height": 279
        },
        "outputId": "6fae6d00-394a-47c9-ed71-f186e124ed79"
      },
      "execution_count": null,
      "outputs": [
        {
          "output_type": "stream",
          "name": "stdout",
          "text": [
            "Training...\n"
          ]
        },
        {
          "output_type": "display_data",
          "data": {
            "text/plain": [
              "<IPython.core.display.HTML object>"
            ],
            "text/html": [
              "\n",
              "    <div>\n",
              "      \n",
              "      <progress value='420' max='420' style='width:300px; height:20px; vertical-align: middle;'></progress>\n",
              "      [420/420 03:37, Epoch 3/3]\n",
              "    </div>\n",
              "    <table border=\"1\" class=\"dataframe\">\n",
              "  <thead>\n",
              " <tr style=\"text-align: left;\">\n",
              "      <th>Epoch</th>\n",
              "      <th>Training Loss</th>\n",
              "      <th>Validation Loss</th>\n",
              "      <th>Accuracy</th>\n",
              "    </tr>\n",
              "  </thead>\n",
              "  <tbody>\n",
              "    <tr>\n",
              "      <td>1</td>\n",
              "      <td>0.123300</td>\n",
              "      <td>0.106301</td>\n",
              "      <td>0.973815</td>\n",
              "    </tr>\n",
              "    <tr>\n",
              "      <td>2</td>\n",
              "      <td>0.058000</td>\n",
              "      <td>0.067331</td>\n",
              "      <td>0.982819</td>\n",
              "    </tr>\n",
              "    <tr>\n",
              "      <td>3</td>\n",
              "      <td>0.051500</td>\n",
              "      <td>0.065014</td>\n",
              "      <td>0.984786</td>\n",
              "    </tr>\n",
              "  </tbody>\n",
              "</table><p>"
            ]
          },
          "metadata": {}
        },
        {
          "output_type": "stream",
          "name": "stdout",
          "text": [
            "\n",
            "Evaluating...\n"
          ]
        },
        {
          "output_type": "display_data",
          "data": {
            "text/plain": [
              "<IPython.core.display.HTML object>"
            ],
            "text/html": [
              "\n",
              "    <div>\n",
              "      \n",
              "      <progress value='26' max='26' style='width:300px; height:20px; vertical-align: middle;'></progress>\n",
              "      [26/26 00:03]\n",
              "    </div>\n",
              "    "
            ]
          },
          "metadata": {}
        },
        {
          "output_type": "stream",
          "name": "stdout",
          "text": [
            "\n",
            "Model saved to /content/drive/MyDrive/Multilingual_NLP/Lab_4\n"
          ]
        }
      ]
    },
    {
      "cell_type": "code",
      "source": [
        "# After training, evaluate the model on the development (dev) set\n",
        "dev_results = trainer.evaluate(eval_dataset=dev_dataset)\n",
        "\n",
        "# Now, evaluate the model on the test set (separately)\n",
        "test_results = trainer.evaluate(eval_dataset=test_dataset)\n",
        "\n",
        "# Report the results\n",
        "print(\"Development Set Results:\", dev_results)\n",
        "print(\"Test Set Results:\", test_results)"
      ],
      "metadata": {
        "colab": {
          "base_uri": "https://localhost:8080/",
          "height": 73
        },
        "id": "u0mjnhRyV7bb",
        "outputId": "33e63b2e-0972-4235-8c4b-34c805adba73"
      },
      "execution_count": null,
      "outputs": [
        {
          "output_type": "display_data",
          "data": {
            "text/plain": [
              "<IPython.core.display.HTML object>"
            ],
            "text/html": [
              "\n",
              "    <div>\n",
              "      \n",
              "      <progress value='55' max='26' style='width:300px; height:20px; vertical-align: middle;'></progress>\n",
              "      [26/26 00:07]\n",
              "    </div>\n",
              "    "
            ]
          },
          "metadata": {}
        },
        {
          "output_type": "stream",
          "name": "stdout",
          "text": [
            "Development Set Results: {'eval_loss': 2.9970815181732178, 'eval_accuracy': 0.06944731939557028, 'eval_runtime': 7.6741, 'eval_samples_per_second': 53.687, 'eval_steps_per_second': 3.388}\n",
            "Test Set Results: {'eval_loss': 2.9784610271453857, 'eval_accuracy': 0.08188278916469255, 'eval_runtime': 4.6621, 'eval_samples_per_second': 97.809, 'eval_steps_per_second': 6.22}\n"
          ]
        }
      ]
    },
    {
      "cell_type": "markdown",
      "source": [
        "Fine-tuning"
      ],
      "metadata": {
        "id": "AuLP_gow_G9Z"
      }
    },
    {
      "cell_type": "code",
      "source": [
        "learning_rates = [2e-5, 3e-5, 4e-5]\n",
        "batch_sizes = [8, 16, 32]\n",
        "num_epochs = [3, 4, 5]\n",
        "weight_decays = [0.01, 0.001, 0.0001]\n",
        "model = AutoModelForTokenClassification.from_pretrained(model_checkpoint, num_labels=len(label_dict_test.keys()))\n",
        "best_accuracy = 0\n",
        "best_hyperparameters = {}\n",
        "\n",
        "for lr in learning_rates:\n",
        "    for batch_size in batch_sizes:\n",
        "        for epochs in num_epochs:\n",
        "            for wd in weight_decays:\n",
        "                # Define and train the model with the current hyperparameters\n",
        "                trainer.args.learning_rate = lr\n",
        "                trainer.args.per_device_train_batch_size = batch_size\n",
        "                trainer.args.num_train_epochs = epochs\n",
        "                trainer.args.weight_decay = wd\n",
        "                trainer = Trainer(\n",
        "                    model=model,\n",
        "                    args=trainer.args,\n",
        "                    train_dataset=train_dataset,\n",
        "                    eval_dataset=dev_dataset,\n",
        "                    compute_metrics=compute_metrics\n",
        "                )\n",
        "                trainer.train()\n",
        "\n",
        "                # Evaluate the model and compute accuracy\n",
        "                evaluation_results = trainer.evaluate()\n",
        "                accuracy = evaluation_results[\"eval_accuracy\"]\n",
        "\n",
        "                # Check if the current hyperparameters result in better accuracy\n",
        "                if accuracy > best_accuracy:\n",
        "                    best_accuracy = accuracy\n",
        "                    best_hyperparameters = {\n",
        "                        \"learning_rate\": lr,\n",
        "                        \"batch_size\": batch_size,\n",
        "                        \"num_epochs\": epochs,\n",
        "                        \"weight_decay\": wd,\n",
        "                    }\n",
        "\n",
        "print(\"Best hyperparameters:\", best_hyperparameters)\n",
        "print(\"Best accuracy:\", best_accuracy)"
      ],
      "metadata": {
        "id": "Bux2nc_k_EJz"
      },
      "execution_count": null,
      "outputs": []
    },
    {
      "cell_type": "markdown",
      "source": [
        "## 3 Evaluating the multilingual capacity of mBERT"
      ],
      "metadata": {
        "id": "8aKIQkWr_1VC"
      }
    },
    {
      "cell_type": "markdown",
      "source": [
        "16. Choose 5 languages from the UD project. For each language train a PoS tagger using the\n",
        "code of the previous section and test it on the 5 languages you have chosen."
      ],
      "metadata": {
        "id": "tVwfU5i-_5XP"
      }
    },
    {
      "cell_type": "code",
      "source": [
        "# Retrieve the different files\n",
        "languages = {\n",
        "    \"cy_ccg\": \"Welsh-CCG\",\n",
        "    \"mt_mudt\": \"Maltese-MUDT\",\n",
        "    \"es_gsd\": \"Spanish-GSD\",\n",
        "    \"no_nynorsk\": \"Norwegian-Nynorsk\",\n",
        "    \"pt_gsd\": \"Portuguese-GSD\"\n",
        "}\n",
        "\n",
        "# Define the download folder\n",
        "download_folder = \"/content/drive/MyDrive/Code\"\n",
        "\"\"\"\n",
        "for lang_code, lang_name in languages.items():\n",
        "    repo_name = f\"UD-{lang_name}\"\n",
        "\n",
        "    # Define the data file names\n",
        "    data_files = [f\"{lang_code}-ud-train.conllu\", f\"{lang_code}-ud-dev.conllu\", f\"{lang_code}-ud-test.conllu\"]\n",
        "\n",
        "    # Loop through the data files and download them\n",
        "    for data_file in data_files:\n",
        "        data_url = f\"https://github.com/UniversalDependencies/{repo_name}/master/{data_file}\"\n",
        "        download_path = os.path.join(download_folder, repo_name, data_file)\n",
        "\n",
        "        # Ensure the directory structure exists\n",
        "        os.makedirs(os.path.dirname(download_path), exist_ok=True)\n",
        "\n",
        "        # Download the data file\n",
        "        try:\n",
        "            subprocess.run([\"wget\", data_url, \"-O\", download_path])\n",
        "        except Exception as e:\n",
        "            print(f\"Error downloading {data_file} from {repo_name}: {str(e)}\")\n",
        "\n",
        "    print(f\"Data retrieval for {lang_name} ({lang_code}) completed.\")\n",
        "\"\"\""
      ],
      "metadata": {
        "id": "hoRVp_Qt_3Bd",
        "colab": {
          "base_uri": "https://localhost:8080/",
          "height": 107
        },
        "outputId": "1eab9cd4-e0cd-4c6f-e38d-6adeda526b7f"
      },
      "execution_count": null,
      "outputs": [
        {
          "output_type": "execute_result",
          "data": {
            "text/plain": [
              "'\\nfor lang_code, lang_name in languages.items():\\n    repo_name = f\"UD-{lang_name}\"\\n\\n    # Define the data file names\\n    data_files = [f\"{lang_code}-ud-train.conllu\", f\"{lang_code}-ud-dev.conllu\", f\"{lang_code}-ud-test.conllu\"]\\n\\n    # Loop through the data files and download them\\n    for data_file in data_files:\\n        data_url = f\"https://github.com/UniversalDependencies/{repo_name}/master/{data_file}\"\\n        download_path = os.path.join(download_folder, repo_name, data_file)\\n\\n        # Ensure the directory structure exists\\n        os.makedirs(os.path.dirname(download_path), exist_ok=True)\\n\\n        # Download the data file\\n        try:\\n            subprocess.run([\"wget\", data_url, \"-O\", download_path])\\n        except Exception as e:\\n            print(f\"Error downloading {data_file} from {repo_name}: {str(e)}\")\\n\\n    print(f\"Data retrieval for {lang_name} ({lang_code}) completed.\")\\n'"
            ],
            "application/vnd.google.colaboratory.intrinsic+json": {
              "type": "string"
            }
          },
          "metadata": {},
          "execution_count": 53
        }
      ]
    },
    {
      "cell_type": "code",
      "source": [
        "# Preprocess the corpora to turn them into datasets\n",
        "datasets = {}  # Dictionary to store datasets for different languages\n",
        "\n",
        "for lang_code, lang_name in languages.items():\n",
        "    data = {\n",
        "        \"train\": f\"/content/drive/MyDrive/Code/UD-{lang_name}/{lang_code}-ud-train.conllu\",\n",
        "        \"dev\": f\"/content/drive/MyDrive/Code/UD-{lang_name}/{lang_code}-ud-dev.conllu\",\n",
        "        \"test\": f\"/content/drive/MyDrive/Code/UD-{lang_name}/{lang_code}-ud-test.conllu\"\n",
        "    }\n",
        "\n",
        "    # Create datasets for the current language\n",
        "    train_dataset, train_dict = create_dataset(data[\"train\"], None)\n",
        "    dev_dataset, dev_dict = create_dataset(data[\"dev\"], train_dict)\n",
        "    test_dataset, test_dict = create_dataset(data[\"test\"], dev_dict)\n",
        "\n",
        "    # Store the datasets in the dictionary\n",
        "    datasets[lang_name] = {\n",
        "        \"train\": (train_dataset, train_dict),\n",
        "        \"dev\": (dev_dataset, dev_dict),\n",
        "        \"test\": (test_dataset, test_dict)\n",
        "    }"
      ],
      "metadata": {
        "id": "_PxSgFb7qBzy"
      },
      "execution_count": null,
      "outputs": []
    },
    {
      "cell_type": "code",
      "source": [
        "datasets[\"Welsh-CCG\"]['train'][0]"
      ],
      "metadata": {
        "id": "ICQj_uaw2Nkk",
        "colab": {
          "base_uri": "https://localhost:8080/"
        },
        "outputId": "cbc49169-259e-4e40-d5ab-11b1b7185bc0"
      },
      "execution_count": null,
      "outputs": [
        {
          "output_type": "execute_result",
          "data": {
            "text/plain": [
              "Dataset({\n",
              "    features: ['input_ids', 'attention_mask', 'labels'],\n",
              "    num_rows: 1111\n",
              "})"
            ]
          },
          "metadata": {},
          "execution_count": 20
        }
      ]
    },
    {
      "cell_type": "code",
      "source": [
        "import pandas as pd\n",
        "\n",
        "accuracies = []\n",
        "all_languages = []"
      ],
      "metadata": {
        "id": "VHpGCbP0cpMA"
      },
      "execution_count": null,
      "outputs": []
    },
    {
      "cell_type": "code",
      "source": [
        "for lang_name, data_dict in datasets.items():\n",
        "    all_languages.append(lang_name)\n",
        "    train_dataset = data_dict[\"train\"][0]\n",
        "    dev_dataset = data_dict[\"dev\"][0]\n",
        "    test_dataset = data_dict[\"test\"][0]\n",
        "\n",
        "    # Define the training arguments and trainer\n",
        "    output_dir = f\"/content/drive/MyDrive/Multilingual_NLP/Lab_4/output_{lang_name}\"\n",
        "    trainer = pos_classifier(output_dir, strategy, save_total_limit, learning_rate, batch_size, num_train_epochs, weight_decay, train_dataset, dev_dataset, model_checkpoint, data_dict[\"test\"][1])\n",
        "    print(f\"Training PoS classifier for {lang_name}...\")\n",
        "\n",
        "    # Start training\n",
        "    trainer.train()\n",
        "\n",
        "    print(f\"Evaluating PoS classifier for {lang_name}...\")\n",
        "\n",
        "    # Evaluate the model on the dev dataset (you may use a separate test dataset)\n",
        "    evaluation_results = trainer.evaluate(eval_dataset=test_dataset)\n",
        "    accuracies.append(evaluation_results[\"eval_accuracy\"])\n",
        "    print(\"Accuracy: \", evaluation_results[\"eval_accuracy\"])"
      ],
      "metadata": {
        "id": "nRziqVK43yq9",
        "colab": {
          "base_uri": "https://localhost:8080/",
          "height": 1000
        },
        "outputId": "691d4156-df1f-4777-c196-2ef4df78b205"
      },
      "execution_count": null,
      "outputs": [
        {
          "output_type": "stream",
          "name": "stderr",
          "text": [
            "Some weights of BertForTokenClassification were not initialized from the model checkpoint at bert-base-multilingual-cased and are newly initialized: ['classifier.bias', 'classifier.weight']\n",
            "You should probably TRAIN this model on a down-stream task to be able to use it for predictions and inference.\n"
          ]
        },
        {
          "output_type": "stream",
          "name": "stdout",
          "text": [
            "Training PoS classifier for Welsh-CCG...\n"
          ]
        },
        {
          "output_type": "display_data",
          "data": {
            "text/plain": [
              "<IPython.core.display.HTML object>"
            ],
            "text/html": [
              "\n",
              "    <div>\n",
              "      \n",
              "      <progress value='417' max='417' style='width:300px; height:20px; vertical-align: middle;'></progress>\n",
              "      [417/417 02:04, Epoch 3/3]\n",
              "    </div>\n",
              "    <table border=\"1\" class=\"dataframe\">\n",
              "  <thead>\n",
              " <tr style=\"text-align: left;\">\n",
              "      <th>Epoch</th>\n",
              "      <th>Training Loss</th>\n",
              "      <th>Validation Loss</th>\n",
              "      <th>Accuracy</th>\n",
              "    </tr>\n",
              "  </thead>\n",
              "  <tbody>\n",
              "    <tr>\n",
              "      <td>1</td>\n",
              "      <td>0.486400</td>\n",
              "      <td>0.432288</td>\n",
              "      <td>0.889104</td>\n",
              "    </tr>\n",
              "    <tr>\n",
              "      <td>2</td>\n",
              "      <td>0.300200</td>\n",
              "      <td>0.305948</td>\n",
              "      <td>0.922760</td>\n",
              "    </tr>\n",
              "    <tr>\n",
              "      <td>3</td>\n",
              "      <td>0.258500</td>\n",
              "      <td>0.265193</td>\n",
              "      <td>0.929661</td>\n",
              "    </tr>\n",
              "  </tbody>\n",
              "</table><p>"
            ]
          },
          "metadata": {}
        },
        {
          "output_type": "stream",
          "name": "stdout",
          "text": [
            "Evaluating PoS classifier for Welsh-CCG...\n"
          ]
        },
        {
          "output_type": "display_data",
          "data": {
            "text/plain": [
              "<IPython.core.display.HTML object>"
            ],
            "text/html": [
              "\n",
              "    <div>\n",
              "      \n",
              "      <progress value='120' max='120' style='width:300px; height:20px; vertical-align: middle;'></progress>\n",
              "      [120/120 00:08]\n",
              "    </div>\n",
              "    "
            ]
          },
          "metadata": {}
        },
        {
          "output_type": "stream",
          "name": "stdout",
          "text": [
            "Accuracy:  0.9221497970729308\n"
          ]
        },
        {
          "output_type": "stream",
          "name": "stderr",
          "text": [
            "Some weights of BertForTokenClassification were not initialized from the model checkpoint at bert-base-multilingual-cased and are newly initialized: ['classifier.bias', 'classifier.weight']\n",
            "You should probably TRAIN this model on a down-stream task to be able to use it for predictions and inference.\n"
          ]
        },
        {
          "output_type": "stream",
          "name": "stdout",
          "text": [
            "Training PoS classifier for Maltese-MUDT...\n"
          ]
        },
        {
          "output_type": "display_data",
          "data": {
            "text/plain": [
              "<IPython.core.display.HTML object>"
            ],
            "text/html": [
              "\n",
              "    <div>\n",
              "      \n",
              "      <progress value='423' max='423' style='width:300px; height:20px; vertical-align: middle;'></progress>\n",
              "      [423/423 02:28, Epoch 3/3]\n",
              "    </div>\n",
              "    <table border=\"1\" class=\"dataframe\">\n",
              "  <thead>\n",
              " <tr style=\"text-align: left;\">\n",
              "      <th>Epoch</th>\n",
              "      <th>Training Loss</th>\n",
              "      <th>Validation Loss</th>\n",
              "      <th>Accuracy</th>\n",
              "    </tr>\n",
              "  </thead>\n",
              "  <tbody>\n",
              "    <tr>\n",
              "      <td>1</td>\n",
              "      <td>0.587600</td>\n",
              "      <td>0.520669</td>\n",
              "      <td>0.845461</td>\n",
              "    </tr>\n",
              "    <tr>\n",
              "      <td>2</td>\n",
              "      <td>0.390900</td>\n",
              "      <td>0.370276</td>\n",
              "      <td>0.889536</td>\n",
              "    </tr>\n",
              "    <tr>\n",
              "      <td>3</td>\n",
              "      <td>0.241900</td>\n",
              "      <td>0.340961</td>\n",
              "      <td>0.903715</td>\n",
              "    </tr>\n",
              "  </tbody>\n",
              "</table><p>"
            ]
          },
          "metadata": {}
        },
        {
          "output_type": "stream",
          "name": "stdout",
          "text": [
            "Evaluating PoS classifier for Maltese-MUDT...\n"
          ]
        },
        {
          "output_type": "display_data",
          "data": {
            "text/plain": [
              "<IPython.core.display.HTML object>"
            ],
            "text/html": [
              "\n",
              "    <div>\n",
              "      \n",
              "      <progress value='65' max='65' style='width:300px; height:20px; vertical-align: middle;'></progress>\n",
              "      [65/65 00:02]\n",
              "    </div>\n",
              "    "
            ]
          },
          "metadata": {}
        },
        {
          "output_type": "stream",
          "name": "stdout",
          "text": [
            "Accuracy:  0.8998983739837398\n"
          ]
        },
        {
          "output_type": "stream",
          "name": "stderr",
          "text": [
            "Some weights of BertForTokenClassification were not initialized from the model checkpoint at bert-base-multilingual-cased and are newly initialized: ['classifier.bias', 'classifier.weight']\n",
            "You should probably TRAIN this model on a down-stream task to be able to use it for predictions and inference.\n"
          ]
        },
        {
          "output_type": "stream",
          "name": "stdout",
          "text": [
            "Training PoS classifier for Spanish-GSD...\n"
          ]
        },
        {
          "output_type": "display_data",
          "data": {
            "text/plain": [
              "<IPython.core.display.HTML object>"
            ],
            "text/html": [
              "\n",
              "    <div>\n",
              "      \n",
              "      <progress value='5322' max='5322' style='width:300px; height:20px; vertical-align: middle;'></progress>\n",
              "      [5322/5322 23:19, Epoch 3/3]\n",
              "    </div>\n",
              "    <table border=\"1\" class=\"dataframe\">\n",
              "  <thead>\n",
              " <tr style=\"text-align: left;\">\n",
              "      <th>Epoch</th>\n",
              "      <th>Training Loss</th>\n",
              "      <th>Validation Loss</th>\n",
              "      <th>Accuracy</th>\n",
              "    </tr>\n",
              "  </thead>\n",
              "  <tbody>\n",
              "    <tr>\n",
              "      <td>1</td>\n",
              "      <td>0.117800</td>\n",
              "      <td>0.092002</td>\n",
              "      <td>0.968847</td>\n",
              "    </tr>\n",
              "    <tr>\n",
              "      <td>2</td>\n",
              "      <td>0.064000</td>\n",
              "      <td>0.087766</td>\n",
              "      <td>0.969972</td>\n",
              "    </tr>\n",
              "    <tr>\n",
              "      <td>3</td>\n",
              "      <td>0.057500</td>\n",
              "      <td>0.090368</td>\n",
              "      <td>0.970658</td>\n",
              "    </tr>\n",
              "  </tbody>\n",
              "</table><p>"
            ]
          },
          "metadata": {}
        },
        {
          "output_type": "stream",
          "name": "stdout",
          "text": [
            "Evaluating PoS classifier for Spanish-GSD...\n"
          ]
        },
        {
          "output_type": "display_data",
          "data": {
            "text/plain": [
              "<IPython.core.display.HTML object>"
            ],
            "text/html": [
              "\n",
              "    <div>\n",
              "      \n",
              "      <progress value='54' max='54' style='width:300px; height:20px; vertical-align: middle;'></progress>\n",
              "      [54/54 00:03]\n",
              "    </div>\n",
              "    "
            ]
          },
          "metadata": {}
        },
        {
          "output_type": "stream",
          "name": "stdout",
          "text": [
            "Accuracy:  0.9659508940029087\n"
          ]
        },
        {
          "output_type": "stream",
          "name": "stderr",
          "text": [
            "Some weights of BertForTokenClassification were not initialized from the model checkpoint at bert-base-multilingual-cased and are newly initialized: ['classifier.bias', 'classifier.weight']\n",
            "You should probably TRAIN this model on a down-stream task to be able to use it for predictions and inference.\n"
          ]
        },
        {
          "output_type": "stream",
          "name": "stdout",
          "text": [
            "Training PoS classifier for Norwegian-Nynorsk...\n"
          ]
        },
        {
          "output_type": "display_data",
          "data": {
            "text/plain": [
              "<IPython.core.display.HTML object>"
            ],
            "text/html": [
              "\n",
              "    <div>\n",
              "      \n",
              "      <progress value='5316' max='5316' style='width:300px; height:20px; vertical-align: middle;'></progress>\n",
              "      [5316/5316 20:09, Epoch 3/3]\n",
              "    </div>\n",
              "    <table border=\"1\" class=\"dataframe\">\n",
              "  <thead>\n",
              " <tr style=\"text-align: left;\">\n",
              "      <th>Epoch</th>\n",
              "      <th>Training Loss</th>\n",
              "      <th>Validation Loss</th>\n",
              "      <th>Accuracy</th>\n",
              "    </tr>\n",
              "  </thead>\n",
              "  <tbody>\n",
              "    <tr>\n",
              "      <td>1</td>\n",
              "      <td>0.064100</td>\n",
              "      <td>0.086628</td>\n",
              "      <td>0.977737</td>\n",
              "    </tr>\n",
              "    <tr>\n",
              "      <td>2</td>\n",
              "      <td>0.041000</td>\n",
              "      <td>0.072118</td>\n",
              "      <td>0.982034</td>\n",
              "    </tr>\n",
              "    <tr>\n",
              "      <td>3</td>\n",
              "      <td>0.041700</td>\n",
              "      <td>0.071314</td>\n",
              "      <td>0.983262</td>\n",
              "    </tr>\n",
              "  </tbody>\n",
              "</table><p>"
            ]
          },
          "metadata": {}
        },
        {
          "output_type": "stream",
          "name": "stdout",
          "text": [
            "Evaluating PoS classifier for Norwegian-Nynorsk...\n"
          ]
        },
        {
          "output_type": "display_data",
          "data": {
            "text/plain": [
              "<IPython.core.display.HTML object>"
            ],
            "text/html": [
              "\n",
              "    <div>\n",
              "      \n",
              "      <progress value='189' max='189' style='width:300px; height:20px; vertical-align: middle;'></progress>\n",
              "      [189/189 00:06]\n",
              "    </div>\n",
              "    "
            ]
          },
          "metadata": {}
        },
        {
          "output_type": "stream",
          "name": "stdout",
          "text": [
            "Accuracy:  0.9828145265888456\n"
          ]
        },
        {
          "output_type": "stream",
          "name": "stderr",
          "text": [
            "Some weights of BertForTokenClassification were not initialized from the model checkpoint at bert-base-multilingual-cased and are newly initialized: ['classifier.bias', 'classifier.weight']\n",
            "You should probably TRAIN this model on a down-stream task to be able to use it for predictions and inference.\n"
          ]
        },
        {
          "output_type": "stream",
          "name": "stdout",
          "text": [
            "Training PoS classifier for Portuguese-GSD...\n"
          ]
        },
        {
          "output_type": "display_data",
          "data": {
            "text/plain": [
              "<IPython.core.display.HTML object>"
            ],
            "text/html": [
              "\n",
              "    <div>\n",
              "      \n",
              "      <progress value='3606' max='3606' style='width:300px; height:20px; vertical-align: middle;'></progress>\n",
              "      [3606/3606 15:20, Epoch 3/3]\n",
              "    </div>\n",
              "    <table border=\"1\" class=\"dataframe\">\n",
              "  <thead>\n",
              " <tr style=\"text-align: left;\">\n",
              "      <th>Epoch</th>\n",
              "      <th>Training Loss</th>\n",
              "      <th>Validation Loss</th>\n",
              "      <th>Accuracy</th>\n",
              "    </tr>\n",
              "  </thead>\n",
              "  <tbody>\n",
              "    <tr>\n",
              "      <td>1</td>\n",
              "      <td>0.115400</td>\n",
              "      <td>0.090153</td>\n",
              "      <td>0.976203</td>\n",
              "    </tr>\n",
              "    <tr>\n",
              "      <td>2</td>\n",
              "      <td>0.077300</td>\n",
              "      <td>0.088101</td>\n",
              "      <td>0.976709</td>\n",
              "    </tr>\n",
              "    <tr>\n",
              "      <td>3</td>\n",
              "      <td>0.081600</td>\n",
              "      <td>0.086547</td>\n",
              "      <td>0.978160</td>\n",
              "    </tr>\n",
              "  </tbody>\n",
              "</table><p>"
            ]
          },
          "metadata": {}
        },
        {
          "output_type": "stream",
          "name": "stdout",
          "text": [
            "Evaluating PoS classifier for Portuguese-GSD...\n"
          ]
        },
        {
          "output_type": "display_data",
          "data": {
            "text/plain": [
              "<IPython.core.display.HTML object>"
            ],
            "text/html": [
              "\n",
              "    <div>\n",
              "      \n",
              "      <progress value='150' max='150' style='width:300px; height:20px; vertical-align: middle;'></progress>\n",
              "      [150/150 00:06]\n",
              "    </div>\n",
              "    "
            ]
          },
          "metadata": {}
        },
        {
          "output_type": "stream",
          "name": "stdout",
          "text": [
            "Accuracy:  0.9762956873223033\n"
          ]
        }
      ]
    },
    {
      "cell_type": "code",
      "source": [
        "accuracies"
      ],
      "metadata": {
        "colab": {
          "base_uri": "https://localhost:8080/"
        },
        "id": "XE_FSTsCtY1Y",
        "outputId": "70f7b00f-326b-426b-d215-47a4fcb2a133"
      },
      "execution_count": null,
      "outputs": [
        {
          "output_type": "execute_result",
          "data": {
            "text/plain": [
              "[{'eval_loss': 0.3062640428543091,\n",
              "  'eval_accuracy': 0.9221497970729308,\n",
              "  'eval_runtime': 8.796,\n",
              "  'eval_samples_per_second': 108.344,\n",
              "  'eval_steps_per_second': 13.643,\n",
              "  'epoch': 3.0},\n",
              " {'eval_loss': 0.36446279287338257,\n",
              "  'eval_accuracy': 0.8998983739837398,\n",
              "  'eval_runtime': 2.3281,\n",
              "  'eval_samples_per_second': 222.498,\n",
              "  'eval_steps_per_second': 27.92,\n",
              "  'epoch': 3.0},\n",
              " {'eval_loss': 0.11304111033678055,\n",
              "  'eval_accuracy': 0.9659508940029087,\n",
              "  'eval_runtime': 3.5119,\n",
              "  'eval_samples_per_second': 121.301,\n",
              "  'eval_steps_per_second': 15.376,\n",
              "  'epoch': 3.0},\n",
              " {'eval_loss': 0.07687893509864807,\n",
              "  'eval_accuracy': 0.9828145265888456,\n",
              "  'eval_runtime': 7.2294,\n",
              "  'eval_samples_per_second': 209.008,\n",
              "  'eval_steps_per_second': 26.143,\n",
              "  'epoch': 3.0},\n",
              " {'eval_loss': 0.09401234984397888,\n",
              "  'eval_accuracy': 0.9762956873223033,\n",
              "  'eval_runtime': 6.5638,\n",
              "  'eval_samples_per_second': 182.821,\n",
              "  'eval_steps_per_second': 22.853,\n",
              "  'epoch': 3.0}]"
            ]
          },
          "metadata": {},
          "execution_count": 39
        }
      ]
    },
    {
      "cell_type": "code",
      "source": [
        "df = pd.DataFrame()\n",
        "acc = []\n",
        "langues= []\n",
        "for lang in accuracies:\n",
        "  acc.append(lang[\"eval_accuracy\"])\n",
        "\n",
        "for code, lang in languages.items():\n",
        "  langues.append(lang)"
      ],
      "metadata": {
        "id": "ByyzmJ-StmT1"
      },
      "execution_count": null,
      "outputs": []
    },
    {
      "cell_type": "code",
      "source": [
        "df[\"language\"] = langues\n",
        "df[\"accuracy\"] = acc\n",
        "df"
      ],
      "metadata": {
        "colab": {
          "base_uri": "https://localhost:8080/",
          "height": 206
        },
        "id": "IS4McbiYf-QI",
        "outputId": "220116ef-dc06-4573-ffa7-b08a140a5e33"
      },
      "execution_count": null,
      "outputs": [
        {
          "output_type": "execute_result",
          "data": {
            "text/plain": [
              "            language  accuracy\n",
              "0          Welsh-CCG  0.922150\n",
              "1       Maltese-MUDT  0.899898\n",
              "2        Spanish-GSD  0.965951\n",
              "3  Norwegian-Nynorsk  0.982815\n",
              "4     Portuguese-GSD  0.976296"
            ],
            "text/html": [
              "\n",
              "  <div id=\"df-960590a3-e885-4276-b7c0-00119d436474\" class=\"colab-df-container\">\n",
              "    <div>\n",
              "<style scoped>\n",
              "    .dataframe tbody tr th:only-of-type {\n",
              "        vertical-align: middle;\n",
              "    }\n",
              "\n",
              "    .dataframe tbody tr th {\n",
              "        vertical-align: top;\n",
              "    }\n",
              "\n",
              "    .dataframe thead th {\n",
              "        text-align: right;\n",
              "    }\n",
              "</style>\n",
              "<table border=\"1\" class=\"dataframe\">\n",
              "  <thead>\n",
              "    <tr style=\"text-align: right;\">\n",
              "      <th></th>\n",
              "      <th>language</th>\n",
              "      <th>accuracy</th>\n",
              "    </tr>\n",
              "  </thead>\n",
              "  <tbody>\n",
              "    <tr>\n",
              "      <th>0</th>\n",
              "      <td>Welsh-CCG</td>\n",
              "      <td>0.922150</td>\n",
              "    </tr>\n",
              "    <tr>\n",
              "      <th>1</th>\n",
              "      <td>Maltese-MUDT</td>\n",
              "      <td>0.899898</td>\n",
              "    </tr>\n",
              "    <tr>\n",
              "      <th>2</th>\n",
              "      <td>Spanish-GSD</td>\n",
              "      <td>0.965951</td>\n",
              "    </tr>\n",
              "    <tr>\n",
              "      <th>3</th>\n",
              "      <td>Norwegian-Nynorsk</td>\n",
              "      <td>0.982815</td>\n",
              "    </tr>\n",
              "    <tr>\n",
              "      <th>4</th>\n",
              "      <td>Portuguese-GSD</td>\n",
              "      <td>0.976296</td>\n",
              "    </tr>\n",
              "  </tbody>\n",
              "</table>\n",
              "</div>\n",
              "    <div class=\"colab-df-buttons\">\n",
              "\n",
              "  <div class=\"colab-df-container\">\n",
              "    <button class=\"colab-df-convert\" onclick=\"convertToInteractive('df-960590a3-e885-4276-b7c0-00119d436474')\"\n",
              "            title=\"Convert this dataframe to an interactive table.\"\n",
              "            style=\"display:none;\">\n",
              "\n",
              "  <svg xmlns=\"http://www.w3.org/2000/svg\" height=\"24px\" viewBox=\"0 -960 960 960\">\n",
              "    <path d=\"M120-120v-720h720v720H120Zm60-500h600v-160H180v160Zm220 220h160v-160H400v160Zm0 220h160v-160H400v160ZM180-400h160v-160H180v160Zm440 0h160v-160H620v160ZM180-180h160v-160H180v160Zm440 0h160v-160H620v160Z\"/>\n",
              "  </svg>\n",
              "    </button>\n",
              "\n",
              "  <style>\n",
              "    .colab-df-container {\n",
              "      display:flex;\n",
              "      gap: 12px;\n",
              "    }\n",
              "\n",
              "    .colab-df-convert {\n",
              "      background-color: #E8F0FE;\n",
              "      border: none;\n",
              "      border-radius: 50%;\n",
              "      cursor: pointer;\n",
              "      display: none;\n",
              "      fill: #1967D2;\n",
              "      height: 32px;\n",
              "      padding: 0 0 0 0;\n",
              "      width: 32px;\n",
              "    }\n",
              "\n",
              "    .colab-df-convert:hover {\n",
              "      background-color: #E2EBFA;\n",
              "      box-shadow: 0px 1px 2px rgba(60, 64, 67, 0.3), 0px 1px 3px 1px rgba(60, 64, 67, 0.15);\n",
              "      fill: #174EA6;\n",
              "    }\n",
              "\n",
              "    .colab-df-buttons div {\n",
              "      margin-bottom: 4px;\n",
              "    }\n",
              "\n",
              "    [theme=dark] .colab-df-convert {\n",
              "      background-color: #3B4455;\n",
              "      fill: #D2E3FC;\n",
              "    }\n",
              "\n",
              "    [theme=dark] .colab-df-convert:hover {\n",
              "      background-color: #434B5C;\n",
              "      box-shadow: 0px 1px 3px 1px rgba(0, 0, 0, 0.15);\n",
              "      filter: drop-shadow(0px 1px 2px rgba(0, 0, 0, 0.3));\n",
              "      fill: #FFFFFF;\n",
              "    }\n",
              "  </style>\n",
              "\n",
              "    <script>\n",
              "      const buttonEl =\n",
              "        document.querySelector('#df-960590a3-e885-4276-b7c0-00119d436474 button.colab-df-convert');\n",
              "      buttonEl.style.display =\n",
              "        google.colab.kernel.accessAllowed ? 'block' : 'none';\n",
              "\n",
              "      async function convertToInteractive(key) {\n",
              "        const element = document.querySelector('#df-960590a3-e885-4276-b7c0-00119d436474');\n",
              "        const dataTable =\n",
              "          await google.colab.kernel.invokeFunction('convertToInteractive',\n",
              "                                                    [key], {});\n",
              "        if (!dataTable) return;\n",
              "\n",
              "        const docLinkHtml = 'Like what you see? Visit the ' +\n",
              "          '<a target=\"_blank\" href=https://colab.research.google.com/notebooks/data_table.ipynb>data table notebook</a>'\n",
              "          + ' to learn more about interactive tables.';\n",
              "        element.innerHTML = '';\n",
              "        dataTable['output_type'] = 'display_data';\n",
              "        await google.colab.output.renderOutput(dataTable, element);\n",
              "        const docLink = document.createElement('div');\n",
              "        docLink.innerHTML = docLinkHtml;\n",
              "        element.appendChild(docLink);\n",
              "      }\n",
              "    </script>\n",
              "  </div>\n",
              "\n",
              "\n",
              "<div id=\"df-31112fa2-d93b-4428-8bc1-750868c4e125\">\n",
              "  <button class=\"colab-df-quickchart\" onclick=\"quickchart('df-31112fa2-d93b-4428-8bc1-750868c4e125')\"\n",
              "            title=\"Suggest charts\"\n",
              "            style=\"display:none;\">\n",
              "\n",
              "<svg xmlns=\"http://www.w3.org/2000/svg\" height=\"24px\"viewBox=\"0 0 24 24\"\n",
              "     width=\"24px\">\n",
              "    <g>\n",
              "        <path d=\"M19 3H5c-1.1 0-2 .9-2 2v14c0 1.1.9 2 2 2h14c1.1 0 2-.9 2-2V5c0-1.1-.9-2-2-2zM9 17H7v-7h2v7zm4 0h-2V7h2v10zm4 0h-2v-4h2v4z\"/>\n",
              "    </g>\n",
              "</svg>\n",
              "  </button>\n",
              "\n",
              "<style>\n",
              "  .colab-df-quickchart {\n",
              "      --bg-color: #E8F0FE;\n",
              "      --fill-color: #1967D2;\n",
              "      --hover-bg-color: #E2EBFA;\n",
              "      --hover-fill-color: #174EA6;\n",
              "      --disabled-fill-color: #AAA;\n",
              "      --disabled-bg-color: #DDD;\n",
              "  }\n",
              "\n",
              "  [theme=dark] .colab-df-quickchart {\n",
              "      --bg-color: #3B4455;\n",
              "      --fill-color: #D2E3FC;\n",
              "      --hover-bg-color: #434B5C;\n",
              "      --hover-fill-color: #FFFFFF;\n",
              "      --disabled-bg-color: #3B4455;\n",
              "      --disabled-fill-color: #666;\n",
              "  }\n",
              "\n",
              "  .colab-df-quickchart {\n",
              "    background-color: var(--bg-color);\n",
              "    border: none;\n",
              "    border-radius: 50%;\n",
              "    cursor: pointer;\n",
              "    display: none;\n",
              "    fill: var(--fill-color);\n",
              "    height: 32px;\n",
              "    padding: 0;\n",
              "    width: 32px;\n",
              "  }\n",
              "\n",
              "  .colab-df-quickchart:hover {\n",
              "    background-color: var(--hover-bg-color);\n",
              "    box-shadow: 0 1px 2px rgba(60, 64, 67, 0.3), 0 1px 3px 1px rgba(60, 64, 67, 0.15);\n",
              "    fill: var(--button-hover-fill-color);\n",
              "  }\n",
              "\n",
              "  .colab-df-quickchart-complete:disabled,\n",
              "  .colab-df-quickchart-complete:disabled:hover {\n",
              "    background-color: var(--disabled-bg-color);\n",
              "    fill: var(--disabled-fill-color);\n",
              "    box-shadow: none;\n",
              "  }\n",
              "\n",
              "  .colab-df-spinner {\n",
              "    border: 2px solid var(--fill-color);\n",
              "    border-color: transparent;\n",
              "    border-bottom-color: var(--fill-color);\n",
              "    animation:\n",
              "      spin 1s steps(1) infinite;\n",
              "  }\n",
              "\n",
              "  @keyframes spin {\n",
              "    0% {\n",
              "      border-color: transparent;\n",
              "      border-bottom-color: var(--fill-color);\n",
              "      border-left-color: var(--fill-color);\n",
              "    }\n",
              "    20% {\n",
              "      border-color: transparent;\n",
              "      border-left-color: var(--fill-color);\n",
              "      border-top-color: var(--fill-color);\n",
              "    }\n",
              "    30% {\n",
              "      border-color: transparent;\n",
              "      border-left-color: var(--fill-color);\n",
              "      border-top-color: var(--fill-color);\n",
              "      border-right-color: var(--fill-color);\n",
              "    }\n",
              "    40% {\n",
              "      border-color: transparent;\n",
              "      border-right-color: var(--fill-color);\n",
              "      border-top-color: var(--fill-color);\n",
              "    }\n",
              "    60% {\n",
              "      border-color: transparent;\n",
              "      border-right-color: var(--fill-color);\n",
              "    }\n",
              "    80% {\n",
              "      border-color: transparent;\n",
              "      border-right-color: var(--fill-color);\n",
              "      border-bottom-color: var(--fill-color);\n",
              "    }\n",
              "    90% {\n",
              "      border-color: transparent;\n",
              "      border-bottom-color: var(--fill-color);\n",
              "    }\n",
              "  }\n",
              "</style>\n",
              "\n",
              "  <script>\n",
              "    async function quickchart(key) {\n",
              "      const quickchartButtonEl =\n",
              "        document.querySelector('#' + key + ' button');\n",
              "      quickchartButtonEl.disabled = true;  // To prevent multiple clicks.\n",
              "      quickchartButtonEl.classList.add('colab-df-spinner');\n",
              "      try {\n",
              "        const charts = await google.colab.kernel.invokeFunction(\n",
              "            'suggestCharts', [key], {});\n",
              "      } catch (error) {\n",
              "        console.error('Error during call to suggestCharts:', error);\n",
              "      }\n",
              "      quickchartButtonEl.classList.remove('colab-df-spinner');\n",
              "      quickchartButtonEl.classList.add('colab-df-quickchart-complete');\n",
              "    }\n",
              "    (() => {\n",
              "      let quickchartButtonEl =\n",
              "        document.querySelector('#df-31112fa2-d93b-4428-8bc1-750868c4e125 button');\n",
              "      quickchartButtonEl.style.display =\n",
              "        google.colab.kernel.accessAllowed ? 'block' : 'none';\n",
              "    })();\n",
              "  </script>\n",
              "</div>\n",
              "    </div>\n",
              "  </div>\n"
            ]
          },
          "metadata": {},
          "execution_count": 74
        }
      ]
    }
  ]
}